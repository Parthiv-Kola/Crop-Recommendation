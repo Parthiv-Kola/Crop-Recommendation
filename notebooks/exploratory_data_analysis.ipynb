{
 "cells": [
  {
   "cell_type": "code",
   "execution_count": 117,
   "id": "49ea979c",
   "metadata": {
    "scrolled": true
   },
   "outputs": [],
   "source": [
    "import pandas as pd"
   ]
  },
  {
   "cell_type": "code",
   "execution_count": 118,
   "id": "5ba2652e",
   "metadata": {},
   "outputs": [],
   "source": [
    "raw_df=pd.read_csv('../data/Crop_recommendation.csv')"
   ]
  },
  {
   "cell_type": "markdown",
   "id": "7d5d3490",
   "metadata": {},
   "source": [
    "## Dataset\n",
    "\n",
    "- N - Nitrogen content in soil\n",
    "- P - Phosphorous content in soil\n",
    "- K - Potassium content in soil\n",
    "- temperature - temperature in degree Celsius\n",
    "- humidity - relative humidity in %\n",
    "- ph - ph value of the soil\n",
    "- rainfall - rainfall in mm"
   ]
  },
  {
   "cell_type": "code",
   "execution_count": 119,
   "id": "ea821efe",
   "metadata": {},
   "outputs": [
    {
     "data": {
      "text/html": [
       "<div>\n",
       "<style scoped>\n",
       "    .dataframe tbody tr th:only-of-type {\n",
       "        vertical-align: middle;\n",
       "    }\n",
       "\n",
       "    .dataframe tbody tr th {\n",
       "        vertical-align: top;\n",
       "    }\n",
       "\n",
       "    .dataframe thead th {\n",
       "        text-align: right;\n",
       "    }\n",
       "</style>\n",
       "<table border=\"1\" class=\"dataframe\">\n",
       "  <thead>\n",
       "    <tr style=\"text-align: right;\">\n",
       "      <th></th>\n",
       "      <th>N</th>\n",
       "      <th>P</th>\n",
       "      <th>K</th>\n",
       "      <th>temperature</th>\n",
       "      <th>humidity</th>\n",
       "      <th>ph</th>\n",
       "      <th>rainfall</th>\n",
       "      <th>label</th>\n",
       "    </tr>\n",
       "  </thead>\n",
       "  <tbody>\n",
       "    <tr>\n",
       "      <th>0</th>\n",
       "      <td>90</td>\n",
       "      <td>42</td>\n",
       "      <td>43</td>\n",
       "      <td>20.879744</td>\n",
       "      <td>82.002744</td>\n",
       "      <td>6.502985</td>\n",
       "      <td>202.935536</td>\n",
       "      <td>rice</td>\n",
       "    </tr>\n",
       "    <tr>\n",
       "      <th>1</th>\n",
       "      <td>85</td>\n",
       "      <td>58</td>\n",
       "      <td>41</td>\n",
       "      <td>21.770462</td>\n",
       "      <td>80.319644</td>\n",
       "      <td>7.038096</td>\n",
       "      <td>226.655537</td>\n",
       "      <td>rice</td>\n",
       "    </tr>\n",
       "    <tr>\n",
       "      <th>2</th>\n",
       "      <td>60</td>\n",
       "      <td>55</td>\n",
       "      <td>44</td>\n",
       "      <td>23.004459</td>\n",
       "      <td>82.320763</td>\n",
       "      <td>7.840207</td>\n",
       "      <td>263.964248</td>\n",
       "      <td>rice</td>\n",
       "    </tr>\n",
       "    <tr>\n",
       "      <th>3</th>\n",
       "      <td>74</td>\n",
       "      <td>35</td>\n",
       "      <td>40</td>\n",
       "      <td>26.491096</td>\n",
       "      <td>80.158363</td>\n",
       "      <td>6.980401</td>\n",
       "      <td>242.864034</td>\n",
       "      <td>rice</td>\n",
       "    </tr>\n",
       "    <tr>\n",
       "      <th>4</th>\n",
       "      <td>78</td>\n",
       "      <td>42</td>\n",
       "      <td>42</td>\n",
       "      <td>20.130175</td>\n",
       "      <td>81.604873</td>\n",
       "      <td>7.628473</td>\n",
       "      <td>262.717340</td>\n",
       "      <td>rice</td>\n",
       "    </tr>\n",
       "  </tbody>\n",
       "</table>\n",
       "</div>"
      ],
      "text/plain": [
       "    N   P   K  temperature   humidity        ph    rainfall label\n",
       "0  90  42  43    20.879744  82.002744  6.502985  202.935536  rice\n",
       "1  85  58  41    21.770462  80.319644  7.038096  226.655537  rice\n",
       "2  60  55  44    23.004459  82.320763  7.840207  263.964248  rice\n",
       "3  74  35  40    26.491096  80.158363  6.980401  242.864034  rice\n",
       "4  78  42  42    20.130175  81.604873  7.628473  262.717340  rice"
      ]
     },
     "execution_count": 119,
     "metadata": {},
     "output_type": "execute_result"
    }
   ],
   "source": [
    "raw_df.head()"
   ]
  },
  {
   "cell_type": "code",
   "execution_count": 120,
   "id": "994672a4",
   "metadata": {},
   "outputs": [
    {
     "data": {
      "text/plain": [
       "label\n",
       "rice           100\n",
       "maize          100\n",
       "chickpea       100\n",
       "kidneybeans    100\n",
       "pigeonpeas     100\n",
       "mothbeans      100\n",
       "mungbean       100\n",
       "blackgram      100\n",
       "lentil         100\n",
       "pomegranate    100\n",
       "banana         100\n",
       "mango          100\n",
       "grapes         100\n",
       "watermelon     100\n",
       "muskmelon      100\n",
       "apple          100\n",
       "orange         100\n",
       "papaya         100\n",
       "coconut        100\n",
       "cotton         100\n",
       "jute           100\n",
       "coffee         100\n",
       "Name: count, dtype: int64"
      ]
     },
     "execution_count": 120,
     "metadata": {},
     "output_type": "execute_result"
    }
   ],
   "source": [
    "raw_df['label'].value_counts()"
   ]
  },
  {
   "cell_type": "code",
   "execution_count": 121,
   "id": "d52f7d0e",
   "metadata": {},
   "outputs": [
    {
     "data": {
      "text/plain": [
       "N              0\n",
       "P              0\n",
       "K              0\n",
       "temperature    0\n",
       "humidity       0\n",
       "ph             0\n",
       "rainfall       0\n",
       "label          0\n",
       "dtype: int64"
      ]
     },
     "execution_count": 121,
     "metadata": {},
     "output_type": "execute_result"
    }
   ],
   "source": [
    "raw_df.isnull().sum()"
   ]
  },
  {
   "cell_type": "code",
   "execution_count": 122,
   "id": "8170e3e7",
   "metadata": {},
   "outputs": [],
   "source": [
    "import plotly.express as px\n",
    "import matplotlib.pyplot as plt\n",
    "import seaborn as sns\n",
    "import matplotlib\n",
    "%matplotlib inline"
   ]
  },
  {
   "cell_type": "code",
   "execution_count": 123,
   "id": "191457ff",
   "metadata": {},
   "outputs": [
    {
     "data": {
      "text/html": [
       "<div>\n",
       "<style scoped>\n",
       "    .dataframe tbody tr th:only-of-type {\n",
       "        vertical-align: middle;\n",
       "    }\n",
       "\n",
       "    .dataframe tbody tr th {\n",
       "        vertical-align: top;\n",
       "    }\n",
       "\n",
       "    .dataframe thead th {\n",
       "        text-align: right;\n",
       "    }\n",
       "</style>\n",
       "<table border=\"1\" class=\"dataframe\">\n",
       "  <thead>\n",
       "    <tr style=\"text-align: right;\">\n",
       "      <th></th>\n",
       "      <th>N</th>\n",
       "      <th>P</th>\n",
       "      <th>K</th>\n",
       "      <th>temperature</th>\n",
       "      <th>humidity</th>\n",
       "      <th>ph</th>\n",
       "      <th>rainfall</th>\n",
       "    </tr>\n",
       "  </thead>\n",
       "  <tbody>\n",
       "    <tr>\n",
       "      <th>count</th>\n",
       "      <td>2200.000000</td>\n",
       "      <td>2200.000000</td>\n",
       "      <td>2200.000000</td>\n",
       "      <td>2200.000000</td>\n",
       "      <td>2200.000000</td>\n",
       "      <td>2200.000000</td>\n",
       "      <td>2200.000000</td>\n",
       "    </tr>\n",
       "    <tr>\n",
       "      <th>mean</th>\n",
       "      <td>50.551818</td>\n",
       "      <td>53.362727</td>\n",
       "      <td>48.149091</td>\n",
       "      <td>25.616244</td>\n",
       "      <td>71.481779</td>\n",
       "      <td>6.469480</td>\n",
       "      <td>103.463655</td>\n",
       "    </tr>\n",
       "    <tr>\n",
       "      <th>std</th>\n",
       "      <td>36.917334</td>\n",
       "      <td>32.985883</td>\n",
       "      <td>50.647931</td>\n",
       "      <td>5.063749</td>\n",
       "      <td>22.263812</td>\n",
       "      <td>0.773938</td>\n",
       "      <td>54.958389</td>\n",
       "    </tr>\n",
       "    <tr>\n",
       "      <th>min</th>\n",
       "      <td>0.000000</td>\n",
       "      <td>5.000000</td>\n",
       "      <td>5.000000</td>\n",
       "      <td>8.825675</td>\n",
       "      <td>14.258040</td>\n",
       "      <td>3.504752</td>\n",
       "      <td>20.211267</td>\n",
       "    </tr>\n",
       "    <tr>\n",
       "      <th>25%</th>\n",
       "      <td>21.000000</td>\n",
       "      <td>28.000000</td>\n",
       "      <td>20.000000</td>\n",
       "      <td>22.769375</td>\n",
       "      <td>60.261953</td>\n",
       "      <td>5.971693</td>\n",
       "      <td>64.551686</td>\n",
       "    </tr>\n",
       "    <tr>\n",
       "      <th>50%</th>\n",
       "      <td>37.000000</td>\n",
       "      <td>51.000000</td>\n",
       "      <td>32.000000</td>\n",
       "      <td>25.598693</td>\n",
       "      <td>80.473146</td>\n",
       "      <td>6.425045</td>\n",
       "      <td>94.867624</td>\n",
       "    </tr>\n",
       "    <tr>\n",
       "      <th>75%</th>\n",
       "      <td>84.250000</td>\n",
       "      <td>68.000000</td>\n",
       "      <td>49.000000</td>\n",
       "      <td>28.561654</td>\n",
       "      <td>89.948771</td>\n",
       "      <td>6.923643</td>\n",
       "      <td>124.267508</td>\n",
       "    </tr>\n",
       "    <tr>\n",
       "      <th>max</th>\n",
       "      <td>140.000000</td>\n",
       "      <td>145.000000</td>\n",
       "      <td>205.000000</td>\n",
       "      <td>43.675493</td>\n",
       "      <td>99.981876</td>\n",
       "      <td>9.935091</td>\n",
       "      <td>298.560117</td>\n",
       "    </tr>\n",
       "  </tbody>\n",
       "</table>\n",
       "</div>"
      ],
      "text/plain": [
       "                 N            P            K  temperature     humidity  \\\n",
       "count  2200.000000  2200.000000  2200.000000  2200.000000  2200.000000   \n",
       "mean     50.551818    53.362727    48.149091    25.616244    71.481779   \n",
       "std      36.917334    32.985883    50.647931     5.063749    22.263812   \n",
       "min       0.000000     5.000000     5.000000     8.825675    14.258040   \n",
       "25%      21.000000    28.000000    20.000000    22.769375    60.261953   \n",
       "50%      37.000000    51.000000    32.000000    25.598693    80.473146   \n",
       "75%      84.250000    68.000000    49.000000    28.561654    89.948771   \n",
       "max     140.000000   145.000000   205.000000    43.675493    99.981876   \n",
       "\n",
       "                ph     rainfall  \n",
       "count  2200.000000  2200.000000  \n",
       "mean      6.469480   103.463655  \n",
       "std       0.773938    54.958389  \n",
       "min       3.504752    20.211267  \n",
       "25%       5.971693    64.551686  \n",
       "50%       6.425045    94.867624  \n",
       "75%       6.923643   124.267508  \n",
       "max       9.935091   298.560117  "
      ]
     },
     "execution_count": 123,
     "metadata": {},
     "output_type": "execute_result"
    }
   ],
   "source": [
    "raw_df.describe()"
   ]
  },
  {
   "cell_type": "code",
   "execution_count": 124,
   "id": "782ff2ff",
   "metadata": {},
   "outputs": [
    {
     "data": {
      "text/plain": [
       "(2200, 8)"
      ]
     },
     "execution_count": 124,
     "metadata": {},
     "output_type": "execute_result"
    }
   ],
   "source": [
    "raw_df.shape"
   ]
  },
  {
   "cell_type": "code",
   "execution_count": 125,
   "id": "a65ad26f",
   "metadata": {},
   "outputs": [
    {
     "data": {
      "application/vnd.plotly.v1+json": {
       "config": {
        "plotlyServerURL": "https://plot.ly"
       },
       "data": [
        {
         "bingroup": "x",
         "hovertemplate": "N=%{x}<br>count=%{y}<extra></extra>",
         "legendgroup": "",
         "marker": {
          "color": "#636efa",
          "pattern": {
           "shape": ""
          }
         },
         "name": "",
         "nbinsx": 140,
         "orientation": "v",
         "showlegend": false,
         "type": "histogram",
         "x": {
          "bdata": "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",
          "dtype": "i2"
         },
         "xaxis": "x",
         "yaxis": "y"
        },
        {
         "hovertemplate": "N=%{x}<extra></extra>",
         "legendgroup": "",
         "marker": {
          "color": "#636efa"
         },
         "name": "",
         "notched": true,
         "showlegend": false,
         "type": "box",
         "x": {
          "bdata": "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",
          "dtype": "i2"
         },
         "xaxis": "x2",
         "yaxis": "y2"
        }
       ],
       "layout": {
        "bargap": 0.1,
        "barmode": "relative",
        "legend": {
         "tracegroupgap": 0
        },
        "template": {
         "data": {
          "bar": [
           {
            "error_x": {
             "color": "#2a3f5f"
            },
            "error_y": {
             "color": "#2a3f5f"
            },
            "marker": {
             "line": {
              "color": "#E5ECF6",
              "width": 0.5
             },
             "pattern": {
              "fillmode": "overlay",
              "size": 10,
              "solidity": 0.2
             }
            },
            "type": "bar"
           }
          ],
          "barpolar": [
           {
            "marker": {
             "line": {
              "color": "#E5ECF6",
              "width": 0.5
             },
             "pattern": {
              "fillmode": "overlay",
              "size": 10,
              "solidity": 0.2
             }
            },
            "type": "barpolar"
           }
          ],
          "carpet": [
           {
            "aaxis": {
             "endlinecolor": "#2a3f5f",
             "gridcolor": "white",
             "linecolor": "white",
             "minorgridcolor": "white",
             "startlinecolor": "#2a3f5f"
            },
            "baxis": {
             "endlinecolor": "#2a3f5f",
             "gridcolor": "white",
             "linecolor": "white",
             "minorgridcolor": "white",
             "startlinecolor": "#2a3f5f"
            },
            "type": "carpet"
           }
          ],
          "choropleth": [
           {
            "colorbar": {
             "outlinewidth": 0,
             "ticks": ""
            },
            "type": "choropleth"
           }
          ],
          "contour": [
           {
            "colorbar": {
             "outlinewidth": 0,
             "ticks": ""
            },
            "colorscale": [
             [
              0,
              "#0d0887"
             ],
             [
              0.1111111111111111,
              "#46039f"
             ],
             [
              0.2222222222222222,
              "#7201a8"
             ],
             [
              0.3333333333333333,
              "#9c179e"
             ],
             [
              0.4444444444444444,
              "#bd3786"
             ],
             [
              0.5555555555555556,
              "#d8576b"
             ],
             [
              0.6666666666666666,
              "#ed7953"
             ],
             [
              0.7777777777777778,
              "#fb9f3a"
             ],
             [
              0.8888888888888888,
              "#fdca26"
             ],
             [
              1,
              "#f0f921"
             ]
            ],
            "type": "contour"
           }
          ],
          "contourcarpet": [
           {
            "colorbar": {
             "outlinewidth": 0,
             "ticks": ""
            },
            "type": "contourcarpet"
           }
          ],
          "heatmap": [
           {
            "colorbar": {
             "outlinewidth": 0,
             "ticks": ""
            },
            "colorscale": [
             [
              0,
              "#0d0887"
             ],
             [
              0.1111111111111111,
              "#46039f"
             ],
             [
              0.2222222222222222,
              "#7201a8"
             ],
             [
              0.3333333333333333,
              "#9c179e"
             ],
             [
              0.4444444444444444,
              "#bd3786"
             ],
             [
              0.5555555555555556,
              "#d8576b"
             ],
             [
              0.6666666666666666,
              "#ed7953"
             ],
             [
              0.7777777777777778,
              "#fb9f3a"
             ],
             [
              0.8888888888888888,
              "#fdca26"
             ],
             [
              1,
              "#f0f921"
             ]
            ],
            "type": "heatmap"
           }
          ],
          "histogram": [
           {
            "marker": {
             "pattern": {
              "fillmode": "overlay",
              "size": 10,
              "solidity": 0.2
             }
            },
            "type": "histogram"
           }
          ],
          "histogram2d": [
           {
            "colorbar": {
             "outlinewidth": 0,
             "ticks": ""
            },
            "colorscale": [
             [
              0,
              "#0d0887"
             ],
             [
              0.1111111111111111,
              "#46039f"
             ],
             [
              0.2222222222222222,
              "#7201a8"
             ],
             [
              0.3333333333333333,
              "#9c179e"
             ],
             [
              0.4444444444444444,
              "#bd3786"
             ],
             [
              0.5555555555555556,
              "#d8576b"
             ],
             [
              0.6666666666666666,
              "#ed7953"
             ],
             [
              0.7777777777777778,
              "#fb9f3a"
             ],
             [
              0.8888888888888888,
              "#fdca26"
             ],
             [
              1,
              "#f0f921"
             ]
            ],
            "type": "histogram2d"
           }
          ],
          "histogram2dcontour": [
           {
            "colorbar": {
             "outlinewidth": 0,
             "ticks": ""
            },
            "colorscale": [
             [
              0,
              "#0d0887"
             ],
             [
              0.1111111111111111,
              "#46039f"
             ],
             [
              0.2222222222222222,
              "#7201a8"
             ],
             [
              0.3333333333333333,
              "#9c179e"
             ],
             [
              0.4444444444444444,
              "#bd3786"
             ],
             [
              0.5555555555555556,
              "#d8576b"
             ],
             [
              0.6666666666666666,
              "#ed7953"
             ],
             [
              0.7777777777777778,
              "#fb9f3a"
             ],
             [
              0.8888888888888888,
              "#fdca26"
             ],
             [
              1,
              "#f0f921"
             ]
            ],
            "type": "histogram2dcontour"
           }
          ],
          "mesh3d": [
           {
            "colorbar": {
             "outlinewidth": 0,
             "ticks": ""
            },
            "type": "mesh3d"
           }
          ],
          "parcoords": [
           {
            "line": {
             "colorbar": {
              "outlinewidth": 0,
              "ticks": ""
             }
            },
            "type": "parcoords"
           }
          ],
          "pie": [
           {
            "automargin": true,
            "type": "pie"
           }
          ],
          "scatter": [
           {
            "fillpattern": {
             "fillmode": "overlay",
             "size": 10,
             "solidity": 0.2
            },
            "type": "scatter"
           }
          ],
          "scatter3d": [
           {
            "line": {
             "colorbar": {
              "outlinewidth": 0,
              "ticks": ""
             }
            },
            "marker": {
             "colorbar": {
              "outlinewidth": 0,
              "ticks": ""
             }
            },
            "type": "scatter3d"
           }
          ],
          "scattercarpet": [
           {
            "marker": {
             "colorbar": {
              "outlinewidth": 0,
              "ticks": ""
             }
            },
            "type": "scattercarpet"
           }
          ],
          "scattergeo": [
           {
            "marker": {
             "colorbar": {
              "outlinewidth": 0,
              "ticks": ""
             }
            },
            "type": "scattergeo"
           }
          ],
          "scattergl": [
           {
            "marker": {
             "colorbar": {
              "outlinewidth": 0,
              "ticks": ""
             }
            },
            "type": "scattergl"
           }
          ],
          "scattermap": [
           {
            "marker": {
             "colorbar": {
              "outlinewidth": 0,
              "ticks": ""
             }
            },
            "type": "scattermap"
           }
          ],
          "scattermapbox": [
           {
            "marker": {
             "colorbar": {
              "outlinewidth": 0,
              "ticks": ""
             }
            },
            "type": "scattermapbox"
           }
          ],
          "scatterpolar": [
           {
            "marker": {
             "colorbar": {
              "outlinewidth": 0,
              "ticks": ""
             }
            },
            "type": "scatterpolar"
           }
          ],
          "scatterpolargl": [
           {
            "marker": {
             "colorbar": {
              "outlinewidth": 0,
              "ticks": ""
             }
            },
            "type": "scatterpolargl"
           }
          ],
          "scatterternary": [
           {
            "marker": {
             "colorbar": {
              "outlinewidth": 0,
              "ticks": ""
             }
            },
            "type": "scatterternary"
           }
          ],
          "surface": [
           {
            "colorbar": {
             "outlinewidth": 0,
             "ticks": ""
            },
            "colorscale": [
             [
              0,
              "#0d0887"
             ],
             [
              0.1111111111111111,
              "#46039f"
             ],
             [
              0.2222222222222222,
              "#7201a8"
             ],
             [
              0.3333333333333333,
              "#9c179e"
             ],
             [
              0.4444444444444444,
              "#bd3786"
             ],
             [
              0.5555555555555556,
              "#d8576b"
             ],
             [
              0.6666666666666666,
              "#ed7953"
             ],
             [
              0.7777777777777778,
              "#fb9f3a"
             ],
             [
              0.8888888888888888,
              "#fdca26"
             ],
             [
              1,
              "#f0f921"
             ]
            ],
            "type": "surface"
           }
          ],
          "table": [
           {
            "cells": {
             "fill": {
              "color": "#EBF0F8"
             },
             "line": {
              "color": "white"
             }
            },
            "header": {
             "fill": {
              "color": "#C8D4E3"
             },
             "line": {
              "color": "white"
             }
            },
            "type": "table"
           }
          ]
         },
         "layout": {
          "annotationdefaults": {
           "arrowcolor": "#2a3f5f",
           "arrowhead": 0,
           "arrowwidth": 1
          },
          "autotypenumbers": "strict",
          "coloraxis": {
           "colorbar": {
            "outlinewidth": 0,
            "ticks": ""
           }
          },
          "colorscale": {
           "diverging": [
            [
             0,
             "#8e0152"
            ],
            [
             0.1,
             "#c51b7d"
            ],
            [
             0.2,
             "#de77ae"
            ],
            [
             0.3,
             "#f1b6da"
            ],
            [
             0.4,
             "#fde0ef"
            ],
            [
             0.5,
             "#f7f7f7"
            ],
            [
             0.6,
             "#e6f5d0"
            ],
            [
             0.7,
             "#b8e186"
            ],
            [
             0.8,
             "#7fbc41"
            ],
            [
             0.9,
             "#4d9221"
            ],
            [
             1,
             "#276419"
            ]
           ],
           "sequential": [
            [
             0,
             "#0d0887"
            ],
            [
             0.1111111111111111,
             "#46039f"
            ],
            [
             0.2222222222222222,
             "#7201a8"
            ],
            [
             0.3333333333333333,
             "#9c179e"
            ],
            [
             0.4444444444444444,
             "#bd3786"
            ],
            [
             0.5555555555555556,
             "#d8576b"
            ],
            [
             0.6666666666666666,
             "#ed7953"
            ],
            [
             0.7777777777777778,
             "#fb9f3a"
            ],
            [
             0.8888888888888888,
             "#fdca26"
            ],
            [
             1,
             "#f0f921"
            ]
           ],
           "sequentialminus": [
            [
             0,
             "#0d0887"
            ],
            [
             0.1111111111111111,
             "#46039f"
            ],
            [
             0.2222222222222222,
             "#7201a8"
            ],
            [
             0.3333333333333333,
             "#9c179e"
            ],
            [
             0.4444444444444444,
             "#bd3786"
            ],
            [
             0.5555555555555556,
             "#d8576b"
            ],
            [
             0.6666666666666666,
             "#ed7953"
            ],
            [
             0.7777777777777778,
             "#fb9f3a"
            ],
            [
             0.8888888888888888,
             "#fdca26"
            ],
            [
             1,
             "#f0f921"
            ]
           ]
          },
          "colorway": [
           "#636efa",
           "#EF553B",
           "#00cc96",
           "#ab63fa",
           "#FFA15A",
           "#19d3f3",
           "#FF6692",
           "#B6E880",
           "#FF97FF",
           "#FECB52"
          ],
          "font": {
           "color": "#2a3f5f"
          },
          "geo": {
           "bgcolor": "white",
           "lakecolor": "white",
           "landcolor": "#E5ECF6",
           "showlakes": true,
           "showland": true,
           "subunitcolor": "white"
          },
          "hoverlabel": {
           "align": "left"
          },
          "hovermode": "closest",
          "mapbox": {
           "style": "light"
          },
          "paper_bgcolor": "white",
          "plot_bgcolor": "#E5ECF6",
          "polar": {
           "angularaxis": {
            "gridcolor": "white",
            "linecolor": "white",
            "ticks": ""
           },
           "bgcolor": "#E5ECF6",
           "radialaxis": {
            "gridcolor": "white",
            "linecolor": "white",
            "ticks": ""
           }
          },
          "scene": {
           "xaxis": {
            "backgroundcolor": "#E5ECF6",
            "gridcolor": "white",
            "gridwidth": 2,
            "linecolor": "white",
            "showbackground": true,
            "ticks": "",
            "zerolinecolor": "white"
           },
           "yaxis": {
            "backgroundcolor": "#E5ECF6",
            "gridcolor": "white",
            "gridwidth": 2,
            "linecolor": "white",
            "showbackground": true,
            "ticks": "",
            "zerolinecolor": "white"
           },
           "zaxis": {
            "backgroundcolor": "#E5ECF6",
            "gridcolor": "white",
            "gridwidth": 2,
            "linecolor": "white",
            "showbackground": true,
            "ticks": "",
            "zerolinecolor": "white"
           }
          },
          "shapedefaults": {
           "line": {
            "color": "#2a3f5f"
           }
          },
          "ternary": {
           "aaxis": {
            "gridcolor": "white",
            "linecolor": "white",
            "ticks": ""
           },
           "baxis": {
            "gridcolor": "white",
            "linecolor": "white",
            "ticks": ""
           },
           "bgcolor": "#E5ECF6",
           "caxis": {
            "gridcolor": "white",
            "linecolor": "white",
            "ticks": ""
           }
          },
          "title": {
           "x": 0.05
          },
          "xaxis": {
           "automargin": true,
           "gridcolor": "white",
           "linecolor": "white",
           "ticks": "",
           "title": {
            "standoff": 15
           },
           "zerolinecolor": "white",
           "zerolinewidth": 2
          },
          "yaxis": {
           "automargin": true,
           "gridcolor": "white",
           "linecolor": "white",
           "ticks": "",
           "title": {
            "standoff": 15
           },
           "zerolinecolor": "white",
           "zerolinewidth": 2
          }
         }
        },
        "title": {
         "text": "Nitrogen content distribution"
        },
        "xaxis": {
         "anchor": "y",
         "domain": [
          0,
          1
         ],
         "title": {
          "text": "N"
         }
        },
        "xaxis2": {
         "anchor": "y2",
         "domain": [
          0,
          1
         ],
         "matches": "x",
         "showgrid": true,
         "showticklabels": false
        },
        "yaxis": {
         "anchor": "x",
         "domain": [
          0,
          0.8316
         ],
         "title": {
          "text": "count"
         }
        },
        "yaxis2": {
         "anchor": "x2",
         "domain": [
          0.8416,
          1
         ],
         "matches": "y2",
         "showgrid": false,
         "showline": false,
         "showticklabels": false,
         "ticks": ""
        }
       }
      }
     },
     "metadata": {},
     "output_type": "display_data"
    }
   ],
   "source": [
    "fig = px.histogram(raw_df , x='N',nbins=140,marginal='box',title='Nitrogen content distribution')\n",
    "fig.update_layout(bargap=0.1)\n",
    "fig.show()"
   ]
  },
  {
   "cell_type": "code",
   "execution_count": 126,
   "id": "80ea4af0",
   "metadata": {},
   "outputs": [
    {
     "data": {
      "text/plain": [
       "<Figure size 640x480 with 0 Axes>"
      ]
     },
     "metadata": {},
     "output_type": "display_data"
    }
   ],
   "source": [
    "plt.savefig(\"../artifacts/plots/Nitrogen_content_distribution.png\")"
   ]
  },
  {
   "cell_type": "code",
   "execution_count": 127,
   "id": "5adc1715",
   "metadata": {},
   "outputs": [
    {
     "data": {
      "application/vnd.plotly.v1+json": {
       "config": {
        "plotlyServerURL": "https://plot.ly"
       },
       "data": [
        {
         "bingroup": "x",
         "hovertemplate": "P=%{x}<br>count=%{y}<extra></extra>",
         "legendgroup": "",
         "marker": {
          "color": "#636efa",
          "pattern": {
           "shape": ""
          }
         },
         "name": "",
         "nbinsx": 140,
         "orientation": "v",
         "showlegend": false,
         "type": "histogram",
         "x": {
          "bdata": "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",
          "dtype": "i2"
         },
         "xaxis": "x",
         "yaxis": "y"
        },
        {
         "hovertemplate": "P=%{x}<extra></extra>",
         "legendgroup": "",
         "marker": {
          "color": "#636efa"
         },
         "name": "",
         "notched": true,
         "showlegend": false,
         "type": "box",
         "x": {
          "bdata": "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",
          "dtype": "i2"
         },
         "xaxis": "x2",
         "yaxis": "y2"
        }
       ],
       "layout": {
        "bargap": 0.1,
        "barmode": "relative",
        "legend": {
         "tracegroupgap": 0
        },
        "template": {
         "data": {
          "bar": [
           {
            "error_x": {
             "color": "#2a3f5f"
            },
            "error_y": {
             "color": "#2a3f5f"
            },
            "marker": {
             "line": {
              "color": "#E5ECF6",
              "width": 0.5
             },
             "pattern": {
              "fillmode": "overlay",
              "size": 10,
              "solidity": 0.2
             }
            },
            "type": "bar"
           }
          ],
          "barpolar": [
           {
            "marker": {
             "line": {
              "color": "#E5ECF6",
              "width": 0.5
             },
             "pattern": {
              "fillmode": "overlay",
              "size": 10,
              "solidity": 0.2
             }
            },
            "type": "barpolar"
           }
          ],
          "carpet": [
           {
            "aaxis": {
             "endlinecolor": "#2a3f5f",
             "gridcolor": "white",
             "linecolor": "white",
             "minorgridcolor": "white",
             "startlinecolor": "#2a3f5f"
            },
            "baxis": {
             "endlinecolor": "#2a3f5f",
             "gridcolor": "white",
             "linecolor": "white",
             "minorgridcolor": "white",
             "startlinecolor": "#2a3f5f"
            },
            "type": "carpet"
           }
          ],
          "choropleth": [
           {
            "colorbar": {
             "outlinewidth": 0,
             "ticks": ""
            },
            "type": "choropleth"
           }
          ],
          "contour": [
           {
            "colorbar": {
             "outlinewidth": 0,
             "ticks": ""
            },
            "colorscale": [
             [
              0,
              "#0d0887"
             ],
             [
              0.1111111111111111,
              "#46039f"
             ],
             [
              0.2222222222222222,
              "#7201a8"
             ],
             [
              0.3333333333333333,
              "#9c179e"
             ],
             [
              0.4444444444444444,
              "#bd3786"
             ],
             [
              0.5555555555555556,
              "#d8576b"
             ],
             [
              0.6666666666666666,
              "#ed7953"
             ],
             [
              0.7777777777777778,
              "#fb9f3a"
             ],
             [
              0.8888888888888888,
              "#fdca26"
             ],
             [
              1,
              "#f0f921"
             ]
            ],
            "type": "contour"
           }
          ],
          "contourcarpet": [
           {
            "colorbar": {
             "outlinewidth": 0,
             "ticks": ""
            },
            "type": "contourcarpet"
           }
          ],
          "heatmap": [
           {
            "colorbar": {
             "outlinewidth": 0,
             "ticks": ""
            },
            "colorscale": [
             [
              0,
              "#0d0887"
             ],
             [
              0.1111111111111111,
              "#46039f"
             ],
             [
              0.2222222222222222,
              "#7201a8"
             ],
             [
              0.3333333333333333,
              "#9c179e"
             ],
             [
              0.4444444444444444,
              "#bd3786"
             ],
             [
              0.5555555555555556,
              "#d8576b"
             ],
             [
              0.6666666666666666,
              "#ed7953"
             ],
             [
              0.7777777777777778,
              "#fb9f3a"
             ],
             [
              0.8888888888888888,
              "#fdca26"
             ],
             [
              1,
              "#f0f921"
             ]
            ],
            "type": "heatmap"
           }
          ],
          "histogram": [
           {
            "marker": {
             "pattern": {
              "fillmode": "overlay",
              "size": 10,
              "solidity": 0.2
             }
            },
            "type": "histogram"
           }
          ],
          "histogram2d": [
           {
            "colorbar": {
             "outlinewidth": 0,
             "ticks": ""
            },
            "colorscale": [
             [
              0,
              "#0d0887"
             ],
             [
              0.1111111111111111,
              "#46039f"
             ],
             [
              0.2222222222222222,
              "#7201a8"
             ],
             [
              0.3333333333333333,
              "#9c179e"
             ],
             [
              0.4444444444444444,
              "#bd3786"
             ],
             [
              0.5555555555555556,
              "#d8576b"
             ],
             [
              0.6666666666666666,
              "#ed7953"
             ],
             [
              0.7777777777777778,
              "#fb9f3a"
             ],
             [
              0.8888888888888888,
              "#fdca26"
             ],
             [
              1,
              "#f0f921"
             ]
            ],
            "type": "histogram2d"
           }
          ],
          "histogram2dcontour": [
           {
            "colorbar": {
             "outlinewidth": 0,
             "ticks": ""
            },
            "colorscale": [
             [
              0,
              "#0d0887"
             ],
             [
              0.1111111111111111,
              "#46039f"
             ],
             [
              0.2222222222222222,
              "#7201a8"
             ],
             [
              0.3333333333333333,
              "#9c179e"
             ],
             [
              0.4444444444444444,
              "#bd3786"
             ],
             [
              0.5555555555555556,
              "#d8576b"
             ],
             [
              0.6666666666666666,
              "#ed7953"
             ],
             [
              0.7777777777777778,
              "#fb9f3a"
             ],
             [
              0.8888888888888888,
              "#fdca26"
             ],
             [
              1,
              "#f0f921"
             ]
            ],
            "type": "histogram2dcontour"
           }
          ],
          "mesh3d": [
           {
            "colorbar": {
             "outlinewidth": 0,
             "ticks": ""
            },
            "type": "mesh3d"
           }
          ],
          "parcoords": [
           {
            "line": {
             "colorbar": {
              "outlinewidth": 0,
              "ticks": ""
             }
            },
            "type": "parcoords"
           }
          ],
          "pie": [
           {
            "automargin": true,
            "type": "pie"
           }
          ],
          "scatter": [
           {
            "fillpattern": {
             "fillmode": "overlay",
             "size": 10,
             "solidity": 0.2
            },
            "type": "scatter"
           }
          ],
          "scatter3d": [
           {
            "line": {
             "colorbar": {
              "outlinewidth": 0,
              "ticks": ""
             }
            },
            "marker": {
             "colorbar": {
              "outlinewidth": 0,
              "ticks": ""
             }
            },
            "type": "scatter3d"
           }
          ],
          "scattercarpet": [
           {
            "marker": {
             "colorbar": {
              "outlinewidth": 0,
              "ticks": ""
             }
            },
            "type": "scattercarpet"
           }
          ],
          "scattergeo": [
           {
            "marker": {
             "colorbar": {
              "outlinewidth": 0,
              "ticks": ""
             }
            },
            "type": "scattergeo"
           }
          ],
          "scattergl": [
           {
            "marker": {
             "colorbar": {
              "outlinewidth": 0,
              "ticks": ""
             }
            },
            "type": "scattergl"
           }
          ],
          "scattermap": [
           {
            "marker": {
             "colorbar": {
              "outlinewidth": 0,
              "ticks": ""
             }
            },
            "type": "scattermap"
           }
          ],
          "scattermapbox": [
           {
            "marker": {
             "colorbar": {
              "outlinewidth": 0,
              "ticks": ""
             }
            },
            "type": "scattermapbox"
           }
          ],
          "scatterpolar": [
           {
            "marker": {
             "colorbar": {
              "outlinewidth": 0,
              "ticks": ""
             }
            },
            "type": "scatterpolar"
           }
          ],
          "scatterpolargl": [
           {
            "marker": {
             "colorbar": {
              "outlinewidth": 0,
              "ticks": ""
             }
            },
            "type": "scatterpolargl"
           }
          ],
          "scatterternary": [
           {
            "marker": {
             "colorbar": {
              "outlinewidth": 0,
              "ticks": ""
             }
            },
            "type": "scatterternary"
           }
          ],
          "surface": [
           {
            "colorbar": {
             "outlinewidth": 0,
             "ticks": ""
            },
            "colorscale": [
             [
              0,
              "#0d0887"
             ],
             [
              0.1111111111111111,
              "#46039f"
             ],
             [
              0.2222222222222222,
              "#7201a8"
             ],
             [
              0.3333333333333333,
              "#9c179e"
             ],
             [
              0.4444444444444444,
              "#bd3786"
             ],
             [
              0.5555555555555556,
              "#d8576b"
             ],
             [
              0.6666666666666666,
              "#ed7953"
             ],
             [
              0.7777777777777778,
              "#fb9f3a"
             ],
             [
              0.8888888888888888,
              "#fdca26"
             ],
             [
              1,
              "#f0f921"
             ]
            ],
            "type": "surface"
           }
          ],
          "table": [
           {
            "cells": {
             "fill": {
              "color": "#EBF0F8"
             },
             "line": {
              "color": "white"
             }
            },
            "header": {
             "fill": {
              "color": "#C8D4E3"
             },
             "line": {
              "color": "white"
             }
            },
            "type": "table"
           }
          ]
         },
         "layout": {
          "annotationdefaults": {
           "arrowcolor": "#2a3f5f",
           "arrowhead": 0,
           "arrowwidth": 1
          },
          "autotypenumbers": "strict",
          "coloraxis": {
           "colorbar": {
            "outlinewidth": 0,
            "ticks": ""
           }
          },
          "colorscale": {
           "diverging": [
            [
             0,
             "#8e0152"
            ],
            [
             0.1,
             "#c51b7d"
            ],
            [
             0.2,
             "#de77ae"
            ],
            [
             0.3,
             "#f1b6da"
            ],
            [
             0.4,
             "#fde0ef"
            ],
            [
             0.5,
             "#f7f7f7"
            ],
            [
             0.6,
             "#e6f5d0"
            ],
            [
             0.7,
             "#b8e186"
            ],
            [
             0.8,
             "#7fbc41"
            ],
            [
             0.9,
             "#4d9221"
            ],
            [
             1,
             "#276419"
            ]
           ],
           "sequential": [
            [
             0,
             "#0d0887"
            ],
            [
             0.1111111111111111,
             "#46039f"
            ],
            [
             0.2222222222222222,
             "#7201a8"
            ],
            [
             0.3333333333333333,
             "#9c179e"
            ],
            [
             0.4444444444444444,
             "#bd3786"
            ],
            [
             0.5555555555555556,
             "#d8576b"
            ],
            [
             0.6666666666666666,
             "#ed7953"
            ],
            [
             0.7777777777777778,
             "#fb9f3a"
            ],
            [
             0.8888888888888888,
             "#fdca26"
            ],
            [
             1,
             "#f0f921"
            ]
           ],
           "sequentialminus": [
            [
             0,
             "#0d0887"
            ],
            [
             0.1111111111111111,
             "#46039f"
            ],
            [
             0.2222222222222222,
             "#7201a8"
            ],
            [
             0.3333333333333333,
             "#9c179e"
            ],
            [
             0.4444444444444444,
             "#bd3786"
            ],
            [
             0.5555555555555556,
             "#d8576b"
            ],
            [
             0.6666666666666666,
             "#ed7953"
            ],
            [
             0.7777777777777778,
             "#fb9f3a"
            ],
            [
             0.8888888888888888,
             "#fdca26"
            ],
            [
             1,
             "#f0f921"
            ]
           ]
          },
          "colorway": [
           "#636efa",
           "#EF553B",
           "#00cc96",
           "#ab63fa",
           "#FFA15A",
           "#19d3f3",
           "#FF6692",
           "#B6E880",
           "#FF97FF",
           "#FECB52"
          ],
          "font": {
           "color": "#2a3f5f"
          },
          "geo": {
           "bgcolor": "white",
           "lakecolor": "white",
           "landcolor": "#E5ECF6",
           "showlakes": true,
           "showland": true,
           "subunitcolor": "white"
          },
          "hoverlabel": {
           "align": "left"
          },
          "hovermode": "closest",
          "mapbox": {
           "style": "light"
          },
          "paper_bgcolor": "white",
          "plot_bgcolor": "#E5ECF6",
          "polar": {
           "angularaxis": {
            "gridcolor": "white",
            "linecolor": "white",
            "ticks": ""
           },
           "bgcolor": "#E5ECF6",
           "radialaxis": {
            "gridcolor": "white",
            "linecolor": "white",
            "ticks": ""
           }
          },
          "scene": {
           "xaxis": {
            "backgroundcolor": "#E5ECF6",
            "gridcolor": "white",
            "gridwidth": 2,
            "linecolor": "white",
            "showbackground": true,
            "ticks": "",
            "zerolinecolor": "white"
           },
           "yaxis": {
            "backgroundcolor": "#E5ECF6",
            "gridcolor": "white",
            "gridwidth": 2,
            "linecolor": "white",
            "showbackground": true,
            "ticks": "",
            "zerolinecolor": "white"
           },
           "zaxis": {
            "backgroundcolor": "#E5ECF6",
            "gridcolor": "white",
            "gridwidth": 2,
            "linecolor": "white",
            "showbackground": true,
            "ticks": "",
            "zerolinecolor": "white"
           }
          },
          "shapedefaults": {
           "line": {
            "color": "#2a3f5f"
           }
          },
          "ternary": {
           "aaxis": {
            "gridcolor": "white",
            "linecolor": "white",
            "ticks": ""
           },
           "baxis": {
            "gridcolor": "white",
            "linecolor": "white",
            "ticks": ""
           },
           "bgcolor": "#E5ECF6",
           "caxis": {
            "gridcolor": "white",
            "linecolor": "white",
            "ticks": ""
           }
          },
          "title": {
           "x": 0.05
          },
          "xaxis": {
           "automargin": true,
           "gridcolor": "white",
           "linecolor": "white",
           "ticks": "",
           "title": {
            "standoff": 15
           },
           "zerolinecolor": "white",
           "zerolinewidth": 2
          },
          "yaxis": {
           "automargin": true,
           "gridcolor": "white",
           "linecolor": "white",
           "ticks": "",
           "title": {
            "standoff": 15
           },
           "zerolinecolor": "white",
           "zerolinewidth": 2
          }
         }
        },
        "title": {
         "text": "Phosphorous content distribution"
        },
        "xaxis": {
         "anchor": "y",
         "domain": [
          0,
          1
         ],
         "title": {
          "text": "P"
         }
        },
        "xaxis2": {
         "anchor": "y2",
         "domain": [
          0,
          1
         ],
         "matches": "x",
         "showgrid": true,
         "showticklabels": false
        },
        "yaxis": {
         "anchor": "x",
         "domain": [
          0,
          0.8316
         ],
         "title": {
          "text": "count"
         }
        },
        "yaxis2": {
         "anchor": "x2",
         "domain": [
          0.8416,
          1
         ],
         "matches": "y2",
         "showgrid": false,
         "showline": false,
         "showticklabels": false,
         "ticks": ""
        }
       }
      }
     },
     "metadata": {},
     "output_type": "display_data"
    }
   ],
   "source": [
    "fig = px.histogram(raw_df , x='P',nbins=140,marginal='box',title='Phosphorous content distribution')\n",
    "fig.update_layout(bargap=0.1)\n",
    "fig.show()"
   ]
  },
  {
   "cell_type": "code",
   "execution_count": 128,
   "id": "37bb6fb6",
   "metadata": {},
   "outputs": [
    {
     "data": {
      "text/plain": [
       "<Figure size 640x480 with 0 Axes>"
      ]
     },
     "metadata": {},
     "output_type": "display_data"
    }
   ],
   "source": [
    "plt.savefig(\"../artifacts/plots/Phosphorous_content_distribution.png\")"
   ]
  },
  {
   "cell_type": "code",
   "execution_count": 129,
   "id": "6fc759f1",
   "metadata": {},
   "outputs": [
    {
     "data": {
      "application/vnd.plotly.v1+json": {
       "config": {
        "plotlyServerURL": "https://plot.ly"
       },
       "data": [
        {
         "bingroup": "x",
         "hovertemplate": "K=%{x}<br>count=%{y}<extra></extra>",
         "legendgroup": "",
         "marker": {
          "color": "#636efa",
          "pattern": {
           "shape": ""
          }
         },
         "name": "",
         "nbinsx": 200,
         "orientation": "v",
         "showlegend": false,
         "type": "histogram",
         "x": {
          "bdata": "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",
          "dtype": "i2"
         },
         "xaxis": "x",
         "yaxis": "y"
        },
        {
         "hovertemplate": "K=%{x}<extra></extra>",
         "legendgroup": "",
         "marker": {
          "color": "#636efa"
         },
         "name": "",
         "notched": true,
         "showlegend": false,
         "type": "box",
         "x": {
          "bdata": "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",
          "dtype": "i2"
         },
         "xaxis": "x2",
         "yaxis": "y2"
        }
       ],
       "layout": {
        "bargap": 0.1,
        "barmode": "relative",
        "legend": {
         "tracegroupgap": 0
        },
        "template": {
         "data": {
          "bar": [
           {
            "error_x": {
             "color": "#2a3f5f"
            },
            "error_y": {
             "color": "#2a3f5f"
            },
            "marker": {
             "line": {
              "color": "#E5ECF6",
              "width": 0.5
             },
             "pattern": {
              "fillmode": "overlay",
              "size": 10,
              "solidity": 0.2
             }
            },
            "type": "bar"
           }
          ],
          "barpolar": [
           {
            "marker": {
             "line": {
              "color": "#E5ECF6",
              "width": 0.5
             },
             "pattern": {
              "fillmode": "overlay",
              "size": 10,
              "solidity": 0.2
             }
            },
            "type": "barpolar"
           }
          ],
          "carpet": [
           {
            "aaxis": {
             "endlinecolor": "#2a3f5f",
             "gridcolor": "white",
             "linecolor": "white",
             "minorgridcolor": "white",
             "startlinecolor": "#2a3f5f"
            },
            "baxis": {
             "endlinecolor": "#2a3f5f",
             "gridcolor": "white",
             "linecolor": "white",
             "minorgridcolor": "white",
             "startlinecolor": "#2a3f5f"
            },
            "type": "carpet"
           }
          ],
          "choropleth": [
           {
            "colorbar": {
             "outlinewidth": 0,
             "ticks": ""
            },
            "type": "choropleth"
           }
          ],
          "contour": [
           {
            "colorbar": {
             "outlinewidth": 0,
             "ticks": ""
            },
            "colorscale": [
             [
              0,
              "#0d0887"
             ],
             [
              0.1111111111111111,
              "#46039f"
             ],
             [
              0.2222222222222222,
              "#7201a8"
             ],
             [
              0.3333333333333333,
              "#9c179e"
             ],
             [
              0.4444444444444444,
              "#bd3786"
             ],
             [
              0.5555555555555556,
              "#d8576b"
             ],
             [
              0.6666666666666666,
              "#ed7953"
             ],
             [
              0.7777777777777778,
              "#fb9f3a"
             ],
             [
              0.8888888888888888,
              "#fdca26"
             ],
             [
              1,
              "#f0f921"
             ]
            ],
            "type": "contour"
           }
          ],
          "contourcarpet": [
           {
            "colorbar": {
             "outlinewidth": 0,
             "ticks": ""
            },
            "type": "contourcarpet"
           }
          ],
          "heatmap": [
           {
            "colorbar": {
             "outlinewidth": 0,
             "ticks": ""
            },
            "colorscale": [
             [
              0,
              "#0d0887"
             ],
             [
              0.1111111111111111,
              "#46039f"
             ],
             [
              0.2222222222222222,
              "#7201a8"
             ],
             [
              0.3333333333333333,
              "#9c179e"
             ],
             [
              0.4444444444444444,
              "#bd3786"
             ],
             [
              0.5555555555555556,
              "#d8576b"
             ],
             [
              0.6666666666666666,
              "#ed7953"
             ],
             [
              0.7777777777777778,
              "#fb9f3a"
             ],
             [
              0.8888888888888888,
              "#fdca26"
             ],
             [
              1,
              "#f0f921"
             ]
            ],
            "type": "heatmap"
           }
          ],
          "histogram": [
           {
            "marker": {
             "pattern": {
              "fillmode": "overlay",
              "size": 10,
              "solidity": 0.2
             }
            },
            "type": "histogram"
           }
          ],
          "histogram2d": [
           {
            "colorbar": {
             "outlinewidth": 0,
             "ticks": ""
            },
            "colorscale": [
             [
              0,
              "#0d0887"
             ],
             [
              0.1111111111111111,
              "#46039f"
             ],
             [
              0.2222222222222222,
              "#7201a8"
             ],
             [
              0.3333333333333333,
              "#9c179e"
             ],
             [
              0.4444444444444444,
              "#bd3786"
             ],
             [
              0.5555555555555556,
              "#d8576b"
             ],
             [
              0.6666666666666666,
              "#ed7953"
             ],
             [
              0.7777777777777778,
              "#fb9f3a"
             ],
             [
              0.8888888888888888,
              "#fdca26"
             ],
             [
              1,
              "#f0f921"
             ]
            ],
            "type": "histogram2d"
           }
          ],
          "histogram2dcontour": [
           {
            "colorbar": {
             "outlinewidth": 0,
             "ticks": ""
            },
            "colorscale": [
             [
              0,
              "#0d0887"
             ],
             [
              0.1111111111111111,
              "#46039f"
             ],
             [
              0.2222222222222222,
              "#7201a8"
             ],
             [
              0.3333333333333333,
              "#9c179e"
             ],
             [
              0.4444444444444444,
              "#bd3786"
             ],
             [
              0.5555555555555556,
              "#d8576b"
             ],
             [
              0.6666666666666666,
              "#ed7953"
             ],
             [
              0.7777777777777778,
              "#fb9f3a"
             ],
             [
              0.8888888888888888,
              "#fdca26"
             ],
             [
              1,
              "#f0f921"
             ]
            ],
            "type": "histogram2dcontour"
           }
          ],
          "mesh3d": [
           {
            "colorbar": {
             "outlinewidth": 0,
             "ticks": ""
            },
            "type": "mesh3d"
           }
          ],
          "parcoords": [
           {
            "line": {
             "colorbar": {
              "outlinewidth": 0,
              "ticks": ""
             }
            },
            "type": "parcoords"
           }
          ],
          "pie": [
           {
            "automargin": true,
            "type": "pie"
           }
          ],
          "scatter": [
           {
            "fillpattern": {
             "fillmode": "overlay",
             "size": 10,
             "solidity": 0.2
            },
            "type": "scatter"
           }
          ],
          "scatter3d": [
           {
            "line": {
             "colorbar": {
              "outlinewidth": 0,
              "ticks": ""
             }
            },
            "marker": {
             "colorbar": {
              "outlinewidth": 0,
              "ticks": ""
             }
            },
            "type": "scatter3d"
           }
          ],
          "scattercarpet": [
           {
            "marker": {
             "colorbar": {
              "outlinewidth": 0,
              "ticks": ""
             }
            },
            "type": "scattercarpet"
           }
          ],
          "scattergeo": [
           {
            "marker": {
             "colorbar": {
              "outlinewidth": 0,
              "ticks": ""
             }
            },
            "type": "scattergeo"
           }
          ],
          "scattergl": [
           {
            "marker": {
             "colorbar": {
              "outlinewidth": 0,
              "ticks": ""
             }
            },
            "type": "scattergl"
           }
          ],
          "scattermap": [
           {
            "marker": {
             "colorbar": {
              "outlinewidth": 0,
              "ticks": ""
             }
            },
            "type": "scattermap"
           }
          ],
          "scattermapbox": [
           {
            "marker": {
             "colorbar": {
              "outlinewidth": 0,
              "ticks": ""
             }
            },
            "type": "scattermapbox"
           }
          ],
          "scatterpolar": [
           {
            "marker": {
             "colorbar": {
              "outlinewidth": 0,
              "ticks": ""
             }
            },
            "type": "scatterpolar"
           }
          ],
          "scatterpolargl": [
           {
            "marker": {
             "colorbar": {
              "outlinewidth": 0,
              "ticks": ""
             }
            },
            "type": "scatterpolargl"
           }
          ],
          "scatterternary": [
           {
            "marker": {
             "colorbar": {
              "outlinewidth": 0,
              "ticks": ""
             }
            },
            "type": "scatterternary"
           }
          ],
          "surface": [
           {
            "colorbar": {
             "outlinewidth": 0,
             "ticks": ""
            },
            "colorscale": [
             [
              0,
              "#0d0887"
             ],
             [
              0.1111111111111111,
              "#46039f"
             ],
             [
              0.2222222222222222,
              "#7201a8"
             ],
             [
              0.3333333333333333,
              "#9c179e"
             ],
             [
              0.4444444444444444,
              "#bd3786"
             ],
             [
              0.5555555555555556,
              "#d8576b"
             ],
             [
              0.6666666666666666,
              "#ed7953"
             ],
             [
              0.7777777777777778,
              "#fb9f3a"
             ],
             [
              0.8888888888888888,
              "#fdca26"
             ],
             [
              1,
              "#f0f921"
             ]
            ],
            "type": "surface"
           }
          ],
          "table": [
           {
            "cells": {
             "fill": {
              "color": "#EBF0F8"
             },
             "line": {
              "color": "white"
             }
            },
            "header": {
             "fill": {
              "color": "#C8D4E3"
             },
             "line": {
              "color": "white"
             }
            },
            "type": "table"
           }
          ]
         },
         "layout": {
          "annotationdefaults": {
           "arrowcolor": "#2a3f5f",
           "arrowhead": 0,
           "arrowwidth": 1
          },
          "autotypenumbers": "strict",
          "coloraxis": {
           "colorbar": {
            "outlinewidth": 0,
            "ticks": ""
           }
          },
          "colorscale": {
           "diverging": [
            [
             0,
             "#8e0152"
            ],
            [
             0.1,
             "#c51b7d"
            ],
            [
             0.2,
             "#de77ae"
            ],
            [
             0.3,
             "#f1b6da"
            ],
            [
             0.4,
             "#fde0ef"
            ],
            [
             0.5,
             "#f7f7f7"
            ],
            [
             0.6,
             "#e6f5d0"
            ],
            [
             0.7,
             "#b8e186"
            ],
            [
             0.8,
             "#7fbc41"
            ],
            [
             0.9,
             "#4d9221"
            ],
            [
             1,
             "#276419"
            ]
           ],
           "sequential": [
            [
             0,
             "#0d0887"
            ],
            [
             0.1111111111111111,
             "#46039f"
            ],
            [
             0.2222222222222222,
             "#7201a8"
            ],
            [
             0.3333333333333333,
             "#9c179e"
            ],
            [
             0.4444444444444444,
             "#bd3786"
            ],
            [
             0.5555555555555556,
             "#d8576b"
            ],
            [
             0.6666666666666666,
             "#ed7953"
            ],
            [
             0.7777777777777778,
             "#fb9f3a"
            ],
            [
             0.8888888888888888,
             "#fdca26"
            ],
            [
             1,
             "#f0f921"
            ]
           ],
           "sequentialminus": [
            [
             0,
             "#0d0887"
            ],
            [
             0.1111111111111111,
             "#46039f"
            ],
            [
             0.2222222222222222,
             "#7201a8"
            ],
            [
             0.3333333333333333,
             "#9c179e"
            ],
            [
             0.4444444444444444,
             "#bd3786"
            ],
            [
             0.5555555555555556,
             "#d8576b"
            ],
            [
             0.6666666666666666,
             "#ed7953"
            ],
            [
             0.7777777777777778,
             "#fb9f3a"
            ],
            [
             0.8888888888888888,
             "#fdca26"
            ],
            [
             1,
             "#f0f921"
            ]
           ]
          },
          "colorway": [
           "#636efa",
           "#EF553B",
           "#00cc96",
           "#ab63fa",
           "#FFA15A",
           "#19d3f3",
           "#FF6692",
           "#B6E880",
           "#FF97FF",
           "#FECB52"
          ],
          "font": {
           "color": "#2a3f5f"
          },
          "geo": {
           "bgcolor": "white",
           "lakecolor": "white",
           "landcolor": "#E5ECF6",
           "showlakes": true,
           "showland": true,
           "subunitcolor": "white"
          },
          "hoverlabel": {
           "align": "left"
          },
          "hovermode": "closest",
          "mapbox": {
           "style": "light"
          },
          "paper_bgcolor": "white",
          "plot_bgcolor": "#E5ECF6",
          "polar": {
           "angularaxis": {
            "gridcolor": "white",
            "linecolor": "white",
            "ticks": ""
           },
           "bgcolor": "#E5ECF6",
           "radialaxis": {
            "gridcolor": "white",
            "linecolor": "white",
            "ticks": ""
           }
          },
          "scene": {
           "xaxis": {
            "backgroundcolor": "#E5ECF6",
            "gridcolor": "white",
            "gridwidth": 2,
            "linecolor": "white",
            "showbackground": true,
            "ticks": "",
            "zerolinecolor": "white"
           },
           "yaxis": {
            "backgroundcolor": "#E5ECF6",
            "gridcolor": "white",
            "gridwidth": 2,
            "linecolor": "white",
            "showbackground": true,
            "ticks": "",
            "zerolinecolor": "white"
           },
           "zaxis": {
            "backgroundcolor": "#E5ECF6",
            "gridcolor": "white",
            "gridwidth": 2,
            "linecolor": "white",
            "showbackground": true,
            "ticks": "",
            "zerolinecolor": "white"
           }
          },
          "shapedefaults": {
           "line": {
            "color": "#2a3f5f"
           }
          },
          "ternary": {
           "aaxis": {
            "gridcolor": "white",
            "linecolor": "white",
            "ticks": ""
           },
           "baxis": {
            "gridcolor": "white",
            "linecolor": "white",
            "ticks": ""
           },
           "bgcolor": "#E5ECF6",
           "caxis": {
            "gridcolor": "white",
            "linecolor": "white",
            "ticks": ""
           }
          },
          "title": {
           "x": 0.05
          },
          "xaxis": {
           "automargin": true,
           "gridcolor": "white",
           "linecolor": "white",
           "ticks": "",
           "title": {
            "standoff": 15
           },
           "zerolinecolor": "white",
           "zerolinewidth": 2
          },
          "yaxis": {
           "automargin": true,
           "gridcolor": "white",
           "linecolor": "white",
           "ticks": "",
           "title": {
            "standoff": 15
           },
           "zerolinecolor": "white",
           "zerolinewidth": 2
          }
         }
        },
        "title": {
         "text": "Potassium content distribution"
        },
        "xaxis": {
         "anchor": "y",
         "domain": [
          0,
          1
         ],
         "title": {
          "text": "K"
         }
        },
        "xaxis2": {
         "anchor": "y2",
         "domain": [
          0,
          1
         ],
         "matches": "x",
         "showgrid": true,
         "showticklabels": false
        },
        "yaxis": {
         "anchor": "x",
         "domain": [
          0,
          0.8316
         ],
         "title": {
          "text": "count"
         }
        },
        "yaxis2": {
         "anchor": "x2",
         "domain": [
          0.8416,
          1
         ],
         "matches": "y2",
         "showgrid": false,
         "showline": false,
         "showticklabels": false,
         "ticks": ""
        }
       }
      }
     },
     "metadata": {},
     "output_type": "display_data"
    }
   ],
   "source": [
    "fig = px.histogram(raw_df , x='K',nbins=200,marginal='box',title='Potassium content distribution')\n",
    "fig.update_layout(bargap=0.1)\n",
    "fig.show()"
   ]
  },
  {
   "cell_type": "code",
   "execution_count": 130,
   "id": "a7403141",
   "metadata": {},
   "outputs": [
    {
     "data": {
      "text/plain": [
       "<Figure size 640x480 with 0 Axes>"
      ]
     },
     "metadata": {},
     "output_type": "display_data"
    }
   ],
   "source": [
    "plt.savefig(\"../artifacts/plots/Potassium_content_distribution.png\")"
   ]
  },
  {
   "cell_type": "code",
   "execution_count": 131,
   "id": "950554b3",
   "metadata": {},
   "outputs": [
    {
     "data": {
      "application/vnd.plotly.v1+json": {
       "config": {
        "plotlyServerURL": "https://plot.ly"
       },
       "data": [
        {
         "bingroup": "x",
         "hovertemplate": "temperature=%{x}<br>count=%{y}<extra></extra>",
         "legendgroup": "",
         "marker": {
          "color": "#636efa",
          "pattern": {
           "shape": ""
          }
         },
         "name": "",
         "nbinsx": 35,
         "orientation": "v",
         "showlegend": false,
         "type": "histogram",
         "x": {
          "bdata": "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",
          "dtype": "f8"
         },
         "xaxis": "x",
         "yaxis": "y"
        },
        {
         "hovertemplate": "temperature=%{x}<extra></extra>",
         "legendgroup": "",
         "marker": {
          "color": "#636efa"
         },
         "name": "",
         "notched": true,
         "showlegend": false,
         "type": "box",
         "x": {
          "bdata": "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",
          "dtype": "f8"
         },
         "xaxis": "x2",
         "yaxis": "y2"
        }
       ],
       "layout": {
        "bargap": 0.1,
        "barmode": "relative",
        "legend": {
         "tracegroupgap": 0
        },
        "template": {
         "data": {
          "bar": [
           {
            "error_x": {
             "color": "#2a3f5f"
            },
            "error_y": {
             "color": "#2a3f5f"
            },
            "marker": {
             "line": {
              "color": "#E5ECF6",
              "width": 0.5
             },
             "pattern": {
              "fillmode": "overlay",
              "size": 10,
              "solidity": 0.2
             }
            },
            "type": "bar"
           }
          ],
          "barpolar": [
           {
            "marker": {
             "line": {
              "color": "#E5ECF6",
              "width": 0.5
             },
             "pattern": {
              "fillmode": "overlay",
              "size": 10,
              "solidity": 0.2
             }
            },
            "type": "barpolar"
           }
          ],
          "carpet": [
           {
            "aaxis": {
             "endlinecolor": "#2a3f5f",
             "gridcolor": "white",
             "linecolor": "white",
             "minorgridcolor": "white",
             "startlinecolor": "#2a3f5f"
            },
            "baxis": {
             "endlinecolor": "#2a3f5f",
             "gridcolor": "white",
             "linecolor": "white",
             "minorgridcolor": "white",
             "startlinecolor": "#2a3f5f"
            },
            "type": "carpet"
           }
          ],
          "choropleth": [
           {
            "colorbar": {
             "outlinewidth": 0,
             "ticks": ""
            },
            "type": "choropleth"
           }
          ],
          "contour": [
           {
            "colorbar": {
             "outlinewidth": 0,
             "ticks": ""
            },
            "colorscale": [
             [
              0,
              "#0d0887"
             ],
             [
              0.1111111111111111,
              "#46039f"
             ],
             [
              0.2222222222222222,
              "#7201a8"
             ],
             [
              0.3333333333333333,
              "#9c179e"
             ],
             [
              0.4444444444444444,
              "#bd3786"
             ],
             [
              0.5555555555555556,
              "#d8576b"
             ],
             [
              0.6666666666666666,
              "#ed7953"
             ],
             [
              0.7777777777777778,
              "#fb9f3a"
             ],
             [
              0.8888888888888888,
              "#fdca26"
             ],
             [
              1,
              "#f0f921"
             ]
            ],
            "type": "contour"
           }
          ],
          "contourcarpet": [
           {
            "colorbar": {
             "outlinewidth": 0,
             "ticks": ""
            },
            "type": "contourcarpet"
           }
          ],
          "heatmap": [
           {
            "colorbar": {
             "outlinewidth": 0,
             "ticks": ""
            },
            "colorscale": [
             [
              0,
              "#0d0887"
             ],
             [
              0.1111111111111111,
              "#46039f"
             ],
             [
              0.2222222222222222,
              "#7201a8"
             ],
             [
              0.3333333333333333,
              "#9c179e"
             ],
             [
              0.4444444444444444,
              "#bd3786"
             ],
             [
              0.5555555555555556,
              "#d8576b"
             ],
             [
              0.6666666666666666,
              "#ed7953"
             ],
             [
              0.7777777777777778,
              "#fb9f3a"
             ],
             [
              0.8888888888888888,
              "#fdca26"
             ],
             [
              1,
              "#f0f921"
             ]
            ],
            "type": "heatmap"
           }
          ],
          "histogram": [
           {
            "marker": {
             "pattern": {
              "fillmode": "overlay",
              "size": 10,
              "solidity": 0.2
             }
            },
            "type": "histogram"
           }
          ],
          "histogram2d": [
           {
            "colorbar": {
             "outlinewidth": 0,
             "ticks": ""
            },
            "colorscale": [
             [
              0,
              "#0d0887"
             ],
             [
              0.1111111111111111,
              "#46039f"
             ],
             [
              0.2222222222222222,
              "#7201a8"
             ],
             [
              0.3333333333333333,
              "#9c179e"
             ],
             [
              0.4444444444444444,
              "#bd3786"
             ],
             [
              0.5555555555555556,
              "#d8576b"
             ],
             [
              0.6666666666666666,
              "#ed7953"
             ],
             [
              0.7777777777777778,
              "#fb9f3a"
             ],
             [
              0.8888888888888888,
              "#fdca26"
             ],
             [
              1,
              "#f0f921"
             ]
            ],
            "type": "histogram2d"
           }
          ],
          "histogram2dcontour": [
           {
            "colorbar": {
             "outlinewidth": 0,
             "ticks": ""
            },
            "colorscale": [
             [
              0,
              "#0d0887"
             ],
             [
              0.1111111111111111,
              "#46039f"
             ],
             [
              0.2222222222222222,
              "#7201a8"
             ],
             [
              0.3333333333333333,
              "#9c179e"
             ],
             [
              0.4444444444444444,
              "#bd3786"
             ],
             [
              0.5555555555555556,
              "#d8576b"
             ],
             [
              0.6666666666666666,
              "#ed7953"
             ],
             [
              0.7777777777777778,
              "#fb9f3a"
             ],
             [
              0.8888888888888888,
              "#fdca26"
             ],
             [
              1,
              "#f0f921"
             ]
            ],
            "type": "histogram2dcontour"
           }
          ],
          "mesh3d": [
           {
            "colorbar": {
             "outlinewidth": 0,
             "ticks": ""
            },
            "type": "mesh3d"
           }
          ],
          "parcoords": [
           {
            "line": {
             "colorbar": {
              "outlinewidth": 0,
              "ticks": ""
             }
            },
            "type": "parcoords"
           }
          ],
          "pie": [
           {
            "automargin": true,
            "type": "pie"
           }
          ],
          "scatter": [
           {
            "fillpattern": {
             "fillmode": "overlay",
             "size": 10,
             "solidity": 0.2
            },
            "type": "scatter"
           }
          ],
          "scatter3d": [
           {
            "line": {
             "colorbar": {
              "outlinewidth": 0,
              "ticks": ""
             }
            },
            "marker": {
             "colorbar": {
              "outlinewidth": 0,
              "ticks": ""
             }
            },
            "type": "scatter3d"
           }
          ],
          "scattercarpet": [
           {
            "marker": {
             "colorbar": {
              "outlinewidth": 0,
              "ticks": ""
             }
            },
            "type": "scattercarpet"
           }
          ],
          "scattergeo": [
           {
            "marker": {
             "colorbar": {
              "outlinewidth": 0,
              "ticks": ""
             }
            },
            "type": "scattergeo"
           }
          ],
          "scattergl": [
           {
            "marker": {
             "colorbar": {
              "outlinewidth": 0,
              "ticks": ""
             }
            },
            "type": "scattergl"
           }
          ],
          "scattermap": [
           {
            "marker": {
             "colorbar": {
              "outlinewidth": 0,
              "ticks": ""
             }
            },
            "type": "scattermap"
           }
          ],
          "scattermapbox": [
           {
            "marker": {
             "colorbar": {
              "outlinewidth": 0,
              "ticks": ""
             }
            },
            "type": "scattermapbox"
           }
          ],
          "scatterpolar": [
           {
            "marker": {
             "colorbar": {
              "outlinewidth": 0,
              "ticks": ""
             }
            },
            "type": "scatterpolar"
           }
          ],
          "scatterpolargl": [
           {
            "marker": {
             "colorbar": {
              "outlinewidth": 0,
              "ticks": ""
             }
            },
            "type": "scatterpolargl"
           }
          ],
          "scatterternary": [
           {
            "marker": {
             "colorbar": {
              "outlinewidth": 0,
              "ticks": ""
             }
            },
            "type": "scatterternary"
           }
          ],
          "surface": [
           {
            "colorbar": {
             "outlinewidth": 0,
             "ticks": ""
            },
            "colorscale": [
             [
              0,
              "#0d0887"
             ],
             [
              0.1111111111111111,
              "#46039f"
             ],
             [
              0.2222222222222222,
              "#7201a8"
             ],
             [
              0.3333333333333333,
              "#9c179e"
             ],
             [
              0.4444444444444444,
              "#bd3786"
             ],
             [
              0.5555555555555556,
              "#d8576b"
             ],
             [
              0.6666666666666666,
              "#ed7953"
             ],
             [
              0.7777777777777778,
              "#fb9f3a"
             ],
             [
              0.8888888888888888,
              "#fdca26"
             ],
             [
              1,
              "#f0f921"
             ]
            ],
            "type": "surface"
           }
          ],
          "table": [
           {
            "cells": {
             "fill": {
              "color": "#EBF0F8"
             },
             "line": {
              "color": "white"
             }
            },
            "header": {
             "fill": {
              "color": "#C8D4E3"
             },
             "line": {
              "color": "white"
             }
            },
            "type": "table"
           }
          ]
         },
         "layout": {
          "annotationdefaults": {
           "arrowcolor": "#2a3f5f",
           "arrowhead": 0,
           "arrowwidth": 1
          },
          "autotypenumbers": "strict",
          "coloraxis": {
           "colorbar": {
            "outlinewidth": 0,
            "ticks": ""
           }
          },
          "colorscale": {
           "diverging": [
            [
             0,
             "#8e0152"
            ],
            [
             0.1,
             "#c51b7d"
            ],
            [
             0.2,
             "#de77ae"
            ],
            [
             0.3,
             "#f1b6da"
            ],
            [
             0.4,
             "#fde0ef"
            ],
            [
             0.5,
             "#f7f7f7"
            ],
            [
             0.6,
             "#e6f5d0"
            ],
            [
             0.7,
             "#b8e186"
            ],
            [
             0.8,
             "#7fbc41"
            ],
            [
             0.9,
             "#4d9221"
            ],
            [
             1,
             "#276419"
            ]
           ],
           "sequential": [
            [
             0,
             "#0d0887"
            ],
            [
             0.1111111111111111,
             "#46039f"
            ],
            [
             0.2222222222222222,
             "#7201a8"
            ],
            [
             0.3333333333333333,
             "#9c179e"
            ],
            [
             0.4444444444444444,
             "#bd3786"
            ],
            [
             0.5555555555555556,
             "#d8576b"
            ],
            [
             0.6666666666666666,
             "#ed7953"
            ],
            [
             0.7777777777777778,
             "#fb9f3a"
            ],
            [
             0.8888888888888888,
             "#fdca26"
            ],
            [
             1,
             "#f0f921"
            ]
           ],
           "sequentialminus": [
            [
             0,
             "#0d0887"
            ],
            [
             0.1111111111111111,
             "#46039f"
            ],
            [
             0.2222222222222222,
             "#7201a8"
            ],
            [
             0.3333333333333333,
             "#9c179e"
            ],
            [
             0.4444444444444444,
             "#bd3786"
            ],
            [
             0.5555555555555556,
             "#d8576b"
            ],
            [
             0.6666666666666666,
             "#ed7953"
            ],
            [
             0.7777777777777778,
             "#fb9f3a"
            ],
            [
             0.8888888888888888,
             "#fdca26"
            ],
            [
             1,
             "#f0f921"
            ]
           ]
          },
          "colorway": [
           "#636efa",
           "#EF553B",
           "#00cc96",
           "#ab63fa",
           "#FFA15A",
           "#19d3f3",
           "#FF6692",
           "#B6E880",
           "#FF97FF",
           "#FECB52"
          ],
          "font": {
           "color": "#2a3f5f"
          },
          "geo": {
           "bgcolor": "white",
           "lakecolor": "white",
           "landcolor": "#E5ECF6",
           "showlakes": true,
           "showland": true,
           "subunitcolor": "white"
          },
          "hoverlabel": {
           "align": "left"
          },
          "hovermode": "closest",
          "mapbox": {
           "style": "light"
          },
          "paper_bgcolor": "white",
          "plot_bgcolor": "#E5ECF6",
          "polar": {
           "angularaxis": {
            "gridcolor": "white",
            "linecolor": "white",
            "ticks": ""
           },
           "bgcolor": "#E5ECF6",
           "radialaxis": {
            "gridcolor": "white",
            "linecolor": "white",
            "ticks": ""
           }
          },
          "scene": {
           "xaxis": {
            "backgroundcolor": "#E5ECF6",
            "gridcolor": "white",
            "gridwidth": 2,
            "linecolor": "white",
            "showbackground": true,
            "ticks": "",
            "zerolinecolor": "white"
           },
           "yaxis": {
            "backgroundcolor": "#E5ECF6",
            "gridcolor": "white",
            "gridwidth": 2,
            "linecolor": "white",
            "showbackground": true,
            "ticks": "",
            "zerolinecolor": "white"
           },
           "zaxis": {
            "backgroundcolor": "#E5ECF6",
            "gridcolor": "white",
            "gridwidth": 2,
            "linecolor": "white",
            "showbackground": true,
            "ticks": "",
            "zerolinecolor": "white"
           }
          },
          "shapedefaults": {
           "line": {
            "color": "#2a3f5f"
           }
          },
          "ternary": {
           "aaxis": {
            "gridcolor": "white",
            "linecolor": "white",
            "ticks": ""
           },
           "baxis": {
            "gridcolor": "white",
            "linecolor": "white",
            "ticks": ""
           },
           "bgcolor": "#E5ECF6",
           "caxis": {
            "gridcolor": "white",
            "linecolor": "white",
            "ticks": ""
           }
          },
          "title": {
           "x": 0.05
          },
          "xaxis": {
           "automargin": true,
           "gridcolor": "white",
           "linecolor": "white",
           "ticks": "",
           "title": {
            "standoff": 15
           },
           "zerolinecolor": "white",
           "zerolinewidth": 2
          },
          "yaxis": {
           "automargin": true,
           "gridcolor": "white",
           "linecolor": "white",
           "ticks": "",
           "title": {
            "standoff": 15
           },
           "zerolinecolor": "white",
           "zerolinewidth": 2
          }
         }
        },
        "title": {
         "text": "Temperature distribution (in °C)"
        },
        "xaxis": {
         "anchor": "y",
         "domain": [
          0,
          1
         ],
         "title": {
          "text": "temperature"
         }
        },
        "xaxis2": {
         "anchor": "y2",
         "domain": [
          0,
          1
         ],
         "matches": "x",
         "showgrid": true,
         "showticklabels": false
        },
        "yaxis": {
         "anchor": "x",
         "domain": [
          0,
          0.8316
         ],
         "title": {
          "text": "count"
         }
        },
        "yaxis2": {
         "anchor": "x2",
         "domain": [
          0.8416,
          1
         ],
         "matches": "y2",
         "showgrid": false,
         "showline": false,
         "showticklabels": false,
         "ticks": ""
        }
       }
      }
     },
     "metadata": {},
     "output_type": "display_data"
    }
   ],
   "source": [
    "fig = px.histogram(raw_df , x='temperature',nbins=35,marginal='box',title='Temperature distribution (in °C)')\n",
    "fig.update_layout(bargap=0.1)\n",
    "fig.show()"
   ]
  },
  {
   "cell_type": "code",
   "execution_count": 132,
   "id": "1d236d73",
   "metadata": {},
   "outputs": [
    {
     "data": {
      "text/plain": [
       "<Figure size 640x480 with 0 Axes>"
      ]
     },
     "metadata": {},
     "output_type": "display_data"
    }
   ],
   "source": [
    "plt.savefig(\"../artifacts/plots/Temperature_distribution_in_C.png\")"
   ]
  },
  {
   "cell_type": "code",
   "execution_count": 133,
   "id": "ee953d5d",
   "metadata": {},
   "outputs": [
    {
     "data": {
      "application/vnd.plotly.v1+json": {
       "config": {
        "plotlyServerURL": "https://plot.ly"
       },
       "data": [
        {
         "bingroup": "x",
         "hovertemplate": "humidity=%{x}<br>count=%{y}<extra></extra>",
         "legendgroup": "",
         "marker": {
          "color": "#636efa",
          "pattern": {
           "shape": ""
          }
         },
         "name": "",
         "nbinsx": 86,
         "orientation": "v",
         "showlegend": false,
         "type": "histogram",
         "x": {
          "bdata": "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",
          "dtype": "f8"
         },
         "xaxis": "x",
         "yaxis": "y"
        },
        {
         "hovertemplate": "humidity=%{x}<extra></extra>",
         "legendgroup": "",
         "marker": {
          "color": "#636efa"
         },
         "name": "",
         "notched": true,
         "showlegend": false,
         "type": "box",
         "x": {
          "bdata": "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",
          "dtype": "f8"
         },
         "xaxis": "x2",
         "yaxis": "y2"
        }
       ],
       "layout": {
        "bargap": 0.1,
        "barmode": "relative",
        "legend": {
         "tracegroupgap": 0
        },
        "template": {
         "data": {
          "bar": [
           {
            "error_x": {
             "color": "#2a3f5f"
            },
            "error_y": {
             "color": "#2a3f5f"
            },
            "marker": {
             "line": {
              "color": "#E5ECF6",
              "width": 0.5
             },
             "pattern": {
              "fillmode": "overlay",
              "size": 10,
              "solidity": 0.2
             }
            },
            "type": "bar"
           }
          ],
          "barpolar": [
           {
            "marker": {
             "line": {
              "color": "#E5ECF6",
              "width": 0.5
             },
             "pattern": {
              "fillmode": "overlay",
              "size": 10,
              "solidity": 0.2
             }
            },
            "type": "barpolar"
           }
          ],
          "carpet": [
           {
            "aaxis": {
             "endlinecolor": "#2a3f5f",
             "gridcolor": "white",
             "linecolor": "white",
             "minorgridcolor": "white",
             "startlinecolor": "#2a3f5f"
            },
            "baxis": {
             "endlinecolor": "#2a3f5f",
             "gridcolor": "white",
             "linecolor": "white",
             "minorgridcolor": "white",
             "startlinecolor": "#2a3f5f"
            },
            "type": "carpet"
           }
          ],
          "choropleth": [
           {
            "colorbar": {
             "outlinewidth": 0,
             "ticks": ""
            },
            "type": "choropleth"
           }
          ],
          "contour": [
           {
            "colorbar": {
             "outlinewidth": 0,
             "ticks": ""
            },
            "colorscale": [
             [
              0,
              "#0d0887"
             ],
             [
              0.1111111111111111,
              "#46039f"
             ],
             [
              0.2222222222222222,
              "#7201a8"
             ],
             [
              0.3333333333333333,
              "#9c179e"
             ],
             [
              0.4444444444444444,
              "#bd3786"
             ],
             [
              0.5555555555555556,
              "#d8576b"
             ],
             [
              0.6666666666666666,
              "#ed7953"
             ],
             [
              0.7777777777777778,
              "#fb9f3a"
             ],
             [
              0.8888888888888888,
              "#fdca26"
             ],
             [
              1,
              "#f0f921"
             ]
            ],
            "type": "contour"
           }
          ],
          "contourcarpet": [
           {
            "colorbar": {
             "outlinewidth": 0,
             "ticks": ""
            },
            "type": "contourcarpet"
           }
          ],
          "heatmap": [
           {
            "colorbar": {
             "outlinewidth": 0,
             "ticks": ""
            },
            "colorscale": [
             [
              0,
              "#0d0887"
             ],
             [
              0.1111111111111111,
              "#46039f"
             ],
             [
              0.2222222222222222,
              "#7201a8"
             ],
             [
              0.3333333333333333,
              "#9c179e"
             ],
             [
              0.4444444444444444,
              "#bd3786"
             ],
             [
              0.5555555555555556,
              "#d8576b"
             ],
             [
              0.6666666666666666,
              "#ed7953"
             ],
             [
              0.7777777777777778,
              "#fb9f3a"
             ],
             [
              0.8888888888888888,
              "#fdca26"
             ],
             [
              1,
              "#f0f921"
             ]
            ],
            "type": "heatmap"
           }
          ],
          "histogram": [
           {
            "marker": {
             "pattern": {
              "fillmode": "overlay",
              "size": 10,
              "solidity": 0.2
             }
            },
            "type": "histogram"
           }
          ],
          "histogram2d": [
           {
            "colorbar": {
             "outlinewidth": 0,
             "ticks": ""
            },
            "colorscale": [
             [
              0,
              "#0d0887"
             ],
             [
              0.1111111111111111,
              "#46039f"
             ],
             [
              0.2222222222222222,
              "#7201a8"
             ],
             [
              0.3333333333333333,
              "#9c179e"
             ],
             [
              0.4444444444444444,
              "#bd3786"
             ],
             [
              0.5555555555555556,
              "#d8576b"
             ],
             [
              0.6666666666666666,
              "#ed7953"
             ],
             [
              0.7777777777777778,
              "#fb9f3a"
             ],
             [
              0.8888888888888888,
              "#fdca26"
             ],
             [
              1,
              "#f0f921"
             ]
            ],
            "type": "histogram2d"
           }
          ],
          "histogram2dcontour": [
           {
            "colorbar": {
             "outlinewidth": 0,
             "ticks": ""
            },
            "colorscale": [
             [
              0,
              "#0d0887"
             ],
             [
              0.1111111111111111,
              "#46039f"
             ],
             [
              0.2222222222222222,
              "#7201a8"
             ],
             [
              0.3333333333333333,
              "#9c179e"
             ],
             [
              0.4444444444444444,
              "#bd3786"
             ],
             [
              0.5555555555555556,
              "#d8576b"
             ],
             [
              0.6666666666666666,
              "#ed7953"
             ],
             [
              0.7777777777777778,
              "#fb9f3a"
             ],
             [
              0.8888888888888888,
              "#fdca26"
             ],
             [
              1,
              "#f0f921"
             ]
            ],
            "type": "histogram2dcontour"
           }
          ],
          "mesh3d": [
           {
            "colorbar": {
             "outlinewidth": 0,
             "ticks": ""
            },
            "type": "mesh3d"
           }
          ],
          "parcoords": [
           {
            "line": {
             "colorbar": {
              "outlinewidth": 0,
              "ticks": ""
             }
            },
            "type": "parcoords"
           }
          ],
          "pie": [
           {
            "automargin": true,
            "type": "pie"
           }
          ],
          "scatter": [
           {
            "fillpattern": {
             "fillmode": "overlay",
             "size": 10,
             "solidity": 0.2
            },
            "type": "scatter"
           }
          ],
          "scatter3d": [
           {
            "line": {
             "colorbar": {
              "outlinewidth": 0,
              "ticks": ""
             }
            },
            "marker": {
             "colorbar": {
              "outlinewidth": 0,
              "ticks": ""
             }
            },
            "type": "scatter3d"
           }
          ],
          "scattercarpet": [
           {
            "marker": {
             "colorbar": {
              "outlinewidth": 0,
              "ticks": ""
             }
            },
            "type": "scattercarpet"
           }
          ],
          "scattergeo": [
           {
            "marker": {
             "colorbar": {
              "outlinewidth": 0,
              "ticks": ""
             }
            },
            "type": "scattergeo"
           }
          ],
          "scattergl": [
           {
            "marker": {
             "colorbar": {
              "outlinewidth": 0,
              "ticks": ""
             }
            },
            "type": "scattergl"
           }
          ],
          "scattermap": [
           {
            "marker": {
             "colorbar": {
              "outlinewidth": 0,
              "ticks": ""
             }
            },
            "type": "scattermap"
           }
          ],
          "scattermapbox": [
           {
            "marker": {
             "colorbar": {
              "outlinewidth": 0,
              "ticks": ""
             }
            },
            "type": "scattermapbox"
           }
          ],
          "scatterpolar": [
           {
            "marker": {
             "colorbar": {
              "outlinewidth": 0,
              "ticks": ""
             }
            },
            "type": "scatterpolar"
           }
          ],
          "scatterpolargl": [
           {
            "marker": {
             "colorbar": {
              "outlinewidth": 0,
              "ticks": ""
             }
            },
            "type": "scatterpolargl"
           }
          ],
          "scatterternary": [
           {
            "marker": {
             "colorbar": {
              "outlinewidth": 0,
              "ticks": ""
             }
            },
            "type": "scatterternary"
           }
          ],
          "surface": [
           {
            "colorbar": {
             "outlinewidth": 0,
             "ticks": ""
            },
            "colorscale": [
             [
              0,
              "#0d0887"
             ],
             [
              0.1111111111111111,
              "#46039f"
             ],
             [
              0.2222222222222222,
              "#7201a8"
             ],
             [
              0.3333333333333333,
              "#9c179e"
             ],
             [
              0.4444444444444444,
              "#bd3786"
             ],
             [
              0.5555555555555556,
              "#d8576b"
             ],
             [
              0.6666666666666666,
              "#ed7953"
             ],
             [
              0.7777777777777778,
              "#fb9f3a"
             ],
             [
              0.8888888888888888,
              "#fdca26"
             ],
             [
              1,
              "#f0f921"
             ]
            ],
            "type": "surface"
           }
          ],
          "table": [
           {
            "cells": {
             "fill": {
              "color": "#EBF0F8"
             },
             "line": {
              "color": "white"
             }
            },
            "header": {
             "fill": {
              "color": "#C8D4E3"
             },
             "line": {
              "color": "white"
             }
            },
            "type": "table"
           }
          ]
         },
         "layout": {
          "annotationdefaults": {
           "arrowcolor": "#2a3f5f",
           "arrowhead": 0,
           "arrowwidth": 1
          },
          "autotypenumbers": "strict",
          "coloraxis": {
           "colorbar": {
            "outlinewidth": 0,
            "ticks": ""
           }
          },
          "colorscale": {
           "diverging": [
            [
             0,
             "#8e0152"
            ],
            [
             0.1,
             "#c51b7d"
            ],
            [
             0.2,
             "#de77ae"
            ],
            [
             0.3,
             "#f1b6da"
            ],
            [
             0.4,
             "#fde0ef"
            ],
            [
             0.5,
             "#f7f7f7"
            ],
            [
             0.6,
             "#e6f5d0"
            ],
            [
             0.7,
             "#b8e186"
            ],
            [
             0.8,
             "#7fbc41"
            ],
            [
             0.9,
             "#4d9221"
            ],
            [
             1,
             "#276419"
            ]
           ],
           "sequential": [
            [
             0,
             "#0d0887"
            ],
            [
             0.1111111111111111,
             "#46039f"
            ],
            [
             0.2222222222222222,
             "#7201a8"
            ],
            [
             0.3333333333333333,
             "#9c179e"
            ],
            [
             0.4444444444444444,
             "#bd3786"
            ],
            [
             0.5555555555555556,
             "#d8576b"
            ],
            [
             0.6666666666666666,
             "#ed7953"
            ],
            [
             0.7777777777777778,
             "#fb9f3a"
            ],
            [
             0.8888888888888888,
             "#fdca26"
            ],
            [
             1,
             "#f0f921"
            ]
           ],
           "sequentialminus": [
            [
             0,
             "#0d0887"
            ],
            [
             0.1111111111111111,
             "#46039f"
            ],
            [
             0.2222222222222222,
             "#7201a8"
            ],
            [
             0.3333333333333333,
             "#9c179e"
            ],
            [
             0.4444444444444444,
             "#bd3786"
            ],
            [
             0.5555555555555556,
             "#d8576b"
            ],
            [
             0.6666666666666666,
             "#ed7953"
            ],
            [
             0.7777777777777778,
             "#fb9f3a"
            ],
            [
             0.8888888888888888,
             "#fdca26"
            ],
            [
             1,
             "#f0f921"
            ]
           ]
          },
          "colorway": [
           "#636efa",
           "#EF553B",
           "#00cc96",
           "#ab63fa",
           "#FFA15A",
           "#19d3f3",
           "#FF6692",
           "#B6E880",
           "#FF97FF",
           "#FECB52"
          ],
          "font": {
           "color": "#2a3f5f"
          },
          "geo": {
           "bgcolor": "white",
           "lakecolor": "white",
           "landcolor": "#E5ECF6",
           "showlakes": true,
           "showland": true,
           "subunitcolor": "white"
          },
          "hoverlabel": {
           "align": "left"
          },
          "hovermode": "closest",
          "mapbox": {
           "style": "light"
          },
          "paper_bgcolor": "white",
          "plot_bgcolor": "#E5ECF6",
          "polar": {
           "angularaxis": {
            "gridcolor": "white",
            "linecolor": "white",
            "ticks": ""
           },
           "bgcolor": "#E5ECF6",
           "radialaxis": {
            "gridcolor": "white",
            "linecolor": "white",
            "ticks": ""
           }
          },
          "scene": {
           "xaxis": {
            "backgroundcolor": "#E5ECF6",
            "gridcolor": "white",
            "gridwidth": 2,
            "linecolor": "white",
            "showbackground": true,
            "ticks": "",
            "zerolinecolor": "white"
           },
           "yaxis": {
            "backgroundcolor": "#E5ECF6",
            "gridcolor": "white",
            "gridwidth": 2,
            "linecolor": "white",
            "showbackground": true,
            "ticks": "",
            "zerolinecolor": "white"
           },
           "zaxis": {
            "backgroundcolor": "#E5ECF6",
            "gridcolor": "white",
            "gridwidth": 2,
            "linecolor": "white",
            "showbackground": true,
            "ticks": "",
            "zerolinecolor": "white"
           }
          },
          "shapedefaults": {
           "line": {
            "color": "#2a3f5f"
           }
          },
          "ternary": {
           "aaxis": {
            "gridcolor": "white",
            "linecolor": "white",
            "ticks": ""
           },
           "baxis": {
            "gridcolor": "white",
            "linecolor": "white",
            "ticks": ""
           },
           "bgcolor": "#E5ECF6",
           "caxis": {
            "gridcolor": "white",
            "linecolor": "white",
            "ticks": ""
           }
          },
          "title": {
           "x": 0.05
          },
          "xaxis": {
           "automargin": true,
           "gridcolor": "white",
           "linecolor": "white",
           "ticks": "",
           "title": {
            "standoff": 15
           },
           "zerolinecolor": "white",
           "zerolinewidth": 2
          },
          "yaxis": {
           "automargin": true,
           "gridcolor": "white",
           "linecolor": "white",
           "ticks": "",
           "title": {
            "standoff": 15
           },
           "zerolinecolor": "white",
           "zerolinewidth": 2
          }
         }
        },
        "title": {
         "text": "Relative Humidity distribution (in %)"
        },
        "xaxis": {
         "anchor": "y",
         "domain": [
          0,
          1
         ],
         "title": {
          "text": "humidity"
         }
        },
        "xaxis2": {
         "anchor": "y2",
         "domain": [
          0,
          1
         ],
         "matches": "x",
         "showgrid": true,
         "showticklabels": false
        },
        "yaxis": {
         "anchor": "x",
         "domain": [
          0,
          0.8316
         ],
         "title": {
          "text": "count"
         }
        },
        "yaxis2": {
         "anchor": "x2",
         "domain": [
          0.8416,
          1
         ],
         "matches": "y2",
         "showgrid": false,
         "showline": false,
         "showticklabels": false,
         "ticks": ""
        }
       }
      }
     },
     "metadata": {},
     "output_type": "display_data"
    }
   ],
   "source": [
    "fig = px.histogram(raw_df , x='humidity',nbins=86,marginal='box',title='Relative Humidity distribution (in %)')\n",
    "fig.update_layout(bargap=0.1)\n",
    "fig.show()"
   ]
  },
  {
   "cell_type": "code",
   "execution_count": 134,
   "id": "09827a62",
   "metadata": {},
   "outputs": [
    {
     "data": {
      "text/plain": [
       "<Figure size 640x480 with 0 Axes>"
      ]
     },
     "metadata": {},
     "output_type": "display_data"
    }
   ],
   "source": [
    "plt.savefig(\"../artifacts/plots/Relative_Humidity_distribution_(in_%).png\")"
   ]
  },
  {
   "cell_type": "code",
   "execution_count": 135,
   "id": "f53fa298",
   "metadata": {},
   "outputs": [
    {
     "data": {
      "application/vnd.plotly.v1+json": {
       "config": {
        "plotlyServerURL": "https://plot.ly"
       },
       "data": [
        {
         "bingroup": "x",
         "hovertemplate": "ph=%{x}<br>count=%{y}<extra></extra>",
         "legendgroup": "",
         "marker": {
          "color": "#636efa",
          "pattern": {
           "shape": ""
          }
         },
         "name": "",
         "nbinsx": 7,
         "orientation": "v",
         "showlegend": false,
         "type": "histogram",
         "x": {
          "bdata": "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",
          "dtype": "f8"
         },
         "xaxis": "x",
         "yaxis": "y"
        },
        {
         "hovertemplate": "ph=%{x}<extra></extra>",
         "legendgroup": "",
         "marker": {
          "color": "#636efa"
         },
         "name": "",
         "notched": true,
         "showlegend": false,
         "type": "box",
         "x": {
          "bdata": "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",
          "dtype": "f8"
         },
         "xaxis": "x2",
         "yaxis": "y2"
        }
       ],
       "layout": {
        "bargap": 0.1,
        "barmode": "relative",
        "legend": {
         "tracegroupgap": 0
        },
        "template": {
         "data": {
          "bar": [
           {
            "error_x": {
             "color": "#2a3f5f"
            },
            "error_y": {
             "color": "#2a3f5f"
            },
            "marker": {
             "line": {
              "color": "#E5ECF6",
              "width": 0.5
             },
             "pattern": {
              "fillmode": "overlay",
              "size": 10,
              "solidity": 0.2
             }
            },
            "type": "bar"
           }
          ],
          "barpolar": [
           {
            "marker": {
             "line": {
              "color": "#E5ECF6",
              "width": 0.5
             },
             "pattern": {
              "fillmode": "overlay",
              "size": 10,
              "solidity": 0.2
             }
            },
            "type": "barpolar"
           }
          ],
          "carpet": [
           {
            "aaxis": {
             "endlinecolor": "#2a3f5f",
             "gridcolor": "white",
             "linecolor": "white",
             "minorgridcolor": "white",
             "startlinecolor": "#2a3f5f"
            },
            "baxis": {
             "endlinecolor": "#2a3f5f",
             "gridcolor": "white",
             "linecolor": "white",
             "minorgridcolor": "white",
             "startlinecolor": "#2a3f5f"
            },
            "type": "carpet"
           }
          ],
          "choropleth": [
           {
            "colorbar": {
             "outlinewidth": 0,
             "ticks": ""
            },
            "type": "choropleth"
           }
          ],
          "contour": [
           {
            "colorbar": {
             "outlinewidth": 0,
             "ticks": ""
            },
            "colorscale": [
             [
              0,
              "#0d0887"
             ],
             [
              0.1111111111111111,
              "#46039f"
             ],
             [
              0.2222222222222222,
              "#7201a8"
             ],
             [
              0.3333333333333333,
              "#9c179e"
             ],
             [
              0.4444444444444444,
              "#bd3786"
             ],
             [
              0.5555555555555556,
              "#d8576b"
             ],
             [
              0.6666666666666666,
              "#ed7953"
             ],
             [
              0.7777777777777778,
              "#fb9f3a"
             ],
             [
              0.8888888888888888,
              "#fdca26"
             ],
             [
              1,
              "#f0f921"
             ]
            ],
            "type": "contour"
           }
          ],
          "contourcarpet": [
           {
            "colorbar": {
             "outlinewidth": 0,
             "ticks": ""
            },
            "type": "contourcarpet"
           }
          ],
          "heatmap": [
           {
            "colorbar": {
             "outlinewidth": 0,
             "ticks": ""
            },
            "colorscale": [
             [
              0,
              "#0d0887"
             ],
             [
              0.1111111111111111,
              "#46039f"
             ],
             [
              0.2222222222222222,
              "#7201a8"
             ],
             [
              0.3333333333333333,
              "#9c179e"
             ],
             [
              0.4444444444444444,
              "#bd3786"
             ],
             [
              0.5555555555555556,
              "#d8576b"
             ],
             [
              0.6666666666666666,
              "#ed7953"
             ],
             [
              0.7777777777777778,
              "#fb9f3a"
             ],
             [
              0.8888888888888888,
              "#fdca26"
             ],
             [
              1,
              "#f0f921"
             ]
            ],
            "type": "heatmap"
           }
          ],
          "histogram": [
           {
            "marker": {
             "pattern": {
              "fillmode": "overlay",
              "size": 10,
              "solidity": 0.2
             }
            },
            "type": "histogram"
           }
          ],
          "histogram2d": [
           {
            "colorbar": {
             "outlinewidth": 0,
             "ticks": ""
            },
            "colorscale": [
             [
              0,
              "#0d0887"
             ],
             [
              0.1111111111111111,
              "#46039f"
             ],
             [
              0.2222222222222222,
              "#7201a8"
             ],
             [
              0.3333333333333333,
              "#9c179e"
             ],
             [
              0.4444444444444444,
              "#bd3786"
             ],
             [
              0.5555555555555556,
              "#d8576b"
             ],
             [
              0.6666666666666666,
              "#ed7953"
             ],
             [
              0.7777777777777778,
              "#fb9f3a"
             ],
             [
              0.8888888888888888,
              "#fdca26"
             ],
             [
              1,
              "#f0f921"
             ]
            ],
            "type": "histogram2d"
           }
          ],
          "histogram2dcontour": [
           {
            "colorbar": {
             "outlinewidth": 0,
             "ticks": ""
            },
            "colorscale": [
             [
              0,
              "#0d0887"
             ],
             [
              0.1111111111111111,
              "#46039f"
             ],
             [
              0.2222222222222222,
              "#7201a8"
             ],
             [
              0.3333333333333333,
              "#9c179e"
             ],
             [
              0.4444444444444444,
              "#bd3786"
             ],
             [
              0.5555555555555556,
              "#d8576b"
             ],
             [
              0.6666666666666666,
              "#ed7953"
             ],
             [
              0.7777777777777778,
              "#fb9f3a"
             ],
             [
              0.8888888888888888,
              "#fdca26"
             ],
             [
              1,
              "#f0f921"
             ]
            ],
            "type": "histogram2dcontour"
           }
          ],
          "mesh3d": [
           {
            "colorbar": {
             "outlinewidth": 0,
             "ticks": ""
            },
            "type": "mesh3d"
           }
          ],
          "parcoords": [
           {
            "line": {
             "colorbar": {
              "outlinewidth": 0,
              "ticks": ""
             }
            },
            "type": "parcoords"
           }
          ],
          "pie": [
           {
            "automargin": true,
            "type": "pie"
           }
          ],
          "scatter": [
           {
            "fillpattern": {
             "fillmode": "overlay",
             "size": 10,
             "solidity": 0.2
            },
            "type": "scatter"
           }
          ],
          "scatter3d": [
           {
            "line": {
             "colorbar": {
              "outlinewidth": 0,
              "ticks": ""
             }
            },
            "marker": {
             "colorbar": {
              "outlinewidth": 0,
              "ticks": ""
             }
            },
            "type": "scatter3d"
           }
          ],
          "scattercarpet": [
           {
            "marker": {
             "colorbar": {
              "outlinewidth": 0,
              "ticks": ""
             }
            },
            "type": "scattercarpet"
           }
          ],
          "scattergeo": [
           {
            "marker": {
             "colorbar": {
              "outlinewidth": 0,
              "ticks": ""
             }
            },
            "type": "scattergeo"
           }
          ],
          "scattergl": [
           {
            "marker": {
             "colorbar": {
              "outlinewidth": 0,
              "ticks": ""
             }
            },
            "type": "scattergl"
           }
          ],
          "scattermap": [
           {
            "marker": {
             "colorbar": {
              "outlinewidth": 0,
              "ticks": ""
             }
            },
            "type": "scattermap"
           }
          ],
          "scattermapbox": [
           {
            "marker": {
             "colorbar": {
              "outlinewidth": 0,
              "ticks": ""
             }
            },
            "type": "scattermapbox"
           }
          ],
          "scatterpolar": [
           {
            "marker": {
             "colorbar": {
              "outlinewidth": 0,
              "ticks": ""
             }
            },
            "type": "scatterpolar"
           }
          ],
          "scatterpolargl": [
           {
            "marker": {
             "colorbar": {
              "outlinewidth": 0,
              "ticks": ""
             }
            },
            "type": "scatterpolargl"
           }
          ],
          "scatterternary": [
           {
            "marker": {
             "colorbar": {
              "outlinewidth": 0,
              "ticks": ""
             }
            },
            "type": "scatterternary"
           }
          ],
          "surface": [
           {
            "colorbar": {
             "outlinewidth": 0,
             "ticks": ""
            },
            "colorscale": [
             [
              0,
              "#0d0887"
             ],
             [
              0.1111111111111111,
              "#46039f"
             ],
             [
              0.2222222222222222,
              "#7201a8"
             ],
             [
              0.3333333333333333,
              "#9c179e"
             ],
             [
              0.4444444444444444,
              "#bd3786"
             ],
             [
              0.5555555555555556,
              "#d8576b"
             ],
             [
              0.6666666666666666,
              "#ed7953"
             ],
             [
              0.7777777777777778,
              "#fb9f3a"
             ],
             [
              0.8888888888888888,
              "#fdca26"
             ],
             [
              1,
              "#f0f921"
             ]
            ],
            "type": "surface"
           }
          ],
          "table": [
           {
            "cells": {
             "fill": {
              "color": "#EBF0F8"
             },
             "line": {
              "color": "white"
             }
            },
            "header": {
             "fill": {
              "color": "#C8D4E3"
             },
             "line": {
              "color": "white"
             }
            },
            "type": "table"
           }
          ]
         },
         "layout": {
          "annotationdefaults": {
           "arrowcolor": "#2a3f5f",
           "arrowhead": 0,
           "arrowwidth": 1
          },
          "autotypenumbers": "strict",
          "coloraxis": {
           "colorbar": {
            "outlinewidth": 0,
            "ticks": ""
           }
          },
          "colorscale": {
           "diverging": [
            [
             0,
             "#8e0152"
            ],
            [
             0.1,
             "#c51b7d"
            ],
            [
             0.2,
             "#de77ae"
            ],
            [
             0.3,
             "#f1b6da"
            ],
            [
             0.4,
             "#fde0ef"
            ],
            [
             0.5,
             "#f7f7f7"
            ],
            [
             0.6,
             "#e6f5d0"
            ],
            [
             0.7,
             "#b8e186"
            ],
            [
             0.8,
             "#7fbc41"
            ],
            [
             0.9,
             "#4d9221"
            ],
            [
             1,
             "#276419"
            ]
           ],
           "sequential": [
            [
             0,
             "#0d0887"
            ],
            [
             0.1111111111111111,
             "#46039f"
            ],
            [
             0.2222222222222222,
             "#7201a8"
            ],
            [
             0.3333333333333333,
             "#9c179e"
            ],
            [
             0.4444444444444444,
             "#bd3786"
            ],
            [
             0.5555555555555556,
             "#d8576b"
            ],
            [
             0.6666666666666666,
             "#ed7953"
            ],
            [
             0.7777777777777778,
             "#fb9f3a"
            ],
            [
             0.8888888888888888,
             "#fdca26"
            ],
            [
             1,
             "#f0f921"
            ]
           ],
           "sequentialminus": [
            [
             0,
             "#0d0887"
            ],
            [
             0.1111111111111111,
             "#46039f"
            ],
            [
             0.2222222222222222,
             "#7201a8"
            ],
            [
             0.3333333333333333,
             "#9c179e"
            ],
            [
             0.4444444444444444,
             "#bd3786"
            ],
            [
             0.5555555555555556,
             "#d8576b"
            ],
            [
             0.6666666666666666,
             "#ed7953"
            ],
            [
             0.7777777777777778,
             "#fb9f3a"
            ],
            [
             0.8888888888888888,
             "#fdca26"
            ],
            [
             1,
             "#f0f921"
            ]
           ]
          },
          "colorway": [
           "#636efa",
           "#EF553B",
           "#00cc96",
           "#ab63fa",
           "#FFA15A",
           "#19d3f3",
           "#FF6692",
           "#B6E880",
           "#FF97FF",
           "#FECB52"
          ],
          "font": {
           "color": "#2a3f5f"
          },
          "geo": {
           "bgcolor": "white",
           "lakecolor": "white",
           "landcolor": "#E5ECF6",
           "showlakes": true,
           "showland": true,
           "subunitcolor": "white"
          },
          "hoverlabel": {
           "align": "left"
          },
          "hovermode": "closest",
          "mapbox": {
           "style": "light"
          },
          "paper_bgcolor": "white",
          "plot_bgcolor": "#E5ECF6",
          "polar": {
           "angularaxis": {
            "gridcolor": "white",
            "linecolor": "white",
            "ticks": ""
           },
           "bgcolor": "#E5ECF6",
           "radialaxis": {
            "gridcolor": "white",
            "linecolor": "white",
            "ticks": ""
           }
          },
          "scene": {
           "xaxis": {
            "backgroundcolor": "#E5ECF6",
            "gridcolor": "white",
            "gridwidth": 2,
            "linecolor": "white",
            "showbackground": true,
            "ticks": "",
            "zerolinecolor": "white"
           },
           "yaxis": {
            "backgroundcolor": "#E5ECF6",
            "gridcolor": "white",
            "gridwidth": 2,
            "linecolor": "white",
            "showbackground": true,
            "ticks": "",
            "zerolinecolor": "white"
           },
           "zaxis": {
            "backgroundcolor": "#E5ECF6",
            "gridcolor": "white",
            "gridwidth": 2,
            "linecolor": "white",
            "showbackground": true,
            "ticks": "",
            "zerolinecolor": "white"
           }
          },
          "shapedefaults": {
           "line": {
            "color": "#2a3f5f"
           }
          },
          "ternary": {
           "aaxis": {
            "gridcolor": "white",
            "linecolor": "white",
            "ticks": ""
           },
           "baxis": {
            "gridcolor": "white",
            "linecolor": "white",
            "ticks": ""
           },
           "bgcolor": "#E5ECF6",
           "caxis": {
            "gridcolor": "white",
            "linecolor": "white",
            "ticks": ""
           }
          },
          "title": {
           "x": 0.05
          },
          "xaxis": {
           "automargin": true,
           "gridcolor": "white",
           "linecolor": "white",
           "ticks": "",
           "title": {
            "standoff": 15
           },
           "zerolinecolor": "white",
           "zerolinewidth": 2
          },
          "yaxis": {
           "automargin": true,
           "gridcolor": "white",
           "linecolor": "white",
           "ticks": "",
           "title": {
            "standoff": 15
           },
           "zerolinecolor": "white",
           "zerolinewidth": 2
          }
         }
        },
        "title": {
         "text": "pH value of soil distribution"
        },
        "xaxis": {
         "anchor": "y",
         "domain": [
          0,
          1
         ],
         "title": {
          "text": "ph"
         }
        },
        "xaxis2": {
         "anchor": "y2",
         "domain": [
          0,
          1
         ],
         "matches": "x",
         "showgrid": true,
         "showticklabels": false
        },
        "yaxis": {
         "anchor": "x",
         "domain": [
          0,
          0.8316
         ],
         "title": {
          "text": "count"
         }
        },
        "yaxis2": {
         "anchor": "x2",
         "domain": [
          0.8416,
          1
         ],
         "matches": "y2",
         "showgrid": false,
         "showline": false,
         "showticklabels": false,
         "ticks": ""
        }
       }
      }
     },
     "metadata": {},
     "output_type": "display_data"
    }
   ],
   "source": [
    "fig = px.histogram(raw_df , x='ph',nbins=7,marginal='box',title='pH value of soil distribution')\n",
    "fig.update_layout(bargap=0.1)\n",
    "fig.show()"
   ]
  },
  {
   "cell_type": "code",
   "execution_count": 136,
   "id": "30cbd32a",
   "metadata": {},
   "outputs": [
    {
     "data": {
      "text/plain": [
       "<Figure size 640x480 with 0 Axes>"
      ]
     },
     "metadata": {},
     "output_type": "display_data"
    }
   ],
   "source": [
    "plt.savefig(\"../artifacts/plots/pH_value_of_soil_distribution.png\")"
   ]
  },
  {
   "cell_type": "code",
   "execution_count": 137,
   "id": "7146f390",
   "metadata": {},
   "outputs": [
    {
     "data": {
      "application/vnd.plotly.v1+json": {
       "config": {
        "plotlyServerURL": "https://plot.ly"
       },
       "data": [
        {
         "bingroup": "x",
         "hovertemplate": "rainfall=%{x}<br>count=%{y}<extra></extra>",
         "legendgroup": "",
         "marker": {
          "color": "#636efa",
          "pattern": {
           "shape": ""
          }
         },
         "name": "",
         "nbinsx": 278,
         "orientation": "v",
         "showlegend": false,
         "type": "histogram",
         "x": {
          "bdata": "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",
          "dtype": "f8"
         },
         "xaxis": "x",
         "yaxis": "y"
        },
        {
         "hovertemplate": "rainfall=%{x}<extra></extra>",
         "legendgroup": "",
         "marker": {
          "color": "#636efa"
         },
         "name": "",
         "notched": true,
         "showlegend": false,
         "type": "box",
         "x": {
          "bdata": "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",
          "dtype": "f8"
         },
         "xaxis": "x2",
         "yaxis": "y2"
        }
       ],
       "layout": {
        "bargap": 0.1,
        "barmode": "relative",
        "legend": {
         "tracegroupgap": 0
        },
        "template": {
         "data": {
          "bar": [
           {
            "error_x": {
             "color": "#2a3f5f"
            },
            "error_y": {
             "color": "#2a3f5f"
            },
            "marker": {
             "line": {
              "color": "#E5ECF6",
              "width": 0.5
             },
             "pattern": {
              "fillmode": "overlay",
              "size": 10,
              "solidity": 0.2
             }
            },
            "type": "bar"
           }
          ],
          "barpolar": [
           {
            "marker": {
             "line": {
              "color": "#E5ECF6",
              "width": 0.5
             },
             "pattern": {
              "fillmode": "overlay",
              "size": 10,
              "solidity": 0.2
             }
            },
            "type": "barpolar"
           }
          ],
          "carpet": [
           {
            "aaxis": {
             "endlinecolor": "#2a3f5f",
             "gridcolor": "white",
             "linecolor": "white",
             "minorgridcolor": "white",
             "startlinecolor": "#2a3f5f"
            },
            "baxis": {
             "endlinecolor": "#2a3f5f",
             "gridcolor": "white",
             "linecolor": "white",
             "minorgridcolor": "white",
             "startlinecolor": "#2a3f5f"
            },
            "type": "carpet"
           }
          ],
          "choropleth": [
           {
            "colorbar": {
             "outlinewidth": 0,
             "ticks": ""
            },
            "type": "choropleth"
           }
          ],
          "contour": [
           {
            "colorbar": {
             "outlinewidth": 0,
             "ticks": ""
            },
            "colorscale": [
             [
              0,
              "#0d0887"
             ],
             [
              0.1111111111111111,
              "#46039f"
             ],
             [
              0.2222222222222222,
              "#7201a8"
             ],
             [
              0.3333333333333333,
              "#9c179e"
             ],
             [
              0.4444444444444444,
              "#bd3786"
             ],
             [
              0.5555555555555556,
              "#d8576b"
             ],
             [
              0.6666666666666666,
              "#ed7953"
             ],
             [
              0.7777777777777778,
              "#fb9f3a"
             ],
             [
              0.8888888888888888,
              "#fdca26"
             ],
             [
              1,
              "#f0f921"
             ]
            ],
            "type": "contour"
           }
          ],
          "contourcarpet": [
           {
            "colorbar": {
             "outlinewidth": 0,
             "ticks": ""
            },
            "type": "contourcarpet"
           }
          ],
          "heatmap": [
           {
            "colorbar": {
             "outlinewidth": 0,
             "ticks": ""
            },
            "colorscale": [
             [
              0,
              "#0d0887"
             ],
             [
              0.1111111111111111,
              "#46039f"
             ],
             [
              0.2222222222222222,
              "#7201a8"
             ],
             [
              0.3333333333333333,
              "#9c179e"
             ],
             [
              0.4444444444444444,
              "#bd3786"
             ],
             [
              0.5555555555555556,
              "#d8576b"
             ],
             [
              0.6666666666666666,
              "#ed7953"
             ],
             [
              0.7777777777777778,
              "#fb9f3a"
             ],
             [
              0.8888888888888888,
              "#fdca26"
             ],
             [
              1,
              "#f0f921"
             ]
            ],
            "type": "heatmap"
           }
          ],
          "histogram": [
           {
            "marker": {
             "pattern": {
              "fillmode": "overlay",
              "size": 10,
              "solidity": 0.2
             }
            },
            "type": "histogram"
           }
          ],
          "histogram2d": [
           {
            "colorbar": {
             "outlinewidth": 0,
             "ticks": ""
            },
            "colorscale": [
             [
              0,
              "#0d0887"
             ],
             [
              0.1111111111111111,
              "#46039f"
             ],
             [
              0.2222222222222222,
              "#7201a8"
             ],
             [
              0.3333333333333333,
              "#9c179e"
             ],
             [
              0.4444444444444444,
              "#bd3786"
             ],
             [
              0.5555555555555556,
              "#d8576b"
             ],
             [
              0.6666666666666666,
              "#ed7953"
             ],
             [
              0.7777777777777778,
              "#fb9f3a"
             ],
             [
              0.8888888888888888,
              "#fdca26"
             ],
             [
              1,
              "#f0f921"
             ]
            ],
            "type": "histogram2d"
           }
          ],
          "histogram2dcontour": [
           {
            "colorbar": {
             "outlinewidth": 0,
             "ticks": ""
            },
            "colorscale": [
             [
              0,
              "#0d0887"
             ],
             [
              0.1111111111111111,
              "#46039f"
             ],
             [
              0.2222222222222222,
              "#7201a8"
             ],
             [
              0.3333333333333333,
              "#9c179e"
             ],
             [
              0.4444444444444444,
              "#bd3786"
             ],
             [
              0.5555555555555556,
              "#d8576b"
             ],
             [
              0.6666666666666666,
              "#ed7953"
             ],
             [
              0.7777777777777778,
              "#fb9f3a"
             ],
             [
              0.8888888888888888,
              "#fdca26"
             ],
             [
              1,
              "#f0f921"
             ]
            ],
            "type": "histogram2dcontour"
           }
          ],
          "mesh3d": [
           {
            "colorbar": {
             "outlinewidth": 0,
             "ticks": ""
            },
            "type": "mesh3d"
           }
          ],
          "parcoords": [
           {
            "line": {
             "colorbar": {
              "outlinewidth": 0,
              "ticks": ""
             }
            },
            "type": "parcoords"
           }
          ],
          "pie": [
           {
            "automargin": true,
            "type": "pie"
           }
          ],
          "scatter": [
           {
            "fillpattern": {
             "fillmode": "overlay",
             "size": 10,
             "solidity": 0.2
            },
            "type": "scatter"
           }
          ],
          "scatter3d": [
           {
            "line": {
             "colorbar": {
              "outlinewidth": 0,
              "ticks": ""
             }
            },
            "marker": {
             "colorbar": {
              "outlinewidth": 0,
              "ticks": ""
             }
            },
            "type": "scatter3d"
           }
          ],
          "scattercarpet": [
           {
            "marker": {
             "colorbar": {
              "outlinewidth": 0,
              "ticks": ""
             }
            },
            "type": "scattercarpet"
           }
          ],
          "scattergeo": [
           {
            "marker": {
             "colorbar": {
              "outlinewidth": 0,
              "ticks": ""
             }
            },
            "type": "scattergeo"
           }
          ],
          "scattergl": [
           {
            "marker": {
             "colorbar": {
              "outlinewidth": 0,
              "ticks": ""
             }
            },
            "type": "scattergl"
           }
          ],
          "scattermap": [
           {
            "marker": {
             "colorbar": {
              "outlinewidth": 0,
              "ticks": ""
             }
            },
            "type": "scattermap"
           }
          ],
          "scattermapbox": [
           {
            "marker": {
             "colorbar": {
              "outlinewidth": 0,
              "ticks": ""
             }
            },
            "type": "scattermapbox"
           }
          ],
          "scatterpolar": [
           {
            "marker": {
             "colorbar": {
              "outlinewidth": 0,
              "ticks": ""
             }
            },
            "type": "scatterpolar"
           }
          ],
          "scatterpolargl": [
           {
            "marker": {
             "colorbar": {
              "outlinewidth": 0,
              "ticks": ""
             }
            },
            "type": "scatterpolargl"
           }
          ],
          "scatterternary": [
           {
            "marker": {
             "colorbar": {
              "outlinewidth": 0,
              "ticks": ""
             }
            },
            "type": "scatterternary"
           }
          ],
          "surface": [
           {
            "colorbar": {
             "outlinewidth": 0,
             "ticks": ""
            },
            "colorscale": [
             [
              0,
              "#0d0887"
             ],
             [
              0.1111111111111111,
              "#46039f"
             ],
             [
              0.2222222222222222,
              "#7201a8"
             ],
             [
              0.3333333333333333,
              "#9c179e"
             ],
             [
              0.4444444444444444,
              "#bd3786"
             ],
             [
              0.5555555555555556,
              "#d8576b"
             ],
             [
              0.6666666666666666,
              "#ed7953"
             ],
             [
              0.7777777777777778,
              "#fb9f3a"
             ],
             [
              0.8888888888888888,
              "#fdca26"
             ],
             [
              1,
              "#f0f921"
             ]
            ],
            "type": "surface"
           }
          ],
          "table": [
           {
            "cells": {
             "fill": {
              "color": "#EBF0F8"
             },
             "line": {
              "color": "white"
             }
            },
            "header": {
             "fill": {
              "color": "#C8D4E3"
             },
             "line": {
              "color": "white"
             }
            },
            "type": "table"
           }
          ]
         },
         "layout": {
          "annotationdefaults": {
           "arrowcolor": "#2a3f5f",
           "arrowhead": 0,
           "arrowwidth": 1
          },
          "autotypenumbers": "strict",
          "coloraxis": {
           "colorbar": {
            "outlinewidth": 0,
            "ticks": ""
           }
          },
          "colorscale": {
           "diverging": [
            [
             0,
             "#8e0152"
            ],
            [
             0.1,
             "#c51b7d"
            ],
            [
             0.2,
             "#de77ae"
            ],
            [
             0.3,
             "#f1b6da"
            ],
            [
             0.4,
             "#fde0ef"
            ],
            [
             0.5,
             "#f7f7f7"
            ],
            [
             0.6,
             "#e6f5d0"
            ],
            [
             0.7,
             "#b8e186"
            ],
            [
             0.8,
             "#7fbc41"
            ],
            [
             0.9,
             "#4d9221"
            ],
            [
             1,
             "#276419"
            ]
           ],
           "sequential": [
            [
             0,
             "#0d0887"
            ],
            [
             0.1111111111111111,
             "#46039f"
            ],
            [
             0.2222222222222222,
             "#7201a8"
            ],
            [
             0.3333333333333333,
             "#9c179e"
            ],
            [
             0.4444444444444444,
             "#bd3786"
            ],
            [
             0.5555555555555556,
             "#d8576b"
            ],
            [
             0.6666666666666666,
             "#ed7953"
            ],
            [
             0.7777777777777778,
             "#fb9f3a"
            ],
            [
             0.8888888888888888,
             "#fdca26"
            ],
            [
             1,
             "#f0f921"
            ]
           ],
           "sequentialminus": [
            [
             0,
             "#0d0887"
            ],
            [
             0.1111111111111111,
             "#46039f"
            ],
            [
             0.2222222222222222,
             "#7201a8"
            ],
            [
             0.3333333333333333,
             "#9c179e"
            ],
            [
             0.4444444444444444,
             "#bd3786"
            ],
            [
             0.5555555555555556,
             "#d8576b"
            ],
            [
             0.6666666666666666,
             "#ed7953"
            ],
            [
             0.7777777777777778,
             "#fb9f3a"
            ],
            [
             0.8888888888888888,
             "#fdca26"
            ],
            [
             1,
             "#f0f921"
            ]
           ]
          },
          "colorway": [
           "#636efa",
           "#EF553B",
           "#00cc96",
           "#ab63fa",
           "#FFA15A",
           "#19d3f3",
           "#FF6692",
           "#B6E880",
           "#FF97FF",
           "#FECB52"
          ],
          "font": {
           "color": "#2a3f5f"
          },
          "geo": {
           "bgcolor": "white",
           "lakecolor": "white",
           "landcolor": "#E5ECF6",
           "showlakes": true,
           "showland": true,
           "subunitcolor": "white"
          },
          "hoverlabel": {
           "align": "left"
          },
          "hovermode": "closest",
          "mapbox": {
           "style": "light"
          },
          "paper_bgcolor": "white",
          "plot_bgcolor": "#E5ECF6",
          "polar": {
           "angularaxis": {
            "gridcolor": "white",
            "linecolor": "white",
            "ticks": ""
           },
           "bgcolor": "#E5ECF6",
           "radialaxis": {
            "gridcolor": "white",
            "linecolor": "white",
            "ticks": ""
           }
          },
          "scene": {
           "xaxis": {
            "backgroundcolor": "#E5ECF6",
            "gridcolor": "white",
            "gridwidth": 2,
            "linecolor": "white",
            "showbackground": true,
            "ticks": "",
            "zerolinecolor": "white"
           },
           "yaxis": {
            "backgroundcolor": "#E5ECF6",
            "gridcolor": "white",
            "gridwidth": 2,
            "linecolor": "white",
            "showbackground": true,
            "ticks": "",
            "zerolinecolor": "white"
           },
           "zaxis": {
            "backgroundcolor": "#E5ECF6",
            "gridcolor": "white",
            "gridwidth": 2,
            "linecolor": "white",
            "showbackground": true,
            "ticks": "",
            "zerolinecolor": "white"
           }
          },
          "shapedefaults": {
           "line": {
            "color": "#2a3f5f"
           }
          },
          "ternary": {
           "aaxis": {
            "gridcolor": "white",
            "linecolor": "white",
            "ticks": ""
           },
           "baxis": {
            "gridcolor": "white",
            "linecolor": "white",
            "ticks": ""
           },
           "bgcolor": "#E5ECF6",
           "caxis": {
            "gridcolor": "white",
            "linecolor": "white",
            "ticks": ""
           }
          },
          "title": {
           "x": 0.05
          },
          "xaxis": {
           "automargin": true,
           "gridcolor": "white",
           "linecolor": "white",
           "ticks": "",
           "title": {
            "standoff": 15
           },
           "zerolinecolor": "white",
           "zerolinewidth": 2
          },
          "yaxis": {
           "automargin": true,
           "gridcolor": "white",
           "linecolor": "white",
           "ticks": "",
           "title": {
            "standoff": 15
           },
           "zerolinecolor": "white",
           "zerolinewidth": 2
          }
         }
        },
        "title": {
         "text": "Rainfall distribution (in mm)"
        },
        "xaxis": {
         "anchor": "y",
         "domain": [
          0,
          1
         ],
         "title": {
          "text": "rainfall"
         }
        },
        "xaxis2": {
         "anchor": "y2",
         "domain": [
          0,
          1
         ],
         "matches": "x",
         "showgrid": true,
         "showticklabels": false
        },
        "yaxis": {
         "anchor": "x",
         "domain": [
          0,
          0.8316
         ],
         "title": {
          "text": "count"
         }
        },
        "yaxis2": {
         "anchor": "x2",
         "domain": [
          0.8416,
          1
         ],
         "matches": "y2",
         "showgrid": false,
         "showline": false,
         "showticklabels": false,
         "ticks": ""
        }
       }
      }
     },
     "metadata": {},
     "output_type": "display_data"
    }
   ],
   "source": [
    "fig = px.histogram(raw_df , x='rainfall',nbins=278,marginal='box',title='Rainfall distribution (in mm)')\n",
    "fig.update_layout(bargap=0.1)\n",
    "fig.show()"
   ]
  },
  {
   "cell_type": "code",
   "execution_count": 138,
   "id": "76bbf66f",
   "metadata": {},
   "outputs": [
    {
     "data": {
      "text/plain": [
       "<Figure size 640x480 with 0 Axes>"
      ]
     },
     "metadata": {},
     "output_type": "display_data"
    }
   ],
   "source": [
    "plt.savefig(\"../artifacts/plots/Rainfall_distribution_(in_mm).png\")"
   ]
  },
  {
   "cell_type": "code",
   "execution_count": 139,
   "id": "d8128411",
   "metadata": {},
   "outputs": [
    {
     "data": {
      "application/vnd.plotly.v1+json": {
       "config": {
        "plotlyServerURL": "https://plot.ly"
       },
       "data": [
        {
         "hovertemplate": "N=%{x}<br>label=%{y}<extra></extra>",
         "legendgroup": "",
         "marker": {
          "color": "#636efa",
          "size": 8,
          "symbol": "circle"
         },
         "mode": "markers",
         "name": "",
         "showlegend": false,
         "type": "scattergl",
         "x": {
          "bdata": "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",
          "dtype": "i2"
         },
         "xaxis": "x",
         "y": [
          "rice",
          "rice",
          "rice",
          "rice",
          "rice",
          "rice",
          "rice",
          "rice",
          "rice",
          "rice",
          "rice",
          "rice",
          "rice",
          "rice",
          "rice",
          "rice",
          "rice",
          "rice",
          "rice",
          "rice",
          "rice",
          "rice",
          "rice",
          "rice",
          "rice",
          "rice",
          "rice",
          "rice",
          "rice",
          "rice",
          "rice",
          "rice",
          "rice",
          "rice",
          "rice",
          "rice",
          "rice",
          "rice",
          "rice",
          "rice",
          "rice",
          "rice",
          "rice",
          "rice",
          "rice",
          "rice",
          "rice",
          "rice",
          "rice",
          "rice",
          "rice",
          "rice",
          "rice",
          "rice",
          "rice",
          "rice",
          "rice",
          "rice",
          "rice",
          "rice",
          "rice",
          "rice",
          "rice",
          "rice",
          "rice",
          "rice",
          "rice",
          "rice",
          "rice",
          "rice",
          "rice",
          "rice",
          "rice",
          "rice",
          "rice",
          "rice",
          "rice",
          "rice",
          "rice",
          "rice",
          "rice",
          "rice",
          "rice",
          "rice",
          "rice",
          "rice",
          "rice",
          "rice",
          "rice",
          "rice",
          "rice",
          "rice",
          "rice",
          "rice",
          "rice",
          "rice",
          "rice",
          "rice",
          "rice",
          "rice",
          "maize",
          "maize",
          "maize",
          "maize",
          "maize",
          "maize",
          "maize",
          "maize",
          "maize",
          "maize",
          "maize",
          "maize",
          "maize",
          "maize",
          "maize",
          "maize",
          "maize",
          "maize",
          "maize",
          "maize",
          "maize",
          "maize",
          "maize",
          "maize",
          "maize",
          "maize",
          "maize",
          "maize",
          "maize",
          "maize",
          "maize",
          "maize",
          "maize",
          "maize",
          "maize",
          "maize",
          "maize",
          "maize",
          "maize",
          "maize",
          "maize",
          "maize",
          "maize",
          "maize",
          "maize",
          "maize",
          "maize",
          "maize",
          "maize",
          "maize",
          "maize",
          "maize",
          "maize",
          "maize",
          "maize",
          "maize",
          "maize",
          "maize",
          "maize",
          "maize",
          "maize",
          "maize",
          "maize",
          "maize",
          "maize",
          "maize",
          "maize",
          "maize",
          "maize",
          "maize",
          "maize",
          "maize",
          "maize",
          "maize",
          "maize",
          "maize",
          "maize",
          "maize",
          "maize",
          "maize",
          "maize",
          "maize",
          "maize",
          "maize",
          "maize",
          "maize",
          "maize",
          "maize",
          "maize",
          "maize",
          "maize",
          "maize",
          "maize",
          "maize",
          "maize",
          "maize",
          "maize",
          "maize",
          "maize",
          "maize",
          "chickpea",
          "chickpea",
          "chickpea",
          "chickpea",
          "chickpea",
          "chickpea",
          "chickpea",
          "chickpea",
          "chickpea",
          "chickpea",
          "chickpea",
          "chickpea",
          "chickpea",
          "chickpea",
          "chickpea",
          "chickpea",
          "chickpea",
          "chickpea",
          "chickpea",
          "chickpea",
          "chickpea",
          "chickpea",
          "chickpea",
          "chickpea",
          "chickpea",
          "chickpea",
          "chickpea",
          "chickpea",
          "chickpea",
          "chickpea",
          "chickpea",
          "chickpea",
          "chickpea",
          "chickpea",
          "chickpea",
          "chickpea",
          "chickpea",
          "chickpea",
          "chickpea",
          "chickpea",
          "chickpea",
          "chickpea",
          "chickpea",
          "chickpea",
          "chickpea",
          "chickpea",
          "chickpea",
          "chickpea",
          "chickpea",
          "chickpea",
          "chickpea",
          "chickpea",
          "chickpea",
          "chickpea",
          "chickpea",
          "chickpea",
          "chickpea",
          "chickpea",
          "chickpea",
          "chickpea",
          "chickpea",
          "chickpea",
          "chickpea",
          "chickpea",
          "chickpea",
          "chickpea",
          "chickpea",
          "chickpea",
          "chickpea",
          "chickpea",
          "chickpea",
          "chickpea",
          "chickpea",
          "chickpea",
          "chickpea",
          "chickpea",
          "chickpea",
          "chickpea",
          "chickpea",
          "chickpea",
          "chickpea",
          "chickpea",
          "chickpea",
          "chickpea",
          "chickpea",
          "chickpea",
          "chickpea",
          "chickpea",
          "chickpea",
          "chickpea",
          "chickpea",
          "chickpea",
          "chickpea",
          "chickpea",
          "chickpea",
          "chickpea",
          "chickpea",
          "chickpea",
          "chickpea",
          "chickpea",
          "kidneybeans",
          "kidneybeans",
          "kidneybeans",
          "kidneybeans",
          "kidneybeans",
          "kidneybeans",
          "kidneybeans",
          "kidneybeans",
          "kidneybeans",
          "kidneybeans",
          "kidneybeans",
          "kidneybeans",
          "kidneybeans",
          "kidneybeans",
          "kidneybeans",
          "kidneybeans",
          "kidneybeans",
          "kidneybeans",
          "kidneybeans",
          "kidneybeans",
          "kidneybeans",
          "kidneybeans",
          "kidneybeans",
          "kidneybeans",
          "kidneybeans",
          "kidneybeans",
          "kidneybeans",
          "kidneybeans",
          "kidneybeans",
          "kidneybeans",
          "kidneybeans",
          "kidneybeans",
          "kidneybeans",
          "kidneybeans",
          "kidneybeans",
          "kidneybeans",
          "kidneybeans",
          "kidneybeans",
          "kidneybeans",
          "kidneybeans",
          "kidneybeans",
          "kidneybeans",
          "kidneybeans",
          "kidneybeans",
          "kidneybeans",
          "kidneybeans",
          "kidneybeans",
          "kidneybeans",
          "kidneybeans",
          "kidneybeans",
          "kidneybeans",
          "kidneybeans",
          "kidneybeans",
          "kidneybeans",
          "kidneybeans",
          "kidneybeans",
          "kidneybeans",
          "kidneybeans",
          "kidneybeans",
          "kidneybeans",
          "kidneybeans",
          "kidneybeans",
          "kidneybeans",
          "kidneybeans",
          "kidneybeans",
          "kidneybeans",
          "kidneybeans",
          "kidneybeans",
          "kidneybeans",
          "kidneybeans",
          "kidneybeans",
          "kidneybeans",
          "kidneybeans",
          "kidneybeans",
          "kidneybeans",
          "kidneybeans",
          "kidneybeans",
          "kidneybeans",
          "kidneybeans",
          "kidneybeans",
          "kidneybeans",
          "kidneybeans",
          "kidneybeans",
          "kidneybeans",
          "kidneybeans",
          "kidneybeans",
          "kidneybeans",
          "kidneybeans",
          "kidneybeans",
          "kidneybeans",
          "kidneybeans",
          "kidneybeans",
          "kidneybeans",
          "kidneybeans",
          "kidneybeans",
          "kidneybeans",
          "kidneybeans",
          "kidneybeans",
          "kidneybeans",
          "kidneybeans",
          "pigeonpeas",
          "pigeonpeas",
          "pigeonpeas",
          "pigeonpeas",
          "pigeonpeas",
          "pigeonpeas",
          "pigeonpeas",
          "pigeonpeas",
          "pigeonpeas",
          "pigeonpeas",
          "pigeonpeas",
          "pigeonpeas",
          "pigeonpeas",
          "pigeonpeas",
          "pigeonpeas",
          "pigeonpeas",
          "pigeonpeas",
          "pigeonpeas",
          "pigeonpeas",
          "pigeonpeas",
          "pigeonpeas",
          "pigeonpeas",
          "pigeonpeas",
          "pigeonpeas",
          "pigeonpeas",
          "pigeonpeas",
          "pigeonpeas",
          "pigeonpeas",
          "pigeonpeas",
          "pigeonpeas",
          "pigeonpeas",
          "pigeonpeas",
          "pigeonpeas",
          "pigeonpeas",
          "pigeonpeas",
          "pigeonpeas",
          "pigeonpeas",
          "pigeonpeas",
          "pigeonpeas",
          "pigeonpeas",
          "pigeonpeas",
          "pigeonpeas",
          "pigeonpeas",
          "pigeonpeas",
          "pigeonpeas",
          "pigeonpeas",
          "pigeonpeas",
          "pigeonpeas",
          "pigeonpeas",
          "pigeonpeas",
          "pigeonpeas",
          "pigeonpeas",
          "pigeonpeas",
          "pigeonpeas",
          "pigeonpeas",
          "pigeonpeas",
          "pigeonpeas",
          "pigeonpeas",
          "pigeonpeas",
          "pigeonpeas",
          "pigeonpeas",
          "pigeonpeas",
          "pigeonpeas",
          "pigeonpeas",
          "pigeonpeas",
          "pigeonpeas",
          "pigeonpeas",
          "pigeonpeas",
          "pigeonpeas",
          "pigeonpeas",
          "pigeonpeas",
          "pigeonpeas",
          "pigeonpeas",
          "pigeonpeas",
          "pigeonpeas",
          "pigeonpeas",
          "pigeonpeas",
          "pigeonpeas",
          "pigeonpeas",
          "pigeonpeas",
          "pigeonpeas",
          "pigeonpeas",
          "pigeonpeas",
          "pigeonpeas",
          "pigeonpeas",
          "pigeonpeas",
          "pigeonpeas",
          "pigeonpeas",
          "pigeonpeas",
          "pigeonpeas",
          "pigeonpeas",
          "pigeonpeas",
          "pigeonpeas",
          "pigeonpeas",
          "pigeonpeas",
          "pigeonpeas",
          "pigeonpeas",
          "pigeonpeas",
          "pigeonpeas",
          "pigeonpeas",
          "mothbeans",
          "mothbeans",
          "mothbeans",
          "mothbeans",
          "mothbeans",
          "mothbeans",
          "mothbeans",
          "mothbeans",
          "mothbeans",
          "mothbeans",
          "mothbeans",
          "mothbeans",
          "mothbeans",
          "mothbeans",
          "mothbeans",
          "mothbeans",
          "mothbeans",
          "mothbeans",
          "mothbeans",
          "mothbeans",
          "mothbeans",
          "mothbeans",
          "mothbeans",
          "mothbeans",
          "mothbeans",
          "mothbeans",
          "mothbeans",
          "mothbeans",
          "mothbeans",
          "mothbeans",
          "mothbeans",
          "mothbeans",
          "mothbeans",
          "mothbeans",
          "mothbeans",
          "mothbeans",
          "mothbeans",
          "mothbeans",
          "mothbeans",
          "mothbeans",
          "mothbeans",
          "mothbeans",
          "mothbeans",
          "mothbeans",
          "mothbeans",
          "mothbeans",
          "mothbeans",
          "mothbeans",
          "mothbeans",
          "mothbeans",
          "mothbeans",
          "mothbeans",
          "mothbeans",
          "mothbeans",
          "mothbeans",
          "mothbeans",
          "mothbeans",
          "mothbeans",
          "mothbeans",
          "mothbeans",
          "mothbeans",
          "mothbeans",
          "mothbeans",
          "mothbeans",
          "mothbeans",
          "mothbeans",
          "mothbeans",
          "mothbeans",
          "mothbeans",
          "mothbeans",
          "mothbeans",
          "mothbeans",
          "mothbeans",
          "mothbeans",
          "mothbeans",
          "mothbeans",
          "mothbeans",
          "mothbeans",
          "mothbeans",
          "mothbeans",
          "mothbeans",
          "mothbeans",
          "mothbeans",
          "mothbeans",
          "mothbeans",
          "mothbeans",
          "mothbeans",
          "mothbeans",
          "mothbeans",
          "mothbeans",
          "mothbeans",
          "mothbeans",
          "mothbeans",
          "mothbeans",
          "mothbeans",
          "mothbeans",
          "mothbeans",
          "mothbeans",
          "mothbeans",
          "mothbeans",
          "mungbean",
          "mungbean",
          "mungbean",
          "mungbean",
          "mungbean",
          "mungbean",
          "mungbean",
          "mungbean",
          "mungbean",
          "mungbean",
          "mungbean",
          "mungbean",
          "mungbean",
          "mungbean",
          "mungbean",
          "mungbean",
          "mungbean",
          "mungbean",
          "mungbean",
          "mungbean",
          "mungbean",
          "mungbean",
          "mungbean",
          "mungbean",
          "mungbean",
          "mungbean",
          "mungbean",
          "mungbean",
          "mungbean",
          "mungbean",
          "mungbean",
          "mungbean",
          "mungbean",
          "mungbean",
          "mungbean",
          "mungbean",
          "mungbean",
          "mungbean",
          "mungbean",
          "mungbean",
          "mungbean",
          "mungbean",
          "mungbean",
          "mungbean",
          "mungbean",
          "mungbean",
          "mungbean",
          "mungbean",
          "mungbean",
          "mungbean",
          "mungbean",
          "mungbean",
          "mungbean",
          "mungbean",
          "mungbean",
          "mungbean",
          "mungbean",
          "mungbean",
          "mungbean",
          "mungbean",
          "mungbean",
          "mungbean",
          "mungbean",
          "mungbean",
          "mungbean",
          "mungbean",
          "mungbean",
          "mungbean",
          "mungbean",
          "mungbean",
          "mungbean",
          "mungbean",
          "mungbean",
          "mungbean",
          "mungbean",
          "mungbean",
          "mungbean",
          "mungbean",
          "mungbean",
          "mungbean",
          "mungbean",
          "mungbean",
          "mungbean",
          "mungbean",
          "mungbean",
          "mungbean",
          "mungbean",
          "mungbean",
          "mungbean",
          "mungbean",
          "mungbean",
          "mungbean",
          "mungbean",
          "mungbean",
          "mungbean",
          "mungbean",
          "mungbean",
          "mungbean",
          "mungbean",
          "mungbean",
          "blackgram",
          "blackgram",
          "blackgram",
          "blackgram",
          "blackgram",
          "blackgram",
          "blackgram",
          "blackgram",
          "blackgram",
          "blackgram",
          "blackgram",
          "blackgram",
          "blackgram",
          "blackgram",
          "blackgram",
          "blackgram",
          "blackgram",
          "blackgram",
          "blackgram",
          "blackgram",
          "blackgram",
          "blackgram",
          "blackgram",
          "blackgram",
          "blackgram",
          "blackgram",
          "blackgram",
          "blackgram",
          "blackgram",
          "blackgram",
          "blackgram",
          "blackgram",
          "blackgram",
          "blackgram",
          "blackgram",
          "blackgram",
          "blackgram",
          "blackgram",
          "blackgram",
          "blackgram",
          "blackgram",
          "blackgram",
          "blackgram",
          "blackgram",
          "blackgram",
          "blackgram",
          "blackgram",
          "blackgram",
          "blackgram",
          "blackgram",
          "blackgram",
          "blackgram",
          "blackgram",
          "blackgram",
          "blackgram",
          "blackgram",
          "blackgram",
          "blackgram",
          "blackgram",
          "blackgram",
          "blackgram",
          "blackgram",
          "blackgram",
          "blackgram",
          "blackgram",
          "blackgram",
          "blackgram",
          "blackgram",
          "blackgram",
          "blackgram",
          "blackgram",
          "blackgram",
          "blackgram",
          "blackgram",
          "blackgram",
          "blackgram",
          "blackgram",
          "blackgram",
          "blackgram",
          "blackgram",
          "blackgram",
          "blackgram",
          "blackgram",
          "blackgram",
          "blackgram",
          "blackgram",
          "blackgram",
          "blackgram",
          "blackgram",
          "blackgram",
          "blackgram",
          "blackgram",
          "blackgram",
          "blackgram",
          "blackgram",
          "blackgram",
          "blackgram",
          "blackgram",
          "blackgram",
          "blackgram",
          "lentil",
          "lentil",
          "lentil",
          "lentil",
          "lentil",
          "lentil",
          "lentil",
          "lentil",
          "lentil",
          "lentil",
          "lentil",
          "lentil",
          "lentil",
          "lentil",
          "lentil",
          "lentil",
          "lentil",
          "lentil",
          "lentil",
          "lentil",
          "lentil",
          "lentil",
          "lentil",
          "lentil",
          "lentil",
          "lentil",
          "lentil",
          "lentil",
          "lentil",
          "lentil",
          "lentil",
          "lentil",
          "lentil",
          "lentil",
          "lentil",
          "lentil",
          "lentil",
          "lentil",
          "lentil",
          "lentil",
          "lentil",
          "lentil",
          "lentil",
          "lentil",
          "lentil",
          "lentil",
          "lentil",
          "lentil",
          "lentil",
          "lentil",
          "lentil",
          "lentil",
          "lentil",
          "lentil",
          "lentil",
          "lentil",
          "lentil",
          "lentil",
          "lentil",
          "lentil",
          "lentil",
          "lentil",
          "lentil",
          "lentil",
          "lentil",
          "lentil",
          "lentil",
          "lentil",
          "lentil",
          "lentil",
          "lentil",
          "lentil",
          "lentil",
          "lentil",
          "lentil",
          "lentil",
          "lentil",
          "lentil",
          "lentil",
          "lentil",
          "lentil",
          "lentil",
          "lentil",
          "lentil",
          "lentil",
          "lentil",
          "lentil",
          "lentil",
          "lentil",
          "lentil",
          "lentil",
          "lentil",
          "lentil",
          "lentil",
          "lentil",
          "lentil",
          "lentil",
          "lentil",
          "lentil",
          "lentil",
          "pomegranate",
          "pomegranate",
          "pomegranate",
          "pomegranate",
          "pomegranate",
          "pomegranate",
          "pomegranate",
          "pomegranate",
          "pomegranate",
          "pomegranate",
          "pomegranate",
          "pomegranate",
          "pomegranate",
          "pomegranate",
          "pomegranate",
          "pomegranate",
          "pomegranate",
          "pomegranate",
          "pomegranate",
          "pomegranate",
          "pomegranate",
          "pomegranate",
          "pomegranate",
          "pomegranate",
          "pomegranate",
          "pomegranate",
          "pomegranate",
          "pomegranate",
          "pomegranate",
          "pomegranate",
          "pomegranate",
          "pomegranate",
          "pomegranate",
          "pomegranate",
          "pomegranate",
          "pomegranate",
          "pomegranate",
          "pomegranate",
          "pomegranate",
          "pomegranate",
          "pomegranate",
          "pomegranate",
          "pomegranate",
          "pomegranate",
          "pomegranate",
          "pomegranate",
          "pomegranate",
          "pomegranate",
          "pomegranate",
          "pomegranate",
          "pomegranate",
          "pomegranate",
          "pomegranate",
          "pomegranate",
          "pomegranate",
          "pomegranate",
          "pomegranate",
          "pomegranate",
          "pomegranate",
          "pomegranate",
          "pomegranate",
          "pomegranate",
          "pomegranate",
          "pomegranate",
          "pomegranate",
          "pomegranate",
          "pomegranate",
          "pomegranate",
          "pomegranate",
          "pomegranate",
          "pomegranate",
          "pomegranate",
          "pomegranate",
          "pomegranate",
          "pomegranate",
          "pomegranate",
          "pomegranate",
          "pomegranate",
          "pomegranate",
          "pomegranate",
          "pomegranate",
          "pomegranate",
          "pomegranate",
          "pomegranate",
          "pomegranate",
          "pomegranate",
          "pomegranate",
          "pomegranate",
          "pomegranate",
          "pomegranate",
          "pomegranate",
          "pomegranate",
          "pomegranate",
          "pomegranate",
          "pomegranate",
          "pomegranate",
          "pomegranate",
          "pomegranate",
          "pomegranate",
          "pomegranate",
          "banana",
          "banana",
          "banana",
          "banana",
          "banana",
          "banana",
          "banana",
          "banana",
          "banana",
          "banana",
          "banana",
          "banana",
          "banana",
          "banana",
          "banana",
          "banana",
          "banana",
          "banana",
          "banana",
          "banana",
          "banana",
          "banana",
          "banana",
          "banana",
          "banana",
          "banana",
          "banana",
          "banana",
          "banana",
          "banana",
          "banana",
          "banana",
          "banana",
          "banana",
          "banana",
          "banana",
          "banana",
          "banana",
          "banana",
          "banana",
          "banana",
          "banana",
          "banana",
          "banana",
          "banana",
          "banana",
          "banana",
          "banana",
          "banana",
          "banana",
          "banana",
          "banana",
          "banana",
          "banana",
          "banana",
          "banana",
          "banana",
          "banana",
          "banana",
          "banana",
          "banana",
          "banana",
          "banana",
          "banana",
          "banana",
          "banana",
          "banana",
          "banana",
          "banana",
          "banana",
          "banana",
          "banana",
          "banana",
          "banana",
          "banana",
          "banana",
          "banana",
          "banana",
          "banana",
          "banana",
          "banana",
          "banana",
          "banana",
          "banana",
          "banana",
          "banana",
          "banana",
          "banana",
          "banana",
          "banana",
          "banana",
          "banana",
          "banana",
          "banana",
          "banana",
          "banana",
          "banana",
          "banana",
          "banana",
          "banana",
          "mango",
          "mango",
          "mango",
          "mango",
          "mango",
          "mango",
          "mango",
          "mango",
          "mango",
          "mango",
          "mango",
          "mango",
          "mango",
          "mango",
          "mango",
          "mango",
          "mango",
          "mango",
          "mango",
          "mango",
          "mango",
          "mango",
          "mango",
          "mango",
          "mango",
          "mango",
          "mango",
          "mango",
          "mango",
          "mango",
          "mango",
          "mango",
          "mango",
          "mango",
          "mango",
          "mango",
          "mango",
          "mango",
          "mango",
          "mango",
          "mango",
          "mango",
          "mango",
          "mango",
          "mango",
          "mango",
          "mango",
          "mango",
          "mango",
          "mango",
          "mango",
          "mango",
          "mango",
          "mango",
          "mango",
          "mango",
          "mango",
          "mango",
          "mango",
          "mango",
          "mango",
          "mango",
          "mango",
          "mango",
          "mango",
          "mango",
          "mango",
          "mango",
          "mango",
          "mango",
          "mango",
          "mango",
          "mango",
          "mango",
          "mango",
          "mango",
          "mango",
          "mango",
          "mango",
          "mango",
          "mango",
          "mango",
          "mango",
          "mango",
          "mango",
          "mango",
          "mango",
          "mango",
          "mango",
          "mango",
          "mango",
          "mango",
          "mango",
          "mango",
          "mango",
          "mango",
          "mango",
          "mango",
          "mango",
          "mango",
          "grapes",
          "grapes",
          "grapes",
          "grapes",
          "grapes",
          "grapes",
          "grapes",
          "grapes",
          "grapes",
          "grapes",
          "grapes",
          "grapes",
          "grapes",
          "grapes",
          "grapes",
          "grapes",
          "grapes",
          "grapes",
          "grapes",
          "grapes",
          "grapes",
          "grapes",
          "grapes",
          "grapes",
          "grapes",
          "grapes",
          "grapes",
          "grapes",
          "grapes",
          "grapes",
          "grapes",
          "grapes",
          "grapes",
          "grapes",
          "grapes",
          "grapes",
          "grapes",
          "grapes",
          "grapes",
          "grapes",
          "grapes",
          "grapes",
          "grapes",
          "grapes",
          "grapes",
          "grapes",
          "grapes",
          "grapes",
          "grapes",
          "grapes",
          "grapes",
          "grapes",
          "grapes",
          "grapes",
          "grapes",
          "grapes",
          "grapes",
          "grapes",
          "grapes",
          "grapes",
          "grapes",
          "grapes",
          "grapes",
          "grapes",
          "grapes",
          "grapes",
          "grapes",
          "grapes",
          "grapes",
          "grapes",
          "grapes",
          "grapes",
          "grapes",
          "grapes",
          "grapes",
          "grapes",
          "grapes",
          "grapes",
          "grapes",
          "grapes",
          "grapes",
          "grapes",
          "grapes",
          "grapes",
          "grapes",
          "grapes",
          "grapes",
          "grapes",
          "grapes",
          "grapes",
          "grapes",
          "grapes",
          "grapes",
          "grapes",
          "grapes",
          "grapes",
          "grapes",
          "grapes",
          "grapes",
          "grapes",
          "watermelon",
          "watermelon",
          "watermelon",
          "watermelon",
          "watermelon",
          "watermelon",
          "watermelon",
          "watermelon",
          "watermelon",
          "watermelon",
          "watermelon",
          "watermelon",
          "watermelon",
          "watermelon",
          "watermelon",
          "watermelon",
          "watermelon",
          "watermelon",
          "watermelon",
          "watermelon",
          "watermelon",
          "watermelon",
          "watermelon",
          "watermelon",
          "watermelon",
          "watermelon",
          "watermelon",
          "watermelon",
          "watermelon",
          "watermelon",
          "watermelon",
          "watermelon",
          "watermelon",
          "watermelon",
          "watermelon",
          "watermelon",
          "watermelon",
          "watermelon",
          "watermelon",
          "watermelon",
          "watermelon",
          "watermelon",
          "watermelon",
          "watermelon",
          "watermelon",
          "watermelon",
          "watermelon",
          "watermelon",
          "watermelon",
          "watermelon",
          "watermelon",
          "watermelon",
          "watermelon",
          "watermelon",
          "watermelon",
          "watermelon",
          "watermelon",
          "watermelon",
          "watermelon",
          "watermelon",
          "watermelon",
          "watermelon",
          "watermelon",
          "watermelon",
          "watermelon",
          "watermelon",
          "watermelon",
          "watermelon",
          "watermelon",
          "watermelon",
          "watermelon",
          "watermelon",
          "watermelon",
          "watermelon",
          "watermelon",
          "watermelon",
          "watermelon",
          "watermelon",
          "watermelon",
          "watermelon",
          "watermelon",
          "watermelon",
          "watermelon",
          "watermelon",
          "watermelon",
          "watermelon",
          "watermelon",
          "watermelon",
          "watermelon",
          "watermelon",
          "watermelon",
          "watermelon",
          "watermelon",
          "watermelon",
          "watermelon",
          "watermelon",
          "watermelon",
          "watermelon",
          "watermelon",
          "watermelon",
          "muskmelon",
          "muskmelon",
          "muskmelon",
          "muskmelon",
          "muskmelon",
          "muskmelon",
          "muskmelon",
          "muskmelon",
          "muskmelon",
          "muskmelon",
          "muskmelon",
          "muskmelon",
          "muskmelon",
          "muskmelon",
          "muskmelon",
          "muskmelon",
          "muskmelon",
          "muskmelon",
          "muskmelon",
          "muskmelon",
          "muskmelon",
          "muskmelon",
          "muskmelon",
          "muskmelon",
          "muskmelon",
          "muskmelon",
          "muskmelon",
          "muskmelon",
          "muskmelon",
          "muskmelon",
          "muskmelon",
          "muskmelon",
          "muskmelon",
          "muskmelon",
          "muskmelon",
          "muskmelon",
          "muskmelon",
          "muskmelon",
          "muskmelon",
          "muskmelon",
          "muskmelon",
          "muskmelon",
          "muskmelon",
          "muskmelon",
          "muskmelon",
          "muskmelon",
          "muskmelon",
          "muskmelon",
          "muskmelon",
          "muskmelon",
          "muskmelon",
          "muskmelon",
          "muskmelon",
          "muskmelon",
          "muskmelon",
          "muskmelon",
          "muskmelon",
          "muskmelon",
          "muskmelon",
          "muskmelon",
          "muskmelon",
          "muskmelon",
          "muskmelon",
          "muskmelon",
          "muskmelon",
          "muskmelon",
          "muskmelon",
          "muskmelon",
          "muskmelon",
          "muskmelon",
          "muskmelon",
          "muskmelon",
          "muskmelon",
          "muskmelon",
          "muskmelon",
          "muskmelon",
          "muskmelon",
          "muskmelon",
          "muskmelon",
          "muskmelon",
          "muskmelon",
          "muskmelon",
          "muskmelon",
          "muskmelon",
          "muskmelon",
          "muskmelon",
          "muskmelon",
          "muskmelon",
          "muskmelon",
          "muskmelon",
          "muskmelon",
          "muskmelon",
          "muskmelon",
          "muskmelon",
          "muskmelon",
          "muskmelon",
          "muskmelon",
          "muskmelon",
          "muskmelon",
          "muskmelon",
          "apple",
          "apple",
          "apple",
          "apple",
          "apple",
          "apple",
          "apple",
          "apple",
          "apple",
          "apple",
          "apple",
          "apple",
          "apple",
          "apple",
          "apple",
          "apple",
          "apple",
          "apple",
          "apple",
          "apple",
          "apple",
          "apple",
          "apple",
          "apple",
          "apple",
          "apple",
          "apple",
          "apple",
          "apple",
          "apple",
          "apple",
          "apple",
          "apple",
          "apple",
          "apple",
          "apple",
          "apple",
          "apple",
          "apple",
          "apple",
          "apple",
          "apple",
          "apple",
          "apple",
          "apple",
          "apple",
          "apple",
          "apple",
          "apple",
          "apple",
          "apple",
          "apple",
          "apple",
          "apple",
          "apple",
          "apple",
          "apple",
          "apple",
          "apple",
          "apple",
          "apple",
          "apple",
          "apple",
          "apple",
          "apple",
          "apple",
          "apple",
          "apple",
          "apple",
          "apple",
          "apple",
          "apple",
          "apple",
          "apple",
          "apple",
          "apple",
          "apple",
          "apple",
          "apple",
          "apple",
          "apple",
          "apple",
          "apple",
          "apple",
          "apple",
          "apple",
          "apple",
          "apple",
          "apple",
          "apple",
          "apple",
          "apple",
          "apple",
          "apple",
          "apple",
          "apple",
          "apple",
          "apple",
          "apple",
          "apple",
          "orange",
          "orange",
          "orange",
          "orange",
          "orange",
          "orange",
          "orange",
          "orange",
          "orange",
          "orange",
          "orange",
          "orange",
          "orange",
          "orange",
          "orange",
          "orange",
          "orange",
          "orange",
          "orange",
          "orange",
          "orange",
          "orange",
          "orange",
          "orange",
          "orange",
          "orange",
          "orange",
          "orange",
          "orange",
          "orange",
          "orange",
          "orange",
          "orange",
          "orange",
          "orange",
          "orange",
          "orange",
          "orange",
          "orange",
          "orange",
          "orange",
          "orange",
          "orange",
          "orange",
          "orange",
          "orange",
          "orange",
          "orange",
          "orange",
          "orange",
          "orange",
          "orange",
          "orange",
          "orange",
          "orange",
          "orange",
          "orange",
          "orange",
          "orange",
          "orange",
          "orange",
          "orange",
          "orange",
          "orange",
          "orange",
          "orange",
          "orange",
          "orange",
          "orange",
          "orange",
          "orange",
          "orange",
          "orange",
          "orange",
          "orange",
          "orange",
          "orange",
          "orange",
          "orange",
          "orange",
          "orange",
          "orange",
          "orange",
          "orange",
          "orange",
          "orange",
          "orange",
          "orange",
          "orange",
          "orange",
          "orange",
          "orange",
          "orange",
          "orange",
          "orange",
          "orange",
          "orange",
          "orange",
          "orange",
          "orange",
          "papaya",
          "papaya",
          "papaya",
          "papaya",
          "papaya",
          "papaya",
          "papaya",
          "papaya",
          "papaya",
          "papaya",
          "papaya",
          "papaya",
          "papaya",
          "papaya",
          "papaya",
          "papaya",
          "papaya",
          "papaya",
          "papaya",
          "papaya",
          "papaya",
          "papaya",
          "papaya",
          "papaya",
          "papaya",
          "papaya",
          "papaya",
          "papaya",
          "papaya",
          "papaya",
          "papaya",
          "papaya",
          "papaya",
          "papaya",
          "papaya",
          "papaya",
          "papaya",
          "papaya",
          "papaya",
          "papaya",
          "papaya",
          "papaya",
          "papaya",
          "papaya",
          "papaya",
          "papaya",
          "papaya",
          "papaya",
          "papaya",
          "papaya",
          "papaya",
          "papaya",
          "papaya",
          "papaya",
          "papaya",
          "papaya",
          "papaya",
          "papaya",
          "papaya",
          "papaya",
          "papaya",
          "papaya",
          "papaya",
          "papaya",
          "papaya",
          "papaya",
          "papaya",
          "papaya",
          "papaya",
          "papaya",
          "papaya",
          "papaya",
          "papaya",
          "papaya",
          "papaya",
          "papaya",
          "papaya",
          "papaya",
          "papaya",
          "papaya",
          "papaya",
          "papaya",
          "papaya",
          "papaya",
          "papaya",
          "papaya",
          "papaya",
          "papaya",
          "papaya",
          "papaya",
          "papaya",
          "papaya",
          "papaya",
          "papaya",
          "papaya",
          "papaya",
          "papaya",
          "papaya",
          "papaya",
          "papaya",
          "coconut",
          "coconut",
          "coconut",
          "coconut",
          "coconut",
          "coconut",
          "coconut",
          "coconut",
          "coconut",
          "coconut",
          "coconut",
          "coconut",
          "coconut",
          "coconut",
          "coconut",
          "coconut",
          "coconut",
          "coconut",
          "coconut",
          "coconut",
          "coconut",
          "coconut",
          "coconut",
          "coconut",
          "coconut",
          "coconut",
          "coconut",
          "coconut",
          "coconut",
          "coconut",
          "coconut",
          "coconut",
          "coconut",
          "coconut",
          "coconut",
          "coconut",
          "coconut",
          "coconut",
          "coconut",
          "coconut",
          "coconut",
          "coconut",
          "coconut",
          "coconut",
          "coconut",
          "coconut",
          "coconut",
          "coconut",
          "coconut",
          "coconut",
          "coconut",
          "coconut",
          "coconut",
          "coconut",
          "coconut",
          "coconut",
          "coconut",
          "coconut",
          "coconut",
          "coconut",
          "coconut",
          "coconut",
          "coconut",
          "coconut",
          "coconut",
          "coconut",
          "coconut",
          "coconut",
          "coconut",
          "coconut",
          "coconut",
          "coconut",
          "coconut",
          "coconut",
          "coconut",
          "coconut",
          "coconut",
          "coconut",
          "coconut",
          "coconut",
          "coconut",
          "coconut",
          "coconut",
          "coconut",
          "coconut",
          "coconut",
          "coconut",
          "coconut",
          "coconut",
          "coconut",
          "coconut",
          "coconut",
          "coconut",
          "coconut",
          "coconut",
          "coconut",
          "coconut",
          "coconut",
          "coconut",
          "coconut",
          "cotton",
          "cotton",
          "cotton",
          "cotton",
          "cotton",
          "cotton",
          "cotton",
          "cotton",
          "cotton",
          "cotton",
          "cotton",
          "cotton",
          "cotton",
          "cotton",
          "cotton",
          "cotton",
          "cotton",
          "cotton",
          "cotton",
          "cotton",
          "cotton",
          "cotton",
          "cotton",
          "cotton",
          "cotton",
          "cotton",
          "cotton",
          "cotton",
          "cotton",
          "cotton",
          "cotton",
          "cotton",
          "cotton",
          "cotton",
          "cotton",
          "cotton",
          "cotton",
          "cotton",
          "cotton",
          "cotton",
          "cotton",
          "cotton",
          "cotton",
          "cotton",
          "cotton",
          "cotton",
          "cotton",
          "cotton",
          "cotton",
          "cotton",
          "cotton",
          "cotton",
          "cotton",
          "cotton",
          "cotton",
          "cotton",
          "cotton",
          "cotton",
          "cotton",
          "cotton",
          "cotton",
          "cotton",
          "cotton",
          "cotton",
          "cotton",
          "cotton",
          "cotton",
          "cotton",
          "cotton",
          "cotton",
          "cotton",
          "cotton",
          "cotton",
          "cotton",
          "cotton",
          "cotton",
          "cotton",
          "cotton",
          "cotton",
          "cotton",
          "cotton",
          "cotton",
          "cotton",
          "cotton",
          "cotton",
          "cotton",
          "cotton",
          "cotton",
          "cotton",
          "cotton",
          "cotton",
          "cotton",
          "cotton",
          "cotton",
          "cotton",
          "cotton",
          "cotton",
          "cotton",
          "cotton",
          "cotton",
          "jute",
          "jute",
          "jute",
          "jute",
          "jute",
          "jute",
          "jute",
          "jute",
          "jute",
          "jute",
          "jute",
          "jute",
          "jute",
          "jute",
          "jute",
          "jute",
          "jute",
          "jute",
          "jute",
          "jute",
          "jute",
          "jute",
          "jute",
          "jute",
          "jute",
          "jute",
          "jute",
          "jute",
          "jute",
          "jute",
          "jute",
          "jute",
          "jute",
          "jute",
          "jute",
          "jute",
          "jute",
          "jute",
          "jute",
          "jute",
          "jute",
          "jute",
          "jute",
          "jute",
          "jute",
          "jute",
          "jute",
          "jute",
          "jute",
          "jute",
          "jute",
          "jute",
          "jute",
          "jute",
          "jute",
          "jute",
          "jute",
          "jute",
          "jute",
          "jute",
          "jute",
          "jute",
          "jute",
          "jute",
          "jute",
          "jute",
          "jute",
          "jute",
          "jute",
          "jute",
          "jute",
          "jute",
          "jute",
          "jute",
          "jute",
          "jute",
          "jute",
          "jute",
          "jute",
          "jute",
          "jute",
          "jute",
          "jute",
          "jute",
          "jute",
          "jute",
          "jute",
          "jute",
          "jute",
          "jute",
          "jute",
          "jute",
          "jute",
          "jute",
          "jute",
          "jute",
          "jute",
          "jute",
          "jute",
          "jute",
          "coffee",
          "coffee",
          "coffee",
          "coffee",
          "coffee",
          "coffee",
          "coffee",
          "coffee",
          "coffee",
          "coffee",
          "coffee",
          "coffee",
          "coffee",
          "coffee",
          "coffee",
          "coffee",
          "coffee",
          "coffee",
          "coffee",
          "coffee",
          "coffee",
          "coffee",
          "coffee",
          "coffee",
          "coffee",
          "coffee",
          "coffee",
          "coffee",
          "coffee",
          "coffee",
          "coffee",
          "coffee",
          "coffee",
          "coffee",
          "coffee",
          "coffee",
          "coffee",
          "coffee",
          "coffee",
          "coffee",
          "coffee",
          "coffee",
          "coffee",
          "coffee",
          "coffee",
          "coffee",
          "coffee",
          "coffee",
          "coffee",
          "coffee",
          "coffee",
          "coffee",
          "coffee",
          "coffee",
          "coffee",
          "coffee",
          "coffee",
          "coffee",
          "coffee",
          "coffee",
          "coffee",
          "coffee",
          "coffee",
          "coffee",
          "coffee",
          "coffee",
          "coffee",
          "coffee",
          "coffee",
          "coffee",
          "coffee",
          "coffee",
          "coffee",
          "coffee",
          "coffee",
          "coffee",
          "coffee",
          "coffee",
          "coffee",
          "coffee",
          "coffee",
          "coffee",
          "coffee",
          "coffee",
          "coffee",
          "coffee",
          "coffee",
          "coffee",
          "coffee",
          "coffee",
          "coffee",
          "coffee",
          "coffee",
          "coffee",
          "coffee",
          "coffee",
          "coffee",
          "coffee",
          "coffee",
          "coffee"
         ],
         "yaxis": "y"
        }
       ],
       "layout": {
        "legend": {
         "tracegroupgap": 0
        },
        "template": {
         "data": {
          "bar": [
           {
            "error_x": {
             "color": "#2a3f5f"
            },
            "error_y": {
             "color": "#2a3f5f"
            },
            "marker": {
             "line": {
              "color": "#E5ECF6",
              "width": 0.5
             },
             "pattern": {
              "fillmode": "overlay",
              "size": 10,
              "solidity": 0.2
             }
            },
            "type": "bar"
           }
          ],
          "barpolar": [
           {
            "marker": {
             "line": {
              "color": "#E5ECF6",
              "width": 0.5
             },
             "pattern": {
              "fillmode": "overlay",
              "size": 10,
              "solidity": 0.2
             }
            },
            "type": "barpolar"
           }
          ],
          "carpet": [
           {
            "aaxis": {
             "endlinecolor": "#2a3f5f",
             "gridcolor": "white",
             "linecolor": "white",
             "minorgridcolor": "white",
             "startlinecolor": "#2a3f5f"
            },
            "baxis": {
             "endlinecolor": "#2a3f5f",
             "gridcolor": "white",
             "linecolor": "white",
             "minorgridcolor": "white",
             "startlinecolor": "#2a3f5f"
            },
            "type": "carpet"
           }
          ],
          "choropleth": [
           {
            "colorbar": {
             "outlinewidth": 0,
             "ticks": ""
            },
            "type": "choropleth"
           }
          ],
          "contour": [
           {
            "colorbar": {
             "outlinewidth": 0,
             "ticks": ""
            },
            "colorscale": [
             [
              0,
              "#0d0887"
             ],
             [
              0.1111111111111111,
              "#46039f"
             ],
             [
              0.2222222222222222,
              "#7201a8"
             ],
             [
              0.3333333333333333,
              "#9c179e"
             ],
             [
              0.4444444444444444,
              "#bd3786"
             ],
             [
              0.5555555555555556,
              "#d8576b"
             ],
             [
              0.6666666666666666,
              "#ed7953"
             ],
             [
              0.7777777777777778,
              "#fb9f3a"
             ],
             [
              0.8888888888888888,
              "#fdca26"
             ],
             [
              1,
              "#f0f921"
             ]
            ],
            "type": "contour"
           }
          ],
          "contourcarpet": [
           {
            "colorbar": {
             "outlinewidth": 0,
             "ticks": ""
            },
            "type": "contourcarpet"
           }
          ],
          "heatmap": [
           {
            "colorbar": {
             "outlinewidth": 0,
             "ticks": ""
            },
            "colorscale": [
             [
              0,
              "#0d0887"
             ],
             [
              0.1111111111111111,
              "#46039f"
             ],
             [
              0.2222222222222222,
              "#7201a8"
             ],
             [
              0.3333333333333333,
              "#9c179e"
             ],
             [
              0.4444444444444444,
              "#bd3786"
             ],
             [
              0.5555555555555556,
              "#d8576b"
             ],
             [
              0.6666666666666666,
              "#ed7953"
             ],
             [
              0.7777777777777778,
              "#fb9f3a"
             ],
             [
              0.8888888888888888,
              "#fdca26"
             ],
             [
              1,
              "#f0f921"
             ]
            ],
            "type": "heatmap"
           }
          ],
          "histogram": [
           {
            "marker": {
             "pattern": {
              "fillmode": "overlay",
              "size": 10,
              "solidity": 0.2
             }
            },
            "type": "histogram"
           }
          ],
          "histogram2d": [
           {
            "colorbar": {
             "outlinewidth": 0,
             "ticks": ""
            },
            "colorscale": [
             [
              0,
              "#0d0887"
             ],
             [
              0.1111111111111111,
              "#46039f"
             ],
             [
              0.2222222222222222,
              "#7201a8"
             ],
             [
              0.3333333333333333,
              "#9c179e"
             ],
             [
              0.4444444444444444,
              "#bd3786"
             ],
             [
              0.5555555555555556,
              "#d8576b"
             ],
             [
              0.6666666666666666,
              "#ed7953"
             ],
             [
              0.7777777777777778,
              "#fb9f3a"
             ],
             [
              0.8888888888888888,
              "#fdca26"
             ],
             [
              1,
              "#f0f921"
             ]
            ],
            "type": "histogram2d"
           }
          ],
          "histogram2dcontour": [
           {
            "colorbar": {
             "outlinewidth": 0,
             "ticks": ""
            },
            "colorscale": [
             [
              0,
              "#0d0887"
             ],
             [
              0.1111111111111111,
              "#46039f"
             ],
             [
              0.2222222222222222,
              "#7201a8"
             ],
             [
              0.3333333333333333,
              "#9c179e"
             ],
             [
              0.4444444444444444,
              "#bd3786"
             ],
             [
              0.5555555555555556,
              "#d8576b"
             ],
             [
              0.6666666666666666,
              "#ed7953"
             ],
             [
              0.7777777777777778,
              "#fb9f3a"
             ],
             [
              0.8888888888888888,
              "#fdca26"
             ],
             [
              1,
              "#f0f921"
             ]
            ],
            "type": "histogram2dcontour"
           }
          ],
          "mesh3d": [
           {
            "colorbar": {
             "outlinewidth": 0,
             "ticks": ""
            },
            "type": "mesh3d"
           }
          ],
          "parcoords": [
           {
            "line": {
             "colorbar": {
              "outlinewidth": 0,
              "ticks": ""
             }
            },
            "type": "parcoords"
           }
          ],
          "pie": [
           {
            "automargin": true,
            "type": "pie"
           }
          ],
          "scatter": [
           {
            "fillpattern": {
             "fillmode": "overlay",
             "size": 10,
             "solidity": 0.2
            },
            "type": "scatter"
           }
          ],
          "scatter3d": [
           {
            "line": {
             "colorbar": {
              "outlinewidth": 0,
              "ticks": ""
             }
            },
            "marker": {
             "colorbar": {
              "outlinewidth": 0,
              "ticks": ""
             }
            },
            "type": "scatter3d"
           }
          ],
          "scattercarpet": [
           {
            "marker": {
             "colorbar": {
              "outlinewidth": 0,
              "ticks": ""
             }
            },
            "type": "scattercarpet"
           }
          ],
          "scattergeo": [
           {
            "marker": {
             "colorbar": {
              "outlinewidth": 0,
              "ticks": ""
             }
            },
            "type": "scattergeo"
           }
          ],
          "scattergl": [
           {
            "marker": {
             "colorbar": {
              "outlinewidth": 0,
              "ticks": ""
             }
            },
            "type": "scattergl"
           }
          ],
          "scattermap": [
           {
            "marker": {
             "colorbar": {
              "outlinewidth": 0,
              "ticks": ""
             }
            },
            "type": "scattermap"
           }
          ],
          "scattermapbox": [
           {
            "marker": {
             "colorbar": {
              "outlinewidth": 0,
              "ticks": ""
             }
            },
            "type": "scattermapbox"
           }
          ],
          "scatterpolar": [
           {
            "marker": {
             "colorbar": {
              "outlinewidth": 0,
              "ticks": ""
             }
            },
            "type": "scatterpolar"
           }
          ],
          "scatterpolargl": [
           {
            "marker": {
             "colorbar": {
              "outlinewidth": 0,
              "ticks": ""
             }
            },
            "type": "scatterpolargl"
           }
          ],
          "scatterternary": [
           {
            "marker": {
             "colorbar": {
              "outlinewidth": 0,
              "ticks": ""
             }
            },
            "type": "scatterternary"
           }
          ],
          "surface": [
           {
            "colorbar": {
             "outlinewidth": 0,
             "ticks": ""
            },
            "colorscale": [
             [
              0,
              "#0d0887"
             ],
             [
              0.1111111111111111,
              "#46039f"
             ],
             [
              0.2222222222222222,
              "#7201a8"
             ],
             [
              0.3333333333333333,
              "#9c179e"
             ],
             [
              0.4444444444444444,
              "#bd3786"
             ],
             [
              0.5555555555555556,
              "#d8576b"
             ],
             [
              0.6666666666666666,
              "#ed7953"
             ],
             [
              0.7777777777777778,
              "#fb9f3a"
             ],
             [
              0.8888888888888888,
              "#fdca26"
             ],
             [
              1,
              "#f0f921"
             ]
            ],
            "type": "surface"
           }
          ],
          "table": [
           {
            "cells": {
             "fill": {
              "color": "#EBF0F8"
             },
             "line": {
              "color": "white"
             }
            },
            "header": {
             "fill": {
              "color": "#C8D4E3"
             },
             "line": {
              "color": "white"
             }
            },
            "type": "table"
           }
          ]
         },
         "layout": {
          "annotationdefaults": {
           "arrowcolor": "#2a3f5f",
           "arrowhead": 0,
           "arrowwidth": 1
          },
          "autotypenumbers": "strict",
          "coloraxis": {
           "colorbar": {
            "outlinewidth": 0,
            "ticks": ""
           }
          },
          "colorscale": {
           "diverging": [
            [
             0,
             "#8e0152"
            ],
            [
             0.1,
             "#c51b7d"
            ],
            [
             0.2,
             "#de77ae"
            ],
            [
             0.3,
             "#f1b6da"
            ],
            [
             0.4,
             "#fde0ef"
            ],
            [
             0.5,
             "#f7f7f7"
            ],
            [
             0.6,
             "#e6f5d0"
            ],
            [
             0.7,
             "#b8e186"
            ],
            [
             0.8,
             "#7fbc41"
            ],
            [
             0.9,
             "#4d9221"
            ],
            [
             1,
             "#276419"
            ]
           ],
           "sequential": [
            [
             0,
             "#0d0887"
            ],
            [
             0.1111111111111111,
             "#46039f"
            ],
            [
             0.2222222222222222,
             "#7201a8"
            ],
            [
             0.3333333333333333,
             "#9c179e"
            ],
            [
             0.4444444444444444,
             "#bd3786"
            ],
            [
             0.5555555555555556,
             "#d8576b"
            ],
            [
             0.6666666666666666,
             "#ed7953"
            ],
            [
             0.7777777777777778,
             "#fb9f3a"
            ],
            [
             0.8888888888888888,
             "#fdca26"
            ],
            [
             1,
             "#f0f921"
            ]
           ],
           "sequentialminus": [
            [
             0,
             "#0d0887"
            ],
            [
             0.1111111111111111,
             "#46039f"
            ],
            [
             0.2222222222222222,
             "#7201a8"
            ],
            [
             0.3333333333333333,
             "#9c179e"
            ],
            [
             0.4444444444444444,
             "#bd3786"
            ],
            [
             0.5555555555555556,
             "#d8576b"
            ],
            [
             0.6666666666666666,
             "#ed7953"
            ],
            [
             0.7777777777777778,
             "#fb9f3a"
            ],
            [
             0.8888888888888888,
             "#fdca26"
            ],
            [
             1,
             "#f0f921"
            ]
           ]
          },
          "colorway": [
           "#636efa",
           "#EF553B",
           "#00cc96",
           "#ab63fa",
           "#FFA15A",
           "#19d3f3",
           "#FF6692",
           "#B6E880",
           "#FF97FF",
           "#FECB52"
          ],
          "font": {
           "color": "#2a3f5f"
          },
          "geo": {
           "bgcolor": "white",
           "lakecolor": "white",
           "landcolor": "#E5ECF6",
           "showlakes": true,
           "showland": true,
           "subunitcolor": "white"
          },
          "hoverlabel": {
           "align": "left"
          },
          "hovermode": "closest",
          "mapbox": {
           "style": "light"
          },
          "paper_bgcolor": "white",
          "plot_bgcolor": "#E5ECF6",
          "polar": {
           "angularaxis": {
            "gridcolor": "white",
            "linecolor": "white",
            "ticks": ""
           },
           "bgcolor": "#E5ECF6",
           "radialaxis": {
            "gridcolor": "white",
            "linecolor": "white",
            "ticks": ""
           }
          },
          "scene": {
           "xaxis": {
            "backgroundcolor": "#E5ECF6",
            "gridcolor": "white",
            "gridwidth": 2,
            "linecolor": "white",
            "showbackground": true,
            "ticks": "",
            "zerolinecolor": "white"
           },
           "yaxis": {
            "backgroundcolor": "#E5ECF6",
            "gridcolor": "white",
            "gridwidth": 2,
            "linecolor": "white",
            "showbackground": true,
            "ticks": "",
            "zerolinecolor": "white"
           },
           "zaxis": {
            "backgroundcolor": "#E5ECF6",
            "gridcolor": "white",
            "gridwidth": 2,
            "linecolor": "white",
            "showbackground": true,
            "ticks": "",
            "zerolinecolor": "white"
           }
          },
          "shapedefaults": {
           "line": {
            "color": "#2a3f5f"
           }
          },
          "ternary": {
           "aaxis": {
            "gridcolor": "white",
            "linecolor": "white",
            "ticks": ""
           },
           "baxis": {
            "gridcolor": "white",
            "linecolor": "white",
            "ticks": ""
           },
           "bgcolor": "#E5ECF6",
           "caxis": {
            "gridcolor": "white",
            "linecolor": "white",
            "ticks": ""
           }
          },
          "title": {
           "x": 0.05
          },
          "xaxis": {
           "automargin": true,
           "gridcolor": "white",
           "linecolor": "white",
           "ticks": "",
           "title": {
            "standoff": 15
           },
           "zerolinecolor": "white",
           "zerolinewidth": 2
          },
          "yaxis": {
           "automargin": true,
           "gridcolor": "white",
           "linecolor": "white",
           "ticks": "",
           "title": {
            "standoff": 15
           },
           "zerolinecolor": "white",
           "zerolinewidth": 2
          }
         }
        },
        "title": {
         "text": "Nitrogen content vs label"
        },
        "xaxis": {
         "anchor": "y",
         "domain": [
          0,
          1
         ],
         "title": {
          "text": "N"
         }
        },
        "yaxis": {
         "anchor": "x",
         "domain": [
          0,
          1
         ],
         "title": {
          "text": "label"
         }
        }
       }
      }
     },
     "metadata": {},
     "output_type": "display_data"
    }
   ],
   "source": [
    "fig = px.scatter(raw_df , x='N',y='label',title='Nitrogen content vs label')\n",
    "fig.update_traces(marker_size=8)\n",
    "fig.show()"
   ]
  },
  {
   "cell_type": "code",
   "execution_count": 140,
   "id": "06745d18",
   "metadata": {},
   "outputs": [
    {
     "data": {
      "text/plain": [
       "<Figure size 640x480 with 0 Axes>"
      ]
     },
     "metadata": {},
     "output_type": "display_data"
    }
   ],
   "source": [
    "plt.savefig(\"../artifacts/plots/Nitrogen_content_vs_label.png\")"
   ]
  },
  {
   "cell_type": "code",
   "execution_count": 141,
   "id": "c1b0e9e2",
   "metadata": {},
   "outputs": [
    {
     "data": {
      "application/vnd.plotly.v1+json": {
       "config": {
        "plotlyServerURL": "https://plot.ly"
       },
       "data": [
        {
         "hovertemplate": "P=%{x}<br>label=%{y}<extra></extra>",
         "legendgroup": "",
         "marker": {
          "color": "#636efa",
          "size": 8,
          "symbol": "circle"
         },
         "mode": "markers",
         "name": "",
         "showlegend": false,
         "type": "scattergl",
         "x": {
          "bdata": "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",
          "dtype": "i2"
         },
         "xaxis": "x",
         "y": [
          "rice",
          "rice",
          "rice",
          "rice",
          "rice",
          "rice",
          "rice",
          "rice",
          "rice",
          "rice",
          "rice",
          "rice",
          "rice",
          "rice",
          "rice",
          "rice",
          "rice",
          "rice",
          "rice",
          "rice",
          "rice",
          "rice",
          "rice",
          "rice",
          "rice",
          "rice",
          "rice",
          "rice",
          "rice",
          "rice",
          "rice",
          "rice",
          "rice",
          "rice",
          "rice",
          "rice",
          "rice",
          "rice",
          "rice",
          "rice",
          "rice",
          "rice",
          "rice",
          "rice",
          "rice",
          "rice",
          "rice",
          "rice",
          "rice",
          "rice",
          "rice",
          "rice",
          "rice",
          "rice",
          "rice",
          "rice",
          "rice",
          "rice",
          "rice",
          "rice",
          "rice",
          "rice",
          "rice",
          "rice",
          "rice",
          "rice",
          "rice",
          "rice",
          "rice",
          "rice",
          "rice",
          "rice",
          "rice",
          "rice",
          "rice",
          "rice",
          "rice",
          "rice",
          "rice",
          "rice",
          "rice",
          "rice",
          "rice",
          "rice",
          "rice",
          "rice",
          "rice",
          "rice",
          "rice",
          "rice",
          "rice",
          "rice",
          "rice",
          "rice",
          "rice",
          "rice",
          "rice",
          "rice",
          "rice",
          "rice",
          "maize",
          "maize",
          "maize",
          "maize",
          "maize",
          "maize",
          "maize",
          "maize",
          "maize",
          "maize",
          "maize",
          "maize",
          "maize",
          "maize",
          "maize",
          "maize",
          "maize",
          "maize",
          "maize",
          "maize",
          "maize",
          "maize",
          "maize",
          "maize",
          "maize",
          "maize",
          "maize",
          "maize",
          "maize",
          "maize",
          "maize",
          "maize",
          "maize",
          "maize",
          "maize",
          "maize",
          "maize",
          "maize",
          "maize",
          "maize",
          "maize",
          "maize",
          "maize",
          "maize",
          "maize",
          "maize",
          "maize",
          "maize",
          "maize",
          "maize",
          "maize",
          "maize",
          "maize",
          "maize",
          "maize",
          "maize",
          "maize",
          "maize",
          "maize",
          "maize",
          "maize",
          "maize",
          "maize",
          "maize",
          "maize",
          "maize",
          "maize",
          "maize",
          "maize",
          "maize",
          "maize",
          "maize",
          "maize",
          "maize",
          "maize",
          "maize",
          "maize",
          "maize",
          "maize",
          "maize",
          "maize",
          "maize",
          "maize",
          "maize",
          "maize",
          "maize",
          "maize",
          "maize",
          "maize",
          "maize",
          "maize",
          "maize",
          "maize",
          "maize",
          "maize",
          "maize",
          "maize",
          "maize",
          "maize",
          "maize",
          "chickpea",
          "chickpea",
          "chickpea",
          "chickpea",
          "chickpea",
          "chickpea",
          "chickpea",
          "chickpea",
          "chickpea",
          "chickpea",
          "chickpea",
          "chickpea",
          "chickpea",
          "chickpea",
          "chickpea",
          "chickpea",
          "chickpea",
          "chickpea",
          "chickpea",
          "chickpea",
          "chickpea",
          "chickpea",
          "chickpea",
          "chickpea",
          "chickpea",
          "chickpea",
          "chickpea",
          "chickpea",
          "chickpea",
          "chickpea",
          "chickpea",
          "chickpea",
          "chickpea",
          "chickpea",
          "chickpea",
          "chickpea",
          "chickpea",
          "chickpea",
          "chickpea",
          "chickpea",
          "chickpea",
          "chickpea",
          "chickpea",
          "chickpea",
          "chickpea",
          "chickpea",
          "chickpea",
          "chickpea",
          "chickpea",
          "chickpea",
          "chickpea",
          "chickpea",
          "chickpea",
          "chickpea",
          "chickpea",
          "chickpea",
          "chickpea",
          "chickpea",
          "chickpea",
          "chickpea",
          "chickpea",
          "chickpea",
          "chickpea",
          "chickpea",
          "chickpea",
          "chickpea",
          "chickpea",
          "chickpea",
          "chickpea",
          "chickpea",
          "chickpea",
          "chickpea",
          "chickpea",
          "chickpea",
          "chickpea",
          "chickpea",
          "chickpea",
          "chickpea",
          "chickpea",
          "chickpea",
          "chickpea",
          "chickpea",
          "chickpea",
          "chickpea",
          "chickpea",
          "chickpea",
          "chickpea",
          "chickpea",
          "chickpea",
          "chickpea",
          "chickpea",
          "chickpea",
          "chickpea",
          "chickpea",
          "chickpea",
          "chickpea",
          "chickpea",
          "chickpea",
          "chickpea",
          "chickpea",
          "kidneybeans",
          "kidneybeans",
          "kidneybeans",
          "kidneybeans",
          "kidneybeans",
          "kidneybeans",
          "kidneybeans",
          "kidneybeans",
          "kidneybeans",
          "kidneybeans",
          "kidneybeans",
          "kidneybeans",
          "kidneybeans",
          "kidneybeans",
          "kidneybeans",
          "kidneybeans",
          "kidneybeans",
          "kidneybeans",
          "kidneybeans",
          "kidneybeans",
          "kidneybeans",
          "kidneybeans",
          "kidneybeans",
          "kidneybeans",
          "kidneybeans",
          "kidneybeans",
          "kidneybeans",
          "kidneybeans",
          "kidneybeans",
          "kidneybeans",
          "kidneybeans",
          "kidneybeans",
          "kidneybeans",
          "kidneybeans",
          "kidneybeans",
          "kidneybeans",
          "kidneybeans",
          "kidneybeans",
          "kidneybeans",
          "kidneybeans",
          "kidneybeans",
          "kidneybeans",
          "kidneybeans",
          "kidneybeans",
          "kidneybeans",
          "kidneybeans",
          "kidneybeans",
          "kidneybeans",
          "kidneybeans",
          "kidneybeans",
          "kidneybeans",
          "kidneybeans",
          "kidneybeans",
          "kidneybeans",
          "kidneybeans",
          "kidneybeans",
          "kidneybeans",
          "kidneybeans",
          "kidneybeans",
          "kidneybeans",
          "kidneybeans",
          "kidneybeans",
          "kidneybeans",
          "kidneybeans",
          "kidneybeans",
          "kidneybeans",
          "kidneybeans",
          "kidneybeans",
          "kidneybeans",
          "kidneybeans",
          "kidneybeans",
          "kidneybeans",
          "kidneybeans",
          "kidneybeans",
          "kidneybeans",
          "kidneybeans",
          "kidneybeans",
          "kidneybeans",
          "kidneybeans",
          "kidneybeans",
          "kidneybeans",
          "kidneybeans",
          "kidneybeans",
          "kidneybeans",
          "kidneybeans",
          "kidneybeans",
          "kidneybeans",
          "kidneybeans",
          "kidneybeans",
          "kidneybeans",
          "kidneybeans",
          "kidneybeans",
          "kidneybeans",
          "kidneybeans",
          "kidneybeans",
          "kidneybeans",
          "kidneybeans",
          "kidneybeans",
          "kidneybeans",
          "kidneybeans",
          "pigeonpeas",
          "pigeonpeas",
          "pigeonpeas",
          "pigeonpeas",
          "pigeonpeas",
          "pigeonpeas",
          "pigeonpeas",
          "pigeonpeas",
          "pigeonpeas",
          "pigeonpeas",
          "pigeonpeas",
          "pigeonpeas",
          "pigeonpeas",
          "pigeonpeas",
          "pigeonpeas",
          "pigeonpeas",
          "pigeonpeas",
          "pigeonpeas",
          "pigeonpeas",
          "pigeonpeas",
          "pigeonpeas",
          "pigeonpeas",
          "pigeonpeas",
          "pigeonpeas",
          "pigeonpeas",
          "pigeonpeas",
          "pigeonpeas",
          "pigeonpeas",
          "pigeonpeas",
          "pigeonpeas",
          "pigeonpeas",
          "pigeonpeas",
          "pigeonpeas",
          "pigeonpeas",
          "pigeonpeas",
          "pigeonpeas",
          "pigeonpeas",
          "pigeonpeas",
          "pigeonpeas",
          "pigeonpeas",
          "pigeonpeas",
          "pigeonpeas",
          "pigeonpeas",
          "pigeonpeas",
          "pigeonpeas",
          "pigeonpeas",
          "pigeonpeas",
          "pigeonpeas",
          "pigeonpeas",
          "pigeonpeas",
          "pigeonpeas",
          "pigeonpeas",
          "pigeonpeas",
          "pigeonpeas",
          "pigeonpeas",
          "pigeonpeas",
          "pigeonpeas",
          "pigeonpeas",
          "pigeonpeas",
          "pigeonpeas",
          "pigeonpeas",
          "pigeonpeas",
          "pigeonpeas",
          "pigeonpeas",
          "pigeonpeas",
          "pigeonpeas",
          "pigeonpeas",
          "pigeonpeas",
          "pigeonpeas",
          "pigeonpeas",
          "pigeonpeas",
          "pigeonpeas",
          "pigeonpeas",
          "pigeonpeas",
          "pigeonpeas",
          "pigeonpeas",
          "pigeonpeas",
          "pigeonpeas",
          "pigeonpeas",
          "pigeonpeas",
          "pigeonpeas",
          "pigeonpeas",
          "pigeonpeas",
          "pigeonpeas",
          "pigeonpeas",
          "pigeonpeas",
          "pigeonpeas",
          "pigeonpeas",
          "pigeonpeas",
          "pigeonpeas",
          "pigeonpeas",
          "pigeonpeas",
          "pigeonpeas",
          "pigeonpeas",
          "pigeonpeas",
          "pigeonpeas",
          "pigeonpeas",
          "pigeonpeas",
          "pigeonpeas",
          "pigeonpeas",
          "mothbeans",
          "mothbeans",
          "mothbeans",
          "mothbeans",
          "mothbeans",
          "mothbeans",
          "mothbeans",
          "mothbeans",
          "mothbeans",
          "mothbeans",
          "mothbeans",
          "mothbeans",
          "mothbeans",
          "mothbeans",
          "mothbeans",
          "mothbeans",
          "mothbeans",
          "mothbeans",
          "mothbeans",
          "mothbeans",
          "mothbeans",
          "mothbeans",
          "mothbeans",
          "mothbeans",
          "mothbeans",
          "mothbeans",
          "mothbeans",
          "mothbeans",
          "mothbeans",
          "mothbeans",
          "mothbeans",
          "mothbeans",
          "mothbeans",
          "mothbeans",
          "mothbeans",
          "mothbeans",
          "mothbeans",
          "mothbeans",
          "mothbeans",
          "mothbeans",
          "mothbeans",
          "mothbeans",
          "mothbeans",
          "mothbeans",
          "mothbeans",
          "mothbeans",
          "mothbeans",
          "mothbeans",
          "mothbeans",
          "mothbeans",
          "mothbeans",
          "mothbeans",
          "mothbeans",
          "mothbeans",
          "mothbeans",
          "mothbeans",
          "mothbeans",
          "mothbeans",
          "mothbeans",
          "mothbeans",
          "mothbeans",
          "mothbeans",
          "mothbeans",
          "mothbeans",
          "mothbeans",
          "mothbeans",
          "mothbeans",
          "mothbeans",
          "mothbeans",
          "mothbeans",
          "mothbeans",
          "mothbeans",
          "mothbeans",
          "mothbeans",
          "mothbeans",
          "mothbeans",
          "mothbeans",
          "mothbeans",
          "mothbeans",
          "mothbeans",
          "mothbeans",
          "mothbeans",
          "mothbeans",
          "mothbeans",
          "mothbeans",
          "mothbeans",
          "mothbeans",
          "mothbeans",
          "mothbeans",
          "mothbeans",
          "mothbeans",
          "mothbeans",
          "mothbeans",
          "mothbeans",
          "mothbeans",
          "mothbeans",
          "mothbeans",
          "mothbeans",
          "mothbeans",
          "mothbeans",
          "mungbean",
          "mungbean",
          "mungbean",
          "mungbean",
          "mungbean",
          "mungbean",
          "mungbean",
          "mungbean",
          "mungbean",
          "mungbean",
          "mungbean",
          "mungbean",
          "mungbean",
          "mungbean",
          "mungbean",
          "mungbean",
          "mungbean",
          "mungbean",
          "mungbean",
          "mungbean",
          "mungbean",
          "mungbean",
          "mungbean",
          "mungbean",
          "mungbean",
          "mungbean",
          "mungbean",
          "mungbean",
          "mungbean",
          "mungbean",
          "mungbean",
          "mungbean",
          "mungbean",
          "mungbean",
          "mungbean",
          "mungbean",
          "mungbean",
          "mungbean",
          "mungbean",
          "mungbean",
          "mungbean",
          "mungbean",
          "mungbean",
          "mungbean",
          "mungbean",
          "mungbean",
          "mungbean",
          "mungbean",
          "mungbean",
          "mungbean",
          "mungbean",
          "mungbean",
          "mungbean",
          "mungbean",
          "mungbean",
          "mungbean",
          "mungbean",
          "mungbean",
          "mungbean",
          "mungbean",
          "mungbean",
          "mungbean",
          "mungbean",
          "mungbean",
          "mungbean",
          "mungbean",
          "mungbean",
          "mungbean",
          "mungbean",
          "mungbean",
          "mungbean",
          "mungbean",
          "mungbean",
          "mungbean",
          "mungbean",
          "mungbean",
          "mungbean",
          "mungbean",
          "mungbean",
          "mungbean",
          "mungbean",
          "mungbean",
          "mungbean",
          "mungbean",
          "mungbean",
          "mungbean",
          "mungbean",
          "mungbean",
          "mungbean",
          "mungbean",
          "mungbean",
          "mungbean",
          "mungbean",
          "mungbean",
          "mungbean",
          "mungbean",
          "mungbean",
          "mungbean",
          "mungbean",
          "mungbean",
          "blackgram",
          "blackgram",
          "blackgram",
          "blackgram",
          "blackgram",
          "blackgram",
          "blackgram",
          "blackgram",
          "blackgram",
          "blackgram",
          "blackgram",
          "blackgram",
          "blackgram",
          "blackgram",
          "blackgram",
          "blackgram",
          "blackgram",
          "blackgram",
          "blackgram",
          "blackgram",
          "blackgram",
          "blackgram",
          "blackgram",
          "blackgram",
          "blackgram",
          "blackgram",
          "blackgram",
          "blackgram",
          "blackgram",
          "blackgram",
          "blackgram",
          "blackgram",
          "blackgram",
          "blackgram",
          "blackgram",
          "blackgram",
          "blackgram",
          "blackgram",
          "blackgram",
          "blackgram",
          "blackgram",
          "blackgram",
          "blackgram",
          "blackgram",
          "blackgram",
          "blackgram",
          "blackgram",
          "blackgram",
          "blackgram",
          "blackgram",
          "blackgram",
          "blackgram",
          "blackgram",
          "blackgram",
          "blackgram",
          "blackgram",
          "blackgram",
          "blackgram",
          "blackgram",
          "blackgram",
          "blackgram",
          "blackgram",
          "blackgram",
          "blackgram",
          "blackgram",
          "blackgram",
          "blackgram",
          "blackgram",
          "blackgram",
          "blackgram",
          "blackgram",
          "blackgram",
          "blackgram",
          "blackgram",
          "blackgram",
          "blackgram",
          "blackgram",
          "blackgram",
          "blackgram",
          "blackgram",
          "blackgram",
          "blackgram",
          "blackgram",
          "blackgram",
          "blackgram",
          "blackgram",
          "blackgram",
          "blackgram",
          "blackgram",
          "blackgram",
          "blackgram",
          "blackgram",
          "blackgram",
          "blackgram",
          "blackgram",
          "blackgram",
          "blackgram",
          "blackgram",
          "blackgram",
          "blackgram",
          "lentil",
          "lentil",
          "lentil",
          "lentil",
          "lentil",
          "lentil",
          "lentil",
          "lentil",
          "lentil",
          "lentil",
          "lentil",
          "lentil",
          "lentil",
          "lentil",
          "lentil",
          "lentil",
          "lentil",
          "lentil",
          "lentil",
          "lentil",
          "lentil",
          "lentil",
          "lentil",
          "lentil",
          "lentil",
          "lentil",
          "lentil",
          "lentil",
          "lentil",
          "lentil",
          "lentil",
          "lentil",
          "lentil",
          "lentil",
          "lentil",
          "lentil",
          "lentil",
          "lentil",
          "lentil",
          "lentil",
          "lentil",
          "lentil",
          "lentil",
          "lentil",
          "lentil",
          "lentil",
          "lentil",
          "lentil",
          "lentil",
          "lentil",
          "lentil",
          "lentil",
          "lentil",
          "lentil",
          "lentil",
          "lentil",
          "lentil",
          "lentil",
          "lentil",
          "lentil",
          "lentil",
          "lentil",
          "lentil",
          "lentil",
          "lentil",
          "lentil",
          "lentil",
          "lentil",
          "lentil",
          "lentil",
          "lentil",
          "lentil",
          "lentil",
          "lentil",
          "lentil",
          "lentil",
          "lentil",
          "lentil",
          "lentil",
          "lentil",
          "lentil",
          "lentil",
          "lentil",
          "lentil",
          "lentil",
          "lentil",
          "lentil",
          "lentil",
          "lentil",
          "lentil",
          "lentil",
          "lentil",
          "lentil",
          "lentil",
          "lentil",
          "lentil",
          "lentil",
          "lentil",
          "lentil",
          "lentil",
          "pomegranate",
          "pomegranate",
          "pomegranate",
          "pomegranate",
          "pomegranate",
          "pomegranate",
          "pomegranate",
          "pomegranate",
          "pomegranate",
          "pomegranate",
          "pomegranate",
          "pomegranate",
          "pomegranate",
          "pomegranate",
          "pomegranate",
          "pomegranate",
          "pomegranate",
          "pomegranate",
          "pomegranate",
          "pomegranate",
          "pomegranate",
          "pomegranate",
          "pomegranate",
          "pomegranate",
          "pomegranate",
          "pomegranate",
          "pomegranate",
          "pomegranate",
          "pomegranate",
          "pomegranate",
          "pomegranate",
          "pomegranate",
          "pomegranate",
          "pomegranate",
          "pomegranate",
          "pomegranate",
          "pomegranate",
          "pomegranate",
          "pomegranate",
          "pomegranate",
          "pomegranate",
          "pomegranate",
          "pomegranate",
          "pomegranate",
          "pomegranate",
          "pomegranate",
          "pomegranate",
          "pomegranate",
          "pomegranate",
          "pomegranate",
          "pomegranate",
          "pomegranate",
          "pomegranate",
          "pomegranate",
          "pomegranate",
          "pomegranate",
          "pomegranate",
          "pomegranate",
          "pomegranate",
          "pomegranate",
          "pomegranate",
          "pomegranate",
          "pomegranate",
          "pomegranate",
          "pomegranate",
          "pomegranate",
          "pomegranate",
          "pomegranate",
          "pomegranate",
          "pomegranate",
          "pomegranate",
          "pomegranate",
          "pomegranate",
          "pomegranate",
          "pomegranate",
          "pomegranate",
          "pomegranate",
          "pomegranate",
          "pomegranate",
          "pomegranate",
          "pomegranate",
          "pomegranate",
          "pomegranate",
          "pomegranate",
          "pomegranate",
          "pomegranate",
          "pomegranate",
          "pomegranate",
          "pomegranate",
          "pomegranate",
          "pomegranate",
          "pomegranate",
          "pomegranate",
          "pomegranate",
          "pomegranate",
          "pomegranate",
          "pomegranate",
          "pomegranate",
          "pomegranate",
          "pomegranate",
          "banana",
          "banana",
          "banana",
          "banana",
          "banana",
          "banana",
          "banana",
          "banana",
          "banana",
          "banana",
          "banana",
          "banana",
          "banana",
          "banana",
          "banana",
          "banana",
          "banana",
          "banana",
          "banana",
          "banana",
          "banana",
          "banana",
          "banana",
          "banana",
          "banana",
          "banana",
          "banana",
          "banana",
          "banana",
          "banana",
          "banana",
          "banana",
          "banana",
          "banana",
          "banana",
          "banana",
          "banana",
          "banana",
          "banana",
          "banana",
          "banana",
          "banana",
          "banana",
          "banana",
          "banana",
          "banana",
          "banana",
          "banana",
          "banana",
          "banana",
          "banana",
          "banana",
          "banana",
          "banana",
          "banana",
          "banana",
          "banana",
          "banana",
          "banana",
          "banana",
          "banana",
          "banana",
          "banana",
          "banana",
          "banana",
          "banana",
          "banana",
          "banana",
          "banana",
          "banana",
          "banana",
          "banana",
          "banana",
          "banana",
          "banana",
          "banana",
          "banana",
          "banana",
          "banana",
          "banana",
          "banana",
          "banana",
          "banana",
          "banana",
          "banana",
          "banana",
          "banana",
          "banana",
          "banana",
          "banana",
          "banana",
          "banana",
          "banana",
          "banana",
          "banana",
          "banana",
          "banana",
          "banana",
          "banana",
          "banana",
          "mango",
          "mango",
          "mango",
          "mango",
          "mango",
          "mango",
          "mango",
          "mango",
          "mango",
          "mango",
          "mango",
          "mango",
          "mango",
          "mango",
          "mango",
          "mango",
          "mango",
          "mango",
          "mango",
          "mango",
          "mango",
          "mango",
          "mango",
          "mango",
          "mango",
          "mango",
          "mango",
          "mango",
          "mango",
          "mango",
          "mango",
          "mango",
          "mango",
          "mango",
          "mango",
          "mango",
          "mango",
          "mango",
          "mango",
          "mango",
          "mango",
          "mango",
          "mango",
          "mango",
          "mango",
          "mango",
          "mango",
          "mango",
          "mango",
          "mango",
          "mango",
          "mango",
          "mango",
          "mango",
          "mango",
          "mango",
          "mango",
          "mango",
          "mango",
          "mango",
          "mango",
          "mango",
          "mango",
          "mango",
          "mango",
          "mango",
          "mango",
          "mango",
          "mango",
          "mango",
          "mango",
          "mango",
          "mango",
          "mango",
          "mango",
          "mango",
          "mango",
          "mango",
          "mango",
          "mango",
          "mango",
          "mango",
          "mango",
          "mango",
          "mango",
          "mango",
          "mango",
          "mango",
          "mango",
          "mango",
          "mango",
          "mango",
          "mango",
          "mango",
          "mango",
          "mango",
          "mango",
          "mango",
          "mango",
          "mango",
          "grapes",
          "grapes",
          "grapes",
          "grapes",
          "grapes",
          "grapes",
          "grapes",
          "grapes",
          "grapes",
          "grapes",
          "grapes",
          "grapes",
          "grapes",
          "grapes",
          "grapes",
          "grapes",
          "grapes",
          "grapes",
          "grapes",
          "grapes",
          "grapes",
          "grapes",
          "grapes",
          "grapes",
          "grapes",
          "grapes",
          "grapes",
          "grapes",
          "grapes",
          "grapes",
          "grapes",
          "grapes",
          "grapes",
          "grapes",
          "grapes",
          "grapes",
          "grapes",
          "grapes",
          "grapes",
          "grapes",
          "grapes",
          "grapes",
          "grapes",
          "grapes",
          "grapes",
          "grapes",
          "grapes",
          "grapes",
          "grapes",
          "grapes",
          "grapes",
          "grapes",
          "grapes",
          "grapes",
          "grapes",
          "grapes",
          "grapes",
          "grapes",
          "grapes",
          "grapes",
          "grapes",
          "grapes",
          "grapes",
          "grapes",
          "grapes",
          "grapes",
          "grapes",
          "grapes",
          "grapes",
          "grapes",
          "grapes",
          "grapes",
          "grapes",
          "grapes",
          "grapes",
          "grapes",
          "grapes",
          "grapes",
          "grapes",
          "grapes",
          "grapes",
          "grapes",
          "grapes",
          "grapes",
          "grapes",
          "grapes",
          "grapes",
          "grapes",
          "grapes",
          "grapes",
          "grapes",
          "grapes",
          "grapes",
          "grapes",
          "grapes",
          "grapes",
          "grapes",
          "grapes",
          "grapes",
          "grapes",
          "watermelon",
          "watermelon",
          "watermelon",
          "watermelon",
          "watermelon",
          "watermelon",
          "watermelon",
          "watermelon",
          "watermelon",
          "watermelon",
          "watermelon",
          "watermelon",
          "watermelon",
          "watermelon",
          "watermelon",
          "watermelon",
          "watermelon",
          "watermelon",
          "watermelon",
          "watermelon",
          "watermelon",
          "watermelon",
          "watermelon",
          "watermelon",
          "watermelon",
          "watermelon",
          "watermelon",
          "watermelon",
          "watermelon",
          "watermelon",
          "watermelon",
          "watermelon",
          "watermelon",
          "watermelon",
          "watermelon",
          "watermelon",
          "watermelon",
          "watermelon",
          "watermelon",
          "watermelon",
          "watermelon",
          "watermelon",
          "watermelon",
          "watermelon",
          "watermelon",
          "watermelon",
          "watermelon",
          "watermelon",
          "watermelon",
          "watermelon",
          "watermelon",
          "watermelon",
          "watermelon",
          "watermelon",
          "watermelon",
          "watermelon",
          "watermelon",
          "watermelon",
          "watermelon",
          "watermelon",
          "watermelon",
          "watermelon",
          "watermelon",
          "watermelon",
          "watermelon",
          "watermelon",
          "watermelon",
          "watermelon",
          "watermelon",
          "watermelon",
          "watermelon",
          "watermelon",
          "watermelon",
          "watermelon",
          "watermelon",
          "watermelon",
          "watermelon",
          "watermelon",
          "watermelon",
          "watermelon",
          "watermelon",
          "watermelon",
          "watermelon",
          "watermelon",
          "watermelon",
          "watermelon",
          "watermelon",
          "watermelon",
          "watermelon",
          "watermelon",
          "watermelon",
          "watermelon",
          "watermelon",
          "watermelon",
          "watermelon",
          "watermelon",
          "watermelon",
          "watermelon",
          "watermelon",
          "watermelon",
          "muskmelon",
          "muskmelon",
          "muskmelon",
          "muskmelon",
          "muskmelon",
          "muskmelon",
          "muskmelon",
          "muskmelon",
          "muskmelon",
          "muskmelon",
          "muskmelon",
          "muskmelon",
          "muskmelon",
          "muskmelon",
          "muskmelon",
          "muskmelon",
          "muskmelon",
          "muskmelon",
          "muskmelon",
          "muskmelon",
          "muskmelon",
          "muskmelon",
          "muskmelon",
          "muskmelon",
          "muskmelon",
          "muskmelon",
          "muskmelon",
          "muskmelon",
          "muskmelon",
          "muskmelon",
          "muskmelon",
          "muskmelon",
          "muskmelon",
          "muskmelon",
          "muskmelon",
          "muskmelon",
          "muskmelon",
          "muskmelon",
          "muskmelon",
          "muskmelon",
          "muskmelon",
          "muskmelon",
          "muskmelon",
          "muskmelon",
          "muskmelon",
          "muskmelon",
          "muskmelon",
          "muskmelon",
          "muskmelon",
          "muskmelon",
          "muskmelon",
          "muskmelon",
          "muskmelon",
          "muskmelon",
          "muskmelon",
          "muskmelon",
          "muskmelon",
          "muskmelon",
          "muskmelon",
          "muskmelon",
          "muskmelon",
          "muskmelon",
          "muskmelon",
          "muskmelon",
          "muskmelon",
          "muskmelon",
          "muskmelon",
          "muskmelon",
          "muskmelon",
          "muskmelon",
          "muskmelon",
          "muskmelon",
          "muskmelon",
          "muskmelon",
          "muskmelon",
          "muskmelon",
          "muskmelon",
          "muskmelon",
          "muskmelon",
          "muskmelon",
          "muskmelon",
          "muskmelon",
          "muskmelon",
          "muskmelon",
          "muskmelon",
          "muskmelon",
          "muskmelon",
          "muskmelon",
          "muskmelon",
          "muskmelon",
          "muskmelon",
          "muskmelon",
          "muskmelon",
          "muskmelon",
          "muskmelon",
          "muskmelon",
          "muskmelon",
          "muskmelon",
          "muskmelon",
          "muskmelon",
          "apple",
          "apple",
          "apple",
          "apple",
          "apple",
          "apple",
          "apple",
          "apple",
          "apple",
          "apple",
          "apple",
          "apple",
          "apple",
          "apple",
          "apple",
          "apple",
          "apple",
          "apple",
          "apple",
          "apple",
          "apple",
          "apple",
          "apple",
          "apple",
          "apple",
          "apple",
          "apple",
          "apple",
          "apple",
          "apple",
          "apple",
          "apple",
          "apple",
          "apple",
          "apple",
          "apple",
          "apple",
          "apple",
          "apple",
          "apple",
          "apple",
          "apple",
          "apple",
          "apple",
          "apple",
          "apple",
          "apple",
          "apple",
          "apple",
          "apple",
          "apple",
          "apple",
          "apple",
          "apple",
          "apple",
          "apple",
          "apple",
          "apple",
          "apple",
          "apple",
          "apple",
          "apple",
          "apple",
          "apple",
          "apple",
          "apple",
          "apple",
          "apple",
          "apple",
          "apple",
          "apple",
          "apple",
          "apple",
          "apple",
          "apple",
          "apple",
          "apple",
          "apple",
          "apple",
          "apple",
          "apple",
          "apple",
          "apple",
          "apple",
          "apple",
          "apple",
          "apple",
          "apple",
          "apple",
          "apple",
          "apple",
          "apple",
          "apple",
          "apple",
          "apple",
          "apple",
          "apple",
          "apple",
          "apple",
          "apple",
          "orange",
          "orange",
          "orange",
          "orange",
          "orange",
          "orange",
          "orange",
          "orange",
          "orange",
          "orange",
          "orange",
          "orange",
          "orange",
          "orange",
          "orange",
          "orange",
          "orange",
          "orange",
          "orange",
          "orange",
          "orange",
          "orange",
          "orange",
          "orange",
          "orange",
          "orange",
          "orange",
          "orange",
          "orange",
          "orange",
          "orange",
          "orange",
          "orange",
          "orange",
          "orange",
          "orange",
          "orange",
          "orange",
          "orange",
          "orange",
          "orange",
          "orange",
          "orange",
          "orange",
          "orange",
          "orange",
          "orange",
          "orange",
          "orange",
          "orange",
          "orange",
          "orange",
          "orange",
          "orange",
          "orange",
          "orange",
          "orange",
          "orange",
          "orange",
          "orange",
          "orange",
          "orange",
          "orange",
          "orange",
          "orange",
          "orange",
          "orange",
          "orange",
          "orange",
          "orange",
          "orange",
          "orange",
          "orange",
          "orange",
          "orange",
          "orange",
          "orange",
          "orange",
          "orange",
          "orange",
          "orange",
          "orange",
          "orange",
          "orange",
          "orange",
          "orange",
          "orange",
          "orange",
          "orange",
          "orange",
          "orange",
          "orange",
          "orange",
          "orange",
          "orange",
          "orange",
          "orange",
          "orange",
          "orange",
          "orange",
          "papaya",
          "papaya",
          "papaya",
          "papaya",
          "papaya",
          "papaya",
          "papaya",
          "papaya",
          "papaya",
          "papaya",
          "papaya",
          "papaya",
          "papaya",
          "papaya",
          "papaya",
          "papaya",
          "papaya",
          "papaya",
          "papaya",
          "papaya",
          "papaya",
          "papaya",
          "papaya",
          "papaya",
          "papaya",
          "papaya",
          "papaya",
          "papaya",
          "papaya",
          "papaya",
          "papaya",
          "papaya",
          "papaya",
          "papaya",
          "papaya",
          "papaya",
          "papaya",
          "papaya",
          "papaya",
          "papaya",
          "papaya",
          "papaya",
          "papaya",
          "papaya",
          "papaya",
          "papaya",
          "papaya",
          "papaya",
          "papaya",
          "papaya",
          "papaya",
          "papaya",
          "papaya",
          "papaya",
          "papaya",
          "papaya",
          "papaya",
          "papaya",
          "papaya",
          "papaya",
          "papaya",
          "papaya",
          "papaya",
          "papaya",
          "papaya",
          "papaya",
          "papaya",
          "papaya",
          "papaya",
          "papaya",
          "papaya",
          "papaya",
          "papaya",
          "papaya",
          "papaya",
          "papaya",
          "papaya",
          "papaya",
          "papaya",
          "papaya",
          "papaya",
          "papaya",
          "papaya",
          "papaya",
          "papaya",
          "papaya",
          "papaya",
          "papaya",
          "papaya",
          "papaya",
          "papaya",
          "papaya",
          "papaya",
          "papaya",
          "papaya",
          "papaya",
          "papaya",
          "papaya",
          "papaya",
          "papaya",
          "coconut",
          "coconut",
          "coconut",
          "coconut",
          "coconut",
          "coconut",
          "coconut",
          "coconut",
          "coconut",
          "coconut",
          "coconut",
          "coconut",
          "coconut",
          "coconut",
          "coconut",
          "coconut",
          "coconut",
          "coconut",
          "coconut",
          "coconut",
          "coconut",
          "coconut",
          "coconut",
          "coconut",
          "coconut",
          "coconut",
          "coconut",
          "coconut",
          "coconut",
          "coconut",
          "coconut",
          "coconut",
          "coconut",
          "coconut",
          "coconut",
          "coconut",
          "coconut",
          "coconut",
          "coconut",
          "coconut",
          "coconut",
          "coconut",
          "coconut",
          "coconut",
          "coconut",
          "coconut",
          "coconut",
          "coconut",
          "coconut",
          "coconut",
          "coconut",
          "coconut",
          "coconut",
          "coconut",
          "coconut",
          "coconut",
          "coconut",
          "coconut",
          "coconut",
          "coconut",
          "coconut",
          "coconut",
          "coconut",
          "coconut",
          "coconut",
          "coconut",
          "coconut",
          "coconut",
          "coconut",
          "coconut",
          "coconut",
          "coconut",
          "coconut",
          "coconut",
          "coconut",
          "coconut",
          "coconut",
          "coconut",
          "coconut",
          "coconut",
          "coconut",
          "coconut",
          "coconut",
          "coconut",
          "coconut",
          "coconut",
          "coconut",
          "coconut",
          "coconut",
          "coconut",
          "coconut",
          "coconut",
          "coconut",
          "coconut",
          "coconut",
          "coconut",
          "coconut",
          "coconut",
          "coconut",
          "coconut",
          "cotton",
          "cotton",
          "cotton",
          "cotton",
          "cotton",
          "cotton",
          "cotton",
          "cotton",
          "cotton",
          "cotton",
          "cotton",
          "cotton",
          "cotton",
          "cotton",
          "cotton",
          "cotton",
          "cotton",
          "cotton",
          "cotton",
          "cotton",
          "cotton",
          "cotton",
          "cotton",
          "cotton",
          "cotton",
          "cotton",
          "cotton",
          "cotton",
          "cotton",
          "cotton",
          "cotton",
          "cotton",
          "cotton",
          "cotton",
          "cotton",
          "cotton",
          "cotton",
          "cotton",
          "cotton",
          "cotton",
          "cotton",
          "cotton",
          "cotton",
          "cotton",
          "cotton",
          "cotton",
          "cotton",
          "cotton",
          "cotton",
          "cotton",
          "cotton",
          "cotton",
          "cotton",
          "cotton",
          "cotton",
          "cotton",
          "cotton",
          "cotton",
          "cotton",
          "cotton",
          "cotton",
          "cotton",
          "cotton",
          "cotton",
          "cotton",
          "cotton",
          "cotton",
          "cotton",
          "cotton",
          "cotton",
          "cotton",
          "cotton",
          "cotton",
          "cotton",
          "cotton",
          "cotton",
          "cotton",
          "cotton",
          "cotton",
          "cotton",
          "cotton",
          "cotton",
          "cotton",
          "cotton",
          "cotton",
          "cotton",
          "cotton",
          "cotton",
          "cotton",
          "cotton",
          "cotton",
          "cotton",
          "cotton",
          "cotton",
          "cotton",
          "cotton",
          "cotton",
          "cotton",
          "cotton",
          "cotton",
          "jute",
          "jute",
          "jute",
          "jute",
          "jute",
          "jute",
          "jute",
          "jute",
          "jute",
          "jute",
          "jute",
          "jute",
          "jute",
          "jute",
          "jute",
          "jute",
          "jute",
          "jute",
          "jute",
          "jute",
          "jute",
          "jute",
          "jute",
          "jute",
          "jute",
          "jute",
          "jute",
          "jute",
          "jute",
          "jute",
          "jute",
          "jute",
          "jute",
          "jute",
          "jute",
          "jute",
          "jute",
          "jute",
          "jute",
          "jute",
          "jute",
          "jute",
          "jute",
          "jute",
          "jute",
          "jute",
          "jute",
          "jute",
          "jute",
          "jute",
          "jute",
          "jute",
          "jute",
          "jute",
          "jute",
          "jute",
          "jute",
          "jute",
          "jute",
          "jute",
          "jute",
          "jute",
          "jute",
          "jute",
          "jute",
          "jute",
          "jute",
          "jute",
          "jute",
          "jute",
          "jute",
          "jute",
          "jute",
          "jute",
          "jute",
          "jute",
          "jute",
          "jute",
          "jute",
          "jute",
          "jute",
          "jute",
          "jute",
          "jute",
          "jute",
          "jute",
          "jute",
          "jute",
          "jute",
          "jute",
          "jute",
          "jute",
          "jute",
          "jute",
          "jute",
          "jute",
          "jute",
          "jute",
          "jute",
          "jute",
          "coffee",
          "coffee",
          "coffee",
          "coffee",
          "coffee",
          "coffee",
          "coffee",
          "coffee",
          "coffee",
          "coffee",
          "coffee",
          "coffee",
          "coffee",
          "coffee",
          "coffee",
          "coffee",
          "coffee",
          "coffee",
          "coffee",
          "coffee",
          "coffee",
          "coffee",
          "coffee",
          "coffee",
          "coffee",
          "coffee",
          "coffee",
          "coffee",
          "coffee",
          "coffee",
          "coffee",
          "coffee",
          "coffee",
          "coffee",
          "coffee",
          "coffee",
          "coffee",
          "coffee",
          "coffee",
          "coffee",
          "coffee",
          "coffee",
          "coffee",
          "coffee",
          "coffee",
          "coffee",
          "coffee",
          "coffee",
          "coffee",
          "coffee",
          "coffee",
          "coffee",
          "coffee",
          "coffee",
          "coffee",
          "coffee",
          "coffee",
          "coffee",
          "coffee",
          "coffee",
          "coffee",
          "coffee",
          "coffee",
          "coffee",
          "coffee",
          "coffee",
          "coffee",
          "coffee",
          "coffee",
          "coffee",
          "coffee",
          "coffee",
          "coffee",
          "coffee",
          "coffee",
          "coffee",
          "coffee",
          "coffee",
          "coffee",
          "coffee",
          "coffee",
          "coffee",
          "coffee",
          "coffee",
          "coffee",
          "coffee",
          "coffee",
          "coffee",
          "coffee",
          "coffee",
          "coffee",
          "coffee",
          "coffee",
          "coffee",
          "coffee",
          "coffee",
          "coffee",
          "coffee",
          "coffee",
          "coffee"
         ],
         "yaxis": "y"
        }
       ],
       "layout": {
        "legend": {
         "tracegroupgap": 0
        },
        "template": {
         "data": {
          "bar": [
           {
            "error_x": {
             "color": "#2a3f5f"
            },
            "error_y": {
             "color": "#2a3f5f"
            },
            "marker": {
             "line": {
              "color": "#E5ECF6",
              "width": 0.5
             },
             "pattern": {
              "fillmode": "overlay",
              "size": 10,
              "solidity": 0.2
             }
            },
            "type": "bar"
           }
          ],
          "barpolar": [
           {
            "marker": {
             "line": {
              "color": "#E5ECF6",
              "width": 0.5
             },
             "pattern": {
              "fillmode": "overlay",
              "size": 10,
              "solidity": 0.2
             }
            },
            "type": "barpolar"
           }
          ],
          "carpet": [
           {
            "aaxis": {
             "endlinecolor": "#2a3f5f",
             "gridcolor": "white",
             "linecolor": "white",
             "minorgridcolor": "white",
             "startlinecolor": "#2a3f5f"
            },
            "baxis": {
             "endlinecolor": "#2a3f5f",
             "gridcolor": "white",
             "linecolor": "white",
             "minorgridcolor": "white",
             "startlinecolor": "#2a3f5f"
            },
            "type": "carpet"
           }
          ],
          "choropleth": [
           {
            "colorbar": {
             "outlinewidth": 0,
             "ticks": ""
            },
            "type": "choropleth"
           }
          ],
          "contour": [
           {
            "colorbar": {
             "outlinewidth": 0,
             "ticks": ""
            },
            "colorscale": [
             [
              0,
              "#0d0887"
             ],
             [
              0.1111111111111111,
              "#46039f"
             ],
             [
              0.2222222222222222,
              "#7201a8"
             ],
             [
              0.3333333333333333,
              "#9c179e"
             ],
             [
              0.4444444444444444,
              "#bd3786"
             ],
             [
              0.5555555555555556,
              "#d8576b"
             ],
             [
              0.6666666666666666,
              "#ed7953"
             ],
             [
              0.7777777777777778,
              "#fb9f3a"
             ],
             [
              0.8888888888888888,
              "#fdca26"
             ],
             [
              1,
              "#f0f921"
             ]
            ],
            "type": "contour"
           }
          ],
          "contourcarpet": [
           {
            "colorbar": {
             "outlinewidth": 0,
             "ticks": ""
            },
            "type": "contourcarpet"
           }
          ],
          "heatmap": [
           {
            "colorbar": {
             "outlinewidth": 0,
             "ticks": ""
            },
            "colorscale": [
             [
              0,
              "#0d0887"
             ],
             [
              0.1111111111111111,
              "#46039f"
             ],
             [
              0.2222222222222222,
              "#7201a8"
             ],
             [
              0.3333333333333333,
              "#9c179e"
             ],
             [
              0.4444444444444444,
              "#bd3786"
             ],
             [
              0.5555555555555556,
              "#d8576b"
             ],
             [
              0.6666666666666666,
              "#ed7953"
             ],
             [
              0.7777777777777778,
              "#fb9f3a"
             ],
             [
              0.8888888888888888,
              "#fdca26"
             ],
             [
              1,
              "#f0f921"
             ]
            ],
            "type": "heatmap"
           }
          ],
          "histogram": [
           {
            "marker": {
             "pattern": {
              "fillmode": "overlay",
              "size": 10,
              "solidity": 0.2
             }
            },
            "type": "histogram"
           }
          ],
          "histogram2d": [
           {
            "colorbar": {
             "outlinewidth": 0,
             "ticks": ""
            },
            "colorscale": [
             [
              0,
              "#0d0887"
             ],
             [
              0.1111111111111111,
              "#46039f"
             ],
             [
              0.2222222222222222,
              "#7201a8"
             ],
             [
              0.3333333333333333,
              "#9c179e"
             ],
             [
              0.4444444444444444,
              "#bd3786"
             ],
             [
              0.5555555555555556,
              "#d8576b"
             ],
             [
              0.6666666666666666,
              "#ed7953"
             ],
             [
              0.7777777777777778,
              "#fb9f3a"
             ],
             [
              0.8888888888888888,
              "#fdca26"
             ],
             [
              1,
              "#f0f921"
             ]
            ],
            "type": "histogram2d"
           }
          ],
          "histogram2dcontour": [
           {
            "colorbar": {
             "outlinewidth": 0,
             "ticks": ""
            },
            "colorscale": [
             [
              0,
              "#0d0887"
             ],
             [
              0.1111111111111111,
              "#46039f"
             ],
             [
              0.2222222222222222,
              "#7201a8"
             ],
             [
              0.3333333333333333,
              "#9c179e"
             ],
             [
              0.4444444444444444,
              "#bd3786"
             ],
             [
              0.5555555555555556,
              "#d8576b"
             ],
             [
              0.6666666666666666,
              "#ed7953"
             ],
             [
              0.7777777777777778,
              "#fb9f3a"
             ],
             [
              0.8888888888888888,
              "#fdca26"
             ],
             [
              1,
              "#f0f921"
             ]
            ],
            "type": "histogram2dcontour"
           }
          ],
          "mesh3d": [
           {
            "colorbar": {
             "outlinewidth": 0,
             "ticks": ""
            },
            "type": "mesh3d"
           }
          ],
          "parcoords": [
           {
            "line": {
             "colorbar": {
              "outlinewidth": 0,
              "ticks": ""
             }
            },
            "type": "parcoords"
           }
          ],
          "pie": [
           {
            "automargin": true,
            "type": "pie"
           }
          ],
          "scatter": [
           {
            "fillpattern": {
             "fillmode": "overlay",
             "size": 10,
             "solidity": 0.2
            },
            "type": "scatter"
           }
          ],
          "scatter3d": [
           {
            "line": {
             "colorbar": {
              "outlinewidth": 0,
              "ticks": ""
             }
            },
            "marker": {
             "colorbar": {
              "outlinewidth": 0,
              "ticks": ""
             }
            },
            "type": "scatter3d"
           }
          ],
          "scattercarpet": [
           {
            "marker": {
             "colorbar": {
              "outlinewidth": 0,
              "ticks": ""
             }
            },
            "type": "scattercarpet"
           }
          ],
          "scattergeo": [
           {
            "marker": {
             "colorbar": {
              "outlinewidth": 0,
              "ticks": ""
             }
            },
            "type": "scattergeo"
           }
          ],
          "scattergl": [
           {
            "marker": {
             "colorbar": {
              "outlinewidth": 0,
              "ticks": ""
             }
            },
            "type": "scattergl"
           }
          ],
          "scattermap": [
           {
            "marker": {
             "colorbar": {
              "outlinewidth": 0,
              "ticks": ""
             }
            },
            "type": "scattermap"
           }
          ],
          "scattermapbox": [
           {
            "marker": {
             "colorbar": {
              "outlinewidth": 0,
              "ticks": ""
             }
            },
            "type": "scattermapbox"
           }
          ],
          "scatterpolar": [
           {
            "marker": {
             "colorbar": {
              "outlinewidth": 0,
              "ticks": ""
             }
            },
            "type": "scatterpolar"
           }
          ],
          "scatterpolargl": [
           {
            "marker": {
             "colorbar": {
              "outlinewidth": 0,
              "ticks": ""
             }
            },
            "type": "scatterpolargl"
           }
          ],
          "scatterternary": [
           {
            "marker": {
             "colorbar": {
              "outlinewidth": 0,
              "ticks": ""
             }
            },
            "type": "scatterternary"
           }
          ],
          "surface": [
           {
            "colorbar": {
             "outlinewidth": 0,
             "ticks": ""
            },
            "colorscale": [
             [
              0,
              "#0d0887"
             ],
             [
              0.1111111111111111,
              "#46039f"
             ],
             [
              0.2222222222222222,
              "#7201a8"
             ],
             [
              0.3333333333333333,
              "#9c179e"
             ],
             [
              0.4444444444444444,
              "#bd3786"
             ],
             [
              0.5555555555555556,
              "#d8576b"
             ],
             [
              0.6666666666666666,
              "#ed7953"
             ],
             [
              0.7777777777777778,
              "#fb9f3a"
             ],
             [
              0.8888888888888888,
              "#fdca26"
             ],
             [
              1,
              "#f0f921"
             ]
            ],
            "type": "surface"
           }
          ],
          "table": [
           {
            "cells": {
             "fill": {
              "color": "#EBF0F8"
             },
             "line": {
              "color": "white"
             }
            },
            "header": {
             "fill": {
              "color": "#C8D4E3"
             },
             "line": {
              "color": "white"
             }
            },
            "type": "table"
           }
          ]
         },
         "layout": {
          "annotationdefaults": {
           "arrowcolor": "#2a3f5f",
           "arrowhead": 0,
           "arrowwidth": 1
          },
          "autotypenumbers": "strict",
          "coloraxis": {
           "colorbar": {
            "outlinewidth": 0,
            "ticks": ""
           }
          },
          "colorscale": {
           "diverging": [
            [
             0,
             "#8e0152"
            ],
            [
             0.1,
             "#c51b7d"
            ],
            [
             0.2,
             "#de77ae"
            ],
            [
             0.3,
             "#f1b6da"
            ],
            [
             0.4,
             "#fde0ef"
            ],
            [
             0.5,
             "#f7f7f7"
            ],
            [
             0.6,
             "#e6f5d0"
            ],
            [
             0.7,
             "#b8e186"
            ],
            [
             0.8,
             "#7fbc41"
            ],
            [
             0.9,
             "#4d9221"
            ],
            [
             1,
             "#276419"
            ]
           ],
           "sequential": [
            [
             0,
             "#0d0887"
            ],
            [
             0.1111111111111111,
             "#46039f"
            ],
            [
             0.2222222222222222,
             "#7201a8"
            ],
            [
             0.3333333333333333,
             "#9c179e"
            ],
            [
             0.4444444444444444,
             "#bd3786"
            ],
            [
             0.5555555555555556,
             "#d8576b"
            ],
            [
             0.6666666666666666,
             "#ed7953"
            ],
            [
             0.7777777777777778,
             "#fb9f3a"
            ],
            [
             0.8888888888888888,
             "#fdca26"
            ],
            [
             1,
             "#f0f921"
            ]
           ],
           "sequentialminus": [
            [
             0,
             "#0d0887"
            ],
            [
             0.1111111111111111,
             "#46039f"
            ],
            [
             0.2222222222222222,
             "#7201a8"
            ],
            [
             0.3333333333333333,
             "#9c179e"
            ],
            [
             0.4444444444444444,
             "#bd3786"
            ],
            [
             0.5555555555555556,
             "#d8576b"
            ],
            [
             0.6666666666666666,
             "#ed7953"
            ],
            [
             0.7777777777777778,
             "#fb9f3a"
            ],
            [
             0.8888888888888888,
             "#fdca26"
            ],
            [
             1,
             "#f0f921"
            ]
           ]
          },
          "colorway": [
           "#636efa",
           "#EF553B",
           "#00cc96",
           "#ab63fa",
           "#FFA15A",
           "#19d3f3",
           "#FF6692",
           "#B6E880",
           "#FF97FF",
           "#FECB52"
          ],
          "font": {
           "color": "#2a3f5f"
          },
          "geo": {
           "bgcolor": "white",
           "lakecolor": "white",
           "landcolor": "#E5ECF6",
           "showlakes": true,
           "showland": true,
           "subunitcolor": "white"
          },
          "hoverlabel": {
           "align": "left"
          },
          "hovermode": "closest",
          "mapbox": {
           "style": "light"
          },
          "paper_bgcolor": "white",
          "plot_bgcolor": "#E5ECF6",
          "polar": {
           "angularaxis": {
            "gridcolor": "white",
            "linecolor": "white",
            "ticks": ""
           },
           "bgcolor": "#E5ECF6",
           "radialaxis": {
            "gridcolor": "white",
            "linecolor": "white",
            "ticks": ""
           }
          },
          "scene": {
           "xaxis": {
            "backgroundcolor": "#E5ECF6",
            "gridcolor": "white",
            "gridwidth": 2,
            "linecolor": "white",
            "showbackground": true,
            "ticks": "",
            "zerolinecolor": "white"
           },
           "yaxis": {
            "backgroundcolor": "#E5ECF6",
            "gridcolor": "white",
            "gridwidth": 2,
            "linecolor": "white",
            "showbackground": true,
            "ticks": "",
            "zerolinecolor": "white"
           },
           "zaxis": {
            "backgroundcolor": "#E5ECF6",
            "gridcolor": "white",
            "gridwidth": 2,
            "linecolor": "white",
            "showbackground": true,
            "ticks": "",
            "zerolinecolor": "white"
           }
          },
          "shapedefaults": {
           "line": {
            "color": "#2a3f5f"
           }
          },
          "ternary": {
           "aaxis": {
            "gridcolor": "white",
            "linecolor": "white",
            "ticks": ""
           },
           "baxis": {
            "gridcolor": "white",
            "linecolor": "white",
            "ticks": ""
           },
           "bgcolor": "#E5ECF6",
           "caxis": {
            "gridcolor": "white",
            "linecolor": "white",
            "ticks": ""
           }
          },
          "title": {
           "x": 0.05
          },
          "xaxis": {
           "automargin": true,
           "gridcolor": "white",
           "linecolor": "white",
           "ticks": "",
           "title": {
            "standoff": 15
           },
           "zerolinecolor": "white",
           "zerolinewidth": 2
          },
          "yaxis": {
           "automargin": true,
           "gridcolor": "white",
           "linecolor": "white",
           "ticks": "",
           "title": {
            "standoff": 15
           },
           "zerolinecolor": "white",
           "zerolinewidth": 2
          }
         }
        },
        "title": {
         "text": "Phosphorous content vs label"
        },
        "xaxis": {
         "anchor": "y",
         "domain": [
          0,
          1
         ],
         "title": {
          "text": "P"
         }
        },
        "yaxis": {
         "anchor": "x",
         "domain": [
          0,
          1
         ],
         "title": {
          "text": "label"
         }
        }
       }
      }
     },
     "metadata": {},
     "output_type": "display_data"
    }
   ],
   "source": [
    "fig = px.scatter(raw_df , x='P',y='label',title='Phosphorous content vs label')\n",
    "fig.update_traces(marker_size=8)\n",
    "fig.show()"
   ]
  },
  {
   "cell_type": "code",
   "execution_count": 142,
   "id": "52124cb5",
   "metadata": {},
   "outputs": [
    {
     "data": {
      "text/plain": [
       "<Figure size 640x480 with 0 Axes>"
      ]
     },
     "metadata": {},
     "output_type": "display_data"
    }
   ],
   "source": [
    "plt.savefig(\"../artifacts/plots/Phosphorous_content_vs_label.png\")"
   ]
  },
  {
   "cell_type": "code",
   "execution_count": 143,
   "id": "453942b3",
   "metadata": {},
   "outputs": [
    {
     "data": {
      "application/vnd.plotly.v1+json": {
       "config": {
        "plotlyServerURL": "https://plot.ly"
       },
       "data": [
        {
         "hovertemplate": "K=%{x}<br>label=%{y}<extra></extra>",
         "legendgroup": "",
         "marker": {
          "color": "#636efa",
          "size": 8,
          "symbol": "circle"
         },
         "mode": "markers",
         "name": "",
         "showlegend": false,
         "type": "scattergl",
         "x": {
          "bdata": "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",
          "dtype": "i2"
         },
         "xaxis": "x",
         "y": [
          "rice",
          "rice",
          "rice",
          "rice",
          "rice",
          "rice",
          "rice",
          "rice",
          "rice",
          "rice",
          "rice",
          "rice",
          "rice",
          "rice",
          "rice",
          "rice",
          "rice",
          "rice",
          "rice",
          "rice",
          "rice",
          "rice",
          "rice",
          "rice",
          "rice",
          "rice",
          "rice",
          "rice",
          "rice",
          "rice",
          "rice",
          "rice",
          "rice",
          "rice",
          "rice",
          "rice",
          "rice",
          "rice",
          "rice",
          "rice",
          "rice",
          "rice",
          "rice",
          "rice",
          "rice",
          "rice",
          "rice",
          "rice",
          "rice",
          "rice",
          "rice",
          "rice",
          "rice",
          "rice",
          "rice",
          "rice",
          "rice",
          "rice",
          "rice",
          "rice",
          "rice",
          "rice",
          "rice",
          "rice",
          "rice",
          "rice",
          "rice",
          "rice",
          "rice",
          "rice",
          "rice",
          "rice",
          "rice",
          "rice",
          "rice",
          "rice",
          "rice",
          "rice",
          "rice",
          "rice",
          "rice",
          "rice",
          "rice",
          "rice",
          "rice",
          "rice",
          "rice",
          "rice",
          "rice",
          "rice",
          "rice",
          "rice",
          "rice",
          "rice",
          "rice",
          "rice",
          "rice",
          "rice",
          "rice",
          "rice",
          "maize",
          "maize",
          "maize",
          "maize",
          "maize",
          "maize",
          "maize",
          "maize",
          "maize",
          "maize",
          "maize",
          "maize",
          "maize",
          "maize",
          "maize",
          "maize",
          "maize",
          "maize",
          "maize",
          "maize",
          "maize",
          "maize",
          "maize",
          "maize",
          "maize",
          "maize",
          "maize",
          "maize",
          "maize",
          "maize",
          "maize",
          "maize",
          "maize",
          "maize",
          "maize",
          "maize",
          "maize",
          "maize",
          "maize",
          "maize",
          "maize",
          "maize",
          "maize",
          "maize",
          "maize",
          "maize",
          "maize",
          "maize",
          "maize",
          "maize",
          "maize",
          "maize",
          "maize",
          "maize",
          "maize",
          "maize",
          "maize",
          "maize",
          "maize",
          "maize",
          "maize",
          "maize",
          "maize",
          "maize",
          "maize",
          "maize",
          "maize",
          "maize",
          "maize",
          "maize",
          "maize",
          "maize",
          "maize",
          "maize",
          "maize",
          "maize",
          "maize",
          "maize",
          "maize",
          "maize",
          "maize",
          "maize",
          "maize",
          "maize",
          "maize",
          "maize",
          "maize",
          "maize",
          "maize",
          "maize",
          "maize",
          "maize",
          "maize",
          "maize",
          "maize",
          "maize",
          "maize",
          "maize",
          "maize",
          "maize",
          "chickpea",
          "chickpea",
          "chickpea",
          "chickpea",
          "chickpea",
          "chickpea",
          "chickpea",
          "chickpea",
          "chickpea",
          "chickpea",
          "chickpea",
          "chickpea",
          "chickpea",
          "chickpea",
          "chickpea",
          "chickpea",
          "chickpea",
          "chickpea",
          "chickpea",
          "chickpea",
          "chickpea",
          "chickpea",
          "chickpea",
          "chickpea",
          "chickpea",
          "chickpea",
          "chickpea",
          "chickpea",
          "chickpea",
          "chickpea",
          "chickpea",
          "chickpea",
          "chickpea",
          "chickpea",
          "chickpea",
          "chickpea",
          "chickpea",
          "chickpea",
          "chickpea",
          "chickpea",
          "chickpea",
          "chickpea",
          "chickpea",
          "chickpea",
          "chickpea",
          "chickpea",
          "chickpea",
          "chickpea",
          "chickpea",
          "chickpea",
          "chickpea",
          "chickpea",
          "chickpea",
          "chickpea",
          "chickpea",
          "chickpea",
          "chickpea",
          "chickpea",
          "chickpea",
          "chickpea",
          "chickpea",
          "chickpea",
          "chickpea",
          "chickpea",
          "chickpea",
          "chickpea",
          "chickpea",
          "chickpea",
          "chickpea",
          "chickpea",
          "chickpea",
          "chickpea",
          "chickpea",
          "chickpea",
          "chickpea",
          "chickpea",
          "chickpea",
          "chickpea",
          "chickpea",
          "chickpea",
          "chickpea",
          "chickpea",
          "chickpea",
          "chickpea",
          "chickpea",
          "chickpea",
          "chickpea",
          "chickpea",
          "chickpea",
          "chickpea",
          "chickpea",
          "chickpea",
          "chickpea",
          "chickpea",
          "chickpea",
          "chickpea",
          "chickpea",
          "chickpea",
          "chickpea",
          "chickpea",
          "kidneybeans",
          "kidneybeans",
          "kidneybeans",
          "kidneybeans",
          "kidneybeans",
          "kidneybeans",
          "kidneybeans",
          "kidneybeans",
          "kidneybeans",
          "kidneybeans",
          "kidneybeans",
          "kidneybeans",
          "kidneybeans",
          "kidneybeans",
          "kidneybeans",
          "kidneybeans",
          "kidneybeans",
          "kidneybeans",
          "kidneybeans",
          "kidneybeans",
          "kidneybeans",
          "kidneybeans",
          "kidneybeans",
          "kidneybeans",
          "kidneybeans",
          "kidneybeans",
          "kidneybeans",
          "kidneybeans",
          "kidneybeans",
          "kidneybeans",
          "kidneybeans",
          "kidneybeans",
          "kidneybeans",
          "kidneybeans",
          "kidneybeans",
          "kidneybeans",
          "kidneybeans",
          "kidneybeans",
          "kidneybeans",
          "kidneybeans",
          "kidneybeans",
          "kidneybeans",
          "kidneybeans",
          "kidneybeans",
          "kidneybeans",
          "kidneybeans",
          "kidneybeans",
          "kidneybeans",
          "kidneybeans",
          "kidneybeans",
          "kidneybeans",
          "kidneybeans",
          "kidneybeans",
          "kidneybeans",
          "kidneybeans",
          "kidneybeans",
          "kidneybeans",
          "kidneybeans",
          "kidneybeans",
          "kidneybeans",
          "kidneybeans",
          "kidneybeans",
          "kidneybeans",
          "kidneybeans",
          "kidneybeans",
          "kidneybeans",
          "kidneybeans",
          "kidneybeans",
          "kidneybeans",
          "kidneybeans",
          "kidneybeans",
          "kidneybeans",
          "kidneybeans",
          "kidneybeans",
          "kidneybeans",
          "kidneybeans",
          "kidneybeans",
          "kidneybeans",
          "kidneybeans",
          "kidneybeans",
          "kidneybeans",
          "kidneybeans",
          "kidneybeans",
          "kidneybeans",
          "kidneybeans",
          "kidneybeans",
          "kidneybeans",
          "kidneybeans",
          "kidneybeans",
          "kidneybeans",
          "kidneybeans",
          "kidneybeans",
          "kidneybeans",
          "kidneybeans",
          "kidneybeans",
          "kidneybeans",
          "kidneybeans",
          "kidneybeans",
          "kidneybeans",
          "kidneybeans",
          "pigeonpeas",
          "pigeonpeas",
          "pigeonpeas",
          "pigeonpeas",
          "pigeonpeas",
          "pigeonpeas",
          "pigeonpeas",
          "pigeonpeas",
          "pigeonpeas",
          "pigeonpeas",
          "pigeonpeas",
          "pigeonpeas",
          "pigeonpeas",
          "pigeonpeas",
          "pigeonpeas",
          "pigeonpeas",
          "pigeonpeas",
          "pigeonpeas",
          "pigeonpeas",
          "pigeonpeas",
          "pigeonpeas",
          "pigeonpeas",
          "pigeonpeas",
          "pigeonpeas",
          "pigeonpeas",
          "pigeonpeas",
          "pigeonpeas",
          "pigeonpeas",
          "pigeonpeas",
          "pigeonpeas",
          "pigeonpeas",
          "pigeonpeas",
          "pigeonpeas",
          "pigeonpeas",
          "pigeonpeas",
          "pigeonpeas",
          "pigeonpeas",
          "pigeonpeas",
          "pigeonpeas",
          "pigeonpeas",
          "pigeonpeas",
          "pigeonpeas",
          "pigeonpeas",
          "pigeonpeas",
          "pigeonpeas",
          "pigeonpeas",
          "pigeonpeas",
          "pigeonpeas",
          "pigeonpeas",
          "pigeonpeas",
          "pigeonpeas",
          "pigeonpeas",
          "pigeonpeas",
          "pigeonpeas",
          "pigeonpeas",
          "pigeonpeas",
          "pigeonpeas",
          "pigeonpeas",
          "pigeonpeas",
          "pigeonpeas",
          "pigeonpeas",
          "pigeonpeas",
          "pigeonpeas",
          "pigeonpeas",
          "pigeonpeas",
          "pigeonpeas",
          "pigeonpeas",
          "pigeonpeas",
          "pigeonpeas",
          "pigeonpeas",
          "pigeonpeas",
          "pigeonpeas",
          "pigeonpeas",
          "pigeonpeas",
          "pigeonpeas",
          "pigeonpeas",
          "pigeonpeas",
          "pigeonpeas",
          "pigeonpeas",
          "pigeonpeas",
          "pigeonpeas",
          "pigeonpeas",
          "pigeonpeas",
          "pigeonpeas",
          "pigeonpeas",
          "pigeonpeas",
          "pigeonpeas",
          "pigeonpeas",
          "pigeonpeas",
          "pigeonpeas",
          "pigeonpeas",
          "pigeonpeas",
          "pigeonpeas",
          "pigeonpeas",
          "pigeonpeas",
          "pigeonpeas",
          "pigeonpeas",
          "pigeonpeas",
          "pigeonpeas",
          "pigeonpeas",
          "mothbeans",
          "mothbeans",
          "mothbeans",
          "mothbeans",
          "mothbeans",
          "mothbeans",
          "mothbeans",
          "mothbeans",
          "mothbeans",
          "mothbeans",
          "mothbeans",
          "mothbeans",
          "mothbeans",
          "mothbeans",
          "mothbeans",
          "mothbeans",
          "mothbeans",
          "mothbeans",
          "mothbeans",
          "mothbeans",
          "mothbeans",
          "mothbeans",
          "mothbeans",
          "mothbeans",
          "mothbeans",
          "mothbeans",
          "mothbeans",
          "mothbeans",
          "mothbeans",
          "mothbeans",
          "mothbeans",
          "mothbeans",
          "mothbeans",
          "mothbeans",
          "mothbeans",
          "mothbeans",
          "mothbeans",
          "mothbeans",
          "mothbeans",
          "mothbeans",
          "mothbeans",
          "mothbeans",
          "mothbeans",
          "mothbeans",
          "mothbeans",
          "mothbeans",
          "mothbeans",
          "mothbeans",
          "mothbeans",
          "mothbeans",
          "mothbeans",
          "mothbeans",
          "mothbeans",
          "mothbeans",
          "mothbeans",
          "mothbeans",
          "mothbeans",
          "mothbeans",
          "mothbeans",
          "mothbeans",
          "mothbeans",
          "mothbeans",
          "mothbeans",
          "mothbeans",
          "mothbeans",
          "mothbeans",
          "mothbeans",
          "mothbeans",
          "mothbeans",
          "mothbeans",
          "mothbeans",
          "mothbeans",
          "mothbeans",
          "mothbeans",
          "mothbeans",
          "mothbeans",
          "mothbeans",
          "mothbeans",
          "mothbeans",
          "mothbeans",
          "mothbeans",
          "mothbeans",
          "mothbeans",
          "mothbeans",
          "mothbeans",
          "mothbeans",
          "mothbeans",
          "mothbeans",
          "mothbeans",
          "mothbeans",
          "mothbeans",
          "mothbeans",
          "mothbeans",
          "mothbeans",
          "mothbeans",
          "mothbeans",
          "mothbeans",
          "mothbeans",
          "mothbeans",
          "mothbeans",
          "mungbean",
          "mungbean",
          "mungbean",
          "mungbean",
          "mungbean",
          "mungbean",
          "mungbean",
          "mungbean",
          "mungbean",
          "mungbean",
          "mungbean",
          "mungbean",
          "mungbean",
          "mungbean",
          "mungbean",
          "mungbean",
          "mungbean",
          "mungbean",
          "mungbean",
          "mungbean",
          "mungbean",
          "mungbean",
          "mungbean",
          "mungbean",
          "mungbean",
          "mungbean",
          "mungbean",
          "mungbean",
          "mungbean",
          "mungbean",
          "mungbean",
          "mungbean",
          "mungbean",
          "mungbean",
          "mungbean",
          "mungbean",
          "mungbean",
          "mungbean",
          "mungbean",
          "mungbean",
          "mungbean",
          "mungbean",
          "mungbean",
          "mungbean",
          "mungbean",
          "mungbean",
          "mungbean",
          "mungbean",
          "mungbean",
          "mungbean",
          "mungbean",
          "mungbean",
          "mungbean",
          "mungbean",
          "mungbean",
          "mungbean",
          "mungbean",
          "mungbean",
          "mungbean",
          "mungbean",
          "mungbean",
          "mungbean",
          "mungbean",
          "mungbean",
          "mungbean",
          "mungbean",
          "mungbean",
          "mungbean",
          "mungbean",
          "mungbean",
          "mungbean",
          "mungbean",
          "mungbean",
          "mungbean",
          "mungbean",
          "mungbean",
          "mungbean",
          "mungbean",
          "mungbean",
          "mungbean",
          "mungbean",
          "mungbean",
          "mungbean",
          "mungbean",
          "mungbean",
          "mungbean",
          "mungbean",
          "mungbean",
          "mungbean",
          "mungbean",
          "mungbean",
          "mungbean",
          "mungbean",
          "mungbean",
          "mungbean",
          "mungbean",
          "mungbean",
          "mungbean",
          "mungbean",
          "mungbean",
          "blackgram",
          "blackgram",
          "blackgram",
          "blackgram",
          "blackgram",
          "blackgram",
          "blackgram",
          "blackgram",
          "blackgram",
          "blackgram",
          "blackgram",
          "blackgram",
          "blackgram",
          "blackgram",
          "blackgram",
          "blackgram",
          "blackgram",
          "blackgram",
          "blackgram",
          "blackgram",
          "blackgram",
          "blackgram",
          "blackgram",
          "blackgram",
          "blackgram",
          "blackgram",
          "blackgram",
          "blackgram",
          "blackgram",
          "blackgram",
          "blackgram",
          "blackgram",
          "blackgram",
          "blackgram",
          "blackgram",
          "blackgram",
          "blackgram",
          "blackgram",
          "blackgram",
          "blackgram",
          "blackgram",
          "blackgram",
          "blackgram",
          "blackgram",
          "blackgram",
          "blackgram",
          "blackgram",
          "blackgram",
          "blackgram",
          "blackgram",
          "blackgram",
          "blackgram",
          "blackgram",
          "blackgram",
          "blackgram",
          "blackgram",
          "blackgram",
          "blackgram",
          "blackgram",
          "blackgram",
          "blackgram",
          "blackgram",
          "blackgram",
          "blackgram",
          "blackgram",
          "blackgram",
          "blackgram",
          "blackgram",
          "blackgram",
          "blackgram",
          "blackgram",
          "blackgram",
          "blackgram",
          "blackgram",
          "blackgram",
          "blackgram",
          "blackgram",
          "blackgram",
          "blackgram",
          "blackgram",
          "blackgram",
          "blackgram",
          "blackgram",
          "blackgram",
          "blackgram",
          "blackgram",
          "blackgram",
          "blackgram",
          "blackgram",
          "blackgram",
          "blackgram",
          "blackgram",
          "blackgram",
          "blackgram",
          "blackgram",
          "blackgram",
          "blackgram",
          "blackgram",
          "blackgram",
          "blackgram",
          "lentil",
          "lentil",
          "lentil",
          "lentil",
          "lentil",
          "lentil",
          "lentil",
          "lentil",
          "lentil",
          "lentil",
          "lentil",
          "lentil",
          "lentil",
          "lentil",
          "lentil",
          "lentil",
          "lentil",
          "lentil",
          "lentil",
          "lentil",
          "lentil",
          "lentil",
          "lentil",
          "lentil",
          "lentil",
          "lentil",
          "lentil",
          "lentil",
          "lentil",
          "lentil",
          "lentil",
          "lentil",
          "lentil",
          "lentil",
          "lentil",
          "lentil",
          "lentil",
          "lentil",
          "lentil",
          "lentil",
          "lentil",
          "lentil",
          "lentil",
          "lentil",
          "lentil",
          "lentil",
          "lentil",
          "lentil",
          "lentil",
          "lentil",
          "lentil",
          "lentil",
          "lentil",
          "lentil",
          "lentil",
          "lentil",
          "lentil",
          "lentil",
          "lentil",
          "lentil",
          "lentil",
          "lentil",
          "lentil",
          "lentil",
          "lentil",
          "lentil",
          "lentil",
          "lentil",
          "lentil",
          "lentil",
          "lentil",
          "lentil",
          "lentil",
          "lentil",
          "lentil",
          "lentil",
          "lentil",
          "lentil",
          "lentil",
          "lentil",
          "lentil",
          "lentil",
          "lentil",
          "lentil",
          "lentil",
          "lentil",
          "lentil",
          "lentil",
          "lentil",
          "lentil",
          "lentil",
          "lentil",
          "lentil",
          "lentil",
          "lentil",
          "lentil",
          "lentil",
          "lentil",
          "lentil",
          "lentil",
          "pomegranate",
          "pomegranate",
          "pomegranate",
          "pomegranate",
          "pomegranate",
          "pomegranate",
          "pomegranate",
          "pomegranate",
          "pomegranate",
          "pomegranate",
          "pomegranate",
          "pomegranate",
          "pomegranate",
          "pomegranate",
          "pomegranate",
          "pomegranate",
          "pomegranate",
          "pomegranate",
          "pomegranate",
          "pomegranate",
          "pomegranate",
          "pomegranate",
          "pomegranate",
          "pomegranate",
          "pomegranate",
          "pomegranate",
          "pomegranate",
          "pomegranate",
          "pomegranate",
          "pomegranate",
          "pomegranate",
          "pomegranate",
          "pomegranate",
          "pomegranate",
          "pomegranate",
          "pomegranate",
          "pomegranate",
          "pomegranate",
          "pomegranate",
          "pomegranate",
          "pomegranate",
          "pomegranate",
          "pomegranate",
          "pomegranate",
          "pomegranate",
          "pomegranate",
          "pomegranate",
          "pomegranate",
          "pomegranate",
          "pomegranate",
          "pomegranate",
          "pomegranate",
          "pomegranate",
          "pomegranate",
          "pomegranate",
          "pomegranate",
          "pomegranate",
          "pomegranate",
          "pomegranate",
          "pomegranate",
          "pomegranate",
          "pomegranate",
          "pomegranate",
          "pomegranate",
          "pomegranate",
          "pomegranate",
          "pomegranate",
          "pomegranate",
          "pomegranate",
          "pomegranate",
          "pomegranate",
          "pomegranate",
          "pomegranate",
          "pomegranate",
          "pomegranate",
          "pomegranate",
          "pomegranate",
          "pomegranate",
          "pomegranate",
          "pomegranate",
          "pomegranate",
          "pomegranate",
          "pomegranate",
          "pomegranate",
          "pomegranate",
          "pomegranate",
          "pomegranate",
          "pomegranate",
          "pomegranate",
          "pomegranate",
          "pomegranate",
          "pomegranate",
          "pomegranate",
          "pomegranate",
          "pomegranate",
          "pomegranate",
          "pomegranate",
          "pomegranate",
          "pomegranate",
          "pomegranate",
          "banana",
          "banana",
          "banana",
          "banana",
          "banana",
          "banana",
          "banana",
          "banana",
          "banana",
          "banana",
          "banana",
          "banana",
          "banana",
          "banana",
          "banana",
          "banana",
          "banana",
          "banana",
          "banana",
          "banana",
          "banana",
          "banana",
          "banana",
          "banana",
          "banana",
          "banana",
          "banana",
          "banana",
          "banana",
          "banana",
          "banana",
          "banana",
          "banana",
          "banana",
          "banana",
          "banana",
          "banana",
          "banana",
          "banana",
          "banana",
          "banana",
          "banana",
          "banana",
          "banana",
          "banana",
          "banana",
          "banana",
          "banana",
          "banana",
          "banana",
          "banana",
          "banana",
          "banana",
          "banana",
          "banana",
          "banana",
          "banana",
          "banana",
          "banana",
          "banana",
          "banana",
          "banana",
          "banana",
          "banana",
          "banana",
          "banana",
          "banana",
          "banana",
          "banana",
          "banana",
          "banana",
          "banana",
          "banana",
          "banana",
          "banana",
          "banana",
          "banana",
          "banana",
          "banana",
          "banana",
          "banana",
          "banana",
          "banana",
          "banana",
          "banana",
          "banana",
          "banana",
          "banana",
          "banana",
          "banana",
          "banana",
          "banana",
          "banana",
          "banana",
          "banana",
          "banana",
          "banana",
          "banana",
          "banana",
          "banana",
          "mango",
          "mango",
          "mango",
          "mango",
          "mango",
          "mango",
          "mango",
          "mango",
          "mango",
          "mango",
          "mango",
          "mango",
          "mango",
          "mango",
          "mango",
          "mango",
          "mango",
          "mango",
          "mango",
          "mango",
          "mango",
          "mango",
          "mango",
          "mango",
          "mango",
          "mango",
          "mango",
          "mango",
          "mango",
          "mango",
          "mango",
          "mango",
          "mango",
          "mango",
          "mango",
          "mango",
          "mango",
          "mango",
          "mango",
          "mango",
          "mango",
          "mango",
          "mango",
          "mango",
          "mango",
          "mango",
          "mango",
          "mango",
          "mango",
          "mango",
          "mango",
          "mango",
          "mango",
          "mango",
          "mango",
          "mango",
          "mango",
          "mango",
          "mango",
          "mango",
          "mango",
          "mango",
          "mango",
          "mango",
          "mango",
          "mango",
          "mango",
          "mango",
          "mango",
          "mango",
          "mango",
          "mango",
          "mango",
          "mango",
          "mango",
          "mango",
          "mango",
          "mango",
          "mango",
          "mango",
          "mango",
          "mango",
          "mango",
          "mango",
          "mango",
          "mango",
          "mango",
          "mango",
          "mango",
          "mango",
          "mango",
          "mango",
          "mango",
          "mango",
          "mango",
          "mango",
          "mango",
          "mango",
          "mango",
          "mango",
          "grapes",
          "grapes",
          "grapes",
          "grapes",
          "grapes",
          "grapes",
          "grapes",
          "grapes",
          "grapes",
          "grapes",
          "grapes",
          "grapes",
          "grapes",
          "grapes",
          "grapes",
          "grapes",
          "grapes",
          "grapes",
          "grapes",
          "grapes",
          "grapes",
          "grapes",
          "grapes",
          "grapes",
          "grapes",
          "grapes",
          "grapes",
          "grapes",
          "grapes",
          "grapes",
          "grapes",
          "grapes",
          "grapes",
          "grapes",
          "grapes",
          "grapes",
          "grapes",
          "grapes",
          "grapes",
          "grapes",
          "grapes",
          "grapes",
          "grapes",
          "grapes",
          "grapes",
          "grapes",
          "grapes",
          "grapes",
          "grapes",
          "grapes",
          "grapes",
          "grapes",
          "grapes",
          "grapes",
          "grapes",
          "grapes",
          "grapes",
          "grapes",
          "grapes",
          "grapes",
          "grapes",
          "grapes",
          "grapes",
          "grapes",
          "grapes",
          "grapes",
          "grapes",
          "grapes",
          "grapes",
          "grapes",
          "grapes",
          "grapes",
          "grapes",
          "grapes",
          "grapes",
          "grapes",
          "grapes",
          "grapes",
          "grapes",
          "grapes",
          "grapes",
          "grapes",
          "grapes",
          "grapes",
          "grapes",
          "grapes",
          "grapes",
          "grapes",
          "grapes",
          "grapes",
          "grapes",
          "grapes",
          "grapes",
          "grapes",
          "grapes",
          "grapes",
          "grapes",
          "grapes",
          "grapes",
          "grapes",
          "watermelon",
          "watermelon",
          "watermelon",
          "watermelon",
          "watermelon",
          "watermelon",
          "watermelon",
          "watermelon",
          "watermelon",
          "watermelon",
          "watermelon",
          "watermelon",
          "watermelon",
          "watermelon",
          "watermelon",
          "watermelon",
          "watermelon",
          "watermelon",
          "watermelon",
          "watermelon",
          "watermelon",
          "watermelon",
          "watermelon",
          "watermelon",
          "watermelon",
          "watermelon",
          "watermelon",
          "watermelon",
          "watermelon",
          "watermelon",
          "watermelon",
          "watermelon",
          "watermelon",
          "watermelon",
          "watermelon",
          "watermelon",
          "watermelon",
          "watermelon",
          "watermelon",
          "watermelon",
          "watermelon",
          "watermelon",
          "watermelon",
          "watermelon",
          "watermelon",
          "watermelon",
          "watermelon",
          "watermelon",
          "watermelon",
          "watermelon",
          "watermelon",
          "watermelon",
          "watermelon",
          "watermelon",
          "watermelon",
          "watermelon",
          "watermelon",
          "watermelon",
          "watermelon",
          "watermelon",
          "watermelon",
          "watermelon",
          "watermelon",
          "watermelon",
          "watermelon",
          "watermelon",
          "watermelon",
          "watermelon",
          "watermelon",
          "watermelon",
          "watermelon",
          "watermelon",
          "watermelon",
          "watermelon",
          "watermelon",
          "watermelon",
          "watermelon",
          "watermelon",
          "watermelon",
          "watermelon",
          "watermelon",
          "watermelon",
          "watermelon",
          "watermelon",
          "watermelon",
          "watermelon",
          "watermelon",
          "watermelon",
          "watermelon",
          "watermelon",
          "watermelon",
          "watermelon",
          "watermelon",
          "watermelon",
          "watermelon",
          "watermelon",
          "watermelon",
          "watermelon",
          "watermelon",
          "watermelon",
          "muskmelon",
          "muskmelon",
          "muskmelon",
          "muskmelon",
          "muskmelon",
          "muskmelon",
          "muskmelon",
          "muskmelon",
          "muskmelon",
          "muskmelon",
          "muskmelon",
          "muskmelon",
          "muskmelon",
          "muskmelon",
          "muskmelon",
          "muskmelon",
          "muskmelon",
          "muskmelon",
          "muskmelon",
          "muskmelon",
          "muskmelon",
          "muskmelon",
          "muskmelon",
          "muskmelon",
          "muskmelon",
          "muskmelon",
          "muskmelon",
          "muskmelon",
          "muskmelon",
          "muskmelon",
          "muskmelon",
          "muskmelon",
          "muskmelon",
          "muskmelon",
          "muskmelon",
          "muskmelon",
          "muskmelon",
          "muskmelon",
          "muskmelon",
          "muskmelon",
          "muskmelon",
          "muskmelon",
          "muskmelon",
          "muskmelon",
          "muskmelon",
          "muskmelon",
          "muskmelon",
          "muskmelon",
          "muskmelon",
          "muskmelon",
          "muskmelon",
          "muskmelon",
          "muskmelon",
          "muskmelon",
          "muskmelon",
          "muskmelon",
          "muskmelon",
          "muskmelon",
          "muskmelon",
          "muskmelon",
          "muskmelon",
          "muskmelon",
          "muskmelon",
          "muskmelon",
          "muskmelon",
          "muskmelon",
          "muskmelon",
          "muskmelon",
          "muskmelon",
          "muskmelon",
          "muskmelon",
          "muskmelon",
          "muskmelon",
          "muskmelon",
          "muskmelon",
          "muskmelon",
          "muskmelon",
          "muskmelon",
          "muskmelon",
          "muskmelon",
          "muskmelon",
          "muskmelon",
          "muskmelon",
          "muskmelon",
          "muskmelon",
          "muskmelon",
          "muskmelon",
          "muskmelon",
          "muskmelon",
          "muskmelon",
          "muskmelon",
          "muskmelon",
          "muskmelon",
          "muskmelon",
          "muskmelon",
          "muskmelon",
          "muskmelon",
          "muskmelon",
          "muskmelon",
          "muskmelon",
          "apple",
          "apple",
          "apple",
          "apple",
          "apple",
          "apple",
          "apple",
          "apple",
          "apple",
          "apple",
          "apple",
          "apple",
          "apple",
          "apple",
          "apple",
          "apple",
          "apple",
          "apple",
          "apple",
          "apple",
          "apple",
          "apple",
          "apple",
          "apple",
          "apple",
          "apple",
          "apple",
          "apple",
          "apple",
          "apple",
          "apple",
          "apple",
          "apple",
          "apple",
          "apple",
          "apple",
          "apple",
          "apple",
          "apple",
          "apple",
          "apple",
          "apple",
          "apple",
          "apple",
          "apple",
          "apple",
          "apple",
          "apple",
          "apple",
          "apple",
          "apple",
          "apple",
          "apple",
          "apple",
          "apple",
          "apple",
          "apple",
          "apple",
          "apple",
          "apple",
          "apple",
          "apple",
          "apple",
          "apple",
          "apple",
          "apple",
          "apple",
          "apple",
          "apple",
          "apple",
          "apple",
          "apple",
          "apple",
          "apple",
          "apple",
          "apple",
          "apple",
          "apple",
          "apple",
          "apple",
          "apple",
          "apple",
          "apple",
          "apple",
          "apple",
          "apple",
          "apple",
          "apple",
          "apple",
          "apple",
          "apple",
          "apple",
          "apple",
          "apple",
          "apple",
          "apple",
          "apple",
          "apple",
          "apple",
          "apple",
          "orange",
          "orange",
          "orange",
          "orange",
          "orange",
          "orange",
          "orange",
          "orange",
          "orange",
          "orange",
          "orange",
          "orange",
          "orange",
          "orange",
          "orange",
          "orange",
          "orange",
          "orange",
          "orange",
          "orange",
          "orange",
          "orange",
          "orange",
          "orange",
          "orange",
          "orange",
          "orange",
          "orange",
          "orange",
          "orange",
          "orange",
          "orange",
          "orange",
          "orange",
          "orange",
          "orange",
          "orange",
          "orange",
          "orange",
          "orange",
          "orange",
          "orange",
          "orange",
          "orange",
          "orange",
          "orange",
          "orange",
          "orange",
          "orange",
          "orange",
          "orange",
          "orange",
          "orange",
          "orange",
          "orange",
          "orange",
          "orange",
          "orange",
          "orange",
          "orange",
          "orange",
          "orange",
          "orange",
          "orange",
          "orange",
          "orange",
          "orange",
          "orange",
          "orange",
          "orange",
          "orange",
          "orange",
          "orange",
          "orange",
          "orange",
          "orange",
          "orange",
          "orange",
          "orange",
          "orange",
          "orange",
          "orange",
          "orange",
          "orange",
          "orange",
          "orange",
          "orange",
          "orange",
          "orange",
          "orange",
          "orange",
          "orange",
          "orange",
          "orange",
          "orange",
          "orange",
          "orange",
          "orange",
          "orange",
          "orange",
          "papaya",
          "papaya",
          "papaya",
          "papaya",
          "papaya",
          "papaya",
          "papaya",
          "papaya",
          "papaya",
          "papaya",
          "papaya",
          "papaya",
          "papaya",
          "papaya",
          "papaya",
          "papaya",
          "papaya",
          "papaya",
          "papaya",
          "papaya",
          "papaya",
          "papaya",
          "papaya",
          "papaya",
          "papaya",
          "papaya",
          "papaya",
          "papaya",
          "papaya",
          "papaya",
          "papaya",
          "papaya",
          "papaya",
          "papaya",
          "papaya",
          "papaya",
          "papaya",
          "papaya",
          "papaya",
          "papaya",
          "papaya",
          "papaya",
          "papaya",
          "papaya",
          "papaya",
          "papaya",
          "papaya",
          "papaya",
          "papaya",
          "papaya",
          "papaya",
          "papaya",
          "papaya",
          "papaya",
          "papaya",
          "papaya",
          "papaya",
          "papaya",
          "papaya",
          "papaya",
          "papaya",
          "papaya",
          "papaya",
          "papaya",
          "papaya",
          "papaya",
          "papaya",
          "papaya",
          "papaya",
          "papaya",
          "papaya",
          "papaya",
          "papaya",
          "papaya",
          "papaya",
          "papaya",
          "papaya",
          "papaya",
          "papaya",
          "papaya",
          "papaya",
          "papaya",
          "papaya",
          "papaya",
          "papaya",
          "papaya",
          "papaya",
          "papaya",
          "papaya",
          "papaya",
          "papaya",
          "papaya",
          "papaya",
          "papaya",
          "papaya",
          "papaya",
          "papaya",
          "papaya",
          "papaya",
          "papaya",
          "coconut",
          "coconut",
          "coconut",
          "coconut",
          "coconut",
          "coconut",
          "coconut",
          "coconut",
          "coconut",
          "coconut",
          "coconut",
          "coconut",
          "coconut",
          "coconut",
          "coconut",
          "coconut",
          "coconut",
          "coconut",
          "coconut",
          "coconut",
          "coconut",
          "coconut",
          "coconut",
          "coconut",
          "coconut",
          "coconut",
          "coconut",
          "coconut",
          "coconut",
          "coconut",
          "coconut",
          "coconut",
          "coconut",
          "coconut",
          "coconut",
          "coconut",
          "coconut",
          "coconut",
          "coconut",
          "coconut",
          "coconut",
          "coconut",
          "coconut",
          "coconut",
          "coconut",
          "coconut",
          "coconut",
          "coconut",
          "coconut",
          "coconut",
          "coconut",
          "coconut",
          "coconut",
          "coconut",
          "coconut",
          "coconut",
          "coconut",
          "coconut",
          "coconut",
          "coconut",
          "coconut",
          "coconut",
          "coconut",
          "coconut",
          "coconut",
          "coconut",
          "coconut",
          "coconut",
          "coconut",
          "coconut",
          "coconut",
          "coconut",
          "coconut",
          "coconut",
          "coconut",
          "coconut",
          "coconut",
          "coconut",
          "coconut",
          "coconut",
          "coconut",
          "coconut",
          "coconut",
          "coconut",
          "coconut",
          "coconut",
          "coconut",
          "coconut",
          "coconut",
          "coconut",
          "coconut",
          "coconut",
          "coconut",
          "coconut",
          "coconut",
          "coconut",
          "coconut",
          "coconut",
          "coconut",
          "coconut",
          "cotton",
          "cotton",
          "cotton",
          "cotton",
          "cotton",
          "cotton",
          "cotton",
          "cotton",
          "cotton",
          "cotton",
          "cotton",
          "cotton",
          "cotton",
          "cotton",
          "cotton",
          "cotton",
          "cotton",
          "cotton",
          "cotton",
          "cotton",
          "cotton",
          "cotton",
          "cotton",
          "cotton",
          "cotton",
          "cotton",
          "cotton",
          "cotton",
          "cotton",
          "cotton",
          "cotton",
          "cotton",
          "cotton",
          "cotton",
          "cotton",
          "cotton",
          "cotton",
          "cotton",
          "cotton",
          "cotton",
          "cotton",
          "cotton",
          "cotton",
          "cotton",
          "cotton",
          "cotton",
          "cotton",
          "cotton",
          "cotton",
          "cotton",
          "cotton",
          "cotton",
          "cotton",
          "cotton",
          "cotton",
          "cotton",
          "cotton",
          "cotton",
          "cotton",
          "cotton",
          "cotton",
          "cotton",
          "cotton",
          "cotton",
          "cotton",
          "cotton",
          "cotton",
          "cotton",
          "cotton",
          "cotton",
          "cotton",
          "cotton",
          "cotton",
          "cotton",
          "cotton",
          "cotton",
          "cotton",
          "cotton",
          "cotton",
          "cotton",
          "cotton",
          "cotton",
          "cotton",
          "cotton",
          "cotton",
          "cotton",
          "cotton",
          "cotton",
          "cotton",
          "cotton",
          "cotton",
          "cotton",
          "cotton",
          "cotton",
          "cotton",
          "cotton",
          "cotton",
          "cotton",
          "cotton",
          "cotton",
          "jute",
          "jute",
          "jute",
          "jute",
          "jute",
          "jute",
          "jute",
          "jute",
          "jute",
          "jute",
          "jute",
          "jute",
          "jute",
          "jute",
          "jute",
          "jute",
          "jute",
          "jute",
          "jute",
          "jute",
          "jute",
          "jute",
          "jute",
          "jute",
          "jute",
          "jute",
          "jute",
          "jute",
          "jute",
          "jute",
          "jute",
          "jute",
          "jute",
          "jute",
          "jute",
          "jute",
          "jute",
          "jute",
          "jute",
          "jute",
          "jute",
          "jute",
          "jute",
          "jute",
          "jute",
          "jute",
          "jute",
          "jute",
          "jute",
          "jute",
          "jute",
          "jute",
          "jute",
          "jute",
          "jute",
          "jute",
          "jute",
          "jute",
          "jute",
          "jute",
          "jute",
          "jute",
          "jute",
          "jute",
          "jute",
          "jute",
          "jute",
          "jute",
          "jute",
          "jute",
          "jute",
          "jute",
          "jute",
          "jute",
          "jute",
          "jute",
          "jute",
          "jute",
          "jute",
          "jute",
          "jute",
          "jute",
          "jute",
          "jute",
          "jute",
          "jute",
          "jute",
          "jute",
          "jute",
          "jute",
          "jute",
          "jute",
          "jute",
          "jute",
          "jute",
          "jute",
          "jute",
          "jute",
          "jute",
          "jute",
          "coffee",
          "coffee",
          "coffee",
          "coffee",
          "coffee",
          "coffee",
          "coffee",
          "coffee",
          "coffee",
          "coffee",
          "coffee",
          "coffee",
          "coffee",
          "coffee",
          "coffee",
          "coffee",
          "coffee",
          "coffee",
          "coffee",
          "coffee",
          "coffee",
          "coffee",
          "coffee",
          "coffee",
          "coffee",
          "coffee",
          "coffee",
          "coffee",
          "coffee",
          "coffee",
          "coffee",
          "coffee",
          "coffee",
          "coffee",
          "coffee",
          "coffee",
          "coffee",
          "coffee",
          "coffee",
          "coffee",
          "coffee",
          "coffee",
          "coffee",
          "coffee",
          "coffee",
          "coffee",
          "coffee",
          "coffee",
          "coffee",
          "coffee",
          "coffee",
          "coffee",
          "coffee",
          "coffee",
          "coffee",
          "coffee",
          "coffee",
          "coffee",
          "coffee",
          "coffee",
          "coffee",
          "coffee",
          "coffee",
          "coffee",
          "coffee",
          "coffee",
          "coffee",
          "coffee",
          "coffee",
          "coffee",
          "coffee",
          "coffee",
          "coffee",
          "coffee",
          "coffee",
          "coffee",
          "coffee",
          "coffee",
          "coffee",
          "coffee",
          "coffee",
          "coffee",
          "coffee",
          "coffee",
          "coffee",
          "coffee",
          "coffee",
          "coffee",
          "coffee",
          "coffee",
          "coffee",
          "coffee",
          "coffee",
          "coffee",
          "coffee",
          "coffee",
          "coffee",
          "coffee",
          "coffee",
          "coffee"
         ],
         "yaxis": "y"
        }
       ],
       "layout": {
        "legend": {
         "tracegroupgap": 0
        },
        "template": {
         "data": {
          "bar": [
           {
            "error_x": {
             "color": "#2a3f5f"
            },
            "error_y": {
             "color": "#2a3f5f"
            },
            "marker": {
             "line": {
              "color": "#E5ECF6",
              "width": 0.5
             },
             "pattern": {
              "fillmode": "overlay",
              "size": 10,
              "solidity": 0.2
             }
            },
            "type": "bar"
           }
          ],
          "barpolar": [
           {
            "marker": {
             "line": {
              "color": "#E5ECF6",
              "width": 0.5
             },
             "pattern": {
              "fillmode": "overlay",
              "size": 10,
              "solidity": 0.2
             }
            },
            "type": "barpolar"
           }
          ],
          "carpet": [
           {
            "aaxis": {
             "endlinecolor": "#2a3f5f",
             "gridcolor": "white",
             "linecolor": "white",
             "minorgridcolor": "white",
             "startlinecolor": "#2a3f5f"
            },
            "baxis": {
             "endlinecolor": "#2a3f5f",
             "gridcolor": "white",
             "linecolor": "white",
             "minorgridcolor": "white",
             "startlinecolor": "#2a3f5f"
            },
            "type": "carpet"
           }
          ],
          "choropleth": [
           {
            "colorbar": {
             "outlinewidth": 0,
             "ticks": ""
            },
            "type": "choropleth"
           }
          ],
          "contour": [
           {
            "colorbar": {
             "outlinewidth": 0,
             "ticks": ""
            },
            "colorscale": [
             [
              0,
              "#0d0887"
             ],
             [
              0.1111111111111111,
              "#46039f"
             ],
             [
              0.2222222222222222,
              "#7201a8"
             ],
             [
              0.3333333333333333,
              "#9c179e"
             ],
             [
              0.4444444444444444,
              "#bd3786"
             ],
             [
              0.5555555555555556,
              "#d8576b"
             ],
             [
              0.6666666666666666,
              "#ed7953"
             ],
             [
              0.7777777777777778,
              "#fb9f3a"
             ],
             [
              0.8888888888888888,
              "#fdca26"
             ],
             [
              1,
              "#f0f921"
             ]
            ],
            "type": "contour"
           }
          ],
          "contourcarpet": [
           {
            "colorbar": {
             "outlinewidth": 0,
             "ticks": ""
            },
            "type": "contourcarpet"
           }
          ],
          "heatmap": [
           {
            "colorbar": {
             "outlinewidth": 0,
             "ticks": ""
            },
            "colorscale": [
             [
              0,
              "#0d0887"
             ],
             [
              0.1111111111111111,
              "#46039f"
             ],
             [
              0.2222222222222222,
              "#7201a8"
             ],
             [
              0.3333333333333333,
              "#9c179e"
             ],
             [
              0.4444444444444444,
              "#bd3786"
             ],
             [
              0.5555555555555556,
              "#d8576b"
             ],
             [
              0.6666666666666666,
              "#ed7953"
             ],
             [
              0.7777777777777778,
              "#fb9f3a"
             ],
             [
              0.8888888888888888,
              "#fdca26"
             ],
             [
              1,
              "#f0f921"
             ]
            ],
            "type": "heatmap"
           }
          ],
          "histogram": [
           {
            "marker": {
             "pattern": {
              "fillmode": "overlay",
              "size": 10,
              "solidity": 0.2
             }
            },
            "type": "histogram"
           }
          ],
          "histogram2d": [
           {
            "colorbar": {
             "outlinewidth": 0,
             "ticks": ""
            },
            "colorscale": [
             [
              0,
              "#0d0887"
             ],
             [
              0.1111111111111111,
              "#46039f"
             ],
             [
              0.2222222222222222,
              "#7201a8"
             ],
             [
              0.3333333333333333,
              "#9c179e"
             ],
             [
              0.4444444444444444,
              "#bd3786"
             ],
             [
              0.5555555555555556,
              "#d8576b"
             ],
             [
              0.6666666666666666,
              "#ed7953"
             ],
             [
              0.7777777777777778,
              "#fb9f3a"
             ],
             [
              0.8888888888888888,
              "#fdca26"
             ],
             [
              1,
              "#f0f921"
             ]
            ],
            "type": "histogram2d"
           }
          ],
          "histogram2dcontour": [
           {
            "colorbar": {
             "outlinewidth": 0,
             "ticks": ""
            },
            "colorscale": [
             [
              0,
              "#0d0887"
             ],
             [
              0.1111111111111111,
              "#46039f"
             ],
             [
              0.2222222222222222,
              "#7201a8"
             ],
             [
              0.3333333333333333,
              "#9c179e"
             ],
             [
              0.4444444444444444,
              "#bd3786"
             ],
             [
              0.5555555555555556,
              "#d8576b"
             ],
             [
              0.6666666666666666,
              "#ed7953"
             ],
             [
              0.7777777777777778,
              "#fb9f3a"
             ],
             [
              0.8888888888888888,
              "#fdca26"
             ],
             [
              1,
              "#f0f921"
             ]
            ],
            "type": "histogram2dcontour"
           }
          ],
          "mesh3d": [
           {
            "colorbar": {
             "outlinewidth": 0,
             "ticks": ""
            },
            "type": "mesh3d"
           }
          ],
          "parcoords": [
           {
            "line": {
             "colorbar": {
              "outlinewidth": 0,
              "ticks": ""
             }
            },
            "type": "parcoords"
           }
          ],
          "pie": [
           {
            "automargin": true,
            "type": "pie"
           }
          ],
          "scatter": [
           {
            "fillpattern": {
             "fillmode": "overlay",
             "size": 10,
             "solidity": 0.2
            },
            "type": "scatter"
           }
          ],
          "scatter3d": [
           {
            "line": {
             "colorbar": {
              "outlinewidth": 0,
              "ticks": ""
             }
            },
            "marker": {
             "colorbar": {
              "outlinewidth": 0,
              "ticks": ""
             }
            },
            "type": "scatter3d"
           }
          ],
          "scattercarpet": [
           {
            "marker": {
             "colorbar": {
              "outlinewidth": 0,
              "ticks": ""
             }
            },
            "type": "scattercarpet"
           }
          ],
          "scattergeo": [
           {
            "marker": {
             "colorbar": {
              "outlinewidth": 0,
              "ticks": ""
             }
            },
            "type": "scattergeo"
           }
          ],
          "scattergl": [
           {
            "marker": {
             "colorbar": {
              "outlinewidth": 0,
              "ticks": ""
             }
            },
            "type": "scattergl"
           }
          ],
          "scattermap": [
           {
            "marker": {
             "colorbar": {
              "outlinewidth": 0,
              "ticks": ""
             }
            },
            "type": "scattermap"
           }
          ],
          "scattermapbox": [
           {
            "marker": {
             "colorbar": {
              "outlinewidth": 0,
              "ticks": ""
             }
            },
            "type": "scattermapbox"
           }
          ],
          "scatterpolar": [
           {
            "marker": {
             "colorbar": {
              "outlinewidth": 0,
              "ticks": ""
             }
            },
            "type": "scatterpolar"
           }
          ],
          "scatterpolargl": [
           {
            "marker": {
             "colorbar": {
              "outlinewidth": 0,
              "ticks": ""
             }
            },
            "type": "scatterpolargl"
           }
          ],
          "scatterternary": [
           {
            "marker": {
             "colorbar": {
              "outlinewidth": 0,
              "ticks": ""
             }
            },
            "type": "scatterternary"
           }
          ],
          "surface": [
           {
            "colorbar": {
             "outlinewidth": 0,
             "ticks": ""
            },
            "colorscale": [
             [
              0,
              "#0d0887"
             ],
             [
              0.1111111111111111,
              "#46039f"
             ],
             [
              0.2222222222222222,
              "#7201a8"
             ],
             [
              0.3333333333333333,
              "#9c179e"
             ],
             [
              0.4444444444444444,
              "#bd3786"
             ],
             [
              0.5555555555555556,
              "#d8576b"
             ],
             [
              0.6666666666666666,
              "#ed7953"
             ],
             [
              0.7777777777777778,
              "#fb9f3a"
             ],
             [
              0.8888888888888888,
              "#fdca26"
             ],
             [
              1,
              "#f0f921"
             ]
            ],
            "type": "surface"
           }
          ],
          "table": [
           {
            "cells": {
             "fill": {
              "color": "#EBF0F8"
             },
             "line": {
              "color": "white"
             }
            },
            "header": {
             "fill": {
              "color": "#C8D4E3"
             },
             "line": {
              "color": "white"
             }
            },
            "type": "table"
           }
          ]
         },
         "layout": {
          "annotationdefaults": {
           "arrowcolor": "#2a3f5f",
           "arrowhead": 0,
           "arrowwidth": 1
          },
          "autotypenumbers": "strict",
          "coloraxis": {
           "colorbar": {
            "outlinewidth": 0,
            "ticks": ""
           }
          },
          "colorscale": {
           "diverging": [
            [
             0,
             "#8e0152"
            ],
            [
             0.1,
             "#c51b7d"
            ],
            [
             0.2,
             "#de77ae"
            ],
            [
             0.3,
             "#f1b6da"
            ],
            [
             0.4,
             "#fde0ef"
            ],
            [
             0.5,
             "#f7f7f7"
            ],
            [
             0.6,
             "#e6f5d0"
            ],
            [
             0.7,
             "#b8e186"
            ],
            [
             0.8,
             "#7fbc41"
            ],
            [
             0.9,
             "#4d9221"
            ],
            [
             1,
             "#276419"
            ]
           ],
           "sequential": [
            [
             0,
             "#0d0887"
            ],
            [
             0.1111111111111111,
             "#46039f"
            ],
            [
             0.2222222222222222,
             "#7201a8"
            ],
            [
             0.3333333333333333,
             "#9c179e"
            ],
            [
             0.4444444444444444,
             "#bd3786"
            ],
            [
             0.5555555555555556,
             "#d8576b"
            ],
            [
             0.6666666666666666,
             "#ed7953"
            ],
            [
             0.7777777777777778,
             "#fb9f3a"
            ],
            [
             0.8888888888888888,
             "#fdca26"
            ],
            [
             1,
             "#f0f921"
            ]
           ],
           "sequentialminus": [
            [
             0,
             "#0d0887"
            ],
            [
             0.1111111111111111,
             "#46039f"
            ],
            [
             0.2222222222222222,
             "#7201a8"
            ],
            [
             0.3333333333333333,
             "#9c179e"
            ],
            [
             0.4444444444444444,
             "#bd3786"
            ],
            [
             0.5555555555555556,
             "#d8576b"
            ],
            [
             0.6666666666666666,
             "#ed7953"
            ],
            [
             0.7777777777777778,
             "#fb9f3a"
            ],
            [
             0.8888888888888888,
             "#fdca26"
            ],
            [
             1,
             "#f0f921"
            ]
           ]
          },
          "colorway": [
           "#636efa",
           "#EF553B",
           "#00cc96",
           "#ab63fa",
           "#FFA15A",
           "#19d3f3",
           "#FF6692",
           "#B6E880",
           "#FF97FF",
           "#FECB52"
          ],
          "font": {
           "color": "#2a3f5f"
          },
          "geo": {
           "bgcolor": "white",
           "lakecolor": "white",
           "landcolor": "#E5ECF6",
           "showlakes": true,
           "showland": true,
           "subunitcolor": "white"
          },
          "hoverlabel": {
           "align": "left"
          },
          "hovermode": "closest",
          "mapbox": {
           "style": "light"
          },
          "paper_bgcolor": "white",
          "plot_bgcolor": "#E5ECF6",
          "polar": {
           "angularaxis": {
            "gridcolor": "white",
            "linecolor": "white",
            "ticks": ""
           },
           "bgcolor": "#E5ECF6",
           "radialaxis": {
            "gridcolor": "white",
            "linecolor": "white",
            "ticks": ""
           }
          },
          "scene": {
           "xaxis": {
            "backgroundcolor": "#E5ECF6",
            "gridcolor": "white",
            "gridwidth": 2,
            "linecolor": "white",
            "showbackground": true,
            "ticks": "",
            "zerolinecolor": "white"
           },
           "yaxis": {
            "backgroundcolor": "#E5ECF6",
            "gridcolor": "white",
            "gridwidth": 2,
            "linecolor": "white",
            "showbackground": true,
            "ticks": "",
            "zerolinecolor": "white"
           },
           "zaxis": {
            "backgroundcolor": "#E5ECF6",
            "gridcolor": "white",
            "gridwidth": 2,
            "linecolor": "white",
            "showbackground": true,
            "ticks": "",
            "zerolinecolor": "white"
           }
          },
          "shapedefaults": {
           "line": {
            "color": "#2a3f5f"
           }
          },
          "ternary": {
           "aaxis": {
            "gridcolor": "white",
            "linecolor": "white",
            "ticks": ""
           },
           "baxis": {
            "gridcolor": "white",
            "linecolor": "white",
            "ticks": ""
           },
           "bgcolor": "#E5ECF6",
           "caxis": {
            "gridcolor": "white",
            "linecolor": "white",
            "ticks": ""
           }
          },
          "title": {
           "x": 0.05
          },
          "xaxis": {
           "automargin": true,
           "gridcolor": "white",
           "linecolor": "white",
           "ticks": "",
           "title": {
            "standoff": 15
           },
           "zerolinecolor": "white",
           "zerolinewidth": 2
          },
          "yaxis": {
           "automargin": true,
           "gridcolor": "white",
           "linecolor": "white",
           "ticks": "",
           "title": {
            "standoff": 15
           },
           "zerolinecolor": "white",
           "zerolinewidth": 2
          }
         }
        },
        "title": {
         "text": "Potassium content vs label"
        },
        "xaxis": {
         "anchor": "y",
         "domain": [
          0,
          1
         ],
         "title": {
          "text": "K"
         }
        },
        "yaxis": {
         "anchor": "x",
         "domain": [
          0,
          1
         ],
         "title": {
          "text": "label"
         }
        }
       }
      }
     },
     "metadata": {},
     "output_type": "display_data"
    }
   ],
   "source": [
    "fig = px.scatter(raw_df , x='K',y='label',title='Potassium content vs label')\n",
    "fig.update_traces(marker_size=8)\n",
    "fig.show()"
   ]
  },
  {
   "cell_type": "code",
   "execution_count": 144,
   "id": "977dc03c",
   "metadata": {},
   "outputs": [
    {
     "data": {
      "text/plain": [
       "<Figure size 640x480 with 0 Axes>"
      ]
     },
     "metadata": {},
     "output_type": "display_data"
    }
   ],
   "source": [
    "plt.savefig(\"../artifacts/plots/Potassium_content_vs_label.png\")"
   ]
  },
  {
   "cell_type": "code",
   "execution_count": 145,
   "id": "30189e78",
   "metadata": {},
   "outputs": [
    {
     "data": {
      "application/vnd.plotly.v1+json": {
       "config": {
        "plotlyServerURL": "https://plot.ly"
       },
       "data": [
        {
         "hovertemplate": "temperature=%{x}<br>label=%{y}<extra></extra>",
         "legendgroup": "",
         "marker": {
          "color": "#636efa",
          "size": 8,
          "symbol": "circle"
         },
         "mode": "markers",
         "name": "",
         "showlegend": false,
         "type": "scattergl",
         "x": {
          "bdata": "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",
          "dtype": "f8"
         },
         "xaxis": "x",
         "y": [
          "rice",
          "rice",
          "rice",
          "rice",
          "rice",
          "rice",
          "rice",
          "rice",
          "rice",
          "rice",
          "rice",
          "rice",
          "rice",
          "rice",
          "rice",
          "rice",
          "rice",
          "rice",
          "rice",
          "rice",
          "rice",
          "rice",
          "rice",
          "rice",
          "rice",
          "rice",
          "rice",
          "rice",
          "rice",
          "rice",
          "rice",
          "rice",
          "rice",
          "rice",
          "rice",
          "rice",
          "rice",
          "rice",
          "rice",
          "rice",
          "rice",
          "rice",
          "rice",
          "rice",
          "rice",
          "rice",
          "rice",
          "rice",
          "rice",
          "rice",
          "rice",
          "rice",
          "rice",
          "rice",
          "rice",
          "rice",
          "rice",
          "rice",
          "rice",
          "rice",
          "rice",
          "rice",
          "rice",
          "rice",
          "rice",
          "rice",
          "rice",
          "rice",
          "rice",
          "rice",
          "rice",
          "rice",
          "rice",
          "rice",
          "rice",
          "rice",
          "rice",
          "rice",
          "rice",
          "rice",
          "rice",
          "rice",
          "rice",
          "rice",
          "rice",
          "rice",
          "rice",
          "rice",
          "rice",
          "rice",
          "rice",
          "rice",
          "rice",
          "rice",
          "rice",
          "rice",
          "rice",
          "rice",
          "rice",
          "rice",
          "maize",
          "maize",
          "maize",
          "maize",
          "maize",
          "maize",
          "maize",
          "maize",
          "maize",
          "maize",
          "maize",
          "maize",
          "maize",
          "maize",
          "maize",
          "maize",
          "maize",
          "maize",
          "maize",
          "maize",
          "maize",
          "maize",
          "maize",
          "maize",
          "maize",
          "maize",
          "maize",
          "maize",
          "maize",
          "maize",
          "maize",
          "maize",
          "maize",
          "maize",
          "maize",
          "maize",
          "maize",
          "maize",
          "maize",
          "maize",
          "maize",
          "maize",
          "maize",
          "maize",
          "maize",
          "maize",
          "maize",
          "maize",
          "maize",
          "maize",
          "maize",
          "maize",
          "maize",
          "maize",
          "maize",
          "maize",
          "maize",
          "maize",
          "maize",
          "maize",
          "maize",
          "maize",
          "maize",
          "maize",
          "maize",
          "maize",
          "maize",
          "maize",
          "maize",
          "maize",
          "maize",
          "maize",
          "maize",
          "maize",
          "maize",
          "maize",
          "maize",
          "maize",
          "maize",
          "maize",
          "maize",
          "maize",
          "maize",
          "maize",
          "maize",
          "maize",
          "maize",
          "maize",
          "maize",
          "maize",
          "maize",
          "maize",
          "maize",
          "maize",
          "maize",
          "maize",
          "maize",
          "maize",
          "maize",
          "maize",
          "chickpea",
          "chickpea",
          "chickpea",
          "chickpea",
          "chickpea",
          "chickpea",
          "chickpea",
          "chickpea",
          "chickpea",
          "chickpea",
          "chickpea",
          "chickpea",
          "chickpea",
          "chickpea",
          "chickpea",
          "chickpea",
          "chickpea",
          "chickpea",
          "chickpea",
          "chickpea",
          "chickpea",
          "chickpea",
          "chickpea",
          "chickpea",
          "chickpea",
          "chickpea",
          "chickpea",
          "chickpea",
          "chickpea",
          "chickpea",
          "chickpea",
          "chickpea",
          "chickpea",
          "chickpea",
          "chickpea",
          "chickpea",
          "chickpea",
          "chickpea",
          "chickpea",
          "chickpea",
          "chickpea",
          "chickpea",
          "chickpea",
          "chickpea",
          "chickpea",
          "chickpea",
          "chickpea",
          "chickpea",
          "chickpea",
          "chickpea",
          "chickpea",
          "chickpea",
          "chickpea",
          "chickpea",
          "chickpea",
          "chickpea",
          "chickpea",
          "chickpea",
          "chickpea",
          "chickpea",
          "chickpea",
          "chickpea",
          "chickpea",
          "chickpea",
          "chickpea",
          "chickpea",
          "chickpea",
          "chickpea",
          "chickpea",
          "chickpea",
          "chickpea",
          "chickpea",
          "chickpea",
          "chickpea",
          "chickpea",
          "chickpea",
          "chickpea",
          "chickpea",
          "chickpea",
          "chickpea",
          "chickpea",
          "chickpea",
          "chickpea",
          "chickpea",
          "chickpea",
          "chickpea",
          "chickpea",
          "chickpea",
          "chickpea",
          "chickpea",
          "chickpea",
          "chickpea",
          "chickpea",
          "chickpea",
          "chickpea",
          "chickpea",
          "chickpea",
          "chickpea",
          "chickpea",
          "chickpea",
          "kidneybeans",
          "kidneybeans",
          "kidneybeans",
          "kidneybeans",
          "kidneybeans",
          "kidneybeans",
          "kidneybeans",
          "kidneybeans",
          "kidneybeans",
          "kidneybeans",
          "kidneybeans",
          "kidneybeans",
          "kidneybeans",
          "kidneybeans",
          "kidneybeans",
          "kidneybeans",
          "kidneybeans",
          "kidneybeans",
          "kidneybeans",
          "kidneybeans",
          "kidneybeans",
          "kidneybeans",
          "kidneybeans",
          "kidneybeans",
          "kidneybeans",
          "kidneybeans",
          "kidneybeans",
          "kidneybeans",
          "kidneybeans",
          "kidneybeans",
          "kidneybeans",
          "kidneybeans",
          "kidneybeans",
          "kidneybeans",
          "kidneybeans",
          "kidneybeans",
          "kidneybeans",
          "kidneybeans",
          "kidneybeans",
          "kidneybeans",
          "kidneybeans",
          "kidneybeans",
          "kidneybeans",
          "kidneybeans",
          "kidneybeans",
          "kidneybeans",
          "kidneybeans",
          "kidneybeans",
          "kidneybeans",
          "kidneybeans",
          "kidneybeans",
          "kidneybeans",
          "kidneybeans",
          "kidneybeans",
          "kidneybeans",
          "kidneybeans",
          "kidneybeans",
          "kidneybeans",
          "kidneybeans",
          "kidneybeans",
          "kidneybeans",
          "kidneybeans",
          "kidneybeans",
          "kidneybeans",
          "kidneybeans",
          "kidneybeans",
          "kidneybeans",
          "kidneybeans",
          "kidneybeans",
          "kidneybeans",
          "kidneybeans",
          "kidneybeans",
          "kidneybeans",
          "kidneybeans",
          "kidneybeans",
          "kidneybeans",
          "kidneybeans",
          "kidneybeans",
          "kidneybeans",
          "kidneybeans",
          "kidneybeans",
          "kidneybeans",
          "kidneybeans",
          "kidneybeans",
          "kidneybeans",
          "kidneybeans",
          "kidneybeans",
          "kidneybeans",
          "kidneybeans",
          "kidneybeans",
          "kidneybeans",
          "kidneybeans",
          "kidneybeans",
          "kidneybeans",
          "kidneybeans",
          "kidneybeans",
          "kidneybeans",
          "kidneybeans",
          "kidneybeans",
          "kidneybeans",
          "pigeonpeas",
          "pigeonpeas",
          "pigeonpeas",
          "pigeonpeas",
          "pigeonpeas",
          "pigeonpeas",
          "pigeonpeas",
          "pigeonpeas",
          "pigeonpeas",
          "pigeonpeas",
          "pigeonpeas",
          "pigeonpeas",
          "pigeonpeas",
          "pigeonpeas",
          "pigeonpeas",
          "pigeonpeas",
          "pigeonpeas",
          "pigeonpeas",
          "pigeonpeas",
          "pigeonpeas",
          "pigeonpeas",
          "pigeonpeas",
          "pigeonpeas",
          "pigeonpeas",
          "pigeonpeas",
          "pigeonpeas",
          "pigeonpeas",
          "pigeonpeas",
          "pigeonpeas",
          "pigeonpeas",
          "pigeonpeas",
          "pigeonpeas",
          "pigeonpeas",
          "pigeonpeas",
          "pigeonpeas",
          "pigeonpeas",
          "pigeonpeas",
          "pigeonpeas",
          "pigeonpeas",
          "pigeonpeas",
          "pigeonpeas",
          "pigeonpeas",
          "pigeonpeas",
          "pigeonpeas",
          "pigeonpeas",
          "pigeonpeas",
          "pigeonpeas",
          "pigeonpeas",
          "pigeonpeas",
          "pigeonpeas",
          "pigeonpeas",
          "pigeonpeas",
          "pigeonpeas",
          "pigeonpeas",
          "pigeonpeas",
          "pigeonpeas",
          "pigeonpeas",
          "pigeonpeas",
          "pigeonpeas",
          "pigeonpeas",
          "pigeonpeas",
          "pigeonpeas",
          "pigeonpeas",
          "pigeonpeas",
          "pigeonpeas",
          "pigeonpeas",
          "pigeonpeas",
          "pigeonpeas",
          "pigeonpeas",
          "pigeonpeas",
          "pigeonpeas",
          "pigeonpeas",
          "pigeonpeas",
          "pigeonpeas",
          "pigeonpeas",
          "pigeonpeas",
          "pigeonpeas",
          "pigeonpeas",
          "pigeonpeas",
          "pigeonpeas",
          "pigeonpeas",
          "pigeonpeas",
          "pigeonpeas",
          "pigeonpeas",
          "pigeonpeas",
          "pigeonpeas",
          "pigeonpeas",
          "pigeonpeas",
          "pigeonpeas",
          "pigeonpeas",
          "pigeonpeas",
          "pigeonpeas",
          "pigeonpeas",
          "pigeonpeas",
          "pigeonpeas",
          "pigeonpeas",
          "pigeonpeas",
          "pigeonpeas",
          "pigeonpeas",
          "pigeonpeas",
          "mothbeans",
          "mothbeans",
          "mothbeans",
          "mothbeans",
          "mothbeans",
          "mothbeans",
          "mothbeans",
          "mothbeans",
          "mothbeans",
          "mothbeans",
          "mothbeans",
          "mothbeans",
          "mothbeans",
          "mothbeans",
          "mothbeans",
          "mothbeans",
          "mothbeans",
          "mothbeans",
          "mothbeans",
          "mothbeans",
          "mothbeans",
          "mothbeans",
          "mothbeans",
          "mothbeans",
          "mothbeans",
          "mothbeans",
          "mothbeans",
          "mothbeans",
          "mothbeans",
          "mothbeans",
          "mothbeans",
          "mothbeans",
          "mothbeans",
          "mothbeans",
          "mothbeans",
          "mothbeans",
          "mothbeans",
          "mothbeans",
          "mothbeans",
          "mothbeans",
          "mothbeans",
          "mothbeans",
          "mothbeans",
          "mothbeans",
          "mothbeans",
          "mothbeans",
          "mothbeans",
          "mothbeans",
          "mothbeans",
          "mothbeans",
          "mothbeans",
          "mothbeans",
          "mothbeans",
          "mothbeans",
          "mothbeans",
          "mothbeans",
          "mothbeans",
          "mothbeans",
          "mothbeans",
          "mothbeans",
          "mothbeans",
          "mothbeans",
          "mothbeans",
          "mothbeans",
          "mothbeans",
          "mothbeans",
          "mothbeans",
          "mothbeans",
          "mothbeans",
          "mothbeans",
          "mothbeans",
          "mothbeans",
          "mothbeans",
          "mothbeans",
          "mothbeans",
          "mothbeans",
          "mothbeans",
          "mothbeans",
          "mothbeans",
          "mothbeans",
          "mothbeans",
          "mothbeans",
          "mothbeans",
          "mothbeans",
          "mothbeans",
          "mothbeans",
          "mothbeans",
          "mothbeans",
          "mothbeans",
          "mothbeans",
          "mothbeans",
          "mothbeans",
          "mothbeans",
          "mothbeans",
          "mothbeans",
          "mothbeans",
          "mothbeans",
          "mothbeans",
          "mothbeans",
          "mothbeans",
          "mungbean",
          "mungbean",
          "mungbean",
          "mungbean",
          "mungbean",
          "mungbean",
          "mungbean",
          "mungbean",
          "mungbean",
          "mungbean",
          "mungbean",
          "mungbean",
          "mungbean",
          "mungbean",
          "mungbean",
          "mungbean",
          "mungbean",
          "mungbean",
          "mungbean",
          "mungbean",
          "mungbean",
          "mungbean",
          "mungbean",
          "mungbean",
          "mungbean",
          "mungbean",
          "mungbean",
          "mungbean",
          "mungbean",
          "mungbean",
          "mungbean",
          "mungbean",
          "mungbean",
          "mungbean",
          "mungbean",
          "mungbean",
          "mungbean",
          "mungbean",
          "mungbean",
          "mungbean",
          "mungbean",
          "mungbean",
          "mungbean",
          "mungbean",
          "mungbean",
          "mungbean",
          "mungbean",
          "mungbean",
          "mungbean",
          "mungbean",
          "mungbean",
          "mungbean",
          "mungbean",
          "mungbean",
          "mungbean",
          "mungbean",
          "mungbean",
          "mungbean",
          "mungbean",
          "mungbean",
          "mungbean",
          "mungbean",
          "mungbean",
          "mungbean",
          "mungbean",
          "mungbean",
          "mungbean",
          "mungbean",
          "mungbean",
          "mungbean",
          "mungbean",
          "mungbean",
          "mungbean",
          "mungbean",
          "mungbean",
          "mungbean",
          "mungbean",
          "mungbean",
          "mungbean",
          "mungbean",
          "mungbean",
          "mungbean",
          "mungbean",
          "mungbean",
          "mungbean",
          "mungbean",
          "mungbean",
          "mungbean",
          "mungbean",
          "mungbean",
          "mungbean",
          "mungbean",
          "mungbean",
          "mungbean",
          "mungbean",
          "mungbean",
          "mungbean",
          "mungbean",
          "mungbean",
          "mungbean",
          "blackgram",
          "blackgram",
          "blackgram",
          "blackgram",
          "blackgram",
          "blackgram",
          "blackgram",
          "blackgram",
          "blackgram",
          "blackgram",
          "blackgram",
          "blackgram",
          "blackgram",
          "blackgram",
          "blackgram",
          "blackgram",
          "blackgram",
          "blackgram",
          "blackgram",
          "blackgram",
          "blackgram",
          "blackgram",
          "blackgram",
          "blackgram",
          "blackgram",
          "blackgram",
          "blackgram",
          "blackgram",
          "blackgram",
          "blackgram",
          "blackgram",
          "blackgram",
          "blackgram",
          "blackgram",
          "blackgram",
          "blackgram",
          "blackgram",
          "blackgram",
          "blackgram",
          "blackgram",
          "blackgram",
          "blackgram",
          "blackgram",
          "blackgram",
          "blackgram",
          "blackgram",
          "blackgram",
          "blackgram",
          "blackgram",
          "blackgram",
          "blackgram",
          "blackgram",
          "blackgram",
          "blackgram",
          "blackgram",
          "blackgram",
          "blackgram",
          "blackgram",
          "blackgram",
          "blackgram",
          "blackgram",
          "blackgram",
          "blackgram",
          "blackgram",
          "blackgram",
          "blackgram",
          "blackgram",
          "blackgram",
          "blackgram",
          "blackgram",
          "blackgram",
          "blackgram",
          "blackgram",
          "blackgram",
          "blackgram",
          "blackgram",
          "blackgram",
          "blackgram",
          "blackgram",
          "blackgram",
          "blackgram",
          "blackgram",
          "blackgram",
          "blackgram",
          "blackgram",
          "blackgram",
          "blackgram",
          "blackgram",
          "blackgram",
          "blackgram",
          "blackgram",
          "blackgram",
          "blackgram",
          "blackgram",
          "blackgram",
          "blackgram",
          "blackgram",
          "blackgram",
          "blackgram",
          "blackgram",
          "lentil",
          "lentil",
          "lentil",
          "lentil",
          "lentil",
          "lentil",
          "lentil",
          "lentil",
          "lentil",
          "lentil",
          "lentil",
          "lentil",
          "lentil",
          "lentil",
          "lentil",
          "lentil",
          "lentil",
          "lentil",
          "lentil",
          "lentil",
          "lentil",
          "lentil",
          "lentil",
          "lentil",
          "lentil",
          "lentil",
          "lentil",
          "lentil",
          "lentil",
          "lentil",
          "lentil",
          "lentil",
          "lentil",
          "lentil",
          "lentil",
          "lentil",
          "lentil",
          "lentil",
          "lentil",
          "lentil",
          "lentil",
          "lentil",
          "lentil",
          "lentil",
          "lentil",
          "lentil",
          "lentil",
          "lentil",
          "lentil",
          "lentil",
          "lentil",
          "lentil",
          "lentil",
          "lentil",
          "lentil",
          "lentil",
          "lentil",
          "lentil",
          "lentil",
          "lentil",
          "lentil",
          "lentil",
          "lentil",
          "lentil",
          "lentil",
          "lentil",
          "lentil",
          "lentil",
          "lentil",
          "lentil",
          "lentil",
          "lentil",
          "lentil",
          "lentil",
          "lentil",
          "lentil",
          "lentil",
          "lentil",
          "lentil",
          "lentil",
          "lentil",
          "lentil",
          "lentil",
          "lentil",
          "lentil",
          "lentil",
          "lentil",
          "lentil",
          "lentil",
          "lentil",
          "lentil",
          "lentil",
          "lentil",
          "lentil",
          "lentil",
          "lentil",
          "lentil",
          "lentil",
          "lentil",
          "lentil",
          "pomegranate",
          "pomegranate",
          "pomegranate",
          "pomegranate",
          "pomegranate",
          "pomegranate",
          "pomegranate",
          "pomegranate",
          "pomegranate",
          "pomegranate",
          "pomegranate",
          "pomegranate",
          "pomegranate",
          "pomegranate",
          "pomegranate",
          "pomegranate",
          "pomegranate",
          "pomegranate",
          "pomegranate",
          "pomegranate",
          "pomegranate",
          "pomegranate",
          "pomegranate",
          "pomegranate",
          "pomegranate",
          "pomegranate",
          "pomegranate",
          "pomegranate",
          "pomegranate",
          "pomegranate",
          "pomegranate",
          "pomegranate",
          "pomegranate",
          "pomegranate",
          "pomegranate",
          "pomegranate",
          "pomegranate",
          "pomegranate",
          "pomegranate",
          "pomegranate",
          "pomegranate",
          "pomegranate",
          "pomegranate",
          "pomegranate",
          "pomegranate",
          "pomegranate",
          "pomegranate",
          "pomegranate",
          "pomegranate",
          "pomegranate",
          "pomegranate",
          "pomegranate",
          "pomegranate",
          "pomegranate",
          "pomegranate",
          "pomegranate",
          "pomegranate",
          "pomegranate",
          "pomegranate",
          "pomegranate",
          "pomegranate",
          "pomegranate",
          "pomegranate",
          "pomegranate",
          "pomegranate",
          "pomegranate",
          "pomegranate",
          "pomegranate",
          "pomegranate",
          "pomegranate",
          "pomegranate",
          "pomegranate",
          "pomegranate",
          "pomegranate",
          "pomegranate",
          "pomegranate",
          "pomegranate",
          "pomegranate",
          "pomegranate",
          "pomegranate",
          "pomegranate",
          "pomegranate",
          "pomegranate",
          "pomegranate",
          "pomegranate",
          "pomegranate",
          "pomegranate",
          "pomegranate",
          "pomegranate",
          "pomegranate",
          "pomegranate",
          "pomegranate",
          "pomegranate",
          "pomegranate",
          "pomegranate",
          "pomegranate",
          "pomegranate",
          "pomegranate",
          "pomegranate",
          "pomegranate",
          "banana",
          "banana",
          "banana",
          "banana",
          "banana",
          "banana",
          "banana",
          "banana",
          "banana",
          "banana",
          "banana",
          "banana",
          "banana",
          "banana",
          "banana",
          "banana",
          "banana",
          "banana",
          "banana",
          "banana",
          "banana",
          "banana",
          "banana",
          "banana",
          "banana",
          "banana",
          "banana",
          "banana",
          "banana",
          "banana",
          "banana",
          "banana",
          "banana",
          "banana",
          "banana",
          "banana",
          "banana",
          "banana",
          "banana",
          "banana",
          "banana",
          "banana",
          "banana",
          "banana",
          "banana",
          "banana",
          "banana",
          "banana",
          "banana",
          "banana",
          "banana",
          "banana",
          "banana",
          "banana",
          "banana",
          "banana",
          "banana",
          "banana",
          "banana",
          "banana",
          "banana",
          "banana",
          "banana",
          "banana",
          "banana",
          "banana",
          "banana",
          "banana",
          "banana",
          "banana",
          "banana",
          "banana",
          "banana",
          "banana",
          "banana",
          "banana",
          "banana",
          "banana",
          "banana",
          "banana",
          "banana",
          "banana",
          "banana",
          "banana",
          "banana",
          "banana",
          "banana",
          "banana",
          "banana",
          "banana",
          "banana",
          "banana",
          "banana",
          "banana",
          "banana",
          "banana",
          "banana",
          "banana",
          "banana",
          "banana",
          "mango",
          "mango",
          "mango",
          "mango",
          "mango",
          "mango",
          "mango",
          "mango",
          "mango",
          "mango",
          "mango",
          "mango",
          "mango",
          "mango",
          "mango",
          "mango",
          "mango",
          "mango",
          "mango",
          "mango",
          "mango",
          "mango",
          "mango",
          "mango",
          "mango",
          "mango",
          "mango",
          "mango",
          "mango",
          "mango",
          "mango",
          "mango",
          "mango",
          "mango",
          "mango",
          "mango",
          "mango",
          "mango",
          "mango",
          "mango",
          "mango",
          "mango",
          "mango",
          "mango",
          "mango",
          "mango",
          "mango",
          "mango",
          "mango",
          "mango",
          "mango",
          "mango",
          "mango",
          "mango",
          "mango",
          "mango",
          "mango",
          "mango",
          "mango",
          "mango",
          "mango",
          "mango",
          "mango",
          "mango",
          "mango",
          "mango",
          "mango",
          "mango",
          "mango",
          "mango",
          "mango",
          "mango",
          "mango",
          "mango",
          "mango",
          "mango",
          "mango",
          "mango",
          "mango",
          "mango",
          "mango",
          "mango",
          "mango",
          "mango",
          "mango",
          "mango",
          "mango",
          "mango",
          "mango",
          "mango",
          "mango",
          "mango",
          "mango",
          "mango",
          "mango",
          "mango",
          "mango",
          "mango",
          "mango",
          "mango",
          "grapes",
          "grapes",
          "grapes",
          "grapes",
          "grapes",
          "grapes",
          "grapes",
          "grapes",
          "grapes",
          "grapes",
          "grapes",
          "grapes",
          "grapes",
          "grapes",
          "grapes",
          "grapes",
          "grapes",
          "grapes",
          "grapes",
          "grapes",
          "grapes",
          "grapes",
          "grapes",
          "grapes",
          "grapes",
          "grapes",
          "grapes",
          "grapes",
          "grapes",
          "grapes",
          "grapes",
          "grapes",
          "grapes",
          "grapes",
          "grapes",
          "grapes",
          "grapes",
          "grapes",
          "grapes",
          "grapes",
          "grapes",
          "grapes",
          "grapes",
          "grapes",
          "grapes",
          "grapes",
          "grapes",
          "grapes",
          "grapes",
          "grapes",
          "grapes",
          "grapes",
          "grapes",
          "grapes",
          "grapes",
          "grapes",
          "grapes",
          "grapes",
          "grapes",
          "grapes",
          "grapes",
          "grapes",
          "grapes",
          "grapes",
          "grapes",
          "grapes",
          "grapes",
          "grapes",
          "grapes",
          "grapes",
          "grapes",
          "grapes",
          "grapes",
          "grapes",
          "grapes",
          "grapes",
          "grapes",
          "grapes",
          "grapes",
          "grapes",
          "grapes",
          "grapes",
          "grapes",
          "grapes",
          "grapes",
          "grapes",
          "grapes",
          "grapes",
          "grapes",
          "grapes",
          "grapes",
          "grapes",
          "grapes",
          "grapes",
          "grapes",
          "grapes",
          "grapes",
          "grapes",
          "grapes",
          "grapes",
          "watermelon",
          "watermelon",
          "watermelon",
          "watermelon",
          "watermelon",
          "watermelon",
          "watermelon",
          "watermelon",
          "watermelon",
          "watermelon",
          "watermelon",
          "watermelon",
          "watermelon",
          "watermelon",
          "watermelon",
          "watermelon",
          "watermelon",
          "watermelon",
          "watermelon",
          "watermelon",
          "watermelon",
          "watermelon",
          "watermelon",
          "watermelon",
          "watermelon",
          "watermelon",
          "watermelon",
          "watermelon",
          "watermelon",
          "watermelon",
          "watermelon",
          "watermelon",
          "watermelon",
          "watermelon",
          "watermelon",
          "watermelon",
          "watermelon",
          "watermelon",
          "watermelon",
          "watermelon",
          "watermelon",
          "watermelon",
          "watermelon",
          "watermelon",
          "watermelon",
          "watermelon",
          "watermelon",
          "watermelon",
          "watermelon",
          "watermelon",
          "watermelon",
          "watermelon",
          "watermelon",
          "watermelon",
          "watermelon",
          "watermelon",
          "watermelon",
          "watermelon",
          "watermelon",
          "watermelon",
          "watermelon",
          "watermelon",
          "watermelon",
          "watermelon",
          "watermelon",
          "watermelon",
          "watermelon",
          "watermelon",
          "watermelon",
          "watermelon",
          "watermelon",
          "watermelon",
          "watermelon",
          "watermelon",
          "watermelon",
          "watermelon",
          "watermelon",
          "watermelon",
          "watermelon",
          "watermelon",
          "watermelon",
          "watermelon",
          "watermelon",
          "watermelon",
          "watermelon",
          "watermelon",
          "watermelon",
          "watermelon",
          "watermelon",
          "watermelon",
          "watermelon",
          "watermelon",
          "watermelon",
          "watermelon",
          "watermelon",
          "watermelon",
          "watermelon",
          "watermelon",
          "watermelon",
          "watermelon",
          "muskmelon",
          "muskmelon",
          "muskmelon",
          "muskmelon",
          "muskmelon",
          "muskmelon",
          "muskmelon",
          "muskmelon",
          "muskmelon",
          "muskmelon",
          "muskmelon",
          "muskmelon",
          "muskmelon",
          "muskmelon",
          "muskmelon",
          "muskmelon",
          "muskmelon",
          "muskmelon",
          "muskmelon",
          "muskmelon",
          "muskmelon",
          "muskmelon",
          "muskmelon",
          "muskmelon",
          "muskmelon",
          "muskmelon",
          "muskmelon",
          "muskmelon",
          "muskmelon",
          "muskmelon",
          "muskmelon",
          "muskmelon",
          "muskmelon",
          "muskmelon",
          "muskmelon",
          "muskmelon",
          "muskmelon",
          "muskmelon",
          "muskmelon",
          "muskmelon",
          "muskmelon",
          "muskmelon",
          "muskmelon",
          "muskmelon",
          "muskmelon",
          "muskmelon",
          "muskmelon",
          "muskmelon",
          "muskmelon",
          "muskmelon",
          "muskmelon",
          "muskmelon",
          "muskmelon",
          "muskmelon",
          "muskmelon",
          "muskmelon",
          "muskmelon",
          "muskmelon",
          "muskmelon",
          "muskmelon",
          "muskmelon",
          "muskmelon",
          "muskmelon",
          "muskmelon",
          "muskmelon",
          "muskmelon",
          "muskmelon",
          "muskmelon",
          "muskmelon",
          "muskmelon",
          "muskmelon",
          "muskmelon",
          "muskmelon",
          "muskmelon",
          "muskmelon",
          "muskmelon",
          "muskmelon",
          "muskmelon",
          "muskmelon",
          "muskmelon",
          "muskmelon",
          "muskmelon",
          "muskmelon",
          "muskmelon",
          "muskmelon",
          "muskmelon",
          "muskmelon",
          "muskmelon",
          "muskmelon",
          "muskmelon",
          "muskmelon",
          "muskmelon",
          "muskmelon",
          "muskmelon",
          "muskmelon",
          "muskmelon",
          "muskmelon",
          "muskmelon",
          "muskmelon",
          "muskmelon",
          "apple",
          "apple",
          "apple",
          "apple",
          "apple",
          "apple",
          "apple",
          "apple",
          "apple",
          "apple",
          "apple",
          "apple",
          "apple",
          "apple",
          "apple",
          "apple",
          "apple",
          "apple",
          "apple",
          "apple",
          "apple",
          "apple",
          "apple",
          "apple",
          "apple",
          "apple",
          "apple",
          "apple",
          "apple",
          "apple",
          "apple",
          "apple",
          "apple",
          "apple",
          "apple",
          "apple",
          "apple",
          "apple",
          "apple",
          "apple",
          "apple",
          "apple",
          "apple",
          "apple",
          "apple",
          "apple",
          "apple",
          "apple",
          "apple",
          "apple",
          "apple",
          "apple",
          "apple",
          "apple",
          "apple",
          "apple",
          "apple",
          "apple",
          "apple",
          "apple",
          "apple",
          "apple",
          "apple",
          "apple",
          "apple",
          "apple",
          "apple",
          "apple",
          "apple",
          "apple",
          "apple",
          "apple",
          "apple",
          "apple",
          "apple",
          "apple",
          "apple",
          "apple",
          "apple",
          "apple",
          "apple",
          "apple",
          "apple",
          "apple",
          "apple",
          "apple",
          "apple",
          "apple",
          "apple",
          "apple",
          "apple",
          "apple",
          "apple",
          "apple",
          "apple",
          "apple",
          "apple",
          "apple",
          "apple",
          "apple",
          "orange",
          "orange",
          "orange",
          "orange",
          "orange",
          "orange",
          "orange",
          "orange",
          "orange",
          "orange",
          "orange",
          "orange",
          "orange",
          "orange",
          "orange",
          "orange",
          "orange",
          "orange",
          "orange",
          "orange",
          "orange",
          "orange",
          "orange",
          "orange",
          "orange",
          "orange",
          "orange",
          "orange",
          "orange",
          "orange",
          "orange",
          "orange",
          "orange",
          "orange",
          "orange",
          "orange",
          "orange",
          "orange",
          "orange",
          "orange",
          "orange",
          "orange",
          "orange",
          "orange",
          "orange",
          "orange",
          "orange",
          "orange",
          "orange",
          "orange",
          "orange",
          "orange",
          "orange",
          "orange",
          "orange",
          "orange",
          "orange",
          "orange",
          "orange",
          "orange",
          "orange",
          "orange",
          "orange",
          "orange",
          "orange",
          "orange",
          "orange",
          "orange",
          "orange",
          "orange",
          "orange",
          "orange",
          "orange",
          "orange",
          "orange",
          "orange",
          "orange",
          "orange",
          "orange",
          "orange",
          "orange",
          "orange",
          "orange",
          "orange",
          "orange",
          "orange",
          "orange",
          "orange",
          "orange",
          "orange",
          "orange",
          "orange",
          "orange",
          "orange",
          "orange",
          "orange",
          "orange",
          "orange",
          "orange",
          "orange",
          "papaya",
          "papaya",
          "papaya",
          "papaya",
          "papaya",
          "papaya",
          "papaya",
          "papaya",
          "papaya",
          "papaya",
          "papaya",
          "papaya",
          "papaya",
          "papaya",
          "papaya",
          "papaya",
          "papaya",
          "papaya",
          "papaya",
          "papaya",
          "papaya",
          "papaya",
          "papaya",
          "papaya",
          "papaya",
          "papaya",
          "papaya",
          "papaya",
          "papaya",
          "papaya",
          "papaya",
          "papaya",
          "papaya",
          "papaya",
          "papaya",
          "papaya",
          "papaya",
          "papaya",
          "papaya",
          "papaya",
          "papaya",
          "papaya",
          "papaya",
          "papaya",
          "papaya",
          "papaya",
          "papaya",
          "papaya",
          "papaya",
          "papaya",
          "papaya",
          "papaya",
          "papaya",
          "papaya",
          "papaya",
          "papaya",
          "papaya",
          "papaya",
          "papaya",
          "papaya",
          "papaya",
          "papaya",
          "papaya",
          "papaya",
          "papaya",
          "papaya",
          "papaya",
          "papaya",
          "papaya",
          "papaya",
          "papaya",
          "papaya",
          "papaya",
          "papaya",
          "papaya",
          "papaya",
          "papaya",
          "papaya",
          "papaya",
          "papaya",
          "papaya",
          "papaya",
          "papaya",
          "papaya",
          "papaya",
          "papaya",
          "papaya",
          "papaya",
          "papaya",
          "papaya",
          "papaya",
          "papaya",
          "papaya",
          "papaya",
          "papaya",
          "papaya",
          "papaya",
          "papaya",
          "papaya",
          "papaya",
          "coconut",
          "coconut",
          "coconut",
          "coconut",
          "coconut",
          "coconut",
          "coconut",
          "coconut",
          "coconut",
          "coconut",
          "coconut",
          "coconut",
          "coconut",
          "coconut",
          "coconut",
          "coconut",
          "coconut",
          "coconut",
          "coconut",
          "coconut",
          "coconut",
          "coconut",
          "coconut",
          "coconut",
          "coconut",
          "coconut",
          "coconut",
          "coconut",
          "coconut",
          "coconut",
          "coconut",
          "coconut",
          "coconut",
          "coconut",
          "coconut",
          "coconut",
          "coconut",
          "coconut",
          "coconut",
          "coconut",
          "coconut",
          "coconut",
          "coconut",
          "coconut",
          "coconut",
          "coconut",
          "coconut",
          "coconut",
          "coconut",
          "coconut",
          "coconut",
          "coconut",
          "coconut",
          "coconut",
          "coconut",
          "coconut",
          "coconut",
          "coconut",
          "coconut",
          "coconut",
          "coconut",
          "coconut",
          "coconut",
          "coconut",
          "coconut",
          "coconut",
          "coconut",
          "coconut",
          "coconut",
          "coconut",
          "coconut",
          "coconut",
          "coconut",
          "coconut",
          "coconut",
          "coconut",
          "coconut",
          "coconut",
          "coconut",
          "coconut",
          "coconut",
          "coconut",
          "coconut",
          "coconut",
          "coconut",
          "coconut",
          "coconut",
          "coconut",
          "coconut",
          "coconut",
          "coconut",
          "coconut",
          "coconut",
          "coconut",
          "coconut",
          "coconut",
          "coconut",
          "coconut",
          "coconut",
          "coconut",
          "cotton",
          "cotton",
          "cotton",
          "cotton",
          "cotton",
          "cotton",
          "cotton",
          "cotton",
          "cotton",
          "cotton",
          "cotton",
          "cotton",
          "cotton",
          "cotton",
          "cotton",
          "cotton",
          "cotton",
          "cotton",
          "cotton",
          "cotton",
          "cotton",
          "cotton",
          "cotton",
          "cotton",
          "cotton",
          "cotton",
          "cotton",
          "cotton",
          "cotton",
          "cotton",
          "cotton",
          "cotton",
          "cotton",
          "cotton",
          "cotton",
          "cotton",
          "cotton",
          "cotton",
          "cotton",
          "cotton",
          "cotton",
          "cotton",
          "cotton",
          "cotton",
          "cotton",
          "cotton",
          "cotton",
          "cotton",
          "cotton",
          "cotton",
          "cotton",
          "cotton",
          "cotton",
          "cotton",
          "cotton",
          "cotton",
          "cotton",
          "cotton",
          "cotton",
          "cotton",
          "cotton",
          "cotton",
          "cotton",
          "cotton",
          "cotton",
          "cotton",
          "cotton",
          "cotton",
          "cotton",
          "cotton",
          "cotton",
          "cotton",
          "cotton",
          "cotton",
          "cotton",
          "cotton",
          "cotton",
          "cotton",
          "cotton",
          "cotton",
          "cotton",
          "cotton",
          "cotton",
          "cotton",
          "cotton",
          "cotton",
          "cotton",
          "cotton",
          "cotton",
          "cotton",
          "cotton",
          "cotton",
          "cotton",
          "cotton",
          "cotton",
          "cotton",
          "cotton",
          "cotton",
          "cotton",
          "cotton",
          "jute",
          "jute",
          "jute",
          "jute",
          "jute",
          "jute",
          "jute",
          "jute",
          "jute",
          "jute",
          "jute",
          "jute",
          "jute",
          "jute",
          "jute",
          "jute",
          "jute",
          "jute",
          "jute",
          "jute",
          "jute",
          "jute",
          "jute",
          "jute",
          "jute",
          "jute",
          "jute",
          "jute",
          "jute",
          "jute",
          "jute",
          "jute",
          "jute",
          "jute",
          "jute",
          "jute",
          "jute",
          "jute",
          "jute",
          "jute",
          "jute",
          "jute",
          "jute",
          "jute",
          "jute",
          "jute",
          "jute",
          "jute",
          "jute",
          "jute",
          "jute",
          "jute",
          "jute",
          "jute",
          "jute",
          "jute",
          "jute",
          "jute",
          "jute",
          "jute",
          "jute",
          "jute",
          "jute",
          "jute",
          "jute",
          "jute",
          "jute",
          "jute",
          "jute",
          "jute",
          "jute",
          "jute",
          "jute",
          "jute",
          "jute",
          "jute",
          "jute",
          "jute",
          "jute",
          "jute",
          "jute",
          "jute",
          "jute",
          "jute",
          "jute",
          "jute",
          "jute",
          "jute",
          "jute",
          "jute",
          "jute",
          "jute",
          "jute",
          "jute",
          "jute",
          "jute",
          "jute",
          "jute",
          "jute",
          "jute",
          "coffee",
          "coffee",
          "coffee",
          "coffee",
          "coffee",
          "coffee",
          "coffee",
          "coffee",
          "coffee",
          "coffee",
          "coffee",
          "coffee",
          "coffee",
          "coffee",
          "coffee",
          "coffee",
          "coffee",
          "coffee",
          "coffee",
          "coffee",
          "coffee",
          "coffee",
          "coffee",
          "coffee",
          "coffee",
          "coffee",
          "coffee",
          "coffee",
          "coffee",
          "coffee",
          "coffee",
          "coffee",
          "coffee",
          "coffee",
          "coffee",
          "coffee",
          "coffee",
          "coffee",
          "coffee",
          "coffee",
          "coffee",
          "coffee",
          "coffee",
          "coffee",
          "coffee",
          "coffee",
          "coffee",
          "coffee",
          "coffee",
          "coffee",
          "coffee",
          "coffee",
          "coffee",
          "coffee",
          "coffee",
          "coffee",
          "coffee",
          "coffee",
          "coffee",
          "coffee",
          "coffee",
          "coffee",
          "coffee",
          "coffee",
          "coffee",
          "coffee",
          "coffee",
          "coffee",
          "coffee",
          "coffee",
          "coffee",
          "coffee",
          "coffee",
          "coffee",
          "coffee",
          "coffee",
          "coffee",
          "coffee",
          "coffee",
          "coffee",
          "coffee",
          "coffee",
          "coffee",
          "coffee",
          "coffee",
          "coffee",
          "coffee",
          "coffee",
          "coffee",
          "coffee",
          "coffee",
          "coffee",
          "coffee",
          "coffee",
          "coffee",
          "coffee",
          "coffee",
          "coffee",
          "coffee",
          "coffee"
         ],
         "yaxis": "y"
        }
       ],
       "layout": {
        "legend": {
         "tracegroupgap": 0
        },
        "template": {
         "data": {
          "bar": [
           {
            "error_x": {
             "color": "#2a3f5f"
            },
            "error_y": {
             "color": "#2a3f5f"
            },
            "marker": {
             "line": {
              "color": "#E5ECF6",
              "width": 0.5
             },
             "pattern": {
              "fillmode": "overlay",
              "size": 10,
              "solidity": 0.2
             }
            },
            "type": "bar"
           }
          ],
          "barpolar": [
           {
            "marker": {
             "line": {
              "color": "#E5ECF6",
              "width": 0.5
             },
             "pattern": {
              "fillmode": "overlay",
              "size": 10,
              "solidity": 0.2
             }
            },
            "type": "barpolar"
           }
          ],
          "carpet": [
           {
            "aaxis": {
             "endlinecolor": "#2a3f5f",
             "gridcolor": "white",
             "linecolor": "white",
             "minorgridcolor": "white",
             "startlinecolor": "#2a3f5f"
            },
            "baxis": {
             "endlinecolor": "#2a3f5f",
             "gridcolor": "white",
             "linecolor": "white",
             "minorgridcolor": "white",
             "startlinecolor": "#2a3f5f"
            },
            "type": "carpet"
           }
          ],
          "choropleth": [
           {
            "colorbar": {
             "outlinewidth": 0,
             "ticks": ""
            },
            "type": "choropleth"
           }
          ],
          "contour": [
           {
            "colorbar": {
             "outlinewidth": 0,
             "ticks": ""
            },
            "colorscale": [
             [
              0,
              "#0d0887"
             ],
             [
              0.1111111111111111,
              "#46039f"
             ],
             [
              0.2222222222222222,
              "#7201a8"
             ],
             [
              0.3333333333333333,
              "#9c179e"
             ],
             [
              0.4444444444444444,
              "#bd3786"
             ],
             [
              0.5555555555555556,
              "#d8576b"
             ],
             [
              0.6666666666666666,
              "#ed7953"
             ],
             [
              0.7777777777777778,
              "#fb9f3a"
             ],
             [
              0.8888888888888888,
              "#fdca26"
             ],
             [
              1,
              "#f0f921"
             ]
            ],
            "type": "contour"
           }
          ],
          "contourcarpet": [
           {
            "colorbar": {
             "outlinewidth": 0,
             "ticks": ""
            },
            "type": "contourcarpet"
           }
          ],
          "heatmap": [
           {
            "colorbar": {
             "outlinewidth": 0,
             "ticks": ""
            },
            "colorscale": [
             [
              0,
              "#0d0887"
             ],
             [
              0.1111111111111111,
              "#46039f"
             ],
             [
              0.2222222222222222,
              "#7201a8"
             ],
             [
              0.3333333333333333,
              "#9c179e"
             ],
             [
              0.4444444444444444,
              "#bd3786"
             ],
             [
              0.5555555555555556,
              "#d8576b"
             ],
             [
              0.6666666666666666,
              "#ed7953"
             ],
             [
              0.7777777777777778,
              "#fb9f3a"
             ],
             [
              0.8888888888888888,
              "#fdca26"
             ],
             [
              1,
              "#f0f921"
             ]
            ],
            "type": "heatmap"
           }
          ],
          "histogram": [
           {
            "marker": {
             "pattern": {
              "fillmode": "overlay",
              "size": 10,
              "solidity": 0.2
             }
            },
            "type": "histogram"
           }
          ],
          "histogram2d": [
           {
            "colorbar": {
             "outlinewidth": 0,
             "ticks": ""
            },
            "colorscale": [
             [
              0,
              "#0d0887"
             ],
             [
              0.1111111111111111,
              "#46039f"
             ],
             [
              0.2222222222222222,
              "#7201a8"
             ],
             [
              0.3333333333333333,
              "#9c179e"
             ],
             [
              0.4444444444444444,
              "#bd3786"
             ],
             [
              0.5555555555555556,
              "#d8576b"
             ],
             [
              0.6666666666666666,
              "#ed7953"
             ],
             [
              0.7777777777777778,
              "#fb9f3a"
             ],
             [
              0.8888888888888888,
              "#fdca26"
             ],
             [
              1,
              "#f0f921"
             ]
            ],
            "type": "histogram2d"
           }
          ],
          "histogram2dcontour": [
           {
            "colorbar": {
             "outlinewidth": 0,
             "ticks": ""
            },
            "colorscale": [
             [
              0,
              "#0d0887"
             ],
             [
              0.1111111111111111,
              "#46039f"
             ],
             [
              0.2222222222222222,
              "#7201a8"
             ],
             [
              0.3333333333333333,
              "#9c179e"
             ],
             [
              0.4444444444444444,
              "#bd3786"
             ],
             [
              0.5555555555555556,
              "#d8576b"
             ],
             [
              0.6666666666666666,
              "#ed7953"
             ],
             [
              0.7777777777777778,
              "#fb9f3a"
             ],
             [
              0.8888888888888888,
              "#fdca26"
             ],
             [
              1,
              "#f0f921"
             ]
            ],
            "type": "histogram2dcontour"
           }
          ],
          "mesh3d": [
           {
            "colorbar": {
             "outlinewidth": 0,
             "ticks": ""
            },
            "type": "mesh3d"
           }
          ],
          "parcoords": [
           {
            "line": {
             "colorbar": {
              "outlinewidth": 0,
              "ticks": ""
             }
            },
            "type": "parcoords"
           }
          ],
          "pie": [
           {
            "automargin": true,
            "type": "pie"
           }
          ],
          "scatter": [
           {
            "fillpattern": {
             "fillmode": "overlay",
             "size": 10,
             "solidity": 0.2
            },
            "type": "scatter"
           }
          ],
          "scatter3d": [
           {
            "line": {
             "colorbar": {
              "outlinewidth": 0,
              "ticks": ""
             }
            },
            "marker": {
             "colorbar": {
              "outlinewidth": 0,
              "ticks": ""
             }
            },
            "type": "scatter3d"
           }
          ],
          "scattercarpet": [
           {
            "marker": {
             "colorbar": {
              "outlinewidth": 0,
              "ticks": ""
             }
            },
            "type": "scattercarpet"
           }
          ],
          "scattergeo": [
           {
            "marker": {
             "colorbar": {
              "outlinewidth": 0,
              "ticks": ""
             }
            },
            "type": "scattergeo"
           }
          ],
          "scattergl": [
           {
            "marker": {
             "colorbar": {
              "outlinewidth": 0,
              "ticks": ""
             }
            },
            "type": "scattergl"
           }
          ],
          "scattermap": [
           {
            "marker": {
             "colorbar": {
              "outlinewidth": 0,
              "ticks": ""
             }
            },
            "type": "scattermap"
           }
          ],
          "scattermapbox": [
           {
            "marker": {
             "colorbar": {
              "outlinewidth": 0,
              "ticks": ""
             }
            },
            "type": "scattermapbox"
           }
          ],
          "scatterpolar": [
           {
            "marker": {
             "colorbar": {
              "outlinewidth": 0,
              "ticks": ""
             }
            },
            "type": "scatterpolar"
           }
          ],
          "scatterpolargl": [
           {
            "marker": {
             "colorbar": {
              "outlinewidth": 0,
              "ticks": ""
             }
            },
            "type": "scatterpolargl"
           }
          ],
          "scatterternary": [
           {
            "marker": {
             "colorbar": {
              "outlinewidth": 0,
              "ticks": ""
             }
            },
            "type": "scatterternary"
           }
          ],
          "surface": [
           {
            "colorbar": {
             "outlinewidth": 0,
             "ticks": ""
            },
            "colorscale": [
             [
              0,
              "#0d0887"
             ],
             [
              0.1111111111111111,
              "#46039f"
             ],
             [
              0.2222222222222222,
              "#7201a8"
             ],
             [
              0.3333333333333333,
              "#9c179e"
             ],
             [
              0.4444444444444444,
              "#bd3786"
             ],
             [
              0.5555555555555556,
              "#d8576b"
             ],
             [
              0.6666666666666666,
              "#ed7953"
             ],
             [
              0.7777777777777778,
              "#fb9f3a"
             ],
             [
              0.8888888888888888,
              "#fdca26"
             ],
             [
              1,
              "#f0f921"
             ]
            ],
            "type": "surface"
           }
          ],
          "table": [
           {
            "cells": {
             "fill": {
              "color": "#EBF0F8"
             },
             "line": {
              "color": "white"
             }
            },
            "header": {
             "fill": {
              "color": "#C8D4E3"
             },
             "line": {
              "color": "white"
             }
            },
            "type": "table"
           }
          ]
         },
         "layout": {
          "annotationdefaults": {
           "arrowcolor": "#2a3f5f",
           "arrowhead": 0,
           "arrowwidth": 1
          },
          "autotypenumbers": "strict",
          "coloraxis": {
           "colorbar": {
            "outlinewidth": 0,
            "ticks": ""
           }
          },
          "colorscale": {
           "diverging": [
            [
             0,
             "#8e0152"
            ],
            [
             0.1,
             "#c51b7d"
            ],
            [
             0.2,
             "#de77ae"
            ],
            [
             0.3,
             "#f1b6da"
            ],
            [
             0.4,
             "#fde0ef"
            ],
            [
             0.5,
             "#f7f7f7"
            ],
            [
             0.6,
             "#e6f5d0"
            ],
            [
             0.7,
             "#b8e186"
            ],
            [
             0.8,
             "#7fbc41"
            ],
            [
             0.9,
             "#4d9221"
            ],
            [
             1,
             "#276419"
            ]
           ],
           "sequential": [
            [
             0,
             "#0d0887"
            ],
            [
             0.1111111111111111,
             "#46039f"
            ],
            [
             0.2222222222222222,
             "#7201a8"
            ],
            [
             0.3333333333333333,
             "#9c179e"
            ],
            [
             0.4444444444444444,
             "#bd3786"
            ],
            [
             0.5555555555555556,
             "#d8576b"
            ],
            [
             0.6666666666666666,
             "#ed7953"
            ],
            [
             0.7777777777777778,
             "#fb9f3a"
            ],
            [
             0.8888888888888888,
             "#fdca26"
            ],
            [
             1,
             "#f0f921"
            ]
           ],
           "sequentialminus": [
            [
             0,
             "#0d0887"
            ],
            [
             0.1111111111111111,
             "#46039f"
            ],
            [
             0.2222222222222222,
             "#7201a8"
            ],
            [
             0.3333333333333333,
             "#9c179e"
            ],
            [
             0.4444444444444444,
             "#bd3786"
            ],
            [
             0.5555555555555556,
             "#d8576b"
            ],
            [
             0.6666666666666666,
             "#ed7953"
            ],
            [
             0.7777777777777778,
             "#fb9f3a"
            ],
            [
             0.8888888888888888,
             "#fdca26"
            ],
            [
             1,
             "#f0f921"
            ]
           ]
          },
          "colorway": [
           "#636efa",
           "#EF553B",
           "#00cc96",
           "#ab63fa",
           "#FFA15A",
           "#19d3f3",
           "#FF6692",
           "#B6E880",
           "#FF97FF",
           "#FECB52"
          ],
          "font": {
           "color": "#2a3f5f"
          },
          "geo": {
           "bgcolor": "white",
           "lakecolor": "white",
           "landcolor": "#E5ECF6",
           "showlakes": true,
           "showland": true,
           "subunitcolor": "white"
          },
          "hoverlabel": {
           "align": "left"
          },
          "hovermode": "closest",
          "mapbox": {
           "style": "light"
          },
          "paper_bgcolor": "white",
          "plot_bgcolor": "#E5ECF6",
          "polar": {
           "angularaxis": {
            "gridcolor": "white",
            "linecolor": "white",
            "ticks": ""
           },
           "bgcolor": "#E5ECF6",
           "radialaxis": {
            "gridcolor": "white",
            "linecolor": "white",
            "ticks": ""
           }
          },
          "scene": {
           "xaxis": {
            "backgroundcolor": "#E5ECF6",
            "gridcolor": "white",
            "gridwidth": 2,
            "linecolor": "white",
            "showbackground": true,
            "ticks": "",
            "zerolinecolor": "white"
           },
           "yaxis": {
            "backgroundcolor": "#E5ECF6",
            "gridcolor": "white",
            "gridwidth": 2,
            "linecolor": "white",
            "showbackground": true,
            "ticks": "",
            "zerolinecolor": "white"
           },
           "zaxis": {
            "backgroundcolor": "#E5ECF6",
            "gridcolor": "white",
            "gridwidth": 2,
            "linecolor": "white",
            "showbackground": true,
            "ticks": "",
            "zerolinecolor": "white"
           }
          },
          "shapedefaults": {
           "line": {
            "color": "#2a3f5f"
           }
          },
          "ternary": {
           "aaxis": {
            "gridcolor": "white",
            "linecolor": "white",
            "ticks": ""
           },
           "baxis": {
            "gridcolor": "white",
            "linecolor": "white",
            "ticks": ""
           },
           "bgcolor": "#E5ECF6",
           "caxis": {
            "gridcolor": "white",
            "linecolor": "white",
            "ticks": ""
           }
          },
          "title": {
           "x": 0.05
          },
          "xaxis": {
           "automargin": true,
           "gridcolor": "white",
           "linecolor": "white",
           "ticks": "",
           "title": {
            "standoff": 15
           },
           "zerolinecolor": "white",
           "zerolinewidth": 2
          },
          "yaxis": {
           "automargin": true,
           "gridcolor": "white",
           "linecolor": "white",
           "ticks": "",
           "title": {
            "standoff": 15
           },
           "zerolinecolor": "white",
           "zerolinewidth": 2
          }
         }
        },
        "title": {
         "text": "temperature vs label"
        },
        "xaxis": {
         "anchor": "y",
         "domain": [
          0,
          1
         ],
         "title": {
          "text": "temperature"
         }
        },
        "yaxis": {
         "anchor": "x",
         "domain": [
          0,
          1
         ],
         "title": {
          "text": "label"
         }
        }
       }
      }
     },
     "metadata": {},
     "output_type": "display_data"
    }
   ],
   "source": [
    "fig = px.scatter(raw_df , x='temperature',y='label',title='temperature vs label')\n",
    "fig.update_traces(marker_size=8)\n",
    "fig.show()"
   ]
  },
  {
   "cell_type": "code",
   "execution_count": 146,
   "id": "d6b856d4",
   "metadata": {},
   "outputs": [
    {
     "data": {
      "text/plain": [
       "<Figure size 640x480 with 0 Axes>"
      ]
     },
     "metadata": {},
     "output_type": "display_data"
    }
   ],
   "source": [
    "plt.savefig(\"../artifacts/plots/temperature_vs_label.png\")"
   ]
  },
  {
   "cell_type": "code",
   "execution_count": 147,
   "id": "6454b67a",
   "metadata": {},
   "outputs": [
    {
     "data": {
      "application/vnd.plotly.v1+json": {
       "config": {
        "plotlyServerURL": "https://plot.ly"
       },
       "data": [
        {
         "hovertemplate": "ph=%{x}<br>label=%{y}<extra></extra>",
         "legendgroup": "",
         "marker": {
          "color": "#636efa",
          "size": 8,
          "symbol": "circle"
         },
         "mode": "markers",
         "name": "",
         "showlegend": false,
         "type": "scattergl",
         "x": {
          "bdata": "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",
          "dtype": "f8"
         },
         "xaxis": "x",
         "y": [
          "rice",
          "rice",
          "rice",
          "rice",
          "rice",
          "rice",
          "rice",
          "rice",
          "rice",
          "rice",
          "rice",
          "rice",
          "rice",
          "rice",
          "rice",
          "rice",
          "rice",
          "rice",
          "rice",
          "rice",
          "rice",
          "rice",
          "rice",
          "rice",
          "rice",
          "rice",
          "rice",
          "rice",
          "rice",
          "rice",
          "rice",
          "rice",
          "rice",
          "rice",
          "rice",
          "rice",
          "rice",
          "rice",
          "rice",
          "rice",
          "rice",
          "rice",
          "rice",
          "rice",
          "rice",
          "rice",
          "rice",
          "rice",
          "rice",
          "rice",
          "rice",
          "rice",
          "rice",
          "rice",
          "rice",
          "rice",
          "rice",
          "rice",
          "rice",
          "rice",
          "rice",
          "rice",
          "rice",
          "rice",
          "rice",
          "rice",
          "rice",
          "rice",
          "rice",
          "rice",
          "rice",
          "rice",
          "rice",
          "rice",
          "rice",
          "rice",
          "rice",
          "rice",
          "rice",
          "rice",
          "rice",
          "rice",
          "rice",
          "rice",
          "rice",
          "rice",
          "rice",
          "rice",
          "rice",
          "rice",
          "rice",
          "rice",
          "rice",
          "rice",
          "rice",
          "rice",
          "rice",
          "rice",
          "rice",
          "rice",
          "maize",
          "maize",
          "maize",
          "maize",
          "maize",
          "maize",
          "maize",
          "maize",
          "maize",
          "maize",
          "maize",
          "maize",
          "maize",
          "maize",
          "maize",
          "maize",
          "maize",
          "maize",
          "maize",
          "maize",
          "maize",
          "maize",
          "maize",
          "maize",
          "maize",
          "maize",
          "maize",
          "maize",
          "maize",
          "maize",
          "maize",
          "maize",
          "maize",
          "maize",
          "maize",
          "maize",
          "maize",
          "maize",
          "maize",
          "maize",
          "maize",
          "maize",
          "maize",
          "maize",
          "maize",
          "maize",
          "maize",
          "maize",
          "maize",
          "maize",
          "maize",
          "maize",
          "maize",
          "maize",
          "maize",
          "maize",
          "maize",
          "maize",
          "maize",
          "maize",
          "maize",
          "maize",
          "maize",
          "maize",
          "maize",
          "maize",
          "maize",
          "maize",
          "maize",
          "maize",
          "maize",
          "maize",
          "maize",
          "maize",
          "maize",
          "maize",
          "maize",
          "maize",
          "maize",
          "maize",
          "maize",
          "maize",
          "maize",
          "maize",
          "maize",
          "maize",
          "maize",
          "maize",
          "maize",
          "maize",
          "maize",
          "maize",
          "maize",
          "maize",
          "maize",
          "maize",
          "maize",
          "maize",
          "maize",
          "maize",
          "chickpea",
          "chickpea",
          "chickpea",
          "chickpea",
          "chickpea",
          "chickpea",
          "chickpea",
          "chickpea",
          "chickpea",
          "chickpea",
          "chickpea",
          "chickpea",
          "chickpea",
          "chickpea",
          "chickpea",
          "chickpea",
          "chickpea",
          "chickpea",
          "chickpea",
          "chickpea",
          "chickpea",
          "chickpea",
          "chickpea",
          "chickpea",
          "chickpea",
          "chickpea",
          "chickpea",
          "chickpea",
          "chickpea",
          "chickpea",
          "chickpea",
          "chickpea",
          "chickpea",
          "chickpea",
          "chickpea",
          "chickpea",
          "chickpea",
          "chickpea",
          "chickpea",
          "chickpea",
          "chickpea",
          "chickpea",
          "chickpea",
          "chickpea",
          "chickpea",
          "chickpea",
          "chickpea",
          "chickpea",
          "chickpea",
          "chickpea",
          "chickpea",
          "chickpea",
          "chickpea",
          "chickpea",
          "chickpea",
          "chickpea",
          "chickpea",
          "chickpea",
          "chickpea",
          "chickpea",
          "chickpea",
          "chickpea",
          "chickpea",
          "chickpea",
          "chickpea",
          "chickpea",
          "chickpea",
          "chickpea",
          "chickpea",
          "chickpea",
          "chickpea",
          "chickpea",
          "chickpea",
          "chickpea",
          "chickpea",
          "chickpea",
          "chickpea",
          "chickpea",
          "chickpea",
          "chickpea",
          "chickpea",
          "chickpea",
          "chickpea",
          "chickpea",
          "chickpea",
          "chickpea",
          "chickpea",
          "chickpea",
          "chickpea",
          "chickpea",
          "chickpea",
          "chickpea",
          "chickpea",
          "chickpea",
          "chickpea",
          "chickpea",
          "chickpea",
          "chickpea",
          "chickpea",
          "chickpea",
          "kidneybeans",
          "kidneybeans",
          "kidneybeans",
          "kidneybeans",
          "kidneybeans",
          "kidneybeans",
          "kidneybeans",
          "kidneybeans",
          "kidneybeans",
          "kidneybeans",
          "kidneybeans",
          "kidneybeans",
          "kidneybeans",
          "kidneybeans",
          "kidneybeans",
          "kidneybeans",
          "kidneybeans",
          "kidneybeans",
          "kidneybeans",
          "kidneybeans",
          "kidneybeans",
          "kidneybeans",
          "kidneybeans",
          "kidneybeans",
          "kidneybeans",
          "kidneybeans",
          "kidneybeans",
          "kidneybeans",
          "kidneybeans",
          "kidneybeans",
          "kidneybeans",
          "kidneybeans",
          "kidneybeans",
          "kidneybeans",
          "kidneybeans",
          "kidneybeans",
          "kidneybeans",
          "kidneybeans",
          "kidneybeans",
          "kidneybeans",
          "kidneybeans",
          "kidneybeans",
          "kidneybeans",
          "kidneybeans",
          "kidneybeans",
          "kidneybeans",
          "kidneybeans",
          "kidneybeans",
          "kidneybeans",
          "kidneybeans",
          "kidneybeans",
          "kidneybeans",
          "kidneybeans",
          "kidneybeans",
          "kidneybeans",
          "kidneybeans",
          "kidneybeans",
          "kidneybeans",
          "kidneybeans",
          "kidneybeans",
          "kidneybeans",
          "kidneybeans",
          "kidneybeans",
          "kidneybeans",
          "kidneybeans",
          "kidneybeans",
          "kidneybeans",
          "kidneybeans",
          "kidneybeans",
          "kidneybeans",
          "kidneybeans",
          "kidneybeans",
          "kidneybeans",
          "kidneybeans",
          "kidneybeans",
          "kidneybeans",
          "kidneybeans",
          "kidneybeans",
          "kidneybeans",
          "kidneybeans",
          "kidneybeans",
          "kidneybeans",
          "kidneybeans",
          "kidneybeans",
          "kidneybeans",
          "kidneybeans",
          "kidneybeans",
          "kidneybeans",
          "kidneybeans",
          "kidneybeans",
          "kidneybeans",
          "kidneybeans",
          "kidneybeans",
          "kidneybeans",
          "kidneybeans",
          "kidneybeans",
          "kidneybeans",
          "kidneybeans",
          "kidneybeans",
          "kidneybeans",
          "pigeonpeas",
          "pigeonpeas",
          "pigeonpeas",
          "pigeonpeas",
          "pigeonpeas",
          "pigeonpeas",
          "pigeonpeas",
          "pigeonpeas",
          "pigeonpeas",
          "pigeonpeas",
          "pigeonpeas",
          "pigeonpeas",
          "pigeonpeas",
          "pigeonpeas",
          "pigeonpeas",
          "pigeonpeas",
          "pigeonpeas",
          "pigeonpeas",
          "pigeonpeas",
          "pigeonpeas",
          "pigeonpeas",
          "pigeonpeas",
          "pigeonpeas",
          "pigeonpeas",
          "pigeonpeas",
          "pigeonpeas",
          "pigeonpeas",
          "pigeonpeas",
          "pigeonpeas",
          "pigeonpeas",
          "pigeonpeas",
          "pigeonpeas",
          "pigeonpeas",
          "pigeonpeas",
          "pigeonpeas",
          "pigeonpeas",
          "pigeonpeas",
          "pigeonpeas",
          "pigeonpeas",
          "pigeonpeas",
          "pigeonpeas",
          "pigeonpeas",
          "pigeonpeas",
          "pigeonpeas",
          "pigeonpeas",
          "pigeonpeas",
          "pigeonpeas",
          "pigeonpeas",
          "pigeonpeas",
          "pigeonpeas",
          "pigeonpeas",
          "pigeonpeas",
          "pigeonpeas",
          "pigeonpeas",
          "pigeonpeas",
          "pigeonpeas",
          "pigeonpeas",
          "pigeonpeas",
          "pigeonpeas",
          "pigeonpeas",
          "pigeonpeas",
          "pigeonpeas",
          "pigeonpeas",
          "pigeonpeas",
          "pigeonpeas",
          "pigeonpeas",
          "pigeonpeas",
          "pigeonpeas",
          "pigeonpeas",
          "pigeonpeas",
          "pigeonpeas",
          "pigeonpeas",
          "pigeonpeas",
          "pigeonpeas",
          "pigeonpeas",
          "pigeonpeas",
          "pigeonpeas",
          "pigeonpeas",
          "pigeonpeas",
          "pigeonpeas",
          "pigeonpeas",
          "pigeonpeas",
          "pigeonpeas",
          "pigeonpeas",
          "pigeonpeas",
          "pigeonpeas",
          "pigeonpeas",
          "pigeonpeas",
          "pigeonpeas",
          "pigeonpeas",
          "pigeonpeas",
          "pigeonpeas",
          "pigeonpeas",
          "pigeonpeas",
          "pigeonpeas",
          "pigeonpeas",
          "pigeonpeas",
          "pigeonpeas",
          "pigeonpeas",
          "pigeonpeas",
          "mothbeans",
          "mothbeans",
          "mothbeans",
          "mothbeans",
          "mothbeans",
          "mothbeans",
          "mothbeans",
          "mothbeans",
          "mothbeans",
          "mothbeans",
          "mothbeans",
          "mothbeans",
          "mothbeans",
          "mothbeans",
          "mothbeans",
          "mothbeans",
          "mothbeans",
          "mothbeans",
          "mothbeans",
          "mothbeans",
          "mothbeans",
          "mothbeans",
          "mothbeans",
          "mothbeans",
          "mothbeans",
          "mothbeans",
          "mothbeans",
          "mothbeans",
          "mothbeans",
          "mothbeans",
          "mothbeans",
          "mothbeans",
          "mothbeans",
          "mothbeans",
          "mothbeans",
          "mothbeans",
          "mothbeans",
          "mothbeans",
          "mothbeans",
          "mothbeans",
          "mothbeans",
          "mothbeans",
          "mothbeans",
          "mothbeans",
          "mothbeans",
          "mothbeans",
          "mothbeans",
          "mothbeans",
          "mothbeans",
          "mothbeans",
          "mothbeans",
          "mothbeans",
          "mothbeans",
          "mothbeans",
          "mothbeans",
          "mothbeans",
          "mothbeans",
          "mothbeans",
          "mothbeans",
          "mothbeans",
          "mothbeans",
          "mothbeans",
          "mothbeans",
          "mothbeans",
          "mothbeans",
          "mothbeans",
          "mothbeans",
          "mothbeans",
          "mothbeans",
          "mothbeans",
          "mothbeans",
          "mothbeans",
          "mothbeans",
          "mothbeans",
          "mothbeans",
          "mothbeans",
          "mothbeans",
          "mothbeans",
          "mothbeans",
          "mothbeans",
          "mothbeans",
          "mothbeans",
          "mothbeans",
          "mothbeans",
          "mothbeans",
          "mothbeans",
          "mothbeans",
          "mothbeans",
          "mothbeans",
          "mothbeans",
          "mothbeans",
          "mothbeans",
          "mothbeans",
          "mothbeans",
          "mothbeans",
          "mothbeans",
          "mothbeans",
          "mothbeans",
          "mothbeans",
          "mothbeans",
          "mungbean",
          "mungbean",
          "mungbean",
          "mungbean",
          "mungbean",
          "mungbean",
          "mungbean",
          "mungbean",
          "mungbean",
          "mungbean",
          "mungbean",
          "mungbean",
          "mungbean",
          "mungbean",
          "mungbean",
          "mungbean",
          "mungbean",
          "mungbean",
          "mungbean",
          "mungbean",
          "mungbean",
          "mungbean",
          "mungbean",
          "mungbean",
          "mungbean",
          "mungbean",
          "mungbean",
          "mungbean",
          "mungbean",
          "mungbean",
          "mungbean",
          "mungbean",
          "mungbean",
          "mungbean",
          "mungbean",
          "mungbean",
          "mungbean",
          "mungbean",
          "mungbean",
          "mungbean",
          "mungbean",
          "mungbean",
          "mungbean",
          "mungbean",
          "mungbean",
          "mungbean",
          "mungbean",
          "mungbean",
          "mungbean",
          "mungbean",
          "mungbean",
          "mungbean",
          "mungbean",
          "mungbean",
          "mungbean",
          "mungbean",
          "mungbean",
          "mungbean",
          "mungbean",
          "mungbean",
          "mungbean",
          "mungbean",
          "mungbean",
          "mungbean",
          "mungbean",
          "mungbean",
          "mungbean",
          "mungbean",
          "mungbean",
          "mungbean",
          "mungbean",
          "mungbean",
          "mungbean",
          "mungbean",
          "mungbean",
          "mungbean",
          "mungbean",
          "mungbean",
          "mungbean",
          "mungbean",
          "mungbean",
          "mungbean",
          "mungbean",
          "mungbean",
          "mungbean",
          "mungbean",
          "mungbean",
          "mungbean",
          "mungbean",
          "mungbean",
          "mungbean",
          "mungbean",
          "mungbean",
          "mungbean",
          "mungbean",
          "mungbean",
          "mungbean",
          "mungbean",
          "mungbean",
          "mungbean",
          "blackgram",
          "blackgram",
          "blackgram",
          "blackgram",
          "blackgram",
          "blackgram",
          "blackgram",
          "blackgram",
          "blackgram",
          "blackgram",
          "blackgram",
          "blackgram",
          "blackgram",
          "blackgram",
          "blackgram",
          "blackgram",
          "blackgram",
          "blackgram",
          "blackgram",
          "blackgram",
          "blackgram",
          "blackgram",
          "blackgram",
          "blackgram",
          "blackgram",
          "blackgram",
          "blackgram",
          "blackgram",
          "blackgram",
          "blackgram",
          "blackgram",
          "blackgram",
          "blackgram",
          "blackgram",
          "blackgram",
          "blackgram",
          "blackgram",
          "blackgram",
          "blackgram",
          "blackgram",
          "blackgram",
          "blackgram",
          "blackgram",
          "blackgram",
          "blackgram",
          "blackgram",
          "blackgram",
          "blackgram",
          "blackgram",
          "blackgram",
          "blackgram",
          "blackgram",
          "blackgram",
          "blackgram",
          "blackgram",
          "blackgram",
          "blackgram",
          "blackgram",
          "blackgram",
          "blackgram",
          "blackgram",
          "blackgram",
          "blackgram",
          "blackgram",
          "blackgram",
          "blackgram",
          "blackgram",
          "blackgram",
          "blackgram",
          "blackgram",
          "blackgram",
          "blackgram",
          "blackgram",
          "blackgram",
          "blackgram",
          "blackgram",
          "blackgram",
          "blackgram",
          "blackgram",
          "blackgram",
          "blackgram",
          "blackgram",
          "blackgram",
          "blackgram",
          "blackgram",
          "blackgram",
          "blackgram",
          "blackgram",
          "blackgram",
          "blackgram",
          "blackgram",
          "blackgram",
          "blackgram",
          "blackgram",
          "blackgram",
          "blackgram",
          "blackgram",
          "blackgram",
          "blackgram",
          "blackgram",
          "lentil",
          "lentil",
          "lentil",
          "lentil",
          "lentil",
          "lentil",
          "lentil",
          "lentil",
          "lentil",
          "lentil",
          "lentil",
          "lentil",
          "lentil",
          "lentil",
          "lentil",
          "lentil",
          "lentil",
          "lentil",
          "lentil",
          "lentil",
          "lentil",
          "lentil",
          "lentil",
          "lentil",
          "lentil",
          "lentil",
          "lentil",
          "lentil",
          "lentil",
          "lentil",
          "lentil",
          "lentil",
          "lentil",
          "lentil",
          "lentil",
          "lentil",
          "lentil",
          "lentil",
          "lentil",
          "lentil",
          "lentil",
          "lentil",
          "lentil",
          "lentil",
          "lentil",
          "lentil",
          "lentil",
          "lentil",
          "lentil",
          "lentil",
          "lentil",
          "lentil",
          "lentil",
          "lentil",
          "lentil",
          "lentil",
          "lentil",
          "lentil",
          "lentil",
          "lentil",
          "lentil",
          "lentil",
          "lentil",
          "lentil",
          "lentil",
          "lentil",
          "lentil",
          "lentil",
          "lentil",
          "lentil",
          "lentil",
          "lentil",
          "lentil",
          "lentil",
          "lentil",
          "lentil",
          "lentil",
          "lentil",
          "lentil",
          "lentil",
          "lentil",
          "lentil",
          "lentil",
          "lentil",
          "lentil",
          "lentil",
          "lentil",
          "lentil",
          "lentil",
          "lentil",
          "lentil",
          "lentil",
          "lentil",
          "lentil",
          "lentil",
          "lentil",
          "lentil",
          "lentil",
          "lentil",
          "lentil",
          "pomegranate",
          "pomegranate",
          "pomegranate",
          "pomegranate",
          "pomegranate",
          "pomegranate",
          "pomegranate",
          "pomegranate",
          "pomegranate",
          "pomegranate",
          "pomegranate",
          "pomegranate",
          "pomegranate",
          "pomegranate",
          "pomegranate",
          "pomegranate",
          "pomegranate",
          "pomegranate",
          "pomegranate",
          "pomegranate",
          "pomegranate",
          "pomegranate",
          "pomegranate",
          "pomegranate",
          "pomegranate",
          "pomegranate",
          "pomegranate",
          "pomegranate",
          "pomegranate",
          "pomegranate",
          "pomegranate",
          "pomegranate",
          "pomegranate",
          "pomegranate",
          "pomegranate",
          "pomegranate",
          "pomegranate",
          "pomegranate",
          "pomegranate",
          "pomegranate",
          "pomegranate",
          "pomegranate",
          "pomegranate",
          "pomegranate",
          "pomegranate",
          "pomegranate",
          "pomegranate",
          "pomegranate",
          "pomegranate",
          "pomegranate",
          "pomegranate",
          "pomegranate",
          "pomegranate",
          "pomegranate",
          "pomegranate",
          "pomegranate",
          "pomegranate",
          "pomegranate",
          "pomegranate",
          "pomegranate",
          "pomegranate",
          "pomegranate",
          "pomegranate",
          "pomegranate",
          "pomegranate",
          "pomegranate",
          "pomegranate",
          "pomegranate",
          "pomegranate",
          "pomegranate",
          "pomegranate",
          "pomegranate",
          "pomegranate",
          "pomegranate",
          "pomegranate",
          "pomegranate",
          "pomegranate",
          "pomegranate",
          "pomegranate",
          "pomegranate",
          "pomegranate",
          "pomegranate",
          "pomegranate",
          "pomegranate",
          "pomegranate",
          "pomegranate",
          "pomegranate",
          "pomegranate",
          "pomegranate",
          "pomegranate",
          "pomegranate",
          "pomegranate",
          "pomegranate",
          "pomegranate",
          "pomegranate",
          "pomegranate",
          "pomegranate",
          "pomegranate",
          "pomegranate",
          "pomegranate",
          "banana",
          "banana",
          "banana",
          "banana",
          "banana",
          "banana",
          "banana",
          "banana",
          "banana",
          "banana",
          "banana",
          "banana",
          "banana",
          "banana",
          "banana",
          "banana",
          "banana",
          "banana",
          "banana",
          "banana",
          "banana",
          "banana",
          "banana",
          "banana",
          "banana",
          "banana",
          "banana",
          "banana",
          "banana",
          "banana",
          "banana",
          "banana",
          "banana",
          "banana",
          "banana",
          "banana",
          "banana",
          "banana",
          "banana",
          "banana",
          "banana",
          "banana",
          "banana",
          "banana",
          "banana",
          "banana",
          "banana",
          "banana",
          "banana",
          "banana",
          "banana",
          "banana",
          "banana",
          "banana",
          "banana",
          "banana",
          "banana",
          "banana",
          "banana",
          "banana",
          "banana",
          "banana",
          "banana",
          "banana",
          "banana",
          "banana",
          "banana",
          "banana",
          "banana",
          "banana",
          "banana",
          "banana",
          "banana",
          "banana",
          "banana",
          "banana",
          "banana",
          "banana",
          "banana",
          "banana",
          "banana",
          "banana",
          "banana",
          "banana",
          "banana",
          "banana",
          "banana",
          "banana",
          "banana",
          "banana",
          "banana",
          "banana",
          "banana",
          "banana",
          "banana",
          "banana",
          "banana",
          "banana",
          "banana",
          "banana",
          "mango",
          "mango",
          "mango",
          "mango",
          "mango",
          "mango",
          "mango",
          "mango",
          "mango",
          "mango",
          "mango",
          "mango",
          "mango",
          "mango",
          "mango",
          "mango",
          "mango",
          "mango",
          "mango",
          "mango",
          "mango",
          "mango",
          "mango",
          "mango",
          "mango",
          "mango",
          "mango",
          "mango",
          "mango",
          "mango",
          "mango",
          "mango",
          "mango",
          "mango",
          "mango",
          "mango",
          "mango",
          "mango",
          "mango",
          "mango",
          "mango",
          "mango",
          "mango",
          "mango",
          "mango",
          "mango",
          "mango",
          "mango",
          "mango",
          "mango",
          "mango",
          "mango",
          "mango",
          "mango",
          "mango",
          "mango",
          "mango",
          "mango",
          "mango",
          "mango",
          "mango",
          "mango",
          "mango",
          "mango",
          "mango",
          "mango",
          "mango",
          "mango",
          "mango",
          "mango",
          "mango",
          "mango",
          "mango",
          "mango",
          "mango",
          "mango",
          "mango",
          "mango",
          "mango",
          "mango",
          "mango",
          "mango",
          "mango",
          "mango",
          "mango",
          "mango",
          "mango",
          "mango",
          "mango",
          "mango",
          "mango",
          "mango",
          "mango",
          "mango",
          "mango",
          "mango",
          "mango",
          "mango",
          "mango",
          "mango",
          "grapes",
          "grapes",
          "grapes",
          "grapes",
          "grapes",
          "grapes",
          "grapes",
          "grapes",
          "grapes",
          "grapes",
          "grapes",
          "grapes",
          "grapes",
          "grapes",
          "grapes",
          "grapes",
          "grapes",
          "grapes",
          "grapes",
          "grapes",
          "grapes",
          "grapes",
          "grapes",
          "grapes",
          "grapes",
          "grapes",
          "grapes",
          "grapes",
          "grapes",
          "grapes",
          "grapes",
          "grapes",
          "grapes",
          "grapes",
          "grapes",
          "grapes",
          "grapes",
          "grapes",
          "grapes",
          "grapes",
          "grapes",
          "grapes",
          "grapes",
          "grapes",
          "grapes",
          "grapes",
          "grapes",
          "grapes",
          "grapes",
          "grapes",
          "grapes",
          "grapes",
          "grapes",
          "grapes",
          "grapes",
          "grapes",
          "grapes",
          "grapes",
          "grapes",
          "grapes",
          "grapes",
          "grapes",
          "grapes",
          "grapes",
          "grapes",
          "grapes",
          "grapes",
          "grapes",
          "grapes",
          "grapes",
          "grapes",
          "grapes",
          "grapes",
          "grapes",
          "grapes",
          "grapes",
          "grapes",
          "grapes",
          "grapes",
          "grapes",
          "grapes",
          "grapes",
          "grapes",
          "grapes",
          "grapes",
          "grapes",
          "grapes",
          "grapes",
          "grapes",
          "grapes",
          "grapes",
          "grapes",
          "grapes",
          "grapes",
          "grapes",
          "grapes",
          "grapes",
          "grapes",
          "grapes",
          "grapes",
          "watermelon",
          "watermelon",
          "watermelon",
          "watermelon",
          "watermelon",
          "watermelon",
          "watermelon",
          "watermelon",
          "watermelon",
          "watermelon",
          "watermelon",
          "watermelon",
          "watermelon",
          "watermelon",
          "watermelon",
          "watermelon",
          "watermelon",
          "watermelon",
          "watermelon",
          "watermelon",
          "watermelon",
          "watermelon",
          "watermelon",
          "watermelon",
          "watermelon",
          "watermelon",
          "watermelon",
          "watermelon",
          "watermelon",
          "watermelon",
          "watermelon",
          "watermelon",
          "watermelon",
          "watermelon",
          "watermelon",
          "watermelon",
          "watermelon",
          "watermelon",
          "watermelon",
          "watermelon",
          "watermelon",
          "watermelon",
          "watermelon",
          "watermelon",
          "watermelon",
          "watermelon",
          "watermelon",
          "watermelon",
          "watermelon",
          "watermelon",
          "watermelon",
          "watermelon",
          "watermelon",
          "watermelon",
          "watermelon",
          "watermelon",
          "watermelon",
          "watermelon",
          "watermelon",
          "watermelon",
          "watermelon",
          "watermelon",
          "watermelon",
          "watermelon",
          "watermelon",
          "watermelon",
          "watermelon",
          "watermelon",
          "watermelon",
          "watermelon",
          "watermelon",
          "watermelon",
          "watermelon",
          "watermelon",
          "watermelon",
          "watermelon",
          "watermelon",
          "watermelon",
          "watermelon",
          "watermelon",
          "watermelon",
          "watermelon",
          "watermelon",
          "watermelon",
          "watermelon",
          "watermelon",
          "watermelon",
          "watermelon",
          "watermelon",
          "watermelon",
          "watermelon",
          "watermelon",
          "watermelon",
          "watermelon",
          "watermelon",
          "watermelon",
          "watermelon",
          "watermelon",
          "watermelon",
          "watermelon",
          "muskmelon",
          "muskmelon",
          "muskmelon",
          "muskmelon",
          "muskmelon",
          "muskmelon",
          "muskmelon",
          "muskmelon",
          "muskmelon",
          "muskmelon",
          "muskmelon",
          "muskmelon",
          "muskmelon",
          "muskmelon",
          "muskmelon",
          "muskmelon",
          "muskmelon",
          "muskmelon",
          "muskmelon",
          "muskmelon",
          "muskmelon",
          "muskmelon",
          "muskmelon",
          "muskmelon",
          "muskmelon",
          "muskmelon",
          "muskmelon",
          "muskmelon",
          "muskmelon",
          "muskmelon",
          "muskmelon",
          "muskmelon",
          "muskmelon",
          "muskmelon",
          "muskmelon",
          "muskmelon",
          "muskmelon",
          "muskmelon",
          "muskmelon",
          "muskmelon",
          "muskmelon",
          "muskmelon",
          "muskmelon",
          "muskmelon",
          "muskmelon",
          "muskmelon",
          "muskmelon",
          "muskmelon",
          "muskmelon",
          "muskmelon",
          "muskmelon",
          "muskmelon",
          "muskmelon",
          "muskmelon",
          "muskmelon",
          "muskmelon",
          "muskmelon",
          "muskmelon",
          "muskmelon",
          "muskmelon",
          "muskmelon",
          "muskmelon",
          "muskmelon",
          "muskmelon",
          "muskmelon",
          "muskmelon",
          "muskmelon",
          "muskmelon",
          "muskmelon",
          "muskmelon",
          "muskmelon",
          "muskmelon",
          "muskmelon",
          "muskmelon",
          "muskmelon",
          "muskmelon",
          "muskmelon",
          "muskmelon",
          "muskmelon",
          "muskmelon",
          "muskmelon",
          "muskmelon",
          "muskmelon",
          "muskmelon",
          "muskmelon",
          "muskmelon",
          "muskmelon",
          "muskmelon",
          "muskmelon",
          "muskmelon",
          "muskmelon",
          "muskmelon",
          "muskmelon",
          "muskmelon",
          "muskmelon",
          "muskmelon",
          "muskmelon",
          "muskmelon",
          "muskmelon",
          "muskmelon",
          "apple",
          "apple",
          "apple",
          "apple",
          "apple",
          "apple",
          "apple",
          "apple",
          "apple",
          "apple",
          "apple",
          "apple",
          "apple",
          "apple",
          "apple",
          "apple",
          "apple",
          "apple",
          "apple",
          "apple",
          "apple",
          "apple",
          "apple",
          "apple",
          "apple",
          "apple",
          "apple",
          "apple",
          "apple",
          "apple",
          "apple",
          "apple",
          "apple",
          "apple",
          "apple",
          "apple",
          "apple",
          "apple",
          "apple",
          "apple",
          "apple",
          "apple",
          "apple",
          "apple",
          "apple",
          "apple",
          "apple",
          "apple",
          "apple",
          "apple",
          "apple",
          "apple",
          "apple",
          "apple",
          "apple",
          "apple",
          "apple",
          "apple",
          "apple",
          "apple",
          "apple",
          "apple",
          "apple",
          "apple",
          "apple",
          "apple",
          "apple",
          "apple",
          "apple",
          "apple",
          "apple",
          "apple",
          "apple",
          "apple",
          "apple",
          "apple",
          "apple",
          "apple",
          "apple",
          "apple",
          "apple",
          "apple",
          "apple",
          "apple",
          "apple",
          "apple",
          "apple",
          "apple",
          "apple",
          "apple",
          "apple",
          "apple",
          "apple",
          "apple",
          "apple",
          "apple",
          "apple",
          "apple",
          "apple",
          "apple",
          "orange",
          "orange",
          "orange",
          "orange",
          "orange",
          "orange",
          "orange",
          "orange",
          "orange",
          "orange",
          "orange",
          "orange",
          "orange",
          "orange",
          "orange",
          "orange",
          "orange",
          "orange",
          "orange",
          "orange",
          "orange",
          "orange",
          "orange",
          "orange",
          "orange",
          "orange",
          "orange",
          "orange",
          "orange",
          "orange",
          "orange",
          "orange",
          "orange",
          "orange",
          "orange",
          "orange",
          "orange",
          "orange",
          "orange",
          "orange",
          "orange",
          "orange",
          "orange",
          "orange",
          "orange",
          "orange",
          "orange",
          "orange",
          "orange",
          "orange",
          "orange",
          "orange",
          "orange",
          "orange",
          "orange",
          "orange",
          "orange",
          "orange",
          "orange",
          "orange",
          "orange",
          "orange",
          "orange",
          "orange",
          "orange",
          "orange",
          "orange",
          "orange",
          "orange",
          "orange",
          "orange",
          "orange",
          "orange",
          "orange",
          "orange",
          "orange",
          "orange",
          "orange",
          "orange",
          "orange",
          "orange",
          "orange",
          "orange",
          "orange",
          "orange",
          "orange",
          "orange",
          "orange",
          "orange",
          "orange",
          "orange",
          "orange",
          "orange",
          "orange",
          "orange",
          "orange",
          "orange",
          "orange",
          "orange",
          "orange",
          "papaya",
          "papaya",
          "papaya",
          "papaya",
          "papaya",
          "papaya",
          "papaya",
          "papaya",
          "papaya",
          "papaya",
          "papaya",
          "papaya",
          "papaya",
          "papaya",
          "papaya",
          "papaya",
          "papaya",
          "papaya",
          "papaya",
          "papaya",
          "papaya",
          "papaya",
          "papaya",
          "papaya",
          "papaya",
          "papaya",
          "papaya",
          "papaya",
          "papaya",
          "papaya",
          "papaya",
          "papaya",
          "papaya",
          "papaya",
          "papaya",
          "papaya",
          "papaya",
          "papaya",
          "papaya",
          "papaya",
          "papaya",
          "papaya",
          "papaya",
          "papaya",
          "papaya",
          "papaya",
          "papaya",
          "papaya",
          "papaya",
          "papaya",
          "papaya",
          "papaya",
          "papaya",
          "papaya",
          "papaya",
          "papaya",
          "papaya",
          "papaya",
          "papaya",
          "papaya",
          "papaya",
          "papaya",
          "papaya",
          "papaya",
          "papaya",
          "papaya",
          "papaya",
          "papaya",
          "papaya",
          "papaya",
          "papaya",
          "papaya",
          "papaya",
          "papaya",
          "papaya",
          "papaya",
          "papaya",
          "papaya",
          "papaya",
          "papaya",
          "papaya",
          "papaya",
          "papaya",
          "papaya",
          "papaya",
          "papaya",
          "papaya",
          "papaya",
          "papaya",
          "papaya",
          "papaya",
          "papaya",
          "papaya",
          "papaya",
          "papaya",
          "papaya",
          "papaya",
          "papaya",
          "papaya",
          "papaya",
          "coconut",
          "coconut",
          "coconut",
          "coconut",
          "coconut",
          "coconut",
          "coconut",
          "coconut",
          "coconut",
          "coconut",
          "coconut",
          "coconut",
          "coconut",
          "coconut",
          "coconut",
          "coconut",
          "coconut",
          "coconut",
          "coconut",
          "coconut",
          "coconut",
          "coconut",
          "coconut",
          "coconut",
          "coconut",
          "coconut",
          "coconut",
          "coconut",
          "coconut",
          "coconut",
          "coconut",
          "coconut",
          "coconut",
          "coconut",
          "coconut",
          "coconut",
          "coconut",
          "coconut",
          "coconut",
          "coconut",
          "coconut",
          "coconut",
          "coconut",
          "coconut",
          "coconut",
          "coconut",
          "coconut",
          "coconut",
          "coconut",
          "coconut",
          "coconut",
          "coconut",
          "coconut",
          "coconut",
          "coconut",
          "coconut",
          "coconut",
          "coconut",
          "coconut",
          "coconut",
          "coconut",
          "coconut",
          "coconut",
          "coconut",
          "coconut",
          "coconut",
          "coconut",
          "coconut",
          "coconut",
          "coconut",
          "coconut",
          "coconut",
          "coconut",
          "coconut",
          "coconut",
          "coconut",
          "coconut",
          "coconut",
          "coconut",
          "coconut",
          "coconut",
          "coconut",
          "coconut",
          "coconut",
          "coconut",
          "coconut",
          "coconut",
          "coconut",
          "coconut",
          "coconut",
          "coconut",
          "coconut",
          "coconut",
          "coconut",
          "coconut",
          "coconut",
          "coconut",
          "coconut",
          "coconut",
          "coconut",
          "cotton",
          "cotton",
          "cotton",
          "cotton",
          "cotton",
          "cotton",
          "cotton",
          "cotton",
          "cotton",
          "cotton",
          "cotton",
          "cotton",
          "cotton",
          "cotton",
          "cotton",
          "cotton",
          "cotton",
          "cotton",
          "cotton",
          "cotton",
          "cotton",
          "cotton",
          "cotton",
          "cotton",
          "cotton",
          "cotton",
          "cotton",
          "cotton",
          "cotton",
          "cotton",
          "cotton",
          "cotton",
          "cotton",
          "cotton",
          "cotton",
          "cotton",
          "cotton",
          "cotton",
          "cotton",
          "cotton",
          "cotton",
          "cotton",
          "cotton",
          "cotton",
          "cotton",
          "cotton",
          "cotton",
          "cotton",
          "cotton",
          "cotton",
          "cotton",
          "cotton",
          "cotton",
          "cotton",
          "cotton",
          "cotton",
          "cotton",
          "cotton",
          "cotton",
          "cotton",
          "cotton",
          "cotton",
          "cotton",
          "cotton",
          "cotton",
          "cotton",
          "cotton",
          "cotton",
          "cotton",
          "cotton",
          "cotton",
          "cotton",
          "cotton",
          "cotton",
          "cotton",
          "cotton",
          "cotton",
          "cotton",
          "cotton",
          "cotton",
          "cotton",
          "cotton",
          "cotton",
          "cotton",
          "cotton",
          "cotton",
          "cotton",
          "cotton",
          "cotton",
          "cotton",
          "cotton",
          "cotton",
          "cotton",
          "cotton",
          "cotton",
          "cotton",
          "cotton",
          "cotton",
          "cotton",
          "cotton",
          "jute",
          "jute",
          "jute",
          "jute",
          "jute",
          "jute",
          "jute",
          "jute",
          "jute",
          "jute",
          "jute",
          "jute",
          "jute",
          "jute",
          "jute",
          "jute",
          "jute",
          "jute",
          "jute",
          "jute",
          "jute",
          "jute",
          "jute",
          "jute",
          "jute",
          "jute",
          "jute",
          "jute",
          "jute",
          "jute",
          "jute",
          "jute",
          "jute",
          "jute",
          "jute",
          "jute",
          "jute",
          "jute",
          "jute",
          "jute",
          "jute",
          "jute",
          "jute",
          "jute",
          "jute",
          "jute",
          "jute",
          "jute",
          "jute",
          "jute",
          "jute",
          "jute",
          "jute",
          "jute",
          "jute",
          "jute",
          "jute",
          "jute",
          "jute",
          "jute",
          "jute",
          "jute",
          "jute",
          "jute",
          "jute",
          "jute",
          "jute",
          "jute",
          "jute",
          "jute",
          "jute",
          "jute",
          "jute",
          "jute",
          "jute",
          "jute",
          "jute",
          "jute",
          "jute",
          "jute",
          "jute",
          "jute",
          "jute",
          "jute",
          "jute",
          "jute",
          "jute",
          "jute",
          "jute",
          "jute",
          "jute",
          "jute",
          "jute",
          "jute",
          "jute",
          "jute",
          "jute",
          "jute",
          "jute",
          "jute",
          "coffee",
          "coffee",
          "coffee",
          "coffee",
          "coffee",
          "coffee",
          "coffee",
          "coffee",
          "coffee",
          "coffee",
          "coffee",
          "coffee",
          "coffee",
          "coffee",
          "coffee",
          "coffee",
          "coffee",
          "coffee",
          "coffee",
          "coffee",
          "coffee",
          "coffee",
          "coffee",
          "coffee",
          "coffee",
          "coffee",
          "coffee",
          "coffee",
          "coffee",
          "coffee",
          "coffee",
          "coffee",
          "coffee",
          "coffee",
          "coffee",
          "coffee",
          "coffee",
          "coffee",
          "coffee",
          "coffee",
          "coffee",
          "coffee",
          "coffee",
          "coffee",
          "coffee",
          "coffee",
          "coffee",
          "coffee",
          "coffee",
          "coffee",
          "coffee",
          "coffee",
          "coffee",
          "coffee",
          "coffee",
          "coffee",
          "coffee",
          "coffee",
          "coffee",
          "coffee",
          "coffee",
          "coffee",
          "coffee",
          "coffee",
          "coffee",
          "coffee",
          "coffee",
          "coffee",
          "coffee",
          "coffee",
          "coffee",
          "coffee",
          "coffee",
          "coffee",
          "coffee",
          "coffee",
          "coffee",
          "coffee",
          "coffee",
          "coffee",
          "coffee",
          "coffee",
          "coffee",
          "coffee",
          "coffee",
          "coffee",
          "coffee",
          "coffee",
          "coffee",
          "coffee",
          "coffee",
          "coffee",
          "coffee",
          "coffee",
          "coffee",
          "coffee",
          "coffee",
          "coffee",
          "coffee",
          "coffee"
         ],
         "yaxis": "y"
        }
       ],
       "layout": {
        "legend": {
         "tracegroupgap": 0
        },
        "template": {
         "data": {
          "bar": [
           {
            "error_x": {
             "color": "#2a3f5f"
            },
            "error_y": {
             "color": "#2a3f5f"
            },
            "marker": {
             "line": {
              "color": "#E5ECF6",
              "width": 0.5
             },
             "pattern": {
              "fillmode": "overlay",
              "size": 10,
              "solidity": 0.2
             }
            },
            "type": "bar"
           }
          ],
          "barpolar": [
           {
            "marker": {
             "line": {
              "color": "#E5ECF6",
              "width": 0.5
             },
             "pattern": {
              "fillmode": "overlay",
              "size": 10,
              "solidity": 0.2
             }
            },
            "type": "barpolar"
           }
          ],
          "carpet": [
           {
            "aaxis": {
             "endlinecolor": "#2a3f5f",
             "gridcolor": "white",
             "linecolor": "white",
             "minorgridcolor": "white",
             "startlinecolor": "#2a3f5f"
            },
            "baxis": {
             "endlinecolor": "#2a3f5f",
             "gridcolor": "white",
             "linecolor": "white",
             "minorgridcolor": "white",
             "startlinecolor": "#2a3f5f"
            },
            "type": "carpet"
           }
          ],
          "choropleth": [
           {
            "colorbar": {
             "outlinewidth": 0,
             "ticks": ""
            },
            "type": "choropleth"
           }
          ],
          "contour": [
           {
            "colorbar": {
             "outlinewidth": 0,
             "ticks": ""
            },
            "colorscale": [
             [
              0,
              "#0d0887"
             ],
             [
              0.1111111111111111,
              "#46039f"
             ],
             [
              0.2222222222222222,
              "#7201a8"
             ],
             [
              0.3333333333333333,
              "#9c179e"
             ],
             [
              0.4444444444444444,
              "#bd3786"
             ],
             [
              0.5555555555555556,
              "#d8576b"
             ],
             [
              0.6666666666666666,
              "#ed7953"
             ],
             [
              0.7777777777777778,
              "#fb9f3a"
             ],
             [
              0.8888888888888888,
              "#fdca26"
             ],
             [
              1,
              "#f0f921"
             ]
            ],
            "type": "contour"
           }
          ],
          "contourcarpet": [
           {
            "colorbar": {
             "outlinewidth": 0,
             "ticks": ""
            },
            "type": "contourcarpet"
           }
          ],
          "heatmap": [
           {
            "colorbar": {
             "outlinewidth": 0,
             "ticks": ""
            },
            "colorscale": [
             [
              0,
              "#0d0887"
             ],
             [
              0.1111111111111111,
              "#46039f"
             ],
             [
              0.2222222222222222,
              "#7201a8"
             ],
             [
              0.3333333333333333,
              "#9c179e"
             ],
             [
              0.4444444444444444,
              "#bd3786"
             ],
             [
              0.5555555555555556,
              "#d8576b"
             ],
             [
              0.6666666666666666,
              "#ed7953"
             ],
             [
              0.7777777777777778,
              "#fb9f3a"
             ],
             [
              0.8888888888888888,
              "#fdca26"
             ],
             [
              1,
              "#f0f921"
             ]
            ],
            "type": "heatmap"
           }
          ],
          "histogram": [
           {
            "marker": {
             "pattern": {
              "fillmode": "overlay",
              "size": 10,
              "solidity": 0.2
             }
            },
            "type": "histogram"
           }
          ],
          "histogram2d": [
           {
            "colorbar": {
             "outlinewidth": 0,
             "ticks": ""
            },
            "colorscale": [
             [
              0,
              "#0d0887"
             ],
             [
              0.1111111111111111,
              "#46039f"
             ],
             [
              0.2222222222222222,
              "#7201a8"
             ],
             [
              0.3333333333333333,
              "#9c179e"
             ],
             [
              0.4444444444444444,
              "#bd3786"
             ],
             [
              0.5555555555555556,
              "#d8576b"
             ],
             [
              0.6666666666666666,
              "#ed7953"
             ],
             [
              0.7777777777777778,
              "#fb9f3a"
             ],
             [
              0.8888888888888888,
              "#fdca26"
             ],
             [
              1,
              "#f0f921"
             ]
            ],
            "type": "histogram2d"
           }
          ],
          "histogram2dcontour": [
           {
            "colorbar": {
             "outlinewidth": 0,
             "ticks": ""
            },
            "colorscale": [
             [
              0,
              "#0d0887"
             ],
             [
              0.1111111111111111,
              "#46039f"
             ],
             [
              0.2222222222222222,
              "#7201a8"
             ],
             [
              0.3333333333333333,
              "#9c179e"
             ],
             [
              0.4444444444444444,
              "#bd3786"
             ],
             [
              0.5555555555555556,
              "#d8576b"
             ],
             [
              0.6666666666666666,
              "#ed7953"
             ],
             [
              0.7777777777777778,
              "#fb9f3a"
             ],
             [
              0.8888888888888888,
              "#fdca26"
             ],
             [
              1,
              "#f0f921"
             ]
            ],
            "type": "histogram2dcontour"
           }
          ],
          "mesh3d": [
           {
            "colorbar": {
             "outlinewidth": 0,
             "ticks": ""
            },
            "type": "mesh3d"
           }
          ],
          "parcoords": [
           {
            "line": {
             "colorbar": {
              "outlinewidth": 0,
              "ticks": ""
             }
            },
            "type": "parcoords"
           }
          ],
          "pie": [
           {
            "automargin": true,
            "type": "pie"
           }
          ],
          "scatter": [
           {
            "fillpattern": {
             "fillmode": "overlay",
             "size": 10,
             "solidity": 0.2
            },
            "type": "scatter"
           }
          ],
          "scatter3d": [
           {
            "line": {
             "colorbar": {
              "outlinewidth": 0,
              "ticks": ""
             }
            },
            "marker": {
             "colorbar": {
              "outlinewidth": 0,
              "ticks": ""
             }
            },
            "type": "scatter3d"
           }
          ],
          "scattercarpet": [
           {
            "marker": {
             "colorbar": {
              "outlinewidth": 0,
              "ticks": ""
             }
            },
            "type": "scattercarpet"
           }
          ],
          "scattergeo": [
           {
            "marker": {
             "colorbar": {
              "outlinewidth": 0,
              "ticks": ""
             }
            },
            "type": "scattergeo"
           }
          ],
          "scattergl": [
           {
            "marker": {
             "colorbar": {
              "outlinewidth": 0,
              "ticks": ""
             }
            },
            "type": "scattergl"
           }
          ],
          "scattermap": [
           {
            "marker": {
             "colorbar": {
              "outlinewidth": 0,
              "ticks": ""
             }
            },
            "type": "scattermap"
           }
          ],
          "scattermapbox": [
           {
            "marker": {
             "colorbar": {
              "outlinewidth": 0,
              "ticks": ""
             }
            },
            "type": "scattermapbox"
           }
          ],
          "scatterpolar": [
           {
            "marker": {
             "colorbar": {
              "outlinewidth": 0,
              "ticks": ""
             }
            },
            "type": "scatterpolar"
           }
          ],
          "scatterpolargl": [
           {
            "marker": {
             "colorbar": {
              "outlinewidth": 0,
              "ticks": ""
             }
            },
            "type": "scatterpolargl"
           }
          ],
          "scatterternary": [
           {
            "marker": {
             "colorbar": {
              "outlinewidth": 0,
              "ticks": ""
             }
            },
            "type": "scatterternary"
           }
          ],
          "surface": [
           {
            "colorbar": {
             "outlinewidth": 0,
             "ticks": ""
            },
            "colorscale": [
             [
              0,
              "#0d0887"
             ],
             [
              0.1111111111111111,
              "#46039f"
             ],
             [
              0.2222222222222222,
              "#7201a8"
             ],
             [
              0.3333333333333333,
              "#9c179e"
             ],
             [
              0.4444444444444444,
              "#bd3786"
             ],
             [
              0.5555555555555556,
              "#d8576b"
             ],
             [
              0.6666666666666666,
              "#ed7953"
             ],
             [
              0.7777777777777778,
              "#fb9f3a"
             ],
             [
              0.8888888888888888,
              "#fdca26"
             ],
             [
              1,
              "#f0f921"
             ]
            ],
            "type": "surface"
           }
          ],
          "table": [
           {
            "cells": {
             "fill": {
              "color": "#EBF0F8"
             },
             "line": {
              "color": "white"
             }
            },
            "header": {
             "fill": {
              "color": "#C8D4E3"
             },
             "line": {
              "color": "white"
             }
            },
            "type": "table"
           }
          ]
         },
         "layout": {
          "annotationdefaults": {
           "arrowcolor": "#2a3f5f",
           "arrowhead": 0,
           "arrowwidth": 1
          },
          "autotypenumbers": "strict",
          "coloraxis": {
           "colorbar": {
            "outlinewidth": 0,
            "ticks": ""
           }
          },
          "colorscale": {
           "diverging": [
            [
             0,
             "#8e0152"
            ],
            [
             0.1,
             "#c51b7d"
            ],
            [
             0.2,
             "#de77ae"
            ],
            [
             0.3,
             "#f1b6da"
            ],
            [
             0.4,
             "#fde0ef"
            ],
            [
             0.5,
             "#f7f7f7"
            ],
            [
             0.6,
             "#e6f5d0"
            ],
            [
             0.7,
             "#b8e186"
            ],
            [
             0.8,
             "#7fbc41"
            ],
            [
             0.9,
             "#4d9221"
            ],
            [
             1,
             "#276419"
            ]
           ],
           "sequential": [
            [
             0,
             "#0d0887"
            ],
            [
             0.1111111111111111,
             "#46039f"
            ],
            [
             0.2222222222222222,
             "#7201a8"
            ],
            [
             0.3333333333333333,
             "#9c179e"
            ],
            [
             0.4444444444444444,
             "#bd3786"
            ],
            [
             0.5555555555555556,
             "#d8576b"
            ],
            [
             0.6666666666666666,
             "#ed7953"
            ],
            [
             0.7777777777777778,
             "#fb9f3a"
            ],
            [
             0.8888888888888888,
             "#fdca26"
            ],
            [
             1,
             "#f0f921"
            ]
           ],
           "sequentialminus": [
            [
             0,
             "#0d0887"
            ],
            [
             0.1111111111111111,
             "#46039f"
            ],
            [
             0.2222222222222222,
             "#7201a8"
            ],
            [
             0.3333333333333333,
             "#9c179e"
            ],
            [
             0.4444444444444444,
             "#bd3786"
            ],
            [
             0.5555555555555556,
             "#d8576b"
            ],
            [
             0.6666666666666666,
             "#ed7953"
            ],
            [
             0.7777777777777778,
             "#fb9f3a"
            ],
            [
             0.8888888888888888,
             "#fdca26"
            ],
            [
             1,
             "#f0f921"
            ]
           ]
          },
          "colorway": [
           "#636efa",
           "#EF553B",
           "#00cc96",
           "#ab63fa",
           "#FFA15A",
           "#19d3f3",
           "#FF6692",
           "#B6E880",
           "#FF97FF",
           "#FECB52"
          ],
          "font": {
           "color": "#2a3f5f"
          },
          "geo": {
           "bgcolor": "white",
           "lakecolor": "white",
           "landcolor": "#E5ECF6",
           "showlakes": true,
           "showland": true,
           "subunitcolor": "white"
          },
          "hoverlabel": {
           "align": "left"
          },
          "hovermode": "closest",
          "mapbox": {
           "style": "light"
          },
          "paper_bgcolor": "white",
          "plot_bgcolor": "#E5ECF6",
          "polar": {
           "angularaxis": {
            "gridcolor": "white",
            "linecolor": "white",
            "ticks": ""
           },
           "bgcolor": "#E5ECF6",
           "radialaxis": {
            "gridcolor": "white",
            "linecolor": "white",
            "ticks": ""
           }
          },
          "scene": {
           "xaxis": {
            "backgroundcolor": "#E5ECF6",
            "gridcolor": "white",
            "gridwidth": 2,
            "linecolor": "white",
            "showbackground": true,
            "ticks": "",
            "zerolinecolor": "white"
           },
           "yaxis": {
            "backgroundcolor": "#E5ECF6",
            "gridcolor": "white",
            "gridwidth": 2,
            "linecolor": "white",
            "showbackground": true,
            "ticks": "",
            "zerolinecolor": "white"
           },
           "zaxis": {
            "backgroundcolor": "#E5ECF6",
            "gridcolor": "white",
            "gridwidth": 2,
            "linecolor": "white",
            "showbackground": true,
            "ticks": "",
            "zerolinecolor": "white"
           }
          },
          "shapedefaults": {
           "line": {
            "color": "#2a3f5f"
           }
          },
          "ternary": {
           "aaxis": {
            "gridcolor": "white",
            "linecolor": "white",
            "ticks": ""
           },
           "baxis": {
            "gridcolor": "white",
            "linecolor": "white",
            "ticks": ""
           },
           "bgcolor": "#E5ECF6",
           "caxis": {
            "gridcolor": "white",
            "linecolor": "white",
            "ticks": ""
           }
          },
          "title": {
           "x": 0.05
          },
          "xaxis": {
           "automargin": true,
           "gridcolor": "white",
           "linecolor": "white",
           "ticks": "",
           "title": {
            "standoff": 15
           },
           "zerolinecolor": "white",
           "zerolinewidth": 2
          },
          "yaxis": {
           "automargin": true,
           "gridcolor": "white",
           "linecolor": "white",
           "ticks": "",
           "title": {
            "standoff": 15
           },
           "zerolinecolor": "white",
           "zerolinewidth": 2
          }
         }
        },
        "title": {
         "text": "pH vs label"
        },
        "xaxis": {
         "anchor": "y",
         "domain": [
          0,
          1
         ],
         "title": {
          "text": "ph"
         }
        },
        "yaxis": {
         "anchor": "x",
         "domain": [
          0,
          1
         ],
         "title": {
          "text": "label"
         }
        }
       }
      }
     },
     "metadata": {},
     "output_type": "display_data"
    }
   ],
   "source": [
    "fig = px.scatter(raw_df , x='ph',y='label',title='pH vs label')\n",
    "fig.update_traces(marker_size=8)\n",
    "fig.show()"
   ]
  },
  {
   "cell_type": "code",
   "execution_count": 148,
   "id": "fbef8ee6",
   "metadata": {},
   "outputs": [
    {
     "data": {
      "text/plain": [
       "<Figure size 640x480 with 0 Axes>"
      ]
     },
     "metadata": {},
     "output_type": "display_data"
    }
   ],
   "source": [
    "plt.savefig(\"../artifacts/plots/pH_vs_label.png\")"
   ]
  },
  {
   "cell_type": "code",
   "execution_count": 149,
   "id": "5a831ce9",
   "metadata": {},
   "outputs": [
    {
     "data": {
      "application/vnd.plotly.v1+json": {
       "config": {
        "plotlyServerURL": "https://plot.ly"
       },
       "data": [
        {
         "hovertemplate": "rainfall=%{x}<br>label=%{y}<extra></extra>",
         "legendgroup": "",
         "marker": {
          "color": "#636efa",
          "size": 8,
          "symbol": "circle"
         },
         "mode": "markers",
         "name": "",
         "showlegend": false,
         "type": "scattergl",
         "x": {
          "bdata": "LOec6e9daUDByZEp+lRsQPIz5I5tf3BABPQMK6ZbbkCKOQg6emtwQCvJ8I7CYW9AP5zRoDL1cEDCbciaLD9uQKOZgpBHzmxAve5ju7Gma0DSTJyB1olwQLW9gtmpQm9A7EkFuvvGcUATLdT13yhnQJ+2/HbIMmpAUiD9QMPibEBo9R/je0pxQBCWsaFbyGlAR0fNssIRbEAKeZhRxzRyQF6U6kzrL2dAO3qyUUzsbECme0IbZatqQNi0905xI21Aj6vsFtwBbEBWZkrrDxBwQF0WuOG89XBA5wql5TZEcECGa/8UmAJuQO+pnPZUv2hA+o4rPzoDcUDeLdot0wJpQNz0DIafFWxA9AvAUBHncEC4Est3OiRtQInl4OMdK2hAM37QacwEcUCJRKFl/dNxQOKHOfdtpnJADnc/uIwQcEAUvxiA/BZvQOctaGvOPGpA3q8CfLcaaUCthsQ99qhyQBkXs8qRmHBA3r/D/rz1ZkBmXv2Ol55oQKrwZ3hzIW1AzFNn/w1aakDNcKiEDLdvQPH4UWj0fGtAA1/RrZcSakCZJDvbCGNoQNPgEXCja2xA+dozSyLocUCx5yEJ8b5xQC4KcZsfLGtAaEhwfp6/cEBRqjOtg/5nQAfoY+NmX3FAzq1rD9akbkDuRnqsNLVuQEfj9QW5eHFAKzXWWUhMaUD4BhULMnpwQH5cduP40WZAEwTZ/InVaEBWZqWkYnBuQBM8z+nDcXBAy+5uChDYcEBOqPEcm5lpQEVwEjkzTnBALunNTcB5ckDo2OZrOwpoQKpUPyXdF3BAU4CDUURhcUCHEz2VeIZxQPeaec1GPmdAdPES93NSaECnHaPhOR1pQPwDQHDw3GZALFrKQ3BraEAqf60BwOtrQJpn2x8eWGdAReM/k7ODa0ChJG5fkfdsQMxIGGElSm5Ajt+AO/XUZkArajANgzZtQBexPtQsx2xAzMHHu94qckA7EEh4cSZuQA4/SctSXWtA5ht2hDgHb0DuS+yQ8Q9wQC/Kx0l8SGhAzSuNTsx+ckAPpfYiOvlxQIbdwZnp82ZA/89hvjyNZ0DXjKlHnPBVQFoPXyYKkVlAKZDAvBOuUEBqohFka1NOQBRbpP0NXFBAn7qozIOFWUCZ8PBDyl1aQKFHENc/hFNAVDzLf8pRUEDmvout1k1bQNEqCiYEk1dAU6t1A4GDUkBKy6vnYu9PQFgdWuDCsFdAukInnesHUkAIJeVRntxPQFSWfEdoClpAQnb/1M8rU0Axp/Th019QQMLPTdUcD1VAIZasDmnvU0CpCnhf9gRWQGMlB2hyPlRArhqV5TXwU0C2eU5A9KBSQJIKIe+uHVhADJXa5iG1WUDJnvMJD59ZQDg8UrfSm1FAHZg34iQ1W0A5gDzD7XhQQO3xQjo8v1ZAHo7ofScaUEBMGoJn64RPQL3CgvuB+1VAJ4rrc5DfWkA3KO1P2nlOQNXL7zQZcFtA1wUPFdvwVkC+sKmxzJBXQPfCKv/WxFFAmV+0ZKEuU0BZJzY49E1RQIgH3trTbFlAcv/sosOnWkD4VOtQz5JQQNfuRx+t0FZAiV+xhotBW0B4nhWkG+VYQFqk5DBz1FFA2Bm2mCWWU0BPfTkWCB1WQJso105zQE9AKZUyoXAaU0Bv1ArTd9RaQMGFhg82MVlAPqGNEirRWkDhvsQOGWZZQBsPGQNpLlRAchhpNebuVECXSi61lH1WQPEFuc2MBlZAIvnOWMkxUECIembuhlVSQCynFKZ1zVRAyVcCKbHpWUDdExxFsw5VQMhq647iJVhAJoT1HOT9UEAgSzhXQc1UQAVz7Id19lVArx2USbDtV0DrjZx9DOdQQA0XPeDPZVhARnXf1kIPUECn+nwxp/RSQJ5kxGgKC1ZA+3jou9sOWkBRAWpJi8ZQQMwAH9WT7lBA685uiEzOWUDfmK/cHM9aQBziBhkUwlJASBNSK0qKU0B/BR85iEBaQLcEZNj2Pk9AecCG8WT6WkDU8n8eVaFSQKmL0q3wdE9A7ue5KrV7UUBtgrknWSBbQMJ7eceKvVNAXtYnLVr2U0BTPZl/tGdXQMmzJnFxcFVAZd2iQN2VVEBQKcDBqDBbQBJ5Hh76jlFA2fVFIY1gUED8Oi6yNq9YQCYYMWBHI1ZADr5Rp1P7U0Bxcp41KCNRQJkyid2rIFZAUO+YcN7QU0C6/epYwitXQN6leWxwqlJAhU7fnYKnVEBSPcL+ZXZUQM5gvoIVf1RAcrynF2FjV0BTwTROe6VSQEvYTPjEvVNA3UPC934tVEDHKsZ1o4tRQOG51mIg5VFAxf/8QnhgUkC2RT5Uf6FUQO5aY0wRvlBASLLcDJadVkA773M62NNRQPAMImvwb1VAMbxIV99TVkCevtha42FVQDTotgrDPFJAZSfuPugUUkBeRjUV97dSQIP62FVvrVdAoevrjr/vVEDzuhMm67pTQD1xSoqZ8FRAlsFBENokU0A1yCyUr/BWQDEIagDIFFNA5U7A4ctuVkDh0nMDbFZXQD4uYLjpTFRAlXB010ptVECZEFI77O9UQCjnepG/YlNAOMHUImR7U0B7HGGsSpBUQMjhH/hQoVFAYiXuylEyUkBr1wB84k9VQKIMNCPsV1VADwI8s27oUkDdLUXJlmdWQK4mNrxs31JAcRtP/D+DVUC2gBKXChBUQKbEQ1KqkFNAGkJjYPzkUkDcBv9sdTxSQJH4cCSrsVZA1sFFF2l0U0AxScBDbIRTQMTN64ASZVVAUYQWCv9ZUUBNmop91xRTQEgRvpz+KFRAgLIYKyAHVEDp+6GAivxWQD+3pxbX4FVAptegDi+AV0D8PKEyWR1WQHF+3OEjMlVA5w+0n5g+UUCHvh7AoCtWQNgpuTc9T1BAK+IRaPJxUEDsvM/p4KhSQGZA5pimrFRAIVyeWj9pUUBjyByRkNFVQDgbI8DGt1FAyJQwTz4EV0BPBLM6IM1TQNiza2sZNFFAlS7cPWk2UkDeYpcLSd1TQMebHSVGR1BAX1UHiukfVEAE9uLVQ2lSQOl0D7/RYVRAxYN3A5YrVkBqyC4HsB9RQPIPlSW+nFNAE/H3B6FVU0A2y0SVCrJXQImu8qFXgldAfQDW05ysU0Cbw/f2FUpRQAlw9t6KtFZAFGyvR9kxU0AAx549F/1QQKpT1E/uRVJAIQw0hhZGUUDzr2FdB2dWQFUYGexfclRAujKoNjgIYEAmwFVDB5daQKnaboJvTltAQPhQouWLYUAMJhfGCilTQL47njsm42FAZXvCTLp1TkBO+AA40TFaQEL0/wVdn2BAXVlYJvJBYECUHXY6a/hhQISdg+PJ/1VAjdntDgQFYkC5JpMJrstgQLnGZ7I/BFZAqwHvidpoUUDb8csFUyFdQDjL2fkGjlVAGpb1UTwmYUAHNCJilBdbQFmV0J/u7VBAxpc/lUkZYkAnsiDexFxRQNLQ9TMrfF5AqIEP89+rVEB3AeWlEXhhQMeMpmkGFltALCYdgnYxWEDW1pmM9CpZQL61AvlIw1VAp8Iri3oMUEBY0dUMX1paQKO+uJbBkU5Ac0wW9x+KWkBM5x5t92BhQExr09jemF5AyTjr+BQyYEDFNHgE3BxeQO3qfuPlyldAIgInPisqWEAODrx7PPhVQFI94wyPR2FAbyZLUj4sXkBSIcPPpNhaQOgdXVsuKVtA/p6zYD1BW0DD9lEV7PVXQB5pkWlEI05A0CCqlS4DWUAqW3+mOUZfQOCAlq5gVVxAof4OoLrSWUD2vcCLAt1SQNmmBAZBG09ATntKzsmxWEBzjBoCNuxaQB6LTETosE9AsxBXrdDqVUDc8Sa/RU1hQJ+jn7oDvVdAvrBGh9HuWkBdnQiHAyhaQBVjqqphs2FAdYr6yb1aT0D15iYgnOpgQCb8Uj9vRV9APqO+dnraWkDhwLvH38tPQGnxc40gT2JAtEAW/fzoXUD0VOKVf65fQKN+zSjMxWBAZL/dSM/qYEBxOslWlwdZQKzuiVzNIFFAlfajNB2+UECXZ7FWZUlRQHZBdVrUOFZAXINKnmN1VEDMbncgfEZbQF7XkgKJZlRAGof6XVgqXEA1Wv3HePthQJHz/j+OTmJA+CElLOAuXUCW26ywz7diQMIpvYAoJ19AD7kZbsDMXEB2N+xKDSlVQGCKF7AJK2BAkfqhiHtMYEDX6yetyQlUQD3gDauwAVBAwSTw4lhpYUAQ+sL5DglTQEPUdY9JV1JAwMpGjEMmWUDRTOYOEQRVQLFyw0ogpmBASE1g33MQWkBsZXii2qleQBc/MsJAd2RAJJKNrCHVWUDyZEhfksphQHj1hevsE2dA1cvvNJmpYkAUnuEXKGFiQLeSwmGO2mhAB5v4cniDVkBc1x6stfFfQAJaBBCIKFtA7oGxGbsTZkAy55XCLhdYQPbnR2jwgF5A45mGl5YvXkCkC16y+SBYQGstzEI7jGZAon2s4DfeWkD0hX/HZi9kQGXUxiIXZF5ASK+8mvJSaEDADYwX5mZmQKgFirP9DWhA51t6jw6SXEC4Dh8iv3RhQJtXdVbLmGBA+e2QBwdQZ0Cep0sQv6JjQFHwubhydWFAQ1MbQc8qZkBqyJEx651XQHR3QlQGOWRAVUczu5MgW0CpUy8J4dtiQN7zstwIE2VAxhqJKwKsaECGOotiIu5WQG0bRkHwlmZA6suxQORHV0AosRDCSDpdQC/Q/7x66GNAM/VfjK18Z0AsVh7uNCBgQILr5dJTYWJAQ4XZuspoZEBlU/AMAdRWQG3F/rI7cmhAO4a2Ur5fZUCJWj+i7itiQIX3Cyx2AWFATyc0pGWlZUCyO+6lOg1mQMifXt99JmBAYcobux+rX0BWHBiKxY9nQOPa9Xcb4mdAMk+d/fdSZEDSdl0JrgpkQH47iQj/IllATzblCm9CWkDgmuBArQloQG88REgCiGJADOR+LKmjaEBsJ6X7FJddQL9g3LLoHVlAVoT2Rd3iZ0CscqHyL3loQPZiKCeayGZAxlG5iZr8Y0BvFGqXAKRhQJTvvs/dMVlApKJWPcX9ZUDShf1D33thQHaopiSrsGdA/LLFf0snYUDDI5Y5gttgQHpXmBlR0mVATGg3n99mWUBvCPqwAyhjQHKNKh5yMmZA6hXkoU79VkCdTDfk+lJkQBOkraXba2NANQRsrCmtZEB7Voj91JxmQBT2/lB6GmFAb5upEA/2Y0AqboGpy1xmQLKp86j4rGRAM6CD06dLW0ADSTNxhiZnQJ4nnrMFomJAI17oW7CUZkBgAtj8zy9YQNLBn4aUJl9AzwMOV33EaECi7gOQ2oxlQNMjV/uFXWdAO5fz1oqjZUDBbn39NZ1eQA2sgM7mVkBAxoCRPHxAQkC8PpTkkHZCQOXsIQq7PlJAJ6+lsm4GQEBvWc9aG+hRQMVVp/unXFJAc0GmSs6WUEDVHnp7pXhCQAmYTFcoqk5AR/Gewa7ISkDjtscc1dtQQNxppe+5eEZAtZcjGhN8QUDJ2WQiX5xSQHV+H0g9skpA2soJ4pUCUUDUI5GmD+RGQPqwg+/ilFJA6KaLHDtiQEAq1fSPdI1BQGoQSaGqKlJAYI0WFEQgSEBaq+qj23JEQNg0xrmTR0BA2gzkl8nfP0CM4aBzbY9KQKptu7e/X09AqWXOp8wYR0BEAMulzMREQCQhVwtof01A0GT/PA2HREDTu9tpqetAQEejK6aMwEtAFbM1jbODTEAWGZlX4A5GQIqBpgy5H0VAZdUx+EWLUEDlxdM8UQxSQD6uDRXjhktAp6RWsRtFUEB4MDkgTz5DQHcyFzz1GU9AwujqdSizUUA1JHLqWApQQP4oTff41D9AWvl+zWYkSUC9rwQxVCNNQDXqYzYvf0JAPb5aQVUQUEBXRjw8eM1LQLqlk3TmO0hAtb2C2SmeUUCbyKv3RARBQCC88jAfI1FACop6HGEKSkC5xiWWLYZMQDFtambO4k9ACqhHhXdfTkBtbGV4IshRQD58VwzwIVBAtWkyBHxtREDX6v7zbGpRQGgysTPk7k5AKu1HaXolUECB4zrfshFGQPouIfb03UFAtgBELKj6QEDOgVCknPlRQNwl9Y7oK0NAooLcqEKYTUDT4XxFknVCQD+WVxFiEUpAM5EMGKibS0BykVI7CWpEQAcoDTWKAUJAFoFWBQ9fQUAjlv9W0+RKQHq8NVWcAkdA9T7hLvN2SkDAcJXE5bdGQAGSAm5KM1FAdIsr9GLwRUDjghpbWyRQQLrR8PtxKENAceJQZFIZSUAWUyPTJW5GQGOpojZ5wktAWs+Uxv2vQUBGYGpTjus+QDxqjqQLW0BAJjb+yJ2+QEBVqIfLHvpHQPUu3o9bhEFAGsVRPUJrUEAJ3cq3YzhFQGPas76zhlFAItnIGpr1T0BV2C1+KkRDQECwukAPaEBAZab2GuldS0CyOigXGWZDQPcEie3upUtAs6h48bgtQkCDWiW7RmBGQCR6OtNbf0VAxFnXicc9TEC2tY1YboJKQO9LiWaW6URA1AGcIOJgR0BoiXw0qO9NQHMGkOtwUkZA+reJYosBRkDXitOcfvRGQG3jDTjkxUJANincXa1jREDYeUQaT2pFQIvsWq1Zw0lAZgDijVCPSEBJFYOPWtRMQLzUY7a/kUVAgCpu3OJFSEAYY9zkomFMQJ2KbbX7p0JAuMPshmlBTECfeErea4FCQEKedluWPElAxYrgoDnmTEDMPOIlckhGQKVRP3cbWExAnJVhmnHvTUCF8plH2T1IQEWjlkGQSEhAJBR03nPmRUDgm0sWHHlCQDTVOEBVt0pAbqkgkuM/SUA9K2nFt4VGQAaeWgGuL01A25YzoWoPREAj88gfjIxJQP8Za6D1bk1AzBJ05mQGTECdJ2QI/DRNQISz3wMJe0tAC6nsBTDPSEDiOilAUmxKQHgUAEbEhEtAN0Yd46tPS0B2lJx2pYRNQMBtt24Ud0pAXxVeOEZDTEDSIx1QfJNKQNQsbcTVO0lAL8Yb9ICeQ0D65LTpgBZGQOwy25kyvkZAT6QkuTYMTECYw+47BrJEQERNVyRk/0xAuR35B7qTRUCJsyJqInVJQC4A8Pxg5EVADYXXRwrBSEAs51rNnTlCQBCIY594ukJAXgKmwg7mSkA+Jzk3WLlCQK/ZgL7jZUtAObemzA9EREDviK8bW3ZJQGyvaOdyAkxASPnN7fMXTUAlqIai5XdIQHKCX7gtA0VAbrQMBpGGRUA77FPIdKFDQPmu1sP2AUlAFkrs++zESUCZPmRfbK1KQMoQ8DlqD0JAVbtowIcSQ0AwbVHJLRVEQOZp6Z8aVUlAOWinzdX5RUDXBCh4UCZNQIsqLlQfoEVAA8SwBbU8RkBQfVKzKOxNQCO19XjGvUVAZcbbSq++SEDhuIybmiZIQPpDM0+ugURAna8G5nCPRUCuccuBfSZGQMArm5zOQ01AjFxgJO6gRUDQC3cujJ9CQA8jxmPtD0xARybYZgBHSkAnl86gBPlRQDIF52OpyVBAcNZ9U9qOUUAhXH1MFk9SQA48KVmvH1JA+v44J5chT0AMyMEZurZQQG4UWWtoAVFAzLfbgfxqUkA1GeEvXnZSQIosRhtPUlFAVGSdv8MjUEC4ktv+7uFQQJ/+9QLaqFBAppe9EUK3UUCGGiprwMhQQI6U63UkPlFABBEUBVtwUUDEPbdMXeBRQJJg5ES/9E5AJV+mecmAUkBMq1scmbpSQI/P2FVQ8lFAtXXLaSqDT0DiHxkfpJhOQLgHnec6aFBAsfn6Uqa/T0AOKliAQnRQQHwbUZAOiVFAuOe3t3SnUkCNsRNegnRQQJKdjjKoT1FAo+tf5dK4UUCewEvbBbxOQG4RexWXLlBAcLN4sTAnT0ChqCLLeHZRQLMIKIGLZVJAnGU/IMqXUEDp8Zypp7dSQH3VgPeEalBAGeQuwhQ8TkBAzurToBtSQPY01OaHyU9A98UpY1GQUUAPL6Hl7d5RQA94BUdul09AZwb58mWRUUABooHUfTVOQJn5q1NnC1JAWTnNZVf1UECDWsKQi4VRQNPS5HspWlFA8Au3lcEmT0AbTD+47ZROQOKvyRq17lFAmLdV1hdcUUAV7b8IuTpRQLC2OQCo7U9A8aedzAXbTkCE97Byg95QQEcbDQF8T1BAe7LuYaePUkAURaOWwWFRQJzbhHul11FAe7xvAGYpUUCmGJQnmFxSQHV7xSrQ1FBAzaLixeNZUkDT/ZQRdF1RQL/o+le5p1JA5KDnw3HNUUBNX7Y6DBVQQKd/pONFpk9ALH50ZhJsUUAobzYMVcJPQCNr7JZNB1BAHwtVWpS7T0CU8ygJx4JPQMgjG7xtIFJAQkOc2huaUUBBvymLxmRPQFOWQpweWFJACENXAcIoT0C6pGq7CSNPQLbC7Ez+GlBA0sauQLY1UUCeQq7Uc8pRQEloiZ0CXVBAZ7zGkTuOUkDle2cwXelRQCc8mWbXak9AgLGE1j+eUEAbg8rPOKxQQErx0PuvilJAP3OUi0o5UEB4mqtqsjFQQMeuYUQqJFFAMOwXiVzrTkCz6c40XbBPQKHQ223RrUVAgxbQE2hqR0BEBNK0+mZHQI+LahFRUUdACVq7zLQRR0DRrM9JrbtKQM52fc0PcklAqoLNEHl0SUDQdF2VFzxCQM68A9m+k0FA6qiTAVqSSEBLNqKkVUdKQO/bOWLnekVAx2fTjQeDSECLpEATH+REQEgHmLfyW0NAaTcbp/jjSEDmnkNT1fVJQEGOQYI9eEtA+6KxtNtySUCNiSAQYHdGQBYEqAwQskhAfojTakQ3RkCL8UhZkmNIQCNwPW2BL0RA7Jxu8r7yR0Db092O0wZHQC9z08nGPktAC21r0SOFSEDnz46GmZJKQJ9bZBJgTUhAuo+SDdqRSkAjQHasjLZGQJo9ll8CCkZA5rVMZdWvSEDBqQ8kb4NEQNYza8b1CkZAU/FWyKK8SEAhRZVIv65GQP1BLLTW50JAm1t8ZblmSEDKPAulo1xFQHDujhCOs0ZAU+ZJRgwzSkBtVfHKnt5IQHXBCRrtJkNAR5t4QSPgQUDk+rEocHpGQKg8NtlxK0hAEd0353WEQUCqgxfYPh5GQGshr6ToF0JAx/a1iW43SUCuJez0ZjBLQNOLmOFYoUdA40gttVobQ0AvQLLrJK9BQJsIEy2WjkJAzSZdhkGUQkCx6BAXBCRIQNHXAxhctEpA043qU5JyRUB/tbRkn+JEQFlvUNIu2UFA0l1MEk8ISEAXZj5zmL9GQBZrl7pUqEpApEYy9YSXQ0AToIWIRBlFQHgfcPIVu0JACOV9HE3GSUB4ZAfwcU5JQN01EcsgdEdA49H4S6zGSECVDSkOObpEQH4+RlBnV0JAPNd7GkWBQ0AHFU1OCkFKQN9EXwfvgUdAROL9PLZvRUCeDgET+oVKQDieEZ3MPUdAanr9B2D4SEAR6n0+JUBCQJdNZ8TYFUlA2qtuedVPR0A5tTNM7Y9KQLxx1tCbHkZAa4Jm3y7OREAsduIPEg1CQN0toIIJg0lAEm/XKkXISUAHy78zrZpGQKbVLY6MDUdAfiiHBa32R0DwLQ9GKk1KQMAuN9bNCUNAc9R2uMJnREC8FMvrEI1KQBJTXDRoX0RAYhrhSPv9W0A4CITn7wJbQOiQirUuoVlAvUtOktOOW0C/tE2W/1hbQMRE3s2uWltAxf3s7FA5WkAkA4qi0b1aQJHT1/O1AltAIpRSKydZW0C9C0qHPTFaQDnKC/qccFpARuRg20cUW0CWLx6UZiJaQJ3MiYfB61pAfTjtzv8iW0B+M9ajlTRaQAZNpmX/tllAzexO0tcEW0ASzZdymWlaQMBEFy9x6ltAvBHMh9YbXED5tC9F3tVaQD+5t2y+S1pAfi356QnSW0BMaaJ0DkZbQKt4I/NIs1lA/BMB87W3WkBrUVVXdB5bQAb0wp0Lt1lA5r17kZrMWUBhJGpYQsFbQJeGhmrvF1pAUMyLXezRW0CVWc7vxQFaQFJsFnmjDltACgj3FErOW0Bmx6HZUPhZQMJXKl4bK1pAD994LdfRW0B7E0NyMgRbQLOJ3Yg4MlpAyU6JNaZ3W0Be+Byzx71bQK9YaIz7ulpAostACkNSW0BihzHpb4JaQHBE96xrHVxAOjKgKJqPW0Bb/o2HCJJaQMxoP619zFpA8Ze7O1dOWkAGOkmpOuRaQCd9ELhkaltAyUQAJl/UWUBW4vA4e51bQEM6PIRxo1lAPTIMDmXBW0BqnPKNDZdaQN+j/nqFJ1pAQ8cOKnE/WkCFymTd5MFZQAJW/QBaXFtAvx/Ii5a3WkAXmSWmMNhbQNp9fWO+Z1pACZQDLKi9W0C8nwkDhaxbQJ6zBYRW7VlAMvhFU4epWUBBCG3eXZxbQOsWJvjLK1pAkf8TbdjIW0DQdSuVgV5aQFz+6EB7K1tAKSLDKt5hWkA0wctnVAxcQPBVPD/W7VtAFz0BXjDpWkDXKsHicDhaQBBmydI9UFtAAPYbN0ZsWkCvJeSDnqdaQNugm6JIilpAtfV4xuOkW0DCIzuAD+daQHKBFfFnHlxA8oAN40lCW0DsgUU0cHpbQN8+YT965llAAmN9A5O+WkAEYzN2+IVbQGE1lrA2iFpA2eSVkDQcWkBwUuKEU8BaQNnPYimSFVxAbRVph2S0WUBZoIJo0pFaQLiqkQKwc1tAFYA1vfoTW0AkyqSnBDVXQHkVY6oqQ1lAFYxK6gQ8WkAJ1A+oBodWQPeKEwS0TlxAn1Sgu0miXEAypZr+0VRYQNlB45ER1lhAZMSq5t53XED2vxL+ewBZQPkGkdINsFhALrlAONUKWUAfIE4WrZFdQBDeaBFb7lhARrwrcVMZW0Das9/BrKpYQE5/9iNF9l1AQ+c1dokqW0DGOrB3WrJZQIuybQdZCl1AJk/+k+SrXUB20m8d641YQHX5QSO53VZAObsQBvlEWkAsBx/vegRcQO8Vo88DBVdAwfqisbSqVkAfpwHmjkZXQAoY2aW4ilhAzSoieZ1iW0CZMzbPbFJdQCEi0sLnk1dAdt8xPPbNXUDyDBr6p51ZQPUUOUTcZFtAHXfn3O/VVkCsRI/Orz5cQLyZLEn5BFxAtYAaCBOrXUBPB7KeWmJdQKSsOgY/2VpAfhtivGYjXUCX5esyfBlcQGMDjqnglFtASiyEMBKQW0DYfAFiN5xbQDtWKT1TE11AnB4lwHrFXUC2DrM8tDZbQFUnsbWIkF1AaVsH5uzZVkDxRb3Y4sdXQCdByS7ifltAkawNX3CNWUBJhEawcUFbQNNM9zqpTl1AitZAqawIXEBIdlvYCcFbQPnCnlVqzVhAKmVjb/P2XEDkLOxph+xdQNR9AFKbhltA+09IfLhRW0Dcilgf6k9bQL3rIjslN1tAJ+AyAoWIW0DewfRizR5aQGwGG0vWm1ZAPI5643/eXUCYXDHIgr9dQEv9H9SDvFZACvfKvNWMXEDj8PbeJ8RWQHnB8cbTHFhAUFCKVm5HXEA+VWxpATJXQBHfqmcYlVdARddkEfPuVkBxSorZXCpZQHNZtwdCgFhAkwILYErgWUCn+TJqIfVXQFIUZNvUY1hAm6C4qaKrV0AdiBM15JxWQFcaIdF+j1ZA2TO2nZceWEBPnf03ZcVbQAoI9xTKIFlAekQ7XQzeWEDVpZB1AltaQDP86Tf6/1ZAeBkPAOZFW0D2AliJnhdbQCwlcJA1I1tACQArEwC0VkCxFG6eD+1ZQDxxEN9PmFdAo5Stge8JV0BdgRHJCohYQPoAzbUihlZAIi8xtzerWECSJlrJefZXQIyjMPci7VdA0tmPNZ8MV0A0o1m4cIBYQAIRf6CeblhAKJJ1WUhwV0ABWxQsxNdXQLyrBZPunVhAaSLHMS2HV0A4jQZTAVRYQNx260ap1lhArVdoUtB2VkAfmMxG4fdWQC6EKKFsm1dAfgiBx73jVkBciQZKRlpYQKrnzXa/71dAR+aRP1iVWEAURg5s8P5YQB7UbolW51hADMryfUqoV0C6yT2XiKhYQPwThSvaQFhAxFIs0FGSVkCzvwU8nalWQGngql+n9FZA9QIe3tS0VkAEu8x2JgZXQClU3F2MEFlAMd5FTtU/V0AuG53z0w1ZQJ6aJsc4tFhAI9pMjWmAWEAWDd/jCOtWQFuWEvar/1dAJ0UzaMtYWEALOJVWDfZXQGBn+XD/M1lAeRHYYtiNVkC9t7eV/YhWQOteH4SdWlhAa6vEAoBXV0ATqic1LHFYQEyo4PCC0FdA1N+/N9UXV0ACcD8iXuhWQKIEoszrEFdABxjph8kRWECOamSZdp9XQDm3x9r4klZAHpk3HNCZVkDB4SYfErlWQIvbqhwBz1dAakDORY0wWUDS8LlVSCZYQM3LYfcd6VhAUwXlrkxjWEBXfnRFxJlWQMOBLQJlNldAYN7rvVtTV0C1TgHVpA1XQCyiosHYsFdA7iN1CkuSWEC6BDPovMBWQFUwS7c8xlZA2e4eoPvZVkA08tzvDnJWQH2jiNI/YVhA26GjTbx+VkAkuLLALvxXQChhx/uI+VdAYC6YrpYTWUA1W2Asn29WQLyLnCqEXVhAGEBbe93dVkB0Bmds/2VWQJRi7Ckew1dACpzwO5tyWECw2PTaC2JXQAPHbU2d8VZAu7Yahg0PWEDSlJUNyChYQJvLiU3WGFhAVfen2EGDWEBeGOHUpM5WQKcOyft+pFhACFiKaKSYVkAj+lLLmAVYQItu/8IZq1dAm+EniqdSVkDyQ4QDCl1YQE8NLC7r4lZALOOV2kH5V0AwmKalBUtXQDXtYpppMVlAUhww3R57V0CrX8huz/hWQOiQaaeFxlZAqgezpgXIUEB6boAdaBhRQDCt+hpRL1FAV7Dwoq21UEAYspnHClZQQCQbODWKmVFAnUl6nNKwUEA6DrTpZWhRQDiXyQ3SsVBAL1kNcJ54UkA8fetgkLpSQJ7tsA3FgVBAxTtdaRsEUUBVp8E8PXZQQKciFcYWz1BA5Tr4T9hBUkBsAtIfVg9RQCOWKNYE2lFAiqRIhGdqUUDlWrxxdWFQQOfWlPmBD1JAE13+4I+7UEArk/FaD0tRQK0M04w/hVFAXaMGT3hwUUBMjY6zwipRQIzkIxBMT1JASrY2ZK7GUEBb+20V5WxQQKKL2dSxU1FAqSOy1UaiUkCx3V5OYFJSQIOXrpqGolBAK/XyXJuYUEDR+XzWbSxRQKuAlDug41FABbG/LjvEUUAYb1Q8qEBSQCujcMEC+1BAEizUu3REUEDEBFaKtMtRQHfehEp1wlBAIVRvLrqZUkCwiXGjbVlQQLKNcEETbVBAaOoSYYXbUUCkuDaW6FVSQHSVcucXLFFAYo/96jm9UUC32prfNqhSQKRG1zsS2VBAGwy3dLNAUECQBG20FNNRQMyAcXiaiFBAQ9Nt5BVTUEBnMcqWmehRQMa9fUZ35lFAeDc/k7djUkBrV1MfqclQQEs6DN6+eVBAExXkRpWrUUAg40D+iNFQQAiQwnHwgVJAbon5RYuGUkC8qAYvNHNQQEk+wKSCa1JAQO+VksiDUEDzkZT0MG1RQC4KkqkIn1BAKc3FYy+FUkAYAE//fndRQMqIC0BjdFFA0HB3lJK0UkD6V14LXVlRQLNUKBzLU1FAVDoW45WMUkDhEyUAwxdSQKWIZ2RrNlFAjSRixuvBUUBsRM3j8npRQLzC7ZbFbVFAoe80un9sUkBueuW0xqRQQNh2oG/HUVFA9uj0WTG1UEAAndVEV5RRQPzzwAn9hlJALPwRbWREUkCnJqAN6ZVQQOJ3sh9ScVJA72VwzmewUUAVE6MAtJ1SQIJAoX3welFAkcFh1DtcUUBp3rOmoNlRQBTsnsBkG1FA8qfXd8+sUECVAl6oNJtRQENvljcsplBAAAWT8oWAUECHv2iHJtRKQLpcLxPmb0dAwPJa6E6FTECw6JRPqPpMQC/Byh0N8ERAEc7hOd+OSEBBBAOl9OVMQL/R0DdQu01ALwfu/gBNS0BaD18mCgpGQPR06NMu3UxAPnmaxAflSkDY6Ac7ZslMQE8GR8mrZURAFmOJnHiLRUCqxOniPhxGQMKUFmjW3kxAA7gXoIa5TEDMndMLQmZNQJf+qeFwGkZAiaTtyvTTTUBUmmJILb5IQCYSdbTkOUxAz2A6SjEQRECrIZKdjgZHQER93MgGbUdAXRRe/hopSEADHCn4eZ1MQJjsTF/XpUtAYWbIRto6SEASycoOdQFIQHDapXAxaktAWgcw+kSiTEDyzoD+65hJQBZhs/Eat0hAj5x1W9yqSkD9xceCHTNGQIfMz+w+J0tAUb7Bk+0HR0A2Wi8COj1IQMrfnJVdPUxA5cVXdbXDRUBgdYEerA1FQO0LjcxItExAQr58mUXgSUBhkkbcTodMQIijaVilPU1AGPBsbtDeS0AXKEq+ab9LQMGHdVe0pUhA0VU+9PKKSEDGV7dRT0dJQJkIAgG+U0tAq2ZrtzzaSUBnhFTdZQ5IQJJw5+NWoUlATb8jroxKSEC5xZmyFR1LQPi8yQwnM0xADa0Msn7aSUCqc7l/tCtMQBQKrkXNUUZA/Kd+UisIR0BvnT2fmp9GQPbqRswqKURAu3nsX8AaRkDTQJiABGJLQP/JIdr1J0hAJH+st7iSSkDCy4Bx+MJIQMmVF+xIfU1A/mO+D8lLR0Djbzlm8tZNQA1GNqHadEVA8atJIkHhTUCm6HGtMJVEQKwky6xSwUlAunUO0MPoR0DguRh/smRJQJw24zREHURArZMKlUXwRUDtApCgGWFIQK+GerB7GkZAAnIVzfvBTEDy4PYdJltEQMZwM+TxoU1AmvhZG5kxS0CijpYcWmJHQCoCWsJzu0dAG+sLtstcTEBs6fJiOH9IQMFC3lnYAEVAQptW6fI/S0BLxSnnyShMQPAjbZlC3EdAC8KJprskTUCCjOM0gilIQA60CrQexERA+sBEcmj8RUCf4yf+PUZNQLrSW9EgFTxAccKMQvVSOkCX7PGlZIY2QFRTs4MhwzRAt0kDRxspPEDiyCSfLkM6QDw06imLTTVA5Ar341nvOUBBTpC/UTc5QKlNe84GPTpASHgxg+fdPUC/OW3XlR49QKUfBTaEVDlAQ0/zI7gVNUCSvVJUBZc1QP8kuj7e4jRA/PeF/NjWOkDbN9ZJpkI1QLiu2i2wtDpAmxPF9TkcPUDRE+AFW8k8QCkXU36MqjdAwUj9L7aRO0DDBQvtvfQ7QGL8sLUpXDRAJSBH7yuFOECySzNhJLI3QO9zvtAKsDZAPgdUB5LRNkDGxe6OzrQ8QJqH4V0NhjpASpO1+qhxN0DJiV14sY83QJ7p6xqpcD1A60Jice6wPEBEwN8312A5QDZOVIA5wDVAQ5nb94ddPEA4AulJNkg3QOsGZXUGITlAV2vVbO2EOkAIgjJTe3o6QF7qUulI8DhAfjAZXK0wNUDRW/qfFTY0QFjPQX7TNzZA8HC3+4d9NEC1E8pnHvc1QHscQJ7hKTlADUw0ac9+N0C3SJhxbEc7QGyK8MTmTjpAXy8kkq7aOkBcG88Mh+c1QKXA4YlJqTRAQBEPURrDNECN97p3mvI8QIbQnFDjBDpAkLe/J5TAPECRS3cyk3M4QLKi5cRHGDlAtpsBqo/XNkA9a6/sH1k4QK+VEnrkYzRA/W42LeMtNUDTxJZ5BgA1QMf1zuzjDzZAMCnjhK7dO0B5iNqRRZk7QNbK3xhdCTpAF+VGT5kENUBa73n2Q9k1QLIaItnpJzhAuAhK2TviOkCZC30sVFI5QB8dT7JynjVA2ozTEFUNOECxCw5IJUI2QHAghzVTcThAm1RV5OcRNkCsm/8VAXI1QPGzmVzv1TxAZQlj8qMcPUAU0vl0ZTM3QMZJSEFDSTdAB3V4pbjXOEBbkLEDfLI4QFE/PfAQRDtAy8HHu357OkD5Q/mjJCU7QIg+J9YMxDRALU5Ke2I2O0Dn++sNpTo8QOTYm5RZ/DxAZmgbA9sUOUBCnlVNrSI1QEm7NPI3MzhAXvgcs0cJN0B+5otBUKg3QJK14QvuvjhAxVimX6KbW0Dtm/urR4NcQB/gpMSJAl1A5ZmXw+6OXkCuFumP+gRdQGNytPSybl1AN+OP/QdjWkDo6W19okheQHZ0t0bfRF1Aihhl7LoqXEBo0gGkEYlaQPyjFBlC5l5ADVGFP8MLW0BHpX0YxlZaQN+hzRa1DlpAfky1YPOQWUCVHSytUBtaQHT6MDHMFVtAE7h1N8+1XEDHbxtXbSlaQNU9srnq91pAwKju29pfXkDg/UwYqHhbQNcHo6Nmy1xANK5uq4/GXUBUQsHWNkRbQPiXkwZtbFpAL26jAbz2WkCEQqliT7NZQF7uOOqNIFpA8afXdw/LWkCQlJl3wSdbQGDGufJ+jF5AiQyreKMiWkCZB1UPPXZZQHDjYIAOGV9AUjjM4SQvXUDODgI8MwpeQKRQuwTMy1pAQi4nV+cbXkBAK9WqAhRcQOm8IejD5V5AfRC4ZItBWkC6no0BfrNZQExreB/sPl9At2EUBA9nXUB49qYzwQNeQBKaydyhJ1lAVVG8ylp5XkBPMoNCTjlcQE59IHlnRFxAtQU6SSn/WkD0xd6Lr/FbQLpe5K9ar1xAywAGOPMNX0DHN8qwQENaQDBXUGKhWVpAxwz5DM07WUA7LYn9L2ZbQNuavug8LF1AahfTTHeZXUCYAA2AAmJdQK0S0VR0ZVtAVD/K48TrWUDbIEn/gcNZQEOZ/AVxr1xACusQST47XUD8I2e8CC1dQJ6bkZynVVtAgeRCiqbeXEBSCfQug9hcQFt4A3FD8VpAbpbccr92WkBh15u9WDpaQI5lsJhHiV5ACZtLu2JqXkD0xd6Lr6ZdQEf2UsLdDVtAcHAzJo5sXkBtBagEn6NZQIJLESqCol5AbMGc6trBWkBVp14SQmpdQNf7jXbcNFlA4xGBj+Y6XEDxcPGmkeleQGZwlLy6q11AAzBUtKhxXEClGHuKd35cQN6P2y+frVtA1kXA10auWUBRxxl5jy9dQFZvw956r15AnW4023BCXED4fIPlvr5bQFOObimM6F1Az7eqkYIHWUCSTaiWYyheQGLtlLMc11xAbxaKz/gdX0DbUgd5PcJdQH1w47s5UllARnh7EILOW0AOz1zxnqpcQDT5wVQOy1tAu+TJf5KIXEDGzPQBtyJcQOESkauimlxAjUEnhI6EWkB+MJUjiaxZQF6/u/Ben11A2bl6X6ZXXUB4rSk1IGxbQDrQniaODFlAD9b/OUwYXUDH6kWj8fFbQCdByS5i5FlAbt+j/nq1WUBINIEiFvtZQAW/DTHe0ltAzZ1P0x1eWUCI2cu20xxdQEDKPn6lTVpApdjROFSVW0BPvo9ZrKtbQJ6DwvsF8VxALpvvlppXXUDZ8XBMYORcQOd/Xl06jltAFAHzNfDKXUDvkjgrIlVcQMUgsHLoLV1AoSMDiqIaW0A8yQwKOdldQNcCMb+JIF1AqH6Uxwk0XUAq1fSP9LNaQIjakUV17F1ALM33nfA+XEDms5fI4GFdQG2/Ifnv5FlA0anQ5fJ2W0DgIGtXMtldQBJ0ah0LLlxA1EEDVjOMWUAXNySkpP5cQC9oxkcw/1pAmk6hqQ1hWUAjVcohmAxZQBbmTvoMNVtAzLbT1ggbWkCBVZo5ydZcQAEH/gEgnVlAfX4pTZQgXEA7nAoCdXBbQOrELwYgK1xAJ0pCIm28WUDO9LepJl5bQPqbUIgAVlpAXn3hOutJW0BjF/uB4fFbQKtRWV6D2lpAK/htiHGAXUBV5Mbj2JJaQKhdXV+19VtAcx/KYUGRWkBHb13W6WddQAA9aNEWcFtAcyYS8XtHXEATpK2lWzBdQJgNfFbjq1tA/PCYJhHZXUDG+DB72YNaQLBVgsVhMVxA2vPrPUt+XUC/U7dpIi1aQEh8OJIVBFtA3Oz+Z4OsWkC1MRsJWQBbQGeK73ofC1lA1uzcD1NJWUC9OseA7EhZQErzIm4p5FxA5wDBHD1QXEB0CBwJNJdaQHNCjefYXllA3Mwy1d2CW0CTym8sg3xbQCB4IcJkSF1AKWxQRbvMXECtJMM7ijJZQPFNLiF6AVtA6meg6HDbWkCZJ3xbVTNdQMXW2MrwlF1AoMa9+Q1VXEA2QS8385NcQPi3FQz4f1xAsMbZdITFWkCk5gae1sxZQMJKqltiYm5AlmgcLNQdVkCvELEc/NBdQChHAaKgc21Au+Lz1LSHaEAmDSTe8GxpQAGbvX3nsGhAddvPc9X4Z0BsbMAx1UFpQNxPIbKjVWdA01CjkOSsaEDYKVYNwqJHQC8ruS+MFm1AGA2VVq7PT0DVkcjjjqVhQOZDYWFSj2VAdueihM1tU0BlIp1odLZTQKdEI+kkvWJADUri9pV4WkDlKpKGBYlJQMe5TbjXT09AOPdXj/ujW0BB+RYxB9BtQIo2bABbmWBAr5+0JszMaUD0D8dffxtvQJ9hxQQQ0F9AmVtrOeE8XkA1sPrI0rBeQBSBoJKpHFBAv7sy+/4sRED907JaxTtqQJNwY6syv01A7z4iAX50XUBu/roul6JYQLmJWprbwGZAvcugNVriaUDN5QZDHbhSQKUndn5bR2tA7YuV4rRoZkAUP8bcte9mQDRc03LWs1NAqUZUTbX0WUC50+e0uLdkQHwIT418GmFA830GDkdrSEC5LduY6OloQNLYTd8hzWpAdoH9nQ7YT0AYYlABS3tqQLPuHwsRLWpA7G0zFeKwZkCfQHX/2lBYQI/hsZ8FfWRA1r5Gsy6tT0BbW9uIZQJLQM2Pv7Ro0VNAZKU4/Y/LbkBGkzB4ffBsQDY3pids5WBA071O6suxXECBGHz1TBViQEku/yH9/FJAeirxyj/0XECe2L/CNO9RQO0PlNv2ykRAARJurrHPUkBv+PYRLOJVQE3HUtrRqmFAa6NTuii1VEBEBT2KKbtiQC1zqQAONmRAxN0PLlMIVkC8Lx0pEYtlQC+H3XeMRGtApY1+j9VyV0BiKqLLwEhqQMddKXAXW21AbSDZMzZ6SkDuaT0yDPVjQA2UbxHzV09AsXEO6NbMZUB4TaMkPzpuQDt989FYD25AOvNhrKWzX0CNwRb9mQdXQKmj42rkT21AVIeiYa04R0BXLLj+4UBPQA6CM51CGltAExocgOhCa0A8YGi//xpaQIv5Xuj2FW5AxieNZp9jS0DL4e4H16NiQBZgaSpVkVlArf34psT3bUCudfOelJBnQGnCm9q+CmpACJUTSOQSbECx4xr6QgpsQCMZzSVw4mJA6tTwiGV6ZkCljkQeN7ZmQCUbtPxlGGdA9NJejmjeYkDkjSfdcXxiQOxlgLD4WWZAitbl73m1Z0CGhrR8UzFiQKI2u/9Z2mhAjzhkA6kKYkD4XLdSWb1jQGBAipVs/WpAlsSjng+XaUBGzy10ZfloQBqcLcW6gWVAe+ncoy1Aa0A+v96zpKdjQAFO7+I9eGVA/F6vVWePZUB667JOi5VjQCN+amF7sWlA8fgH25nBYkDgiEkTCnRlQFal4yAX3mFAcrbKXdVeZkD4MdWCDTtqQLpfT4XJp2JAQuhFksWEYEDcOL3m8NpgQDVADu/eXGhAHGbD9UN+ZUBQ9ApVu55pQO02FONhF2RAnrHUH8ZQa0DZQpCDkkJrQCx9jcnHA2pA25spvutJaEADZPkEWi1iQAVsByN2DGRA9SfgjXuYY0DP+u8c5blkQKBP5EmSGGhAIFDsV3DGYkDGlz+VCRRiQJaxoZt92WVAJABJIgVoakDBvowYbBZsQCVMYlpl7WBAkbLqGPxaZECq/MYy2GdgQCyPf7DdIWJAjHOKRBf8aEDG/aJfNs1qQGpoA7DBPWJA6FhKO9p0ZUAzuWKQxWZgQGmoUUiy2WtAboIU4Uu4Y0C0bb1LTqphQJTT6B9OsmlAhkyeV+FiYEDvDt94bTppQPvaRHfaDGxA0qjAyTbgZ0Br50U3TOZqQBnlmZfDm2pA2OQ614HhZEAvel11k8RhQPbFOUViZWJApd6u8t+aYkAOTwpOGMRgQEdVuIrqHGhAyBuqc5bpZ0CmczT9yNpgQJEJ+DUS8WFApaDbS1pXZkANK3ANBwViQFCdWPFXzmZArjfFPpwabEA3V96fnIliQB13SgcrbWhAglg2c0gxakBy/iYUYp1kQGw7EtTVvGpAHlN3ZddqYEBBXrRsEuRgQL0JKk8F1GVAent85/xBY0AYK3tcZbpkQLJjyFY8NGxAnM9vTpudZ0BlXCfkOadrQPcRrja1fWlAUh28wLb4Z0AZrDjVGqdiQOq2VVqQDWNAN+OP/UfSZED3a/zTV7NWQGtQC5Du0lFAutndC2WwVkAB66MZrHBWQAW+BYbqG1ZAcdyUuG+lU0CVJLZY3RRYQPndMq+8DlBAl/eCYN8fUkD6qb+YjPxRQJCCK8nP9VFA/JE7zwz0U0D2rijCmXpRQEQZqmIqc1ZALoKUEmG8VkAM3+s54wFQQDumcgPTsFVAki6qAyhFUUCHXWeFGoRVQJMEPMSaR1ZAykbvbZ3XWEDHe7wtJKZTQNj+Qk18gFVA9277N9JdV0AS1JV0OcFXQLMEfCuQ4lVAuB1cMrVfVEBF8EPO0MNQQC47QAeIo1VA+eT2BVMnUEAF4Ybvb+tRQJFDJ/hk5FNAy/L5USIXVEAJLKmodEZYQEqG89vdIlZAdJN7LlE8VkDNs8wBBptWQMuG0mqKPVRAOHYeT2ooVUB/QxPuNupOQA149BqWQVBA8Vu+P6+aVkDfncYHx0NUQHuQdaOV+1hAf2Tfugf7VkD5CvsLt8hSQLeYnxsanVZArZI8lZu0U0BDMDetjgJUQE649LvyJ1VAKk+DFlBjU0AomJQvZrZVQO04VSkDqlFALw5XnCRST0C4vVHp755QQETEzank6FZAIbInBQYIVUC6lwNWsaZYQDxmJGsixVBAKYaa10fbV0BV6Xrkx91UQFloKVHdYlBAEwXAmVTZVkASFIHiboxQQGpOHEiwU05APTNW1apgV0AS3Ir19JlRQHhlcsVgCFNAuSwVCsdBT0BC/Vfr/pBQQCD5exAf+U5Aok95rg41UkDwR/atuyRWQM/MHxU38FhA3s9CZbCEVkCZcjIvT75RQDRyq1qxOFNAZcC8dBGJUkB6qyoLUdlYQKICUFryZU5AM9wECHSpVkDhrdrSNgdUQFml0z4GcVhAtjnG/PlPVUACQpAoGWBXQHru0sBupVNA2mKvXiLEUEA4z0Mz8FNRQItqlYkwQlNAcUXW2K32UUBxnqADgblSQObmnwkiD1dApngBm9hcUUA7GaBd0zpXQGck52mlSVRAiY7LVT+8UkCx+G5vzt9WQMOHrwK+8E9AGLiXj78oU0DX70/K4FZQQJi080di/GJA5jPqa+cnZEAtA3OZ/5NoQBzy4Dh682VAZL7NLJPNZ0CpPkYv2dFnQBBHDVzUN2dAm8I52bwjZUB0AA7rl8hmQKh7ndTXKmVAqpog6v7HYkBbBpylpK1nQL7t+OXC+mhA+l+uRcvvYkDHsqpvqntoQD+GM2ShiGRAjozEuuePZEBsRIvH4P5nQNXfXA3aOmVAXyqRn+ioZkBa/AFqxTxjQIivG1s02WVA82WzNEGjZUAIvN3c6fxiQI9MLJVcH2dAde7RduejaEBusZHaOtBlQBqAss4dGWVAkLaWbnf6ZkBtcCL69YNmQKZ2K/B6R2dAUy0ztiHKYkCVaCSdHElkQDvnAvJA72hALJpzldMOZ0AvQsJBTPJjQByeb1Uj92RApaq/FBSVaEAzQA7vXsRkQGtultxyNGNAaf8DrFXyZUCh6qHHuaZoQJa04hsKj2hAakVAKurGZEBp/S0BOGVmQLWRRmCH1GRA7HKl+T7UYkCDobNxKWtkQHnblhITVmdAjUcEPtoEZkB6KBsgYgFlQEpuAy1TbGNAjf12I70naEDA+R4/5RNkQHvNvGZDyGZAYsp2dNITY0DGia92VKlmQGcR5WYTv2dASKEbUCUnZkD5sd2Yef1jQAWPyqiNZWdAqr3jb1YtZUDqqXqeZJRnQPKgj+jUN2NARNiVO9jhZED9EMByaQdoQF0iKMjZWmNAYYkHlE0oZ0AmSoyvxw9oQBvlqsPbEGZAj9g4rDp4aEBEVadekotjQGiJ317jo2NAGtNdI5PlZUDQ8wJHXVpjQG9uXXtwPWNAT9jZ67g9ZUDnk3B8iBtmQB6LbVJRA2ZA/98iQQLtZkDKCcm42AJkQLleifanb2VADLidbDkjaEAnwoanF29lQA25Y/tau2NAN6lorP3JZ0D3wNiMXR9jQP8rhga96mhAcQtMXehpZ0CeIFYkC4hmQDreeNKdlGVAtSvjldo2aEAZ1G0/jxhnQBtzjYUXPGhAwE01aYnHYkBId8ateDBmQEZZZOAlVWNAoGsEhzzZZ0CrQZjb/d5nQC140VdQ6mNAslk/R/X0Z0D4lXPO9BViQJxAIrdwF2FAoXpaNNNoYkBqYib2dY1eQGwVsxS/a2FAXI/C9eiPZEDZv6GmDDxgQFtHsMy2tV5Agrbm2AtsZUDPXQE7LZRhQIZB9P8Fo2dAgX3Po/21ZEAFX+LZb+RgQMeTpGtmn2JAZsY2BGLgYEAOcJxvnzxkQBqwmp0792VAC63zFJ5FaEDILUGheQ5fQKG1RxS/eGhAaA7/nznHZ0CIr8ChwYhoQPNHB9pTlmJA0A4TaAsVYkCX9heLMJBmQCUe9XyyDWhAPvuRIvLtZEA3ww34vOxnQAoajkLtU11ANsJHaZu0aECSSJFreehdQHmldtA2i19AmOYMe5ApXkC/z123be5nQOIdhZAYfF1A9VMtM3YIZUCIwy16AspcQCmPE8vSq15ADX/h8N0cZkAFUmLXdhpfQCW1YV4RjGJASwbb42C0ZkAK2uTwSS9jQCiMHNjgN2hA72vJT8/HZ0Bv0tluJ+9oQGkwsgmVe2FAloytsZWjYEDCuuDC8IRjQJ6tKMoKcGFAiExUysaUaEAh1tEnaFRgQN0MkpkmTGBAHYNfNPUbaEDfUPhsHTpmQO23dqLkMGRAzVJX4xGaXkBDOGbZ0xplQCHgtfAhDWdA2kU96SkqZkAeJivQ+AFjQMEEyZbAY15ALxaGyKmEY0ARM6CDU3ZlQDyKzo0EJWdAm+tF/qpoZEDESIoj6utlQNVamIW2eWJAt5Zut8kWaEBLEjqexTJoQFfFZSbizlxAmpfD7vsqZECyh5v4D3RkQO/ONSeKMWBAP5Lt17gNaEDPX41YsAlhQJKCE3Z2UmRAvZtdrUl8ZUDbNuc7E1xoQJg5uM/F1WBA3n91ZozbY0DvtVZqrLNfQMG0uXuKNmFAB2y9ldv/YUBLC/IOy5VjQIleRrFcI2JAZxgt9o3bYUCZBANj2CNjQLgScL6HRWdA7xIwFXavYUDZOKy6WK1mQJdtTPSekWdArUz4pf7uZkDiZ21kKMhkQDfg88PIOGZAf+Nrzyz7X0BcnJ2xVKplQFrOSv83y19A1a90PvydYUA=",
          "dtype": "f8"
         },
         "xaxis": "x",
         "y": [
          "rice",
          "rice",
          "rice",
          "rice",
          "rice",
          "rice",
          "rice",
          "rice",
          "rice",
          "rice",
          "rice",
          "rice",
          "rice",
          "rice",
          "rice",
          "rice",
          "rice",
          "rice",
          "rice",
          "rice",
          "rice",
          "rice",
          "rice",
          "rice",
          "rice",
          "rice",
          "rice",
          "rice",
          "rice",
          "rice",
          "rice",
          "rice",
          "rice",
          "rice",
          "rice",
          "rice",
          "rice",
          "rice",
          "rice",
          "rice",
          "rice",
          "rice",
          "rice",
          "rice",
          "rice",
          "rice",
          "rice",
          "rice",
          "rice",
          "rice",
          "rice",
          "rice",
          "rice",
          "rice",
          "rice",
          "rice",
          "rice",
          "rice",
          "rice",
          "rice",
          "rice",
          "rice",
          "rice",
          "rice",
          "rice",
          "rice",
          "rice",
          "rice",
          "rice",
          "rice",
          "rice",
          "rice",
          "rice",
          "rice",
          "rice",
          "rice",
          "rice",
          "rice",
          "rice",
          "rice",
          "rice",
          "rice",
          "rice",
          "rice",
          "rice",
          "rice",
          "rice",
          "rice",
          "rice",
          "rice",
          "rice",
          "rice",
          "rice",
          "rice",
          "rice",
          "rice",
          "rice",
          "rice",
          "rice",
          "rice",
          "maize",
          "maize",
          "maize",
          "maize",
          "maize",
          "maize",
          "maize",
          "maize",
          "maize",
          "maize",
          "maize",
          "maize",
          "maize",
          "maize",
          "maize",
          "maize",
          "maize",
          "maize",
          "maize",
          "maize",
          "maize",
          "maize",
          "maize",
          "maize",
          "maize",
          "maize",
          "maize",
          "maize",
          "maize",
          "maize",
          "maize",
          "maize",
          "maize",
          "maize",
          "maize",
          "maize",
          "maize",
          "maize",
          "maize",
          "maize",
          "maize",
          "maize",
          "maize",
          "maize",
          "maize",
          "maize",
          "maize",
          "maize",
          "maize",
          "maize",
          "maize",
          "maize",
          "maize",
          "maize",
          "maize",
          "maize",
          "maize",
          "maize",
          "maize",
          "maize",
          "maize",
          "maize",
          "maize",
          "maize",
          "maize",
          "maize",
          "maize",
          "maize",
          "maize",
          "maize",
          "maize",
          "maize",
          "maize",
          "maize",
          "maize",
          "maize",
          "maize",
          "maize",
          "maize",
          "maize",
          "maize",
          "maize",
          "maize",
          "maize",
          "maize",
          "maize",
          "maize",
          "maize",
          "maize",
          "maize",
          "maize",
          "maize",
          "maize",
          "maize",
          "maize",
          "maize",
          "maize",
          "maize",
          "maize",
          "maize",
          "chickpea",
          "chickpea",
          "chickpea",
          "chickpea",
          "chickpea",
          "chickpea",
          "chickpea",
          "chickpea",
          "chickpea",
          "chickpea",
          "chickpea",
          "chickpea",
          "chickpea",
          "chickpea",
          "chickpea",
          "chickpea",
          "chickpea",
          "chickpea",
          "chickpea",
          "chickpea",
          "chickpea",
          "chickpea",
          "chickpea",
          "chickpea",
          "chickpea",
          "chickpea",
          "chickpea",
          "chickpea",
          "chickpea",
          "chickpea",
          "chickpea",
          "chickpea",
          "chickpea",
          "chickpea",
          "chickpea",
          "chickpea",
          "chickpea",
          "chickpea",
          "chickpea",
          "chickpea",
          "chickpea",
          "chickpea",
          "chickpea",
          "chickpea",
          "chickpea",
          "chickpea",
          "chickpea",
          "chickpea",
          "chickpea",
          "chickpea",
          "chickpea",
          "chickpea",
          "chickpea",
          "chickpea",
          "chickpea",
          "chickpea",
          "chickpea",
          "chickpea",
          "chickpea",
          "chickpea",
          "chickpea",
          "chickpea",
          "chickpea",
          "chickpea",
          "chickpea",
          "chickpea",
          "chickpea",
          "chickpea",
          "chickpea",
          "chickpea",
          "chickpea",
          "chickpea",
          "chickpea",
          "chickpea",
          "chickpea",
          "chickpea",
          "chickpea",
          "chickpea",
          "chickpea",
          "chickpea",
          "chickpea",
          "chickpea",
          "chickpea",
          "chickpea",
          "chickpea",
          "chickpea",
          "chickpea",
          "chickpea",
          "chickpea",
          "chickpea",
          "chickpea",
          "chickpea",
          "chickpea",
          "chickpea",
          "chickpea",
          "chickpea",
          "chickpea",
          "chickpea",
          "chickpea",
          "chickpea",
          "kidneybeans",
          "kidneybeans",
          "kidneybeans",
          "kidneybeans",
          "kidneybeans",
          "kidneybeans",
          "kidneybeans",
          "kidneybeans",
          "kidneybeans",
          "kidneybeans",
          "kidneybeans",
          "kidneybeans",
          "kidneybeans",
          "kidneybeans",
          "kidneybeans",
          "kidneybeans",
          "kidneybeans",
          "kidneybeans",
          "kidneybeans",
          "kidneybeans",
          "kidneybeans",
          "kidneybeans",
          "kidneybeans",
          "kidneybeans",
          "kidneybeans",
          "kidneybeans",
          "kidneybeans",
          "kidneybeans",
          "kidneybeans",
          "kidneybeans",
          "kidneybeans",
          "kidneybeans",
          "kidneybeans",
          "kidneybeans",
          "kidneybeans",
          "kidneybeans",
          "kidneybeans",
          "kidneybeans",
          "kidneybeans",
          "kidneybeans",
          "kidneybeans",
          "kidneybeans",
          "kidneybeans",
          "kidneybeans",
          "kidneybeans",
          "kidneybeans",
          "kidneybeans",
          "kidneybeans",
          "kidneybeans",
          "kidneybeans",
          "kidneybeans",
          "kidneybeans",
          "kidneybeans",
          "kidneybeans",
          "kidneybeans",
          "kidneybeans",
          "kidneybeans",
          "kidneybeans",
          "kidneybeans",
          "kidneybeans",
          "kidneybeans",
          "kidneybeans",
          "kidneybeans",
          "kidneybeans",
          "kidneybeans",
          "kidneybeans",
          "kidneybeans",
          "kidneybeans",
          "kidneybeans",
          "kidneybeans",
          "kidneybeans",
          "kidneybeans",
          "kidneybeans",
          "kidneybeans",
          "kidneybeans",
          "kidneybeans",
          "kidneybeans",
          "kidneybeans",
          "kidneybeans",
          "kidneybeans",
          "kidneybeans",
          "kidneybeans",
          "kidneybeans",
          "kidneybeans",
          "kidneybeans",
          "kidneybeans",
          "kidneybeans",
          "kidneybeans",
          "kidneybeans",
          "kidneybeans",
          "kidneybeans",
          "kidneybeans",
          "kidneybeans",
          "kidneybeans",
          "kidneybeans",
          "kidneybeans",
          "kidneybeans",
          "kidneybeans",
          "kidneybeans",
          "kidneybeans",
          "pigeonpeas",
          "pigeonpeas",
          "pigeonpeas",
          "pigeonpeas",
          "pigeonpeas",
          "pigeonpeas",
          "pigeonpeas",
          "pigeonpeas",
          "pigeonpeas",
          "pigeonpeas",
          "pigeonpeas",
          "pigeonpeas",
          "pigeonpeas",
          "pigeonpeas",
          "pigeonpeas",
          "pigeonpeas",
          "pigeonpeas",
          "pigeonpeas",
          "pigeonpeas",
          "pigeonpeas",
          "pigeonpeas",
          "pigeonpeas",
          "pigeonpeas",
          "pigeonpeas",
          "pigeonpeas",
          "pigeonpeas",
          "pigeonpeas",
          "pigeonpeas",
          "pigeonpeas",
          "pigeonpeas",
          "pigeonpeas",
          "pigeonpeas",
          "pigeonpeas",
          "pigeonpeas",
          "pigeonpeas",
          "pigeonpeas",
          "pigeonpeas",
          "pigeonpeas",
          "pigeonpeas",
          "pigeonpeas",
          "pigeonpeas",
          "pigeonpeas",
          "pigeonpeas",
          "pigeonpeas",
          "pigeonpeas",
          "pigeonpeas",
          "pigeonpeas",
          "pigeonpeas",
          "pigeonpeas",
          "pigeonpeas",
          "pigeonpeas",
          "pigeonpeas",
          "pigeonpeas",
          "pigeonpeas",
          "pigeonpeas",
          "pigeonpeas",
          "pigeonpeas",
          "pigeonpeas",
          "pigeonpeas",
          "pigeonpeas",
          "pigeonpeas",
          "pigeonpeas",
          "pigeonpeas",
          "pigeonpeas",
          "pigeonpeas",
          "pigeonpeas",
          "pigeonpeas",
          "pigeonpeas",
          "pigeonpeas",
          "pigeonpeas",
          "pigeonpeas",
          "pigeonpeas",
          "pigeonpeas",
          "pigeonpeas",
          "pigeonpeas",
          "pigeonpeas",
          "pigeonpeas",
          "pigeonpeas",
          "pigeonpeas",
          "pigeonpeas",
          "pigeonpeas",
          "pigeonpeas",
          "pigeonpeas",
          "pigeonpeas",
          "pigeonpeas",
          "pigeonpeas",
          "pigeonpeas",
          "pigeonpeas",
          "pigeonpeas",
          "pigeonpeas",
          "pigeonpeas",
          "pigeonpeas",
          "pigeonpeas",
          "pigeonpeas",
          "pigeonpeas",
          "pigeonpeas",
          "pigeonpeas",
          "pigeonpeas",
          "pigeonpeas",
          "pigeonpeas",
          "mothbeans",
          "mothbeans",
          "mothbeans",
          "mothbeans",
          "mothbeans",
          "mothbeans",
          "mothbeans",
          "mothbeans",
          "mothbeans",
          "mothbeans",
          "mothbeans",
          "mothbeans",
          "mothbeans",
          "mothbeans",
          "mothbeans",
          "mothbeans",
          "mothbeans",
          "mothbeans",
          "mothbeans",
          "mothbeans",
          "mothbeans",
          "mothbeans",
          "mothbeans",
          "mothbeans",
          "mothbeans",
          "mothbeans",
          "mothbeans",
          "mothbeans",
          "mothbeans",
          "mothbeans",
          "mothbeans",
          "mothbeans",
          "mothbeans",
          "mothbeans",
          "mothbeans",
          "mothbeans",
          "mothbeans",
          "mothbeans",
          "mothbeans",
          "mothbeans",
          "mothbeans",
          "mothbeans",
          "mothbeans",
          "mothbeans",
          "mothbeans",
          "mothbeans",
          "mothbeans",
          "mothbeans",
          "mothbeans",
          "mothbeans",
          "mothbeans",
          "mothbeans",
          "mothbeans",
          "mothbeans",
          "mothbeans",
          "mothbeans",
          "mothbeans",
          "mothbeans",
          "mothbeans",
          "mothbeans",
          "mothbeans",
          "mothbeans",
          "mothbeans",
          "mothbeans",
          "mothbeans",
          "mothbeans",
          "mothbeans",
          "mothbeans",
          "mothbeans",
          "mothbeans",
          "mothbeans",
          "mothbeans",
          "mothbeans",
          "mothbeans",
          "mothbeans",
          "mothbeans",
          "mothbeans",
          "mothbeans",
          "mothbeans",
          "mothbeans",
          "mothbeans",
          "mothbeans",
          "mothbeans",
          "mothbeans",
          "mothbeans",
          "mothbeans",
          "mothbeans",
          "mothbeans",
          "mothbeans",
          "mothbeans",
          "mothbeans",
          "mothbeans",
          "mothbeans",
          "mothbeans",
          "mothbeans",
          "mothbeans",
          "mothbeans",
          "mothbeans",
          "mothbeans",
          "mothbeans",
          "mungbean",
          "mungbean",
          "mungbean",
          "mungbean",
          "mungbean",
          "mungbean",
          "mungbean",
          "mungbean",
          "mungbean",
          "mungbean",
          "mungbean",
          "mungbean",
          "mungbean",
          "mungbean",
          "mungbean",
          "mungbean",
          "mungbean",
          "mungbean",
          "mungbean",
          "mungbean",
          "mungbean",
          "mungbean",
          "mungbean",
          "mungbean",
          "mungbean",
          "mungbean",
          "mungbean",
          "mungbean",
          "mungbean",
          "mungbean",
          "mungbean",
          "mungbean",
          "mungbean",
          "mungbean",
          "mungbean",
          "mungbean",
          "mungbean",
          "mungbean",
          "mungbean",
          "mungbean",
          "mungbean",
          "mungbean",
          "mungbean",
          "mungbean",
          "mungbean",
          "mungbean",
          "mungbean",
          "mungbean",
          "mungbean",
          "mungbean",
          "mungbean",
          "mungbean",
          "mungbean",
          "mungbean",
          "mungbean",
          "mungbean",
          "mungbean",
          "mungbean",
          "mungbean",
          "mungbean",
          "mungbean",
          "mungbean",
          "mungbean",
          "mungbean",
          "mungbean",
          "mungbean",
          "mungbean",
          "mungbean",
          "mungbean",
          "mungbean",
          "mungbean",
          "mungbean",
          "mungbean",
          "mungbean",
          "mungbean",
          "mungbean",
          "mungbean",
          "mungbean",
          "mungbean",
          "mungbean",
          "mungbean",
          "mungbean",
          "mungbean",
          "mungbean",
          "mungbean",
          "mungbean",
          "mungbean",
          "mungbean",
          "mungbean",
          "mungbean",
          "mungbean",
          "mungbean",
          "mungbean",
          "mungbean",
          "mungbean",
          "mungbean",
          "mungbean",
          "mungbean",
          "mungbean",
          "mungbean",
          "blackgram",
          "blackgram",
          "blackgram",
          "blackgram",
          "blackgram",
          "blackgram",
          "blackgram",
          "blackgram",
          "blackgram",
          "blackgram",
          "blackgram",
          "blackgram",
          "blackgram",
          "blackgram",
          "blackgram",
          "blackgram",
          "blackgram",
          "blackgram",
          "blackgram",
          "blackgram",
          "blackgram",
          "blackgram",
          "blackgram",
          "blackgram",
          "blackgram",
          "blackgram",
          "blackgram",
          "blackgram",
          "blackgram",
          "blackgram",
          "blackgram",
          "blackgram",
          "blackgram",
          "blackgram",
          "blackgram",
          "blackgram",
          "blackgram",
          "blackgram",
          "blackgram",
          "blackgram",
          "blackgram",
          "blackgram",
          "blackgram",
          "blackgram",
          "blackgram",
          "blackgram",
          "blackgram",
          "blackgram",
          "blackgram",
          "blackgram",
          "blackgram",
          "blackgram",
          "blackgram",
          "blackgram",
          "blackgram",
          "blackgram",
          "blackgram",
          "blackgram",
          "blackgram",
          "blackgram",
          "blackgram",
          "blackgram",
          "blackgram",
          "blackgram",
          "blackgram",
          "blackgram",
          "blackgram",
          "blackgram",
          "blackgram",
          "blackgram",
          "blackgram",
          "blackgram",
          "blackgram",
          "blackgram",
          "blackgram",
          "blackgram",
          "blackgram",
          "blackgram",
          "blackgram",
          "blackgram",
          "blackgram",
          "blackgram",
          "blackgram",
          "blackgram",
          "blackgram",
          "blackgram",
          "blackgram",
          "blackgram",
          "blackgram",
          "blackgram",
          "blackgram",
          "blackgram",
          "blackgram",
          "blackgram",
          "blackgram",
          "blackgram",
          "blackgram",
          "blackgram",
          "blackgram",
          "blackgram",
          "lentil",
          "lentil",
          "lentil",
          "lentil",
          "lentil",
          "lentil",
          "lentil",
          "lentil",
          "lentil",
          "lentil",
          "lentil",
          "lentil",
          "lentil",
          "lentil",
          "lentil",
          "lentil",
          "lentil",
          "lentil",
          "lentil",
          "lentil",
          "lentil",
          "lentil",
          "lentil",
          "lentil",
          "lentil",
          "lentil",
          "lentil",
          "lentil",
          "lentil",
          "lentil",
          "lentil",
          "lentil",
          "lentil",
          "lentil",
          "lentil",
          "lentil",
          "lentil",
          "lentil",
          "lentil",
          "lentil",
          "lentil",
          "lentil",
          "lentil",
          "lentil",
          "lentil",
          "lentil",
          "lentil",
          "lentil",
          "lentil",
          "lentil",
          "lentil",
          "lentil",
          "lentil",
          "lentil",
          "lentil",
          "lentil",
          "lentil",
          "lentil",
          "lentil",
          "lentil",
          "lentil",
          "lentil",
          "lentil",
          "lentil",
          "lentil",
          "lentil",
          "lentil",
          "lentil",
          "lentil",
          "lentil",
          "lentil",
          "lentil",
          "lentil",
          "lentil",
          "lentil",
          "lentil",
          "lentil",
          "lentil",
          "lentil",
          "lentil",
          "lentil",
          "lentil",
          "lentil",
          "lentil",
          "lentil",
          "lentil",
          "lentil",
          "lentil",
          "lentil",
          "lentil",
          "lentil",
          "lentil",
          "lentil",
          "lentil",
          "lentil",
          "lentil",
          "lentil",
          "lentil",
          "lentil",
          "lentil",
          "pomegranate",
          "pomegranate",
          "pomegranate",
          "pomegranate",
          "pomegranate",
          "pomegranate",
          "pomegranate",
          "pomegranate",
          "pomegranate",
          "pomegranate",
          "pomegranate",
          "pomegranate",
          "pomegranate",
          "pomegranate",
          "pomegranate",
          "pomegranate",
          "pomegranate",
          "pomegranate",
          "pomegranate",
          "pomegranate",
          "pomegranate",
          "pomegranate",
          "pomegranate",
          "pomegranate",
          "pomegranate",
          "pomegranate",
          "pomegranate",
          "pomegranate",
          "pomegranate",
          "pomegranate",
          "pomegranate",
          "pomegranate",
          "pomegranate",
          "pomegranate",
          "pomegranate",
          "pomegranate",
          "pomegranate",
          "pomegranate",
          "pomegranate",
          "pomegranate",
          "pomegranate",
          "pomegranate",
          "pomegranate",
          "pomegranate",
          "pomegranate",
          "pomegranate",
          "pomegranate",
          "pomegranate",
          "pomegranate",
          "pomegranate",
          "pomegranate",
          "pomegranate",
          "pomegranate",
          "pomegranate",
          "pomegranate",
          "pomegranate",
          "pomegranate",
          "pomegranate",
          "pomegranate",
          "pomegranate",
          "pomegranate",
          "pomegranate",
          "pomegranate",
          "pomegranate",
          "pomegranate",
          "pomegranate",
          "pomegranate",
          "pomegranate",
          "pomegranate",
          "pomegranate",
          "pomegranate",
          "pomegranate",
          "pomegranate",
          "pomegranate",
          "pomegranate",
          "pomegranate",
          "pomegranate",
          "pomegranate",
          "pomegranate",
          "pomegranate",
          "pomegranate",
          "pomegranate",
          "pomegranate",
          "pomegranate",
          "pomegranate",
          "pomegranate",
          "pomegranate",
          "pomegranate",
          "pomegranate",
          "pomegranate",
          "pomegranate",
          "pomegranate",
          "pomegranate",
          "pomegranate",
          "pomegranate",
          "pomegranate",
          "pomegranate",
          "pomegranate",
          "pomegranate",
          "pomegranate",
          "banana",
          "banana",
          "banana",
          "banana",
          "banana",
          "banana",
          "banana",
          "banana",
          "banana",
          "banana",
          "banana",
          "banana",
          "banana",
          "banana",
          "banana",
          "banana",
          "banana",
          "banana",
          "banana",
          "banana",
          "banana",
          "banana",
          "banana",
          "banana",
          "banana",
          "banana",
          "banana",
          "banana",
          "banana",
          "banana",
          "banana",
          "banana",
          "banana",
          "banana",
          "banana",
          "banana",
          "banana",
          "banana",
          "banana",
          "banana",
          "banana",
          "banana",
          "banana",
          "banana",
          "banana",
          "banana",
          "banana",
          "banana",
          "banana",
          "banana",
          "banana",
          "banana",
          "banana",
          "banana",
          "banana",
          "banana",
          "banana",
          "banana",
          "banana",
          "banana",
          "banana",
          "banana",
          "banana",
          "banana",
          "banana",
          "banana",
          "banana",
          "banana",
          "banana",
          "banana",
          "banana",
          "banana",
          "banana",
          "banana",
          "banana",
          "banana",
          "banana",
          "banana",
          "banana",
          "banana",
          "banana",
          "banana",
          "banana",
          "banana",
          "banana",
          "banana",
          "banana",
          "banana",
          "banana",
          "banana",
          "banana",
          "banana",
          "banana",
          "banana",
          "banana",
          "banana",
          "banana",
          "banana",
          "banana",
          "banana",
          "mango",
          "mango",
          "mango",
          "mango",
          "mango",
          "mango",
          "mango",
          "mango",
          "mango",
          "mango",
          "mango",
          "mango",
          "mango",
          "mango",
          "mango",
          "mango",
          "mango",
          "mango",
          "mango",
          "mango",
          "mango",
          "mango",
          "mango",
          "mango",
          "mango",
          "mango",
          "mango",
          "mango",
          "mango",
          "mango",
          "mango",
          "mango",
          "mango",
          "mango",
          "mango",
          "mango",
          "mango",
          "mango",
          "mango",
          "mango",
          "mango",
          "mango",
          "mango",
          "mango",
          "mango",
          "mango",
          "mango",
          "mango",
          "mango",
          "mango",
          "mango",
          "mango",
          "mango",
          "mango",
          "mango",
          "mango",
          "mango",
          "mango",
          "mango",
          "mango",
          "mango",
          "mango",
          "mango",
          "mango",
          "mango",
          "mango",
          "mango",
          "mango",
          "mango",
          "mango",
          "mango",
          "mango",
          "mango",
          "mango",
          "mango",
          "mango",
          "mango",
          "mango",
          "mango",
          "mango",
          "mango",
          "mango",
          "mango",
          "mango",
          "mango",
          "mango",
          "mango",
          "mango",
          "mango",
          "mango",
          "mango",
          "mango",
          "mango",
          "mango",
          "mango",
          "mango",
          "mango",
          "mango",
          "mango",
          "mango",
          "grapes",
          "grapes",
          "grapes",
          "grapes",
          "grapes",
          "grapes",
          "grapes",
          "grapes",
          "grapes",
          "grapes",
          "grapes",
          "grapes",
          "grapes",
          "grapes",
          "grapes",
          "grapes",
          "grapes",
          "grapes",
          "grapes",
          "grapes",
          "grapes",
          "grapes",
          "grapes",
          "grapes",
          "grapes",
          "grapes",
          "grapes",
          "grapes",
          "grapes",
          "grapes",
          "grapes",
          "grapes",
          "grapes",
          "grapes",
          "grapes",
          "grapes",
          "grapes",
          "grapes",
          "grapes",
          "grapes",
          "grapes",
          "grapes",
          "grapes",
          "grapes",
          "grapes",
          "grapes",
          "grapes",
          "grapes",
          "grapes",
          "grapes",
          "grapes",
          "grapes",
          "grapes",
          "grapes",
          "grapes",
          "grapes",
          "grapes",
          "grapes",
          "grapes",
          "grapes",
          "grapes",
          "grapes",
          "grapes",
          "grapes",
          "grapes",
          "grapes",
          "grapes",
          "grapes",
          "grapes",
          "grapes",
          "grapes",
          "grapes",
          "grapes",
          "grapes",
          "grapes",
          "grapes",
          "grapes",
          "grapes",
          "grapes",
          "grapes",
          "grapes",
          "grapes",
          "grapes",
          "grapes",
          "grapes",
          "grapes",
          "grapes",
          "grapes",
          "grapes",
          "grapes",
          "grapes",
          "grapes",
          "grapes",
          "grapes",
          "grapes",
          "grapes",
          "grapes",
          "grapes",
          "grapes",
          "grapes",
          "watermelon",
          "watermelon",
          "watermelon",
          "watermelon",
          "watermelon",
          "watermelon",
          "watermelon",
          "watermelon",
          "watermelon",
          "watermelon",
          "watermelon",
          "watermelon",
          "watermelon",
          "watermelon",
          "watermelon",
          "watermelon",
          "watermelon",
          "watermelon",
          "watermelon",
          "watermelon",
          "watermelon",
          "watermelon",
          "watermelon",
          "watermelon",
          "watermelon",
          "watermelon",
          "watermelon",
          "watermelon",
          "watermelon",
          "watermelon",
          "watermelon",
          "watermelon",
          "watermelon",
          "watermelon",
          "watermelon",
          "watermelon",
          "watermelon",
          "watermelon",
          "watermelon",
          "watermelon",
          "watermelon",
          "watermelon",
          "watermelon",
          "watermelon",
          "watermelon",
          "watermelon",
          "watermelon",
          "watermelon",
          "watermelon",
          "watermelon",
          "watermelon",
          "watermelon",
          "watermelon",
          "watermelon",
          "watermelon",
          "watermelon",
          "watermelon",
          "watermelon",
          "watermelon",
          "watermelon",
          "watermelon",
          "watermelon",
          "watermelon",
          "watermelon",
          "watermelon",
          "watermelon",
          "watermelon",
          "watermelon",
          "watermelon",
          "watermelon",
          "watermelon",
          "watermelon",
          "watermelon",
          "watermelon",
          "watermelon",
          "watermelon",
          "watermelon",
          "watermelon",
          "watermelon",
          "watermelon",
          "watermelon",
          "watermelon",
          "watermelon",
          "watermelon",
          "watermelon",
          "watermelon",
          "watermelon",
          "watermelon",
          "watermelon",
          "watermelon",
          "watermelon",
          "watermelon",
          "watermelon",
          "watermelon",
          "watermelon",
          "watermelon",
          "watermelon",
          "watermelon",
          "watermelon",
          "watermelon",
          "muskmelon",
          "muskmelon",
          "muskmelon",
          "muskmelon",
          "muskmelon",
          "muskmelon",
          "muskmelon",
          "muskmelon",
          "muskmelon",
          "muskmelon",
          "muskmelon",
          "muskmelon",
          "muskmelon",
          "muskmelon",
          "muskmelon",
          "muskmelon",
          "muskmelon",
          "muskmelon",
          "muskmelon",
          "muskmelon",
          "muskmelon",
          "muskmelon",
          "muskmelon",
          "muskmelon",
          "muskmelon",
          "muskmelon",
          "muskmelon",
          "muskmelon",
          "muskmelon",
          "muskmelon",
          "muskmelon",
          "muskmelon",
          "muskmelon",
          "muskmelon",
          "muskmelon",
          "muskmelon",
          "muskmelon",
          "muskmelon",
          "muskmelon",
          "muskmelon",
          "muskmelon",
          "muskmelon",
          "muskmelon",
          "muskmelon",
          "muskmelon",
          "muskmelon",
          "muskmelon",
          "muskmelon",
          "muskmelon",
          "muskmelon",
          "muskmelon",
          "muskmelon",
          "muskmelon",
          "muskmelon",
          "muskmelon",
          "muskmelon",
          "muskmelon",
          "muskmelon",
          "muskmelon",
          "muskmelon",
          "muskmelon",
          "muskmelon",
          "muskmelon",
          "muskmelon",
          "muskmelon",
          "muskmelon",
          "muskmelon",
          "muskmelon",
          "muskmelon",
          "muskmelon",
          "muskmelon",
          "muskmelon",
          "muskmelon",
          "muskmelon",
          "muskmelon",
          "muskmelon",
          "muskmelon",
          "muskmelon",
          "muskmelon",
          "muskmelon",
          "muskmelon",
          "muskmelon",
          "muskmelon",
          "muskmelon",
          "muskmelon",
          "muskmelon",
          "muskmelon",
          "muskmelon",
          "muskmelon",
          "muskmelon",
          "muskmelon",
          "muskmelon",
          "muskmelon",
          "muskmelon",
          "muskmelon",
          "muskmelon",
          "muskmelon",
          "muskmelon",
          "muskmelon",
          "muskmelon",
          "apple",
          "apple",
          "apple",
          "apple",
          "apple",
          "apple",
          "apple",
          "apple",
          "apple",
          "apple",
          "apple",
          "apple",
          "apple",
          "apple",
          "apple",
          "apple",
          "apple",
          "apple",
          "apple",
          "apple",
          "apple",
          "apple",
          "apple",
          "apple",
          "apple",
          "apple",
          "apple",
          "apple",
          "apple",
          "apple",
          "apple",
          "apple",
          "apple",
          "apple",
          "apple",
          "apple",
          "apple",
          "apple",
          "apple",
          "apple",
          "apple",
          "apple",
          "apple",
          "apple",
          "apple",
          "apple",
          "apple",
          "apple",
          "apple",
          "apple",
          "apple",
          "apple",
          "apple",
          "apple",
          "apple",
          "apple",
          "apple",
          "apple",
          "apple",
          "apple",
          "apple",
          "apple",
          "apple",
          "apple",
          "apple",
          "apple",
          "apple",
          "apple",
          "apple",
          "apple",
          "apple",
          "apple",
          "apple",
          "apple",
          "apple",
          "apple",
          "apple",
          "apple",
          "apple",
          "apple",
          "apple",
          "apple",
          "apple",
          "apple",
          "apple",
          "apple",
          "apple",
          "apple",
          "apple",
          "apple",
          "apple",
          "apple",
          "apple",
          "apple",
          "apple",
          "apple",
          "apple",
          "apple",
          "apple",
          "apple",
          "orange",
          "orange",
          "orange",
          "orange",
          "orange",
          "orange",
          "orange",
          "orange",
          "orange",
          "orange",
          "orange",
          "orange",
          "orange",
          "orange",
          "orange",
          "orange",
          "orange",
          "orange",
          "orange",
          "orange",
          "orange",
          "orange",
          "orange",
          "orange",
          "orange",
          "orange",
          "orange",
          "orange",
          "orange",
          "orange",
          "orange",
          "orange",
          "orange",
          "orange",
          "orange",
          "orange",
          "orange",
          "orange",
          "orange",
          "orange",
          "orange",
          "orange",
          "orange",
          "orange",
          "orange",
          "orange",
          "orange",
          "orange",
          "orange",
          "orange",
          "orange",
          "orange",
          "orange",
          "orange",
          "orange",
          "orange",
          "orange",
          "orange",
          "orange",
          "orange",
          "orange",
          "orange",
          "orange",
          "orange",
          "orange",
          "orange",
          "orange",
          "orange",
          "orange",
          "orange",
          "orange",
          "orange",
          "orange",
          "orange",
          "orange",
          "orange",
          "orange",
          "orange",
          "orange",
          "orange",
          "orange",
          "orange",
          "orange",
          "orange",
          "orange",
          "orange",
          "orange",
          "orange",
          "orange",
          "orange",
          "orange",
          "orange",
          "orange",
          "orange",
          "orange",
          "orange",
          "orange",
          "orange",
          "orange",
          "orange",
          "papaya",
          "papaya",
          "papaya",
          "papaya",
          "papaya",
          "papaya",
          "papaya",
          "papaya",
          "papaya",
          "papaya",
          "papaya",
          "papaya",
          "papaya",
          "papaya",
          "papaya",
          "papaya",
          "papaya",
          "papaya",
          "papaya",
          "papaya",
          "papaya",
          "papaya",
          "papaya",
          "papaya",
          "papaya",
          "papaya",
          "papaya",
          "papaya",
          "papaya",
          "papaya",
          "papaya",
          "papaya",
          "papaya",
          "papaya",
          "papaya",
          "papaya",
          "papaya",
          "papaya",
          "papaya",
          "papaya",
          "papaya",
          "papaya",
          "papaya",
          "papaya",
          "papaya",
          "papaya",
          "papaya",
          "papaya",
          "papaya",
          "papaya",
          "papaya",
          "papaya",
          "papaya",
          "papaya",
          "papaya",
          "papaya",
          "papaya",
          "papaya",
          "papaya",
          "papaya",
          "papaya",
          "papaya",
          "papaya",
          "papaya",
          "papaya",
          "papaya",
          "papaya",
          "papaya",
          "papaya",
          "papaya",
          "papaya",
          "papaya",
          "papaya",
          "papaya",
          "papaya",
          "papaya",
          "papaya",
          "papaya",
          "papaya",
          "papaya",
          "papaya",
          "papaya",
          "papaya",
          "papaya",
          "papaya",
          "papaya",
          "papaya",
          "papaya",
          "papaya",
          "papaya",
          "papaya",
          "papaya",
          "papaya",
          "papaya",
          "papaya",
          "papaya",
          "papaya",
          "papaya",
          "papaya",
          "papaya",
          "coconut",
          "coconut",
          "coconut",
          "coconut",
          "coconut",
          "coconut",
          "coconut",
          "coconut",
          "coconut",
          "coconut",
          "coconut",
          "coconut",
          "coconut",
          "coconut",
          "coconut",
          "coconut",
          "coconut",
          "coconut",
          "coconut",
          "coconut",
          "coconut",
          "coconut",
          "coconut",
          "coconut",
          "coconut",
          "coconut",
          "coconut",
          "coconut",
          "coconut",
          "coconut",
          "coconut",
          "coconut",
          "coconut",
          "coconut",
          "coconut",
          "coconut",
          "coconut",
          "coconut",
          "coconut",
          "coconut",
          "coconut",
          "coconut",
          "coconut",
          "coconut",
          "coconut",
          "coconut",
          "coconut",
          "coconut",
          "coconut",
          "coconut",
          "coconut",
          "coconut",
          "coconut",
          "coconut",
          "coconut",
          "coconut",
          "coconut",
          "coconut",
          "coconut",
          "coconut",
          "coconut",
          "coconut",
          "coconut",
          "coconut",
          "coconut",
          "coconut",
          "coconut",
          "coconut",
          "coconut",
          "coconut",
          "coconut",
          "coconut",
          "coconut",
          "coconut",
          "coconut",
          "coconut",
          "coconut",
          "coconut",
          "coconut",
          "coconut",
          "coconut",
          "coconut",
          "coconut",
          "coconut",
          "coconut",
          "coconut",
          "coconut",
          "coconut",
          "coconut",
          "coconut",
          "coconut",
          "coconut",
          "coconut",
          "coconut",
          "coconut",
          "coconut",
          "coconut",
          "coconut",
          "coconut",
          "coconut",
          "cotton",
          "cotton",
          "cotton",
          "cotton",
          "cotton",
          "cotton",
          "cotton",
          "cotton",
          "cotton",
          "cotton",
          "cotton",
          "cotton",
          "cotton",
          "cotton",
          "cotton",
          "cotton",
          "cotton",
          "cotton",
          "cotton",
          "cotton",
          "cotton",
          "cotton",
          "cotton",
          "cotton",
          "cotton",
          "cotton",
          "cotton",
          "cotton",
          "cotton",
          "cotton",
          "cotton",
          "cotton",
          "cotton",
          "cotton",
          "cotton",
          "cotton",
          "cotton",
          "cotton",
          "cotton",
          "cotton",
          "cotton",
          "cotton",
          "cotton",
          "cotton",
          "cotton",
          "cotton",
          "cotton",
          "cotton",
          "cotton",
          "cotton",
          "cotton",
          "cotton",
          "cotton",
          "cotton",
          "cotton",
          "cotton",
          "cotton",
          "cotton",
          "cotton",
          "cotton",
          "cotton",
          "cotton",
          "cotton",
          "cotton",
          "cotton",
          "cotton",
          "cotton",
          "cotton",
          "cotton",
          "cotton",
          "cotton",
          "cotton",
          "cotton",
          "cotton",
          "cotton",
          "cotton",
          "cotton",
          "cotton",
          "cotton",
          "cotton",
          "cotton",
          "cotton",
          "cotton",
          "cotton",
          "cotton",
          "cotton",
          "cotton",
          "cotton",
          "cotton",
          "cotton",
          "cotton",
          "cotton",
          "cotton",
          "cotton",
          "cotton",
          "cotton",
          "cotton",
          "cotton",
          "cotton",
          "cotton",
          "jute",
          "jute",
          "jute",
          "jute",
          "jute",
          "jute",
          "jute",
          "jute",
          "jute",
          "jute",
          "jute",
          "jute",
          "jute",
          "jute",
          "jute",
          "jute",
          "jute",
          "jute",
          "jute",
          "jute",
          "jute",
          "jute",
          "jute",
          "jute",
          "jute",
          "jute",
          "jute",
          "jute",
          "jute",
          "jute",
          "jute",
          "jute",
          "jute",
          "jute",
          "jute",
          "jute",
          "jute",
          "jute",
          "jute",
          "jute",
          "jute",
          "jute",
          "jute",
          "jute",
          "jute",
          "jute",
          "jute",
          "jute",
          "jute",
          "jute",
          "jute",
          "jute",
          "jute",
          "jute",
          "jute",
          "jute",
          "jute",
          "jute",
          "jute",
          "jute",
          "jute",
          "jute",
          "jute",
          "jute",
          "jute",
          "jute",
          "jute",
          "jute",
          "jute",
          "jute",
          "jute",
          "jute",
          "jute",
          "jute",
          "jute",
          "jute",
          "jute",
          "jute",
          "jute",
          "jute",
          "jute",
          "jute",
          "jute",
          "jute",
          "jute",
          "jute",
          "jute",
          "jute",
          "jute",
          "jute",
          "jute",
          "jute",
          "jute",
          "jute",
          "jute",
          "jute",
          "jute",
          "jute",
          "jute",
          "jute",
          "coffee",
          "coffee",
          "coffee",
          "coffee",
          "coffee",
          "coffee",
          "coffee",
          "coffee",
          "coffee",
          "coffee",
          "coffee",
          "coffee",
          "coffee",
          "coffee",
          "coffee",
          "coffee",
          "coffee",
          "coffee",
          "coffee",
          "coffee",
          "coffee",
          "coffee",
          "coffee",
          "coffee",
          "coffee",
          "coffee",
          "coffee",
          "coffee",
          "coffee",
          "coffee",
          "coffee",
          "coffee",
          "coffee",
          "coffee",
          "coffee",
          "coffee",
          "coffee",
          "coffee",
          "coffee",
          "coffee",
          "coffee",
          "coffee",
          "coffee",
          "coffee",
          "coffee",
          "coffee",
          "coffee",
          "coffee",
          "coffee",
          "coffee",
          "coffee",
          "coffee",
          "coffee",
          "coffee",
          "coffee",
          "coffee",
          "coffee",
          "coffee",
          "coffee",
          "coffee",
          "coffee",
          "coffee",
          "coffee",
          "coffee",
          "coffee",
          "coffee",
          "coffee",
          "coffee",
          "coffee",
          "coffee",
          "coffee",
          "coffee",
          "coffee",
          "coffee",
          "coffee",
          "coffee",
          "coffee",
          "coffee",
          "coffee",
          "coffee",
          "coffee",
          "coffee",
          "coffee",
          "coffee",
          "coffee",
          "coffee",
          "coffee",
          "coffee",
          "coffee",
          "coffee",
          "coffee",
          "coffee",
          "coffee",
          "coffee",
          "coffee",
          "coffee",
          "coffee",
          "coffee",
          "coffee",
          "coffee"
         ],
         "yaxis": "y"
        }
       ],
       "layout": {
        "legend": {
         "tracegroupgap": 0
        },
        "template": {
         "data": {
          "bar": [
           {
            "error_x": {
             "color": "#2a3f5f"
            },
            "error_y": {
             "color": "#2a3f5f"
            },
            "marker": {
             "line": {
              "color": "#E5ECF6",
              "width": 0.5
             },
             "pattern": {
              "fillmode": "overlay",
              "size": 10,
              "solidity": 0.2
             }
            },
            "type": "bar"
           }
          ],
          "barpolar": [
           {
            "marker": {
             "line": {
              "color": "#E5ECF6",
              "width": 0.5
             },
             "pattern": {
              "fillmode": "overlay",
              "size": 10,
              "solidity": 0.2
             }
            },
            "type": "barpolar"
           }
          ],
          "carpet": [
           {
            "aaxis": {
             "endlinecolor": "#2a3f5f",
             "gridcolor": "white",
             "linecolor": "white",
             "minorgridcolor": "white",
             "startlinecolor": "#2a3f5f"
            },
            "baxis": {
             "endlinecolor": "#2a3f5f",
             "gridcolor": "white",
             "linecolor": "white",
             "minorgridcolor": "white",
             "startlinecolor": "#2a3f5f"
            },
            "type": "carpet"
           }
          ],
          "choropleth": [
           {
            "colorbar": {
             "outlinewidth": 0,
             "ticks": ""
            },
            "type": "choropleth"
           }
          ],
          "contour": [
           {
            "colorbar": {
             "outlinewidth": 0,
             "ticks": ""
            },
            "colorscale": [
             [
              0,
              "#0d0887"
             ],
             [
              0.1111111111111111,
              "#46039f"
             ],
             [
              0.2222222222222222,
              "#7201a8"
             ],
             [
              0.3333333333333333,
              "#9c179e"
             ],
             [
              0.4444444444444444,
              "#bd3786"
             ],
             [
              0.5555555555555556,
              "#d8576b"
             ],
             [
              0.6666666666666666,
              "#ed7953"
             ],
             [
              0.7777777777777778,
              "#fb9f3a"
             ],
             [
              0.8888888888888888,
              "#fdca26"
             ],
             [
              1,
              "#f0f921"
             ]
            ],
            "type": "contour"
           }
          ],
          "contourcarpet": [
           {
            "colorbar": {
             "outlinewidth": 0,
             "ticks": ""
            },
            "type": "contourcarpet"
           }
          ],
          "heatmap": [
           {
            "colorbar": {
             "outlinewidth": 0,
             "ticks": ""
            },
            "colorscale": [
             [
              0,
              "#0d0887"
             ],
             [
              0.1111111111111111,
              "#46039f"
             ],
             [
              0.2222222222222222,
              "#7201a8"
             ],
             [
              0.3333333333333333,
              "#9c179e"
             ],
             [
              0.4444444444444444,
              "#bd3786"
             ],
             [
              0.5555555555555556,
              "#d8576b"
             ],
             [
              0.6666666666666666,
              "#ed7953"
             ],
             [
              0.7777777777777778,
              "#fb9f3a"
             ],
             [
              0.8888888888888888,
              "#fdca26"
             ],
             [
              1,
              "#f0f921"
             ]
            ],
            "type": "heatmap"
           }
          ],
          "histogram": [
           {
            "marker": {
             "pattern": {
              "fillmode": "overlay",
              "size": 10,
              "solidity": 0.2
             }
            },
            "type": "histogram"
           }
          ],
          "histogram2d": [
           {
            "colorbar": {
             "outlinewidth": 0,
             "ticks": ""
            },
            "colorscale": [
             [
              0,
              "#0d0887"
             ],
             [
              0.1111111111111111,
              "#46039f"
             ],
             [
              0.2222222222222222,
              "#7201a8"
             ],
             [
              0.3333333333333333,
              "#9c179e"
             ],
             [
              0.4444444444444444,
              "#bd3786"
             ],
             [
              0.5555555555555556,
              "#d8576b"
             ],
             [
              0.6666666666666666,
              "#ed7953"
             ],
             [
              0.7777777777777778,
              "#fb9f3a"
             ],
             [
              0.8888888888888888,
              "#fdca26"
             ],
             [
              1,
              "#f0f921"
             ]
            ],
            "type": "histogram2d"
           }
          ],
          "histogram2dcontour": [
           {
            "colorbar": {
             "outlinewidth": 0,
             "ticks": ""
            },
            "colorscale": [
             [
              0,
              "#0d0887"
             ],
             [
              0.1111111111111111,
              "#46039f"
             ],
             [
              0.2222222222222222,
              "#7201a8"
             ],
             [
              0.3333333333333333,
              "#9c179e"
             ],
             [
              0.4444444444444444,
              "#bd3786"
             ],
             [
              0.5555555555555556,
              "#d8576b"
             ],
             [
              0.6666666666666666,
              "#ed7953"
             ],
             [
              0.7777777777777778,
              "#fb9f3a"
             ],
             [
              0.8888888888888888,
              "#fdca26"
             ],
             [
              1,
              "#f0f921"
             ]
            ],
            "type": "histogram2dcontour"
           }
          ],
          "mesh3d": [
           {
            "colorbar": {
             "outlinewidth": 0,
             "ticks": ""
            },
            "type": "mesh3d"
           }
          ],
          "parcoords": [
           {
            "line": {
             "colorbar": {
              "outlinewidth": 0,
              "ticks": ""
             }
            },
            "type": "parcoords"
           }
          ],
          "pie": [
           {
            "automargin": true,
            "type": "pie"
           }
          ],
          "scatter": [
           {
            "fillpattern": {
             "fillmode": "overlay",
             "size": 10,
             "solidity": 0.2
            },
            "type": "scatter"
           }
          ],
          "scatter3d": [
           {
            "line": {
             "colorbar": {
              "outlinewidth": 0,
              "ticks": ""
             }
            },
            "marker": {
             "colorbar": {
              "outlinewidth": 0,
              "ticks": ""
             }
            },
            "type": "scatter3d"
           }
          ],
          "scattercarpet": [
           {
            "marker": {
             "colorbar": {
              "outlinewidth": 0,
              "ticks": ""
             }
            },
            "type": "scattercarpet"
           }
          ],
          "scattergeo": [
           {
            "marker": {
             "colorbar": {
              "outlinewidth": 0,
              "ticks": ""
             }
            },
            "type": "scattergeo"
           }
          ],
          "scattergl": [
           {
            "marker": {
             "colorbar": {
              "outlinewidth": 0,
              "ticks": ""
             }
            },
            "type": "scattergl"
           }
          ],
          "scattermap": [
           {
            "marker": {
             "colorbar": {
              "outlinewidth": 0,
              "ticks": ""
             }
            },
            "type": "scattermap"
           }
          ],
          "scattermapbox": [
           {
            "marker": {
             "colorbar": {
              "outlinewidth": 0,
              "ticks": ""
             }
            },
            "type": "scattermapbox"
           }
          ],
          "scatterpolar": [
           {
            "marker": {
             "colorbar": {
              "outlinewidth": 0,
              "ticks": ""
             }
            },
            "type": "scatterpolar"
           }
          ],
          "scatterpolargl": [
           {
            "marker": {
             "colorbar": {
              "outlinewidth": 0,
              "ticks": ""
             }
            },
            "type": "scatterpolargl"
           }
          ],
          "scatterternary": [
           {
            "marker": {
             "colorbar": {
              "outlinewidth": 0,
              "ticks": ""
             }
            },
            "type": "scatterternary"
           }
          ],
          "surface": [
           {
            "colorbar": {
             "outlinewidth": 0,
             "ticks": ""
            },
            "colorscale": [
             [
              0,
              "#0d0887"
             ],
             [
              0.1111111111111111,
              "#46039f"
             ],
             [
              0.2222222222222222,
              "#7201a8"
             ],
             [
              0.3333333333333333,
              "#9c179e"
             ],
             [
              0.4444444444444444,
              "#bd3786"
             ],
             [
              0.5555555555555556,
              "#d8576b"
             ],
             [
              0.6666666666666666,
              "#ed7953"
             ],
             [
              0.7777777777777778,
              "#fb9f3a"
             ],
             [
              0.8888888888888888,
              "#fdca26"
             ],
             [
              1,
              "#f0f921"
             ]
            ],
            "type": "surface"
           }
          ],
          "table": [
           {
            "cells": {
             "fill": {
              "color": "#EBF0F8"
             },
             "line": {
              "color": "white"
             }
            },
            "header": {
             "fill": {
              "color": "#C8D4E3"
             },
             "line": {
              "color": "white"
             }
            },
            "type": "table"
           }
          ]
         },
         "layout": {
          "annotationdefaults": {
           "arrowcolor": "#2a3f5f",
           "arrowhead": 0,
           "arrowwidth": 1
          },
          "autotypenumbers": "strict",
          "coloraxis": {
           "colorbar": {
            "outlinewidth": 0,
            "ticks": ""
           }
          },
          "colorscale": {
           "diverging": [
            [
             0,
             "#8e0152"
            ],
            [
             0.1,
             "#c51b7d"
            ],
            [
             0.2,
             "#de77ae"
            ],
            [
             0.3,
             "#f1b6da"
            ],
            [
             0.4,
             "#fde0ef"
            ],
            [
             0.5,
             "#f7f7f7"
            ],
            [
             0.6,
             "#e6f5d0"
            ],
            [
             0.7,
             "#b8e186"
            ],
            [
             0.8,
             "#7fbc41"
            ],
            [
             0.9,
             "#4d9221"
            ],
            [
             1,
             "#276419"
            ]
           ],
           "sequential": [
            [
             0,
             "#0d0887"
            ],
            [
             0.1111111111111111,
             "#46039f"
            ],
            [
             0.2222222222222222,
             "#7201a8"
            ],
            [
             0.3333333333333333,
             "#9c179e"
            ],
            [
             0.4444444444444444,
             "#bd3786"
            ],
            [
             0.5555555555555556,
             "#d8576b"
            ],
            [
             0.6666666666666666,
             "#ed7953"
            ],
            [
             0.7777777777777778,
             "#fb9f3a"
            ],
            [
             0.8888888888888888,
             "#fdca26"
            ],
            [
             1,
             "#f0f921"
            ]
           ],
           "sequentialminus": [
            [
             0,
             "#0d0887"
            ],
            [
             0.1111111111111111,
             "#46039f"
            ],
            [
             0.2222222222222222,
             "#7201a8"
            ],
            [
             0.3333333333333333,
             "#9c179e"
            ],
            [
             0.4444444444444444,
             "#bd3786"
            ],
            [
             0.5555555555555556,
             "#d8576b"
            ],
            [
             0.6666666666666666,
             "#ed7953"
            ],
            [
             0.7777777777777778,
             "#fb9f3a"
            ],
            [
             0.8888888888888888,
             "#fdca26"
            ],
            [
             1,
             "#f0f921"
            ]
           ]
          },
          "colorway": [
           "#636efa",
           "#EF553B",
           "#00cc96",
           "#ab63fa",
           "#FFA15A",
           "#19d3f3",
           "#FF6692",
           "#B6E880",
           "#FF97FF",
           "#FECB52"
          ],
          "font": {
           "color": "#2a3f5f"
          },
          "geo": {
           "bgcolor": "white",
           "lakecolor": "white",
           "landcolor": "#E5ECF6",
           "showlakes": true,
           "showland": true,
           "subunitcolor": "white"
          },
          "hoverlabel": {
           "align": "left"
          },
          "hovermode": "closest",
          "mapbox": {
           "style": "light"
          },
          "paper_bgcolor": "white",
          "plot_bgcolor": "#E5ECF6",
          "polar": {
           "angularaxis": {
            "gridcolor": "white",
            "linecolor": "white",
            "ticks": ""
           },
           "bgcolor": "#E5ECF6",
           "radialaxis": {
            "gridcolor": "white",
            "linecolor": "white",
            "ticks": ""
           }
          },
          "scene": {
           "xaxis": {
            "backgroundcolor": "#E5ECF6",
            "gridcolor": "white",
            "gridwidth": 2,
            "linecolor": "white",
            "showbackground": true,
            "ticks": "",
            "zerolinecolor": "white"
           },
           "yaxis": {
            "backgroundcolor": "#E5ECF6",
            "gridcolor": "white",
            "gridwidth": 2,
            "linecolor": "white",
            "showbackground": true,
            "ticks": "",
            "zerolinecolor": "white"
           },
           "zaxis": {
            "backgroundcolor": "#E5ECF6",
            "gridcolor": "white",
            "gridwidth": 2,
            "linecolor": "white",
            "showbackground": true,
            "ticks": "",
            "zerolinecolor": "white"
           }
          },
          "shapedefaults": {
           "line": {
            "color": "#2a3f5f"
           }
          },
          "ternary": {
           "aaxis": {
            "gridcolor": "white",
            "linecolor": "white",
            "ticks": ""
           },
           "baxis": {
            "gridcolor": "white",
            "linecolor": "white",
            "ticks": ""
           },
           "bgcolor": "#E5ECF6",
           "caxis": {
            "gridcolor": "white",
            "linecolor": "white",
            "ticks": ""
           }
          },
          "title": {
           "x": 0.05
          },
          "xaxis": {
           "automargin": true,
           "gridcolor": "white",
           "linecolor": "white",
           "ticks": "",
           "title": {
            "standoff": 15
           },
           "zerolinecolor": "white",
           "zerolinewidth": 2
          },
          "yaxis": {
           "automargin": true,
           "gridcolor": "white",
           "linecolor": "white",
           "ticks": "",
           "title": {
            "standoff": 15
           },
           "zerolinecolor": "white",
           "zerolinewidth": 2
          }
         }
        },
        "title": {
         "text": "Rainfall vs label"
        },
        "xaxis": {
         "anchor": "y",
         "domain": [
          0,
          1
         ],
         "title": {
          "text": "rainfall"
         }
        },
        "yaxis": {
         "anchor": "x",
         "domain": [
          0,
          1
         ],
         "title": {
          "text": "label"
         }
        }
       }
      }
     },
     "metadata": {},
     "output_type": "display_data"
    }
   ],
   "source": [
    "fig = px.scatter(raw_df , x='rainfall',y='label',title='Rainfall vs label')\n",
    "fig.update_traces(marker_size=8)\n",
    "fig.show()"
   ]
  },
  {
   "cell_type": "code",
   "execution_count": 150,
   "id": "b6cd3b29",
   "metadata": {},
   "outputs": [
    {
     "data": {
      "text/plain": [
       "<Figure size 640x480 with 0 Axes>"
      ]
     },
     "metadata": {},
     "output_type": "display_data"
    }
   ],
   "source": [
    "plt.savefig(\"../artifacts/plots/Rainfall_vs_label.png\")"
   ]
  },
  {
   "cell_type": "code",
   "execution_count": 151,
   "id": "5085e80c",
   "metadata": {},
   "outputs": [],
   "source": [
    "from sklearn.preprocessing import LabelEncoder\n",
    "\n",
    "# Copy dataframe to avoid modifying raw\n",
    "df = raw_df.copy()\n",
    "\n",
    "# Encode label for modeling\n",
    "le = LabelEncoder()\n",
    "df['label_encoded'] = le.fit_transform(df['label'])\n",
    "\n",
    "X = df.drop(['label', 'label_encoded'], axis=1)\n",
    "y = df['label_encoded']\n"
   ]
  },
  {
   "cell_type": "code",
   "execution_count": 152,
   "id": "db69af55",
   "metadata": {},
   "outputs": [
    {
     "data": {
      "text/html": [
       "<div>\n",
       "<style scoped>\n",
       "    .dataframe tbody tr th:only-of-type {\n",
       "        vertical-align: middle;\n",
       "    }\n",
       "\n",
       "    .dataframe tbody tr th {\n",
       "        vertical-align: top;\n",
       "    }\n",
       "\n",
       "    .dataframe thead th {\n",
       "        text-align: right;\n",
       "    }\n",
       "</style>\n",
       "<table border=\"1\" class=\"dataframe\">\n",
       "  <thead>\n",
       "    <tr style=\"text-align: right;\">\n",
       "      <th></th>\n",
       "      <th>N</th>\n",
       "      <th>P</th>\n",
       "      <th>K</th>\n",
       "      <th>temperature</th>\n",
       "      <th>humidity</th>\n",
       "      <th>ph</th>\n",
       "      <th>rainfall</th>\n",
       "      <th>label_encoded</th>\n",
       "    </tr>\n",
       "  </thead>\n",
       "  <tbody>\n",
       "    <tr>\n",
       "      <th>N</th>\n",
       "      <td>1.000000</td>\n",
       "      <td>-0.231460</td>\n",
       "      <td>-0.140512</td>\n",
       "      <td>0.026504</td>\n",
       "      <td>0.190688</td>\n",
       "      <td>0.096683</td>\n",
       "      <td>0.059020</td>\n",
       "      <td>-0.031130</td>\n",
       "    </tr>\n",
       "    <tr>\n",
       "      <th>P</th>\n",
       "      <td>-0.231460</td>\n",
       "      <td>1.000000</td>\n",
       "      <td>0.736232</td>\n",
       "      <td>-0.127541</td>\n",
       "      <td>-0.118734</td>\n",
       "      <td>-0.138019</td>\n",
       "      <td>-0.063839</td>\n",
       "      <td>-0.491006</td>\n",
       "    </tr>\n",
       "    <tr>\n",
       "      <th>K</th>\n",
       "      <td>-0.140512</td>\n",
       "      <td>0.736232</td>\n",
       "      <td>1.000000</td>\n",
       "      <td>-0.160387</td>\n",
       "      <td>0.190859</td>\n",
       "      <td>-0.169503</td>\n",
       "      <td>-0.053461</td>\n",
       "      <td>-0.346417</td>\n",
       "    </tr>\n",
       "    <tr>\n",
       "      <th>temperature</th>\n",
       "      <td>0.026504</td>\n",
       "      <td>-0.127541</td>\n",
       "      <td>-0.160387</td>\n",
       "      <td>1.000000</td>\n",
       "      <td>0.205320</td>\n",
       "      <td>-0.017795</td>\n",
       "      <td>-0.030084</td>\n",
       "      <td>0.113606</td>\n",
       "    </tr>\n",
       "    <tr>\n",
       "      <th>humidity</th>\n",
       "      <td>0.190688</td>\n",
       "      <td>-0.118734</td>\n",
       "      <td>0.190859</td>\n",
       "      <td>0.205320</td>\n",
       "      <td>1.000000</td>\n",
       "      <td>-0.008483</td>\n",
       "      <td>0.094423</td>\n",
       "      <td>0.193911</td>\n",
       "    </tr>\n",
       "    <tr>\n",
       "      <th>ph</th>\n",
       "      <td>0.096683</td>\n",
       "      <td>-0.138019</td>\n",
       "      <td>-0.169503</td>\n",
       "      <td>-0.017795</td>\n",
       "      <td>-0.008483</td>\n",
       "      <td>1.000000</td>\n",
       "      <td>-0.109069</td>\n",
       "      <td>-0.012253</td>\n",
       "    </tr>\n",
       "    <tr>\n",
       "      <th>rainfall</th>\n",
       "      <td>0.059020</td>\n",
       "      <td>-0.063839</td>\n",
       "      <td>-0.053461</td>\n",
       "      <td>-0.030084</td>\n",
       "      <td>0.094423</td>\n",
       "      <td>-0.109069</td>\n",
       "      <td>1.000000</td>\n",
       "      <td>0.045611</td>\n",
       "    </tr>\n",
       "    <tr>\n",
       "      <th>label_encoded</th>\n",
       "      <td>-0.031130</td>\n",
       "      <td>-0.491006</td>\n",
       "      <td>-0.346417</td>\n",
       "      <td>0.113606</td>\n",
       "      <td>0.193911</td>\n",
       "      <td>-0.012253</td>\n",
       "      <td>0.045611</td>\n",
       "      <td>1.000000</td>\n",
       "    </tr>\n",
       "  </tbody>\n",
       "</table>\n",
       "</div>"
      ],
      "text/plain": [
       "                      N         P         K  temperature  humidity        ph  \\\n",
       "N              1.000000 -0.231460 -0.140512     0.026504  0.190688  0.096683   \n",
       "P             -0.231460  1.000000  0.736232    -0.127541 -0.118734 -0.138019   \n",
       "K             -0.140512  0.736232  1.000000    -0.160387  0.190859 -0.169503   \n",
       "temperature    0.026504 -0.127541 -0.160387     1.000000  0.205320 -0.017795   \n",
       "humidity       0.190688 -0.118734  0.190859     0.205320  1.000000 -0.008483   \n",
       "ph             0.096683 -0.138019 -0.169503    -0.017795 -0.008483  1.000000   \n",
       "rainfall       0.059020 -0.063839 -0.053461    -0.030084  0.094423 -0.109069   \n",
       "label_encoded -0.031130 -0.491006 -0.346417     0.113606  0.193911 -0.012253   \n",
       "\n",
       "               rainfall  label_encoded  \n",
       "N              0.059020      -0.031130  \n",
       "P             -0.063839      -0.491006  \n",
       "K             -0.053461      -0.346417  \n",
       "temperature   -0.030084       0.113606  \n",
       "humidity       0.094423       0.193911  \n",
       "ph            -0.109069      -0.012253  \n",
       "rainfall       1.000000       0.045611  \n",
       "label_encoded  0.045611       1.000000  "
      ]
     },
     "execution_count": 152,
     "metadata": {},
     "output_type": "execute_result"
    }
   ],
   "source": [
    "corr = df.corr(numeric_only=True)\n",
    "corr"
   ]
  }
 ],
 "metadata": {
  "celltoolbar": "Raw Cell Format",
  "kernelspec": {
   "display_name": "rice",
   "language": "python",
   "name": "python3"
  },
  "language_info": {
   "codemirror_mode": {
    "name": "ipython",
    "version": 3
   },
   "file_extension": ".py",
   "mimetype": "text/x-python",
   "name": "python",
   "nbconvert_exporter": "python",
   "pygments_lexer": "ipython3",
   "version": "3.13.9"
  }
 },
 "nbformat": 4,
 "nbformat_minor": 5
}
